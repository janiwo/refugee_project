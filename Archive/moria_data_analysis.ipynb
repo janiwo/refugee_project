{
 "cells": [
  {
   "cell_type": "markdown",
   "metadata": {},
   "source": [
    "## Part 3 Loading Data & EDA"
   ]
  },
  {
   "cell_type": "markdown",
   "metadata": {},
   "source": [
    "Import relevant packages for the following parts"
   ]
  },
  {
   "cell_type": "code",
   "execution_count": 1,
   "metadata": {},
   "outputs": [],
   "source": [
    "import numpy as np\n",
    "import pandas as pd\n",
    "import math\n",
    "import re\n",
    "import sys\n",
    "\n",
    "from gensim.models.word2vec import Word2Vec\n",
    "\n",
    "import matplotlib.pyplot as plt\n",
    "%matplotlib inline\n",
    "plt.style.use('ggplot')\n",
    "from preprocessing import get_processed_data\n",
    "import csv"
   ]
  },
  {
   "cell_type": "markdown",
   "metadata": {},
   "source": [
    "### Import data cleaned by using the selfwritten preprocessing module"
   ]
  },
  {
   "cell_type": "code",
   "execution_count": 2,
   "metadata": {},
   "outputs": [
    {
     "name": "stdout",
     "output_type": "stream",
     "text": [
      "loading files...\n",
      "C:\\Users\\nikodemicek\\Documents\\GitHub\\refugee_project/../../../CBS - Copenhagen Business School/Kick-Ass Master Thesis - General/Data/moria-data/Raw Data/\n",
      "Reading file: C:\\Users\\nikodemicek\\Documents\\GitHub\\refugee_project/../../../CBS - Copenhagen Business School/Kick-Ass Master Thesis - General/Data/moria-data/Raw Data\\Sheet 1.csv\n",
      "Reading file: C:\\Users\\nikodemicek\\Documents\\GitHub\\refugee_project/../../../CBS - Copenhagen Business School/Kick-Ass Master Thesis - General/Data/moria-data/Raw Data\\Sheet 10.csv\n",
      "Reading file: C:\\Users\\nikodemicek\\Documents\\GitHub\\refugee_project/../../../CBS - Copenhagen Business School/Kick-Ass Master Thesis - General/Data/moria-data/Raw Data\\Sheet 2.csv\n",
      "Reading file: C:\\Users\\nikodemicek\\Documents\\GitHub\\refugee_project/../../../CBS - Copenhagen Business School/Kick-Ass Master Thesis - General/Data/moria-data/Raw Data\\Sheet 3.csv\n",
      "Reading file: C:\\Users\\nikodemicek\\Documents\\GitHub\\refugee_project/../../../CBS - Copenhagen Business School/Kick-Ass Master Thesis - General/Data/moria-data/Raw Data\\Sheet 4.csv\n",
      "Reading file: C:\\Users\\nikodemicek\\Documents\\GitHub\\refugee_project/../../../CBS - Copenhagen Business School/Kick-Ass Master Thesis - General/Data/moria-data/Raw Data\\Sheet 5.csv\n",
      "Reading file: C:\\Users\\nikodemicek\\Documents\\GitHub\\refugee_project/../../../CBS - Copenhagen Business School/Kick-Ass Master Thesis - General/Data/moria-data/Raw Data\\Sheet 6.csv\n",
      "Reading file: C:\\Users\\nikodemicek\\Documents\\GitHub\\refugee_project/../../../CBS - Copenhagen Business School/Kick-Ass Master Thesis - General/Data/moria-data/Raw Data\\Sheet 7.csv\n",
      "Reading file: C:\\Users\\nikodemicek\\Documents\\GitHub\\refugee_project/../../../CBS - Copenhagen Business School/Kick-Ass Master Thesis - General/Data/moria-data/Raw Data\\Sheet 8.csv\n",
      "Reading file: C:\\Users\\nikodemicek\\Documents\\GitHub\\refugee_project/../../../CBS - Copenhagen Business School/Kick-Ass Master Thesis - General/Data/moria-data/Raw Data\\Sheet 9.csv\n",
      "loaded  190188  tweets.\n",
      "preprocess tweets...\n",
      "removing unwanted words...\n",
      "DONE! Processed  188728  tweets ready for analysis!\n"
     ]
    }
   ],
   "source": [
    "moria_df=get_processed_data('moria-data')\n"
   ]
  },
  {
   "cell_type": "code",
   "execution_count": 3,
   "metadata": {},
   "outputs": [
    {
     "data": {
      "text/plain": [
       "<matplotlib.axes._subplots.AxesSubplot at 0x2743645b088>"
      ]
     },
     "execution_count": 3,
     "metadata": {},
     "output_type": "execute_result"
    },
    {
     "data": {
      "image/png": "[encoded data removed]",
      "text/plain": [
       "<Figure size 1080x360 with 1 Axes>"
      ]
     },
     "metadata": {},
     "output_type": "display_data"
    }
   ],
   "source": [
    "moria_df.reset_index(drop=True, inplace=True)\n",
    "#type(contents)\n",
    "moria_df['Date Short'] = pd.to_datetime(moria_df['Date Short'])\n",
    "moria_df = moria_df.set_index(moria_df['Date Short'])\n",
    "moria_df = moria_df.sort_index()\n",
    "\n",
    "moria_df.head()\n",
    "#moria_df['Date Short'].sort_values()\n",
    "plt.figure(figsize=(15,5))\n",
    "plt.xticks(rotation=90)\n",
    "\n",
    "moria_df['Date Short'].hist()"
   ]
  },
  {
   "cell_type": "code",
   "execution_count": null,
   "metadata": {},
   "outputs": [
    {
     "data": {
      "text/plain": [
       "<matplotlib.axes._subplots.AxesSubplot at 0x2745dcdeec8>"
      ]
     },
     "execution_count": 4,
     "metadata": {},
     "output_type": "execute_result"
    }
   ],
   "source": [
    "moria_df['Date'].hist()"
   ]
  },
  {
   "cell_type": "code",
   "execution_count": null,
   "metadata": {},
   "outputs": [],
   "source": [
    "event_date = '2020-09-08'\n",
    "\n",
    "\n",
    "# create train test partition\n",
    "pre_event = moria_df[:event_date]\n",
    "post_event  = moria_df[event_date:]\n",
    "\n",
    "\n",
    "#pre_event = moria_df.loc(moria_df['Date Short'] < event_date)\n",
    "#post_event = moria_df.loc(moria_df['Date Short']>= event_date)\n",
    "\n",
    "print('Train Dataset:',train.shape)\n",
    "print('Test Dataset:',test.shape)\n"
   ]
  },
  {
   "cell_type": "code",
   "execution_count": null,
   "metadata": {},
   "outputs": [],
   "source": [
    "pre_event.head(20)"
   ]
  },
  {
   "cell_type": "code",
   "execution_count": null,
   "metadata": {},
   "outputs": [],
   "source": []
  },
  {
   "cell_type": "markdown",
   "metadata": {},
   "source": [
    "Also delete duplicate tweets. "
   ]
  },
  {
   "cell_type": "code",
   "execution_count": null,
   "metadata": {},
   "outputs": [],
   "source": [
    "#maybe we should keep the one with highest Reach? or other metric?\n",
    "moria_df.drop_duplicates(subset =\"Tweet Raw\", inplace = True) \n"
   ]
  },
  {
   "cell_type": "markdown",
   "metadata": {},
   "source": [
    "---"
   ]
  },
  {
   "cell_type": "markdown",
   "metadata": {},
   "source": [
    "### EDA\n",
    "\n",
    "what features can we do:\n",
    "length of tweet (words, characters) (int)\n",
    "length of cleaned tweet (words) (int)\n",
    "hashtags used (list)\n",
    "no. of hashtags (int)\n"
   ]
  },
  {
   "cell_type": "code",
   "execution_count": null,
   "metadata": {},
   "outputs": [],
   "source": [
    "moria_df.reset_index(drop=True, inplace=True)\n",
    "\n"
   ]
  },
  {
   "cell_type": "code",
   "execution_count": null,
   "metadata": {},
   "outputs": [],
   "source": [
    "pd.set_option('display.max_colwidth',None)\n",
    "print(moria_df['Tweet Raw'].loc[[10]])\n",
    "print(moria_df['Tweet Clean'].loc[[10]])"
   ]
  },
  {
   "cell_type": "code",
   "execution_count": null,
   "metadata": {},
   "outputs": [],
   "source": [
    "from wordcloud import WordCloud\n",
    "\n",
    "def get_wordcloud(df):\n",
    "    #collocations = including bigrams\n",
    "    cloud = WordCloud(background_color='white',\n",
    "                      collocations = False, \n",
    "                      width=1600, \n",
    "                      height=800).generate(' '.join(df['Tweet Clean']))\n",
    "    plt.figure(figsize=(20,10))\n",
    "    plt.imshow(cloud)\n",
    "    plt.axis('off')\n",
    "    return plt.show()\n",
    "\n",
    "\n",
    "\n"
   ]
  },
  {
   "cell_type": "code",
   "execution_count": null,
   "metadata": {},
   "outputs": [],
   "source": [
    "get_wordcloud(pre_event)\n",
    "\n",
    "get_wordcloud(post_event)"
   ]
  },
  {
   "cell_type": "code",
   "execution_count": null,
   "metadata": {},
   "outputs": [],
   "source": [
    "import seaborn as sns\n",
    "\n",
    "def bar_chart(dfSeries):\n",
    "    plt.figure(figsize=(12,6))\n",
    "    ax = dfSeries.value_counts().plot(kind = 'bar')\n",
    "    for p in ax.patches:\n",
    "        ax.annotate(str(round(p.get_height()/dfSeries.shape[0]*100,2))+'%', (p.get_x()+0.2, p.get_height() * 0.5))\n"
   ]
  },
  {
   "cell_type": "code",
   "execution_count": null,
   "metadata": {},
   "outputs": [],
   "source": [
    "bar_chart(pre_event.Sentiment)"
   ]
  },
  {
   "cell_type": "code",
   "execution_count": null,
   "metadata": {},
   "outputs": [],
   "source": [
    "bar_chart(post_event.Sentiment)"
   ]
  },
  {
   "cell_type": "code",
   "execution_count": null,
   "metadata": {},
   "outputs": [],
   "source": [
    "moria_df[\"Country\"].value_counts()"
   ]
  },
  {
   "cell_type": "code",
   "execution_count": null,
   "metadata": {},
   "outputs": [],
   "source": [
    "moria_df['Reach'].describe()\n"
   ]
  },
  {
   "cell_type": "code",
   "execution_count": null,
   "metadata": {},
   "outputs": [],
   "source": [
    "print('Mean reach:',round(moria_df[\"Reach\"].mean(),2))\n",
    "print('Median reach:',moria_df[\"Reach\"].median())\n",
    "print('Max reach:', max(moria_df[\"Reach\"]))"
   ]
  },
  {
   "cell_type": "code",
   "execution_count": null,
   "metadata": {},
   "outputs": [],
   "source": [
    "def plot_hist(measure = 'Reach'):\n",
    "    print(\"Number of Unique {}: {}\".format(measure, str(len(moria_df[measure].unique()))))\n",
    "    print(\"{} Median: {}\".format(measure, str(moria_df[measure].median())))\n",
    "    print(moria_df[measure].describe())\n",
    "    plt.figure(figsize=(14,4))\n",
    "    plt.hist(moria_df[measure], bins = 100)\n",
    "    plt.show()\n",
    "\n",
    "    \n",
    "plot_hist()"
   ]
  },
  {
   "cell_type": "code",
   "execution_count": null,
   "metadata": {},
   "outputs": [],
   "source": [
    "fig, ax = plt.subplots(1, 1, figsize=(14,4))\n",
    "ax.hist(moria_df[\"Alternate Date Format\"], bins=10)\n",
    "ax.set_xlabel(\"Reach\")\n",
    "ax.set_ylabel(\"Number of apps per bin\")\n",
    "\n",
    "fig.tight_layout(pad=0.5)"
   ]
  },
  {
   "cell_type": "markdown",
   "metadata": {},
   "source": [
    "https://benlevyx.github.io/twitter-polling/eda/\n",
    "\n",
    "have a similar chart but display how the sentiment/topics (or mixture = combined chart) changes over time (instead of no. of likes)\n",
    "\n",
    "heatmap for tweets that have several topics, or in overall the correlation of events\n",
    "\n"
   ]
  },
  {
   "cell_type": "markdown",
   "metadata": {},
   "source": [
    "We could do a heatmap with words in a similar way as here:\n",
    "\n",
    "![title](https://pytorch.org/tutorials/_images/sphx_glr_seq2seq_translation_tutorial_004.png)\n",
    "\n",
    "found on https://pytorch.org/tutorials/intermediate/seq2seq_translation_tutorial.html"
   ]
  },
  {
   "cell_type": "code",
   "execution_count": null,
   "metadata": {},
   "outputs": [],
   "source": []
  }
 ],
 "metadata": {
  "kernelspec": {
   "display_name": "Python 3",
   "language": "python",
   "name": "python3"
  },
  "language_info": {
   "codemirror_mode": {
    "name": "ipython",
    "version": 3
   },
   "file_extension": ".py",
   "mimetype": "text/x-python",
   "name": "python",
   "nbconvert_exporter": "python",
   "pygments_lexer": "ipython3",
   "version": "3.7.6"
  }
 },
 "nbformat": 4,
 "nbformat_minor": 4
}
