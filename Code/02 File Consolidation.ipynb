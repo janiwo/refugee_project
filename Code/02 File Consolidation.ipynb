{
 "cells": [
  {
   "cell_type": "markdown",
   "metadata": {},
   "source": [
    "# File Consolidation"
   ]
  },
  {
   "cell_type": "code",
   "execution_count": 3,
   "metadata": {},
   "outputs": [],
   "source": [
    "# Import libraries\n",
    "\n",
    "import pandas as pd\n",
    "import numpy as np\n",
    "import os\n",
    "import glob\n",
    "import json\n",
    "\n",
    "from tqdm import tqdm\n",
    "\n",
    "from collections import defaultdict"
   ]
  },
  {
   "cell_type": "code",
   "execution_count": 10,
   "metadata": {},
   "outputs": [],
   "source": [
    "# Navigate to file folder and retrieve relevant files\n",
    "all_files = glob.glob(r\"C:\\Users\\jawo19ad\\Dropbox (CBS)\\Master thesis data\\Twitter Fetch\\*.txt\")"
   ]
  },
  {
   "cell_type": "code",
   "execution_count": 11,
   "metadata": {},
   "outputs": [],
   "source": [
    "def load_full_json(file):\n",
    "    \n",
    "    # Create empty dictionary where values are stored\n",
    "    json_complete = {\"data\":list(),\"users\":list()}\n",
    "    \n",
    "    # Open the json file\n",
    "    with open(file, \"r\") as json_file:\n",
    "        \n",
    "        # Iterate through json file and store information at appropriate dict key\n",
    "        for line in json_file:\n",
    "            data = json.loads(line)\n",
    "            json_complete[\"data\"].extend(data[\"data\"])\n",
    "            json_complete[\"users\"].extend(data[\"includes\"][\"users\"])\n",
    "    \n",
    "    return json_complete"
   ]
  },
  {
   "cell_type": "code",
   "execution_count": 13,
   "metadata": {},
   "outputs": [
    {
     "name": "stderr",
     "output_type": "stream",
     "text": [
      "100%|██████████| 19/19 [07:05<00:00, 22.38s/it]\n"
     ]
    }
   ],
   "source": [
    "json_complete = {\"data\":list(),\"users\":list()}\n",
    "tweets_complete = {\"data\":list()}\n",
    "users_complete = {\"users\":list()}\n",
    "\n",
    "\n",
    "for file in tqdm(all_files):\n",
    "    json_file = load_full_json(file)\n",
    "    #print(len(json_file[\"data\"]), len(json_file[\"users\"]))\n",
    "    tweets_complete[\"data\"].extend(json_file[\"data\"])\n",
    "    users_complete[\"users\"].extend(json_file[\"users\"])"
   ]
  },
  {
   "cell_type": "code",
   "execution_count": 15,
   "metadata": {},
   "outputs": [
    {
     "data": {
      "text/plain": [
       "6813504"
      ]
     },
     "execution_count": 15,
     "metadata": {},
     "output_type": "execute_result"
    }
   ],
   "source": [
    "len(tweets_complete[\"data\"])"
   ]
  },
  {
   "cell_type": "code",
   "execution_count": 16,
   "metadata": {},
   "outputs": [
    {
     "data": {
      "text/plain": [
       "6085289"
      ]
     },
     "execution_count": 16,
     "metadata": {},
     "output_type": "execute_result"
    }
   ],
   "source": [
    "len(users_complete[\"users\"])"
   ]
  },
  {
   "cell_type": "code",
   "execution_count": 17,
   "metadata": {},
   "outputs": [],
   "source": [
    "hashtag_count = get_hashtag_counts(tweets_complete)\n",
    "sort_hash_count = sorted(hashtag_count.items(), key=lambda x: x[1], reverse=True)"
   ]
  },
  {
   "cell_type": "code",
   "execution_count": 18,
   "metadata": {},
   "outputs": [
    {
     "data": {
      "text/plain": [
       "[('TigrayGenocide', 71317),\n",
       " ('Tigray', 60549),\n",
       " ('refugees', 45173),\n",
       " ('COVID19', 45094),\n",
       " ('S386', 35644),\n",
       " ('StopWarOnTigray', 33039),\n",
       " ('Refugees', 29517),\n",
       " ('migrants', 26884),\n",
       " ('Ethiopia', 25452),\n",
       " ('Iraqi_Refugees_Look_For_Homeland', 20851),\n",
       " ('immigrants', 20432),\n",
       " ('DV2021', 20023),\n",
       " ('DV2020', 18555),\n",
       " ('refugee', 18541),\n",
       " ('WorldRefugeeDay', 17272),\n",
       " ('UnblockS386', 17186),\n",
       " ('RefugeesWelcome', 13484),\n",
       " ('PassS386', 13478),\n",
       " ('Eritrea', 13187),\n",
       " ('Immigration', 13007)]"
      ]
     },
     "execution_count": 18,
     "metadata": {},
     "output_type": "execute_result"
    }
   ],
   "source": [
    "sort_hash_count[:20]"
   ]
  },
  {
   "cell_type": "code",
   "execution_count": 21,
   "metadata": {},
   "outputs": [],
   "source": [
    "# Store tweets file\n",
    "with open(r'C:\\Users\\jawo19ad\\Dropbox (CBS)\\Master thesis data\\all_tweets_072020_022021.json', 'w') as f:\n",
    "    json.dump(tweets_complete, f)"
   ]
  },
  {
   "cell_type": "code",
   "execution_count": 22,
   "metadata": {},
   "outputs": [],
   "source": [
    "# Store users file\n",
    "with open(r'C:\\Users\\jawo19ad\\Dropbox (CBS)\\Master thesis data\\all_users_072020_022021.json', 'w') as f:\n",
    "    json.dump(users_complete, f)"
   ]
  },
  {
   "cell_type": "markdown",
   "metadata": {},
   "source": [
    "# Creation of df_user"
   ]
  },
  {
   "cell_type": "code",
   "execution_count": 6,
   "metadata": {},
   "outputs": [],
   "source": [
    "# Load the json file containing the users\n",
    "with open(r'C:\\Users\\jawo19ad\\Dropbox (CBS)\\Master thesis data\\all_users_072020_022021.json', 'r') as f:\n",
    "    data = json.load(f)"
   ]
  },
  {
   "cell_type": "code",
   "execution_count": 9,
   "metadata": {
    "scrolled": true
   },
   "outputs": [
    {
     "data": {
      "text/html": [
       "<div>\n",
       "<style scoped>\n",
       "    .dataframe tbody tr th:only-of-type {\n",
       "        vertical-align: middle;\n",
       "    }\n",
       "\n",
       "    .dataframe tbody tr th {\n",
       "        vertical-align: top;\n",
       "    }\n",
       "\n",
       "    .dataframe thead th {\n",
       "        text-align: right;\n",
       "    }\n",
       "</style>\n",
       "<table border=\"1\" class=\"dataframe\">\n",
       "  <thead>\n",
       "    <tr style=\"text-align: right;\">\n",
       "      <th></th>\n",
       "      <th>description</th>\n",
       "      <th>username</th>\n",
       "      <th>verified</th>\n",
       "      <th>name</th>\n",
       "      <th>created_at</th>\n",
       "      <th>id</th>\n",
       "      <th>url</th>\n",
       "      <th>public_metrics.followers_count</th>\n",
       "      <th>public_metrics.following_count</th>\n",
       "      <th>public_metrics.tweet_count</th>\n",
       "      <th>public_metrics.listed_count</th>\n",
       "      <th>entities.description.hashtags</th>\n",
       "      <th>location</th>\n",
       "      <th>entities.url.urls</th>\n",
       "      <th>entities.description.urls</th>\n",
       "      <th>entities.description.mentions</th>\n",
       "      <th>entities.description.cashtags</th>\n",
       "      <th>withheld.country_codes</th>\n",
       "    </tr>\n",
       "  </thead>\n",
       "  <tbody>\n",
       "    <tr>\n",
       "      <th>0</th>\n",
       "      <td>PhD Candidate at Engineering</td>\n",
       "      <td>GaKahsay</td>\n",
       "      <td>False</td>\n",
       "      <td>Kahsay GA</td>\n",
       "      <td>2020-11-13T15:55:37.000Z</td>\n",
       "      <td>1327278886380515328</td>\n",
       "      <td></td>\n",
       "      <td>817</td>\n",
       "      <td>1215</td>\n",
       "      <td>4427</td>\n",
       "      <td>0</td>\n",
       "      <td>NaN</td>\n",
       "      <td>NaN</td>\n",
       "      <td>NaN</td>\n",
       "      <td>NaN</td>\n",
       "      <td>NaN</td>\n",
       "      <td>NaN</td>\n",
       "      <td>NaN</td>\n",
       "    </tr>\n",
       "    <tr>\n",
       "      <th>1</th>\n",
       "      <td>#STOPWARONTIGRAY</td>\n",
       "      <td>sayumek2020</td>\n",
       "      <td>False</td>\n",
       "      <td>Selam</td>\n",
       "      <td>2020-11-04T08:23:06.000Z</td>\n",
       "      <td>1323903491044188161</td>\n",
       "      <td></td>\n",
       "      <td>43</td>\n",
       "      <td>156</td>\n",
       "      <td>3531</td>\n",
       "      <td>0</td>\n",
       "      <td>[{'start': 0, 'end': 16, 'tag': 'STOPWARONTIGR...</td>\n",
       "      <td>NaN</td>\n",
       "      <td>NaN</td>\n",
       "      <td>NaN</td>\n",
       "      <td>NaN</td>\n",
       "      <td>NaN</td>\n",
       "      <td>NaN</td>\n",
       "    </tr>\n",
       "    <tr>\n",
       "      <th>2</th>\n",
       "      <td>ማርያም ፅዮን ምስ ወዳ ፅላል ትግራይ ትኩነልና \\n#TigrayGenocid...</td>\n",
       "      <td>AbbyH06586436</td>\n",
       "      <td>False</td>\n",
       "      <td>Abby |ዓይነይ-ትግራይ እንዲኺ|</td>\n",
       "      <td>2020-11-04T23:24:06.000Z</td>\n",
       "      <td>1324130252008816640</td>\n",
       "      <td></td>\n",
       "      <td>54</td>\n",
       "      <td>232</td>\n",
       "      <td>1129</td>\n",
       "      <td>1</td>\n",
       "      <td>[{'start': 31, 'end': 46, 'tag': 'TigrayGenoci...</td>\n",
       "      <td>New Zealand</td>\n",
       "      <td>NaN</td>\n",
       "      <td>NaN</td>\n",
       "      <td>NaN</td>\n",
       "      <td>NaN</td>\n",
       "      <td>NaN</td>\n",
       "    </tr>\n",
       "    <tr>\n",
       "      <th>3</th>\n",
       "      <td></td>\n",
       "      <td>MahfuzHussien</td>\n",
       "      <td>False</td>\n",
       "      <td>Mahfuz Hussien</td>\n",
       "      <td>2013-01-22T22:05:12.000Z</td>\n",
       "      <td>1112761003</td>\n",
       "      <td></td>\n",
       "      <td>151</td>\n",
       "      <td>788</td>\n",
       "      <td>1455</td>\n",
       "      <td>1</td>\n",
       "      <td>NaN</td>\n",
       "      <td>NaN</td>\n",
       "      <td>NaN</td>\n",
       "      <td>NaN</td>\n",
       "      <td>NaN</td>\n",
       "      <td>NaN</td>\n",
       "      <td>NaN</td>\n",
       "    </tr>\n",
       "    <tr>\n",
       "      <th>4</th>\n",
       "      <td>Journalists Standing up for human rights acros...</td>\n",
       "      <td>jonewales</td>\n",
       "      <td>False</td>\n",
       "      <td>William_Sea</td>\n",
       "      <td>2020-01-02T19:56:07.000Z</td>\n",
       "      <td>1212824799107375105</td>\n",
       "      <td></td>\n",
       "      <td>315</td>\n",
       "      <td>1913</td>\n",
       "      <td>2710</td>\n",
       "      <td>3</td>\n",
       "      <td>NaN</td>\n",
       "      <td>NaN</td>\n",
       "      <td>NaN</td>\n",
       "      <td>NaN</td>\n",
       "      <td>NaN</td>\n",
       "      <td>NaN</td>\n",
       "      <td>NaN</td>\n",
       "    </tr>\n",
       "  </tbody>\n",
       "</table>\n",
       "</div>"
      ],
      "text/plain": [
       "                                         description       username  verified  \\\n",
       "0                       PhD Candidate at Engineering       GaKahsay     False   \n",
       "1                                   #STOPWARONTIGRAY    sayumek2020     False   \n",
       "2  ማርያም ፅዮን ምስ ወዳ ፅላል ትግራይ ትኩነልና \\n#TigrayGenocid...  AbbyH06586436     False   \n",
       "3                                                     MahfuzHussien     False   \n",
       "4  Journalists Standing up for human rights acros...      jonewales     False   \n",
       "\n",
       "                    name                created_at                   id url  \\\n",
       "0              Kahsay GA  2020-11-13T15:55:37.000Z  1327278886380515328       \n",
       "1                  Selam  2020-11-04T08:23:06.000Z  1323903491044188161       \n",
       "2  Abby |ዓይነይ-ትግራይ እንዲኺ|  2020-11-04T23:24:06.000Z  1324130252008816640       \n",
       "3         Mahfuz Hussien  2013-01-22T22:05:12.000Z           1112761003       \n",
       "4            William_Sea  2020-01-02T19:56:07.000Z  1212824799107375105       \n",
       "\n",
       "   public_metrics.followers_count  public_metrics.following_count  \\\n",
       "0                             817                            1215   \n",
       "1                              43                             156   \n",
       "2                              54                             232   \n",
       "3                             151                             788   \n",
       "4                             315                            1913   \n",
       "\n",
       "   public_metrics.tweet_count  public_metrics.listed_count  \\\n",
       "0                        4427                            0   \n",
       "1                        3531                            0   \n",
       "2                        1129                            1   \n",
       "3                        1455                            1   \n",
       "4                        2710                            3   \n",
       "\n",
       "                       entities.description.hashtags     location  \\\n",
       "0                                                NaN          NaN   \n",
       "1  [{'start': 0, 'end': 16, 'tag': 'STOPWARONTIGR...          NaN   \n",
       "2  [{'start': 31, 'end': 46, 'tag': 'TigrayGenoci...  New Zealand   \n",
       "3                                                NaN          NaN   \n",
       "4                                                NaN          NaN   \n",
       "\n",
       "  entities.url.urls entities.description.urls entities.description.mentions  \\\n",
       "0               NaN                       NaN                           NaN   \n",
       "1               NaN                       NaN                           NaN   \n",
       "2               NaN                       NaN                           NaN   \n",
       "3               NaN                       NaN                           NaN   \n",
       "4               NaN                       NaN                           NaN   \n",
       "\n",
       "  entities.description.cashtags withheld.country_codes  \n",
       "0                           NaN                    NaN  \n",
       "1                           NaN                    NaN  \n",
       "2                           NaN                    NaN  \n",
       "3                           NaN                    NaN  \n",
       "4                           NaN                    NaN  "
      ]
     },
     "execution_count": 9,
     "metadata": {},
     "output_type": "execute_result"
    }
   ],
   "source": [
    "# Convert json file into pandas dataframe\n",
    "df_users = pd.json_normalize(data[\"users\"])\n",
    "df_users.head()"
   ]
  },
  {
   "cell_type": "code",
   "execution_count": 10,
   "metadata": {},
   "outputs": [
    {
     "data": {
      "text/plain": [
       "(6085289, 18)"
      ]
     },
     "execution_count": 10,
     "metadata": {},
     "output_type": "execute_result"
    }
   ],
   "source": [
    "df_users.shape"
   ]
  },
  {
   "cell_type": "code",
   "execution_count": 12,
   "metadata": {},
   "outputs": [],
   "source": [
    "# Remove duplicate users\n",
    "df_users_no_dups = df_users.drop_duplicates(subset=\"id\")"
   ]
  },
  {
   "cell_type": "code",
   "execution_count": 13,
   "metadata": {},
   "outputs": [
    {
     "data": {
      "text/plain": [
       "(1928500, 18)"
      ]
     },
     "execution_count": 13,
     "metadata": {},
     "output_type": "execute_result"
    }
   ],
   "source": [
    "df_users_no_dups.shape"
   ]
  },
  {
   "cell_type": "code",
   "execution_count": 35,
   "metadata": {
    "scrolled": true
   },
   "outputs": [
    {
     "name": "stderr",
     "output_type": "stream",
     "text": [
      "C:\\ProgramData\\Anaconda3\\lib\\site-packages\\pandas\\core\\frame.py:4170: SettingWithCopyWarning: \n",
      "A value is trying to be set on a copy of a slice from a DataFrame\n",
      "\n",
      "See the caveats in the documentation: https://pandas.pydata.org/pandas-docs/stable/user_guide/indexing.html#returning-a-view-versus-a-copy\n",
      "  errors=errors,\n"
     ]
    }
   ],
   "source": [
    "# Drop irrelevant columns\n",
    "df_users_no_dups.drop(['entities.description.hashtags','entities.url.urls', 'entities.description.urls',\n",
    "                       'entities.description.mentions', 'entities.description.cashtags', 'withheld.country_codes'],\n",
    "                       axis=1, inplace=True)"
   ]
  },
  {
   "cell_type": "code",
   "execution_count": 42,
   "metadata": {},
   "outputs": [],
   "source": [
    "# Store file in csv format\n",
    "df_users_no_dups.to_csv(r\"C:\\Users\\jawo19ad\\Dropbox (CBS)\\Master thesis data\\df_users.csv\")"
   ]
  },
  {
   "cell_type": "markdown",
   "metadata": {},
   "source": [
    "# Creation of df_tweets"
   ]
  },
  {
   "cell_type": "code",
   "execution_count": 16,
   "metadata": {},
   "outputs": [],
   "source": [
    "# Load the json file containing the tweets\n",
    "with open(r'C:\\Users\\jawo19ad\\Dropbox (CBS)\\Master thesis data\\all_tweets_072020_022021.json', 'r') as f:\n",
    "    data = json.load(f)"
   ]
  },
  {
   "cell_type": "code",
   "execution_count": 53,
   "metadata": {},
   "outputs": [
    {
     "data": {
      "text/html": [
       "<div>\n",
       "<style scoped>\n",
       "    .dataframe tbody tr th:only-of-type {\n",
       "        vertical-align: middle;\n",
       "    }\n",
       "\n",
       "    .dataframe tbody tr th {\n",
       "        vertical-align: top;\n",
       "    }\n",
       "\n",
       "    .dataframe thead th {\n",
       "        text-align: right;\n",
       "    }\n",
       "</style>\n",
       "<table border=\"1\" class=\"dataframe\">\n",
       "  <thead>\n",
       "    <tr style=\"text-align: right;\">\n",
       "      <th></th>\n",
       "      <th>source</th>\n",
       "      <th>text</th>\n",
       "      <th>lang</th>\n",
       "      <th>id</th>\n",
       "      <th>created_at</th>\n",
       "      <th>author_id</th>\n",
       "      <th>entities.mentions</th>\n",
       "      <th>entities.hashtags</th>\n",
       "      <th>entities.urls</th>\n",
       "      <th>public_metrics.retweet_count</th>\n",
       "      <th>...</th>\n",
       "      <th>public_metrics.quote_count</th>\n",
       "      <th>entities.annotations</th>\n",
       "      <th>in_reply_to_user_id</th>\n",
       "      <th>referenced_tweets</th>\n",
       "      <th>geo.place_id</th>\n",
       "      <th>geo.coordinates.type</th>\n",
       "      <th>geo.coordinates.coordinates</th>\n",
       "      <th>withheld.copyright</th>\n",
       "      <th>withheld.country_codes</th>\n",
       "      <th>entities.cashtags</th>\n",
       "    </tr>\n",
       "  </thead>\n",
       "  <tbody>\n",
       "    <tr>\n",
       "      <th>0</th>\n",
       "      <td>Twitter for Android</td>\n",
       "      <td>There are too many reliable reports and first-...</td>\n",
       "      <td>en</td>\n",
       "      <td>1350390669043499013</td>\n",
       "      <td>2021-01-16T10:33:19.000Z</td>\n",
       "      <td>1327278886380515328</td>\n",
       "      <td>[{'start': 178, 'end': 187, 'username': 'JoeBi...</td>\n",
       "      <td>[{'start': 164, 'end': 172, 'tag': 'Eritrea'},...</td>\n",
       "      <td>[{'start': 250, 'end': 273, 'url': 'https://t....</td>\n",
       "      <td>1</td>\n",
       "      <td>...</td>\n",
       "      <td>0</td>\n",
       "      <td>NaN</td>\n",
       "      <td>NaN</td>\n",
       "      <td>NaN</td>\n",
       "      <td>NaN</td>\n",
       "      <td>NaN</td>\n",
       "      <td>NaN</td>\n",
       "      <td>NaN</td>\n",
       "      <td>NaN</td>\n",
       "      <td>NaN</td>\n",
       "    </tr>\n",
       "    <tr>\n",
       "      <th>1</th>\n",
       "      <td>Twitter Web App</td>\n",
       "      <td>Despite repeated requests, @Refugees and other...</td>\n",
       "      <td>en</td>\n",
       "      <td>1350390657576300544</td>\n",
       "      <td>2021-01-16T10:33:16.000Z</td>\n",
       "      <td>1323903491044188161</td>\n",
       "      <td>[{'start': 27, 'end': 36, 'username': 'Refugee...</td>\n",
       "      <td>[{'start': 166, 'end': 173, 'tag': 'Tigray'}, ...</td>\n",
       "      <td>[{'start': 252, 'end': 275, 'url': 'https://t....</td>\n",
       "      <td>0</td>\n",
       "      <td>...</td>\n",
       "      <td>0</td>\n",
       "      <td>[{'start': 101, 'end': 108, 'probability': 0.3...</td>\n",
       "      <td>NaN</td>\n",
       "      <td>NaN</td>\n",
       "      <td>NaN</td>\n",
       "      <td>NaN</td>\n",
       "      <td>NaN</td>\n",
       "      <td>NaN</td>\n",
       "      <td>NaN</td>\n",
       "      <td>NaN</td>\n",
       "    </tr>\n",
       "    <tr>\n",
       "      <th>2</th>\n",
       "      <td>Twitter for Android</td>\n",
       "      <td>“When the air bombing and the attacks began, I...</td>\n",
       "      <td>en</td>\n",
       "      <td>1350390643986599937</td>\n",
       "      <td>2021-01-16T10:33:13.000Z</td>\n",
       "      <td>1324130252008816640</td>\n",
       "      <td>[{'start': 190, 'end': 199, 'username': 'JoeBi...</td>\n",
       "      <td>[{'start': 231, 'end': 247, 'tag': 'BidenTakeA...</td>\n",
       "      <td>[{'start': 248, 'end': 271, 'url': 'https://t....</td>\n",
       "      <td>0</td>\n",
       "      <td>...</td>\n",
       "      <td>0</td>\n",
       "      <td>NaN</td>\n",
       "      <td>NaN</td>\n",
       "      <td>NaN</td>\n",
       "      <td>NaN</td>\n",
       "      <td>NaN</td>\n",
       "      <td>NaN</td>\n",
       "      <td>NaN</td>\n",
       "      <td>NaN</td>\n",
       "      <td>NaN</td>\n",
       "    </tr>\n",
       "    <tr>\n",
       "      <th>3</th>\n",
       "      <td>Twitter Web App</td>\n",
       "      <td>\"ongoing insecurity &amp;amp; allegations of grave...</td>\n",
       "      <td>en</td>\n",
       "      <td>1350390618695020546</td>\n",
       "      <td>2021-01-16T10:33:07.000Z</td>\n",
       "      <td>1112761003</td>\n",
       "      <td>[{'start': 144, 'end': 147, 'username': 'UN'},...</td>\n",
       "      <td>[{'start': 200, 'end': 215, 'tag': 'TigrayGeno...</td>\n",
       "      <td>[{'start': 246, 'end': 269, 'url': 'https://t....</td>\n",
       "      <td>0</td>\n",
       "      <td>...</td>\n",
       "      <td>0</td>\n",
       "      <td>[{'start': 127, 'end': 133, 'probability': 0.8...</td>\n",
       "      <td>NaN</td>\n",
       "      <td>NaN</td>\n",
       "      <td>NaN</td>\n",
       "      <td>NaN</td>\n",
       "      <td>NaN</td>\n",
       "      <td>NaN</td>\n",
       "      <td>NaN</td>\n",
       "      <td>NaN</td>\n",
       "    </tr>\n",
       "    <tr>\n",
       "      <th>4</th>\n",
       "      <td>Twitter for iPhone</td>\n",
       "      <td>MOTHER \\n\\nMother, I do not cry who cries, \\nm...</td>\n",
       "      <td>en</td>\n",
       "      <td>1350390607928295424</td>\n",
       "      <td>2021-01-16T10:33:04.000Z</td>\n",
       "      <td>1212824799107375105</td>\n",
       "      <td>NaN</td>\n",
       "      <td>NaN</td>\n",
       "      <td>NaN</td>\n",
       "      <td>0</td>\n",
       "      <td>...</td>\n",
       "      <td>0</td>\n",
       "      <td>NaN</td>\n",
       "      <td>1212824799107375105</td>\n",
       "      <td>[{'type': 'replied_to', 'id': '135038931103271...</td>\n",
       "      <td>NaN</td>\n",
       "      <td>NaN</td>\n",
       "      <td>NaN</td>\n",
       "      <td>NaN</td>\n",
       "      <td>NaN</td>\n",
       "      <td>NaN</td>\n",
       "    </tr>\n",
       "  </tbody>\n",
       "</table>\n",
       "<p>5 rows × 22 columns</p>\n",
       "</div>"
      ],
      "text/plain": [
       "                source                                               text  \\\n",
       "0  Twitter for Android  There are too many reliable reports and first-...   \n",
       "1      Twitter Web App  Despite repeated requests, @Refugees and other...   \n",
       "2  Twitter for Android  “When the air bombing and the attacks began, I...   \n",
       "3      Twitter Web App  \"ongoing insecurity &amp; allegations of grave...   \n",
       "4   Twitter for iPhone  MOTHER \\n\\nMother, I do not cry who cries, \\nm...   \n",
       "\n",
       "  lang                   id                created_at            author_id  \\\n",
       "0   en  1350390669043499013  2021-01-16T10:33:19.000Z  1327278886380515328   \n",
       "1   en  1350390657576300544  2021-01-16T10:33:16.000Z  1323903491044188161   \n",
       "2   en  1350390643986599937  2021-01-16T10:33:13.000Z  1324130252008816640   \n",
       "3   en  1350390618695020546  2021-01-16T10:33:07.000Z           1112761003   \n",
       "4   en  1350390607928295424  2021-01-16T10:33:04.000Z  1212824799107375105   \n",
       "\n",
       "                                   entities.mentions  \\\n",
       "0  [{'start': 178, 'end': 187, 'username': 'JoeBi...   \n",
       "1  [{'start': 27, 'end': 36, 'username': 'Refugee...   \n",
       "2  [{'start': 190, 'end': 199, 'username': 'JoeBi...   \n",
       "3  [{'start': 144, 'end': 147, 'username': 'UN'},...   \n",
       "4                                                NaN   \n",
       "\n",
       "                                   entities.hashtags  \\\n",
       "0  [{'start': 164, 'end': 172, 'tag': 'Eritrea'},...   \n",
       "1  [{'start': 166, 'end': 173, 'tag': 'Tigray'}, ...   \n",
       "2  [{'start': 231, 'end': 247, 'tag': 'BidenTakeA...   \n",
       "3  [{'start': 200, 'end': 215, 'tag': 'TigrayGeno...   \n",
       "4                                                NaN   \n",
       "\n",
       "                                       entities.urls  \\\n",
       "0  [{'start': 250, 'end': 273, 'url': 'https://t....   \n",
       "1  [{'start': 252, 'end': 275, 'url': 'https://t....   \n",
       "2  [{'start': 248, 'end': 271, 'url': 'https://t....   \n",
       "3  [{'start': 246, 'end': 269, 'url': 'https://t....   \n",
       "4                                                NaN   \n",
       "\n",
       "   public_metrics.retweet_count  ...  public_metrics.quote_count  \\\n",
       "0                             1  ...                           0   \n",
       "1                             0  ...                           0   \n",
       "2                             0  ...                           0   \n",
       "3                             0  ...                           0   \n",
       "4                             0  ...                           0   \n",
       "\n",
       "                                entities.annotations  in_reply_to_user_id  \\\n",
       "0                                                NaN                  NaN   \n",
       "1  [{'start': 101, 'end': 108, 'probability': 0.3...                  NaN   \n",
       "2                                                NaN                  NaN   \n",
       "3  [{'start': 127, 'end': 133, 'probability': 0.8...                  NaN   \n",
       "4                                                NaN  1212824799107375105   \n",
       "\n",
       "                                   referenced_tweets geo.place_id  \\\n",
       "0                                                NaN          NaN   \n",
       "1                                                NaN          NaN   \n",
       "2                                                NaN          NaN   \n",
       "3                                                NaN          NaN   \n",
       "4  [{'type': 'replied_to', 'id': '135038931103271...          NaN   \n",
       "\n",
       "  geo.coordinates.type geo.coordinates.coordinates withheld.copyright  \\\n",
       "0                  NaN                         NaN                NaN   \n",
       "1                  NaN                         NaN                NaN   \n",
       "2                  NaN                         NaN                NaN   \n",
       "3                  NaN                         NaN                NaN   \n",
       "4                  NaN                         NaN                NaN   \n",
       "\n",
       "  withheld.country_codes entities.cashtags  \n",
       "0                    NaN               NaN  \n",
       "1                    NaN               NaN  \n",
       "2                    NaN               NaN  \n",
       "3                    NaN               NaN  \n",
       "4                    NaN               NaN  \n",
       "\n",
       "[5 rows x 22 columns]"
      ]
     },
     "execution_count": 53,
     "metadata": {},
     "output_type": "execute_result"
    }
   ],
   "source": [
    "# Convert json file into pandas dataframe\n",
    "df_tweets = pd.json_normalize(data[\"data\"])\n",
    "df_tweets.head()"
   ]
  },
  {
   "cell_type": "code",
   "execution_count": null,
   "metadata": {},
   "outputs": [],
   "source": []
  },
  {
   "cell_type": "code",
   "execution_count": 83,
   "metadata": {},
   "outputs": [
    {
     "name": "stderr",
     "output_type": "stream",
     "text": [
      "  1%|          | 48652/6813504 [03:50<8:53:04, 211.50it/s] \n"
     ]
    },
    {
     "ename": "KeyboardInterrupt",
     "evalue": "",
     "output_type": "error",
     "traceback": [
      "\u001b[1;31m---------------------------------------------------------------------------\u001b[0m",
      "\u001b[1;31mKeyboardInterrupt\u001b[0m                         Traceback (most recent call last)",
      "\u001b[1;32m<ipython-input-83-cd6f3c806f22>\u001b[0m in \u001b[0;36m<module>\u001b[1;34m\u001b[0m\n\u001b[0;32m     15\u001b[0m \u001b[1;33m\u001b[0m\u001b[0m\n\u001b[0;32m     16\u001b[0m     \u001b[0mhash_men\u001b[0m \u001b[1;33m=\u001b[0m \u001b[0mpd\u001b[0m\u001b[1;33m.\u001b[0m\u001b[0mDataFrame\u001b[0m\u001b[1;33m(\u001b[0m\u001b[1;33m[\u001b[0m\u001b[1;33m[\u001b[0m\u001b[0mtweet_id\u001b[0m\u001b[1;33m,\u001b[0m\u001b[0mhashtags\u001b[0m\u001b[1;33m,\u001b[0m\u001b[0mmentions\u001b[0m\u001b[1;33m]\u001b[0m\u001b[1;33m]\u001b[0m\u001b[1;33m,\u001b[0m \u001b[0mcolumns\u001b[0m\u001b[1;33m=\u001b[0m\u001b[1;33m[\u001b[0m\u001b[1;34m\"id\"\u001b[0m\u001b[1;33m,\u001b[0m\u001b[1;34m\"hashtags\"\u001b[0m\u001b[1;33m,\u001b[0m\u001b[1;34m\"mentions\"\u001b[0m\u001b[1;33m]\u001b[0m\u001b[1;33m)\u001b[0m\u001b[1;33m\u001b[0m\u001b[1;33m\u001b[0m\u001b[0m\n\u001b[1;32m---> 17\u001b[1;33m     \u001b[0mdf_hashtag_mentions\u001b[0m \u001b[1;33m=\u001b[0m \u001b[0mdf_hashtag_mentions\u001b[0m\u001b[1;33m.\u001b[0m\u001b[0mappend\u001b[0m\u001b[1;33m(\u001b[0m\u001b[0mhash_men\u001b[0m\u001b[1;33m,\u001b[0m \u001b[0mignore_index\u001b[0m\u001b[1;33m=\u001b[0m\u001b[1;32mTrue\u001b[0m\u001b[1;33m)\u001b[0m\u001b[1;33m\u001b[0m\u001b[1;33m\u001b[0m\u001b[0m\n\u001b[0m",
      "\u001b[1;31mKeyboardInterrupt\u001b[0m: "
     ]
    }
   ],
   "source": [
    "df_hashtag_mentions = pd.DataFrame(columns=[\"id\",\"hashtags\",\"mentions\"])\n",
    "for tweet in tqdm(data[\"data\"]):\n",
    "    \n",
    "    tweet_id = tweet[\"id\"]\n",
    "    \n",
    "    try:\n",
    "        hashtags = [hashtag[\"tag\"] for hashtag in tweet[\"entities\"][\"hashtags\"]]\n",
    "    except KeyError:\n",
    "        hashtags = None\n",
    "    \n",
    "    try:\n",
    "        mentions = [mention[\"username\"] for mention in tweet[\"entities\"][\"mentions\"]]\n",
    "    except KeyError:\n",
    "        mentions = None\n",
    "    \n",
    "    hash_men = pd.DataFrame([[tweet_id,hashtags,mentions]], columns=[\"id\",\"hashtags\",\"mentions\"])\n",
    "    df_hashtag_mentions = df_hashtag_mentions.append(hash_men, ignore_index=True)"
   ]
  },
  {
   "cell_type": "code",
   "execution_count": 81,
   "metadata": {},
   "outputs": [
    {
     "data": {
      "text/html": [
       "<div>\n",
       "<style scoped>\n",
       "    .dataframe tbody tr th:only-of-type {\n",
       "        vertical-align: middle;\n",
       "    }\n",
       "\n",
       "    .dataframe tbody tr th {\n",
       "        vertical-align: top;\n",
       "    }\n",
       "\n",
       "    .dataframe thead th {\n",
       "        text-align: right;\n",
       "    }\n",
       "</style>\n",
       "<table border=\"1\" class=\"dataframe\">\n",
       "  <thead>\n",
       "    <tr style=\"text-align: right;\">\n",
       "      <th></th>\n",
       "      <th>id</th>\n",
       "      <th>hashtags</th>\n",
       "      <th>mentions</th>\n",
       "    </tr>\n",
       "  </thead>\n",
       "  <tbody>\n",
       "    <tr>\n",
       "      <th>0</th>\n",
       "      <td>1350390669043499013</td>\n",
       "      <td>[Eritrea, BidenTakeAction, StopWarOnTigray, Ti...</td>\n",
       "      <td>[JoeBiden]</td>\n",
       "    </tr>\n",
       "  </tbody>\n",
       "</table>\n",
       "</div>"
      ],
      "text/plain": [
       "                    id                                           hashtags  \\\n",
       "0  1350390669043499013  [Eritrea, BidenTakeAction, StopWarOnTigray, Ti...   \n",
       "\n",
       "     mentions  \n",
       "0  [JoeBiden]  "
      ]
     },
     "execution_count": 81,
     "metadata": {},
     "output_type": "execute_result"
    }
   ],
   "source": [
    "df_hashtag_mentions"
   ]
  },
  {
   "cell_type": "code",
   "execution_count": 71,
   "metadata": {},
   "outputs": [
    {
     "data": {
      "text/plain": [
       "{'annotations': [{'start': 26,\n",
       "   'end': 35,\n",
       "   'probability': 0.9377,\n",
       "   'type': 'Place',\n",
       "   'normalized_text': 'West Papua'}],\n",
       " 'urls': [{'start': 125,\n",
       "   'end': 148,\n",
       "   'url': 'https://t.co/m5bVAnzhdG',\n",
       "   'expanded_url': 'https://www.lithgowmercury.com.au/story/5805532/west-papua-refugees-share-their-stories-at-lithgow-forum/',\n",
       "   'display_url': 'lithgowmercury.com.au/story/5805532/…'}]}"
      ]
     },
     "execution_count": 71,
     "metadata": {},
     "output_type": "execute_result"
    }
   ],
   "source": [
    "data[\"data\"][10][\"entities\"]"
   ]
  },
  {
   "cell_type": "code",
   "execution_count": null,
   "metadata": {},
   "outputs": [],
   "source": []
  },
  {
   "cell_type": "code",
   "execution_count": null,
   "metadata": {},
   "outputs": [],
   "source": []
  },
  {
   "cell_type": "code",
   "execution_count": null,
   "metadata": {},
   "outputs": [],
   "source": []
  },
  {
   "cell_type": "code",
   "execution_count": 40,
   "metadata": {},
   "outputs": [],
   "source": [
    "df_tweets.drop(['entities.mentions', 'entities.hashtags', 'entities.urls','entities.annotations',\n",
    "                'in_reply_to_user_id', 'referenced_tweets', 'geo.place_id', 'geo.coordinates.type',\n",
    "                'geo.coordinates.coordinates', 'withheld.copyright', 'withheld.country_codes', 'entities.cashtags'],\n",
    "                axis=1, inplace=True)"
   ]
  },
  {
   "cell_type": "code",
   "execution_count": 43,
   "metadata": {},
   "outputs": [],
   "source": [
    "df_tweets.to_csv(r\"C:\\Users\\jawo19ad\\Dropbox (CBS)\\Master thesis data\\df_tweets.csv\")"
   ]
  },
  {
   "cell_type": "code",
   "execution_count": 48,
   "metadata": {},
   "outputs": [
    {
     "data": {
      "text/plain": [
       "{'mentions': [{'start': 178, 'end': 187, 'username': 'JoeBiden'}],\n",
       " 'hashtags': [{'start': 164, 'end': 172, 'tag': 'Eritrea'},\n",
       "  {'start': 199, 'end': 215, 'tag': 'BidenTakeAction'},\n",
       "  {'start': 217, 'end': 233, 'tag': 'StopWarOnTigray'},\n",
       "  {'start': 234, 'end': 249, 'tag': 'TigrayGenocide'}],\n",
       " 'urls': [{'start': 250,\n",
       "   'end': 273,\n",
       "   'url': 'https://t.co/mVNK7zEicI',\n",
       "   'expanded_url': 'https://www.reuters.com/article/us-ethiopia-conflict-un-idUSKBN29J2N6?taid=6000c010933c880001bc1036&utm_campaign=trueAnthem:+Trending+Content&utm_medium=trueAnthem&utm_source=twitter',\n",
       "   'display_url': 'reuters.com/article/us-eth…'}]}"
      ]
     },
     "execution_count": 48,
     "metadata": {},
     "output_type": "execute_result"
    }
   ],
   "source": [
    "data[\"data\"][0][\"entities\"]"
   ]
  },
  {
   "cell_type": "code",
   "execution_count": 52,
   "metadata": {},
   "outputs": [
    {
     "data": {
      "text/html": [
       "<div>\n",
       "<style scoped>\n",
       "    .dataframe tbody tr th:only-of-type {\n",
       "        vertical-align: middle;\n",
       "    }\n",
       "\n",
       "    .dataframe tbody tr th {\n",
       "        vertical-align: top;\n",
       "    }\n",
       "\n",
       "    .dataframe thead th {\n",
       "        text-align: right;\n",
       "    }\n",
       "</style>\n",
       "<table border=\"1\" class=\"dataframe\">\n",
       "  <thead>\n",
       "    <tr style=\"text-align: right;\">\n",
       "      <th></th>\n",
       "      <th>mentions</th>\n",
       "      <th>hashtags</th>\n",
       "      <th>urls</th>\n",
       "    </tr>\n",
       "  </thead>\n",
       "  <tbody>\n",
       "    <tr>\n",
       "      <th>0</th>\n",
       "      <td>[{'start': 178, 'end': 187, 'username': 'JoeBi...</td>\n",
       "      <td>[{'start': 164, 'end': 172, 'tag': 'Eritrea'},...</td>\n",
       "      <td>[{'start': 250, 'end': 273, 'url': 'https://t....</td>\n",
       "    </tr>\n",
       "  </tbody>\n",
       "</table>\n",
       "</div>"
      ],
      "text/plain": [
       "                                            mentions  \\\n",
       "0  [{'start': 178, 'end': 187, 'username': 'JoeBi...   \n",
       "\n",
       "                                            hashtags  \\\n",
       "0  [{'start': 164, 'end': 172, 'tag': 'Eritrea'},...   \n",
       "\n",
       "                                                urls  \n",
       "0  [{'start': 250, 'end': 273, 'url': 'https://t....  "
      ]
     },
     "execution_count": 52,
     "metadata": {},
     "output_type": "execute_result"
    }
   ],
   "source": [
    "pd.json_normalize(data[\"data\"][0][\"entities\"])"
   ]
  },
  {
   "cell_type": "code",
   "execution_count": 50,
   "metadata": {},
   "outputs": [],
   "source": [
    "?pd.json_normalize"
   ]
  },
  {
   "cell_type": "code",
   "execution_count": null,
   "metadata": {},
   "outputs": [],
   "source": []
  }
 ],
 "metadata": {
  "kernelspec": {
   "display_name": "Python 3",
   "language": "python",
   "name": "python3"
  },
  "language_info": {
   "codemirror_mode": {
    "name": "ipython",
    "version": 3
   },
   "file_extension": ".py",
   "mimetype": "text/x-python",
   "name": "python",
   "nbconvert_exporter": "python",
   "pygments_lexer": "ipython3",
   "version": "3.7.9"
  }
 },
 "nbformat": 4,
 "nbformat_minor": 4
}
