{
 "cells": [
  {
   "cell_type": "markdown",
   "metadata": {},
   "source": [
    "# File Consolidation"
   ]
  },
  {
   "cell_type": "code",
   "execution_count": 9,
   "metadata": {},
   "outputs": [],
   "source": [
    "# Import libraries\n",
    "\n",
    "import pandas as pd\n",
    "import numpy as np\n",
    "import os\n",
    "import glob\n",
    "import json\n",
    "\n",
    "from tqdm import tqdm\n",
    "\n",
    "from collections import defaultdict"
   ]
  },
  {
   "cell_type": "code",
   "execution_count": 10,
   "metadata": {},
   "outputs": [],
   "source": [
    "# Navigate to file folder and retrieve relevant files\n",
    "all_files = glob.glob(r\"C:\\Users\\jawo19ad\\Dropbox (CBS)\\Master thesis data\\Twitter Fetch\\*.txt\")"
   ]
  },
  {
   "cell_type": "code",
   "execution_count": 11,
   "metadata": {},
   "outputs": [],
   "source": [
    "def load_full_json(file):\n",
    "    \n",
    "    # Create empty dictionary where values are stored\n",
    "    json_complete = {\"data\":list(),\"users\":list()}\n",
    "    \n",
    "    # Open the json file\n",
    "    with open(file, \"r\") as json_file:\n",
    "        \n",
    "        # Iterate through json file and store information at appropriate dict key\n",
    "        for line in json_file:\n",
    "            data = json.loads(line)\n",
    "            json_complete[\"data\"].extend(data[\"data\"])\n",
    "            json_complete[\"users\"].extend(data[\"includes\"][\"users\"])\n",
    "    \n",
    "    return json_complete"
   ]
  },
  {
   "cell_type": "code",
   "execution_count": 12,
   "metadata": {},
   "outputs": [
    {
     "name": "stderr",
     "output_type": "stream",
     "text": [
      "100%|██████████| 26/26 [12:14<00:00, 28.24s/it]\n"
     ]
    }
   ],
   "source": [
    "json_complete = {\"data\":list(),\"users\":list()}\n",
    "tweets_complete = {\"data\":list()}\n",
    "users_complete = {\"users\":list()}\n",
    "\n",
    "\n",
    "for file in tqdm(all_files):\n",
    "    json_file = load_full_json(file)\n",
    "    #print(len(json_file[\"data\"]), len(json_file[\"users\"]))\n",
    "    tweets_complete[\"data\"].extend(json_file[\"data\"])\n",
    "    users_complete[\"users\"].extend(json_file[\"users\"])"
   ]
  },
  {
   "cell_type": "code",
   "execution_count": null,
   "metadata": {},
   "outputs": [],
   "source": [
    "len(tweets_complete[\"data\"])"
   ]
  },
  {
   "cell_type": "code",
   "execution_count": 13,
   "metadata": {},
   "outputs": [
    {
     "data": {
      "text/plain": [
       "11399491"
      ]
     },
     "execution_count": 13,
     "metadata": {},
     "output_type": "execute_result"
    }
   ],
   "source": [
    "len(users_complete[\"users\"])"
   ]
  },
  {
   "cell_type": "code",
   "execution_count": null,
   "metadata": {},
   "outputs": [],
   "source": [
    "# Store tweets file\n",
    "with open(r'C:\\Users\\jawo19ad\\Dropbox (CBS)\\Master thesis data\\all_tweets_012020_042021.json', 'w') as f:\n",
    "    json.dump(tweets_complete, f)"
   ]
  },
  {
   "cell_type": "code",
   "execution_count": 15,
   "metadata": {},
   "outputs": [],
   "source": [
    "# Store users file\n",
    "with open(r'C:\\Users\\jawo19ad\\Dropbox (CBS)\\Master thesis data\\all_users_012020_042021.json', 'w') as f:\n",
    "    json.dump(users_complete, f)"
   ]
  },
  {
   "cell_type": "markdown",
   "metadata": {},
   "source": [
    "# Creation of df_user"
   ]
  },
  {
   "cell_type": "code",
   "execution_count": 16,
   "metadata": {},
   "outputs": [],
   "source": [
    "# Load the json file containing the users\n",
    "with open(r'C:\\Users\\jawo19ad\\Dropbox (CBS)\\Master thesis data\\all_users_012020_042021.json', 'r') as f:\n",
    "    data = json.load(f)"
   ]
  },
  {
   "cell_type": "code",
   "execution_count": 17,
   "metadata": {
    "scrolled": true
   },
   "outputs": [
    {
     "data": {
      "text/html": [
       "<div>\n",
       "<style scoped>\n",
       "    .dataframe tbody tr th:only-of-type {\n",
       "        vertical-align: middle;\n",
       "    }\n",
       "\n",
       "    .dataframe tbody tr th {\n",
       "        vertical-align: top;\n",
       "    }\n",
       "\n",
       "    .dataframe thead th {\n",
       "        text-align: right;\n",
       "    }\n",
       "</style>\n",
       "<table border=\"1\" class=\"dataframe\">\n",
       "  <thead>\n",
       "    <tr style=\"text-align: right;\">\n",
       "      <th></th>\n",
       "      <th>description</th>\n",
       "      <th>url</th>\n",
       "      <th>verified</th>\n",
       "      <th>id</th>\n",
       "      <th>username</th>\n",
       "      <th>name</th>\n",
       "      <th>created_at</th>\n",
       "      <th>location</th>\n",
       "      <th>entities.url.urls</th>\n",
       "      <th>public_metrics.followers_count</th>\n",
       "      <th>public_metrics.following_count</th>\n",
       "      <th>public_metrics.tweet_count</th>\n",
       "      <th>public_metrics.listed_count</th>\n",
       "      <th>entities.description.urls</th>\n",
       "      <th>entities.description.hashtags</th>\n",
       "      <th>entities.description.mentions</th>\n",
       "      <th>withheld.country_codes</th>\n",
       "      <th>entities.description.cashtags</th>\n",
       "      <th>withheld.scope</th>\n",
       "    </tr>\n",
       "  </thead>\n",
       "  <tbody>\n",
       "    <tr>\n",
       "      <th>0</th>\n",
       "      <td>PhD Social Psychologist. Author of Teaching ab...</td>\n",
       "      <td>https://t.co/lpWg7cgBBf</td>\n",
       "      <td>False</td>\n",
       "      <td>1055596610</td>\n",
       "      <td>CyndiKernahan</td>\n",
       "      <td>Cyndi Kernahan</td>\n",
       "      <td>2013-01-02T17:05:20.000Z</td>\n",
       "      <td>minneapolis st paul</td>\n",
       "      <td>[{'start': 0, 'end': 23, 'url': 'https://t.co/...</td>\n",
       "      <td>481</td>\n",
       "      <td>391</td>\n",
       "      <td>3368</td>\n",
       "      <td>9</td>\n",
       "      <td>NaN</td>\n",
       "      <td>NaN</td>\n",
       "      <td>NaN</td>\n",
       "      <td>NaN</td>\n",
       "      <td>NaN</td>\n",
       "      <td>NaN</td>\n",
       "    </tr>\n",
       "    <tr>\n",
       "      <th>1</th>\n",
       "      <td>https://t.co/rBHIWyFLKj TIME 4 WOKES/SNOWFLAKE...</td>\n",
       "      <td></td>\n",
       "      <td>False</td>\n",
       "      <td>1220792501793185795</td>\n",
       "      <td>TallyPaige</td>\n",
       "      <td>Tally Paige</td>\n",
       "      <td>2020-01-24T19:37:00.000Z</td>\n",
       "      <td>NaN</td>\n",
       "      <td>NaN</td>\n",
       "      <td>886</td>\n",
       "      <td>339</td>\n",
       "      <td>67689</td>\n",
       "      <td>1</td>\n",
       "      <td>[{'start': 0, 'end': 23, 'url': 'https://t.co/...</td>\n",
       "      <td>NaN</td>\n",
       "      <td>NaN</td>\n",
       "      <td>NaN</td>\n",
       "      <td>NaN</td>\n",
       "      <td>NaN</td>\n",
       "    </tr>\n",
       "    <tr>\n",
       "      <th>2</th>\n",
       "      <td></td>\n",
       "      <td></td>\n",
       "      <td>False</td>\n",
       "      <td>812871670100738048</td>\n",
       "      <td>alleanogucci</td>\n",
       "      <td>Alleano</td>\n",
       "      <td>2016-12-25T04:04:43.000Z</td>\n",
       "      <td>NaN</td>\n",
       "      <td>NaN</td>\n",
       "      <td>2</td>\n",
       "      <td>344</td>\n",
       "      <td>895</td>\n",
       "      <td>0</td>\n",
       "      <td>NaN</td>\n",
       "      <td>NaN</td>\n",
       "      <td>NaN</td>\n",
       "      <td>NaN</td>\n",
       "      <td>NaN</td>\n",
       "      <td>NaN</td>\n",
       "    </tr>\n",
       "    <tr>\n",
       "      <th>3</th>\n",
       "      <td>Kurdish News Search Engine providing news from...</td>\n",
       "      <td>https://t.co/kIctHjygFm</td>\n",
       "      <td>False</td>\n",
       "      <td>243133079</td>\n",
       "      <td>Rojname_com</td>\n",
       "      <td>Rojname Kurdish News ☀️</td>\n",
       "      <td>2011-01-26T11:15:56.000Z</td>\n",
       "      <td>Kurdistan, Europe</td>\n",
       "      <td>[{'start': 0, 'end': 23, 'url': 'https://t.co/...</td>\n",
       "      <td>26764</td>\n",
       "      <td>1469</td>\n",
       "      <td>2973235</td>\n",
       "      <td>234</td>\n",
       "      <td>NaN</td>\n",
       "      <td>[{'start': 47, 'end': 55, 'tag': 'Kurdish'}, {...</td>\n",
       "      <td>NaN</td>\n",
       "      <td>NaN</td>\n",
       "      <td>NaN</td>\n",
       "      <td>NaN</td>\n",
       "    </tr>\n",
       "    <tr>\n",
       "      <th>4</th>\n",
       "      <td>In pursuit of truth...</td>\n",
       "      <td>https://t.co/naCvPAyoUS</td>\n",
       "      <td>False</td>\n",
       "      <td>778045033828057092</td>\n",
       "      <td>VviewSsonicMair</td>\n",
       "      <td>Sarah Jackman</td>\n",
       "      <td>2016-09-20T01:36:06.000Z</td>\n",
       "      <td>Enterprise, Oregon</td>\n",
       "      <td>[{'start': 0, 'end': 23, 'url': 'https://t.co/...</td>\n",
       "      <td>3790</td>\n",
       "      <td>5017</td>\n",
       "      <td>116301</td>\n",
       "      <td>26</td>\n",
       "      <td>NaN</td>\n",
       "      <td>NaN</td>\n",
       "      <td>NaN</td>\n",
       "      <td>NaN</td>\n",
       "      <td>NaN</td>\n",
       "      <td>NaN</td>\n",
       "    </tr>\n",
       "  </tbody>\n",
       "</table>\n",
       "</div>"
      ],
      "text/plain": [
       "                                         description                      url  \\\n",
       "0  PhD Social Psychologist. Author of Teaching ab...  https://t.co/lpWg7cgBBf   \n",
       "1  https://t.co/rBHIWyFLKj TIME 4 WOKES/SNOWFLAKE...                            \n",
       "2                                                                               \n",
       "3  Kurdish News Search Engine providing news from...  https://t.co/kIctHjygFm   \n",
       "4                             In pursuit of truth...  https://t.co/naCvPAyoUS   \n",
       "\n",
       "   verified                   id         username                     name  \\\n",
       "0     False           1055596610    CyndiKernahan           Cyndi Kernahan   \n",
       "1     False  1220792501793185795       TallyPaige              Tally Paige   \n",
       "2     False   812871670100738048     alleanogucci                  Alleano   \n",
       "3     False            243133079      Rojname_com  Rojname Kurdish News ☀️   \n",
       "4     False   778045033828057092  VviewSsonicMair            Sarah Jackman   \n",
       "\n",
       "                 created_at             location  \\\n",
       "0  2013-01-02T17:05:20.000Z  minneapolis st paul   \n",
       "1  2020-01-24T19:37:00.000Z                  NaN   \n",
       "2  2016-12-25T04:04:43.000Z                  NaN   \n",
       "3  2011-01-26T11:15:56.000Z    Kurdistan, Europe   \n",
       "4  2016-09-20T01:36:06.000Z   Enterprise, Oregon   \n",
       "\n",
       "                                   entities.url.urls  \\\n",
       "0  [{'start': 0, 'end': 23, 'url': 'https://t.co/...   \n",
       "1                                                NaN   \n",
       "2                                                NaN   \n",
       "3  [{'start': 0, 'end': 23, 'url': 'https://t.co/...   \n",
       "4  [{'start': 0, 'end': 23, 'url': 'https://t.co/...   \n",
       "\n",
       "   public_metrics.followers_count  public_metrics.following_count  \\\n",
       "0                             481                             391   \n",
       "1                             886                             339   \n",
       "2                               2                             344   \n",
       "3                           26764                            1469   \n",
       "4                            3790                            5017   \n",
       "\n",
       "   public_metrics.tweet_count  public_metrics.listed_count  \\\n",
       "0                        3368                            9   \n",
       "1                       67689                            1   \n",
       "2                         895                            0   \n",
       "3                     2973235                          234   \n",
       "4                      116301                           26   \n",
       "\n",
       "                           entities.description.urls  \\\n",
       "0                                                NaN   \n",
       "1  [{'start': 0, 'end': 23, 'url': 'https://t.co/...   \n",
       "2                                                NaN   \n",
       "3                                                NaN   \n",
       "4                                                NaN   \n",
       "\n",
       "                       entities.description.hashtags  \\\n",
       "0                                                NaN   \n",
       "1                                                NaN   \n",
       "2                                                NaN   \n",
       "3  [{'start': 47, 'end': 55, 'tag': 'Kurdish'}, {...   \n",
       "4                                                NaN   \n",
       "\n",
       "  entities.description.mentions withheld.country_codes  \\\n",
       "0                           NaN                    NaN   \n",
       "1                           NaN                    NaN   \n",
       "2                           NaN                    NaN   \n",
       "3                           NaN                    NaN   \n",
       "4                           NaN                    NaN   \n",
       "\n",
       "  entities.description.cashtags withheld.scope  \n",
       "0                           NaN            NaN  \n",
       "1                           NaN            NaN  \n",
       "2                           NaN            NaN  \n",
       "3                           NaN            NaN  \n",
       "4                           NaN            NaN  "
      ]
     },
     "execution_count": 17,
     "metadata": {},
     "output_type": "execute_result"
    }
   ],
   "source": [
    "# Convert json file into pandas dataframe\n",
    "df_users = pd.json_normalize(data[\"users\"])\n",
    "df_users.head()"
   ]
  },
  {
   "cell_type": "code",
   "execution_count": 18,
   "metadata": {},
   "outputs": [
    {
     "data": {
      "text/plain": [
       "(11399491, 19)"
      ]
     },
     "execution_count": 18,
     "metadata": {},
     "output_type": "execute_result"
    }
   ],
   "source": [
    "df_users.shape"
   ]
  },
  {
   "cell_type": "code",
   "execution_count": 19,
   "metadata": {},
   "outputs": [],
   "source": [
    "# Remove duplicate users\n",
    "df_users_no_dups = df_users.drop_duplicates(subset=\"id\")"
   ]
  },
  {
   "cell_type": "code",
   "execution_count": 20,
   "metadata": {},
   "outputs": [
    {
     "data": {
      "text/plain": [
       "(2923437, 19)"
      ]
     },
     "execution_count": 20,
     "metadata": {},
     "output_type": "execute_result"
    }
   ],
   "source": [
    "df_users_no_dups.shape"
   ]
  },
  {
   "cell_type": "code",
   "execution_count": 21,
   "metadata": {
    "scrolled": true
   },
   "outputs": [
    {
     "name": "stderr",
     "output_type": "stream",
     "text": [
      "C:\\ProgramData\\Anaconda3\\lib\\site-packages\\pandas\\core\\frame.py:4170: SettingWithCopyWarning: \n",
      "A value is trying to be set on a copy of a slice from a DataFrame\n",
      "\n",
      "See the caveats in the documentation: https://pandas.pydata.org/pandas-docs/stable/user_guide/indexing.html#returning-a-view-versus-a-copy\n",
      "  errors=errors,\n"
     ]
    }
   ],
   "source": [
    "# Drop irrelevant columns\n",
    "df_users_no_dups.drop(['entities.description.hashtags','entities.url.urls', 'entities.description.urls',\n",
    "                       'entities.description.mentions', 'entities.description.cashtags', 'withheld.country_codes'],\n",
    "                       axis=1, inplace=True)"
   ]
  },
  {
   "cell_type": "code",
   "execution_count": 22,
   "metadata": {},
   "outputs": [],
   "source": [
    "# Store file in csv format\n",
    "df_users_no_dups.to_csv(r\"C:\\Users\\jawo19ad\\Dropbox (CBS)\\Master thesis data\\df_users.csv\")"
   ]
  },
  {
   "cell_type": "markdown",
   "metadata": {},
   "source": [
    "# Creation of df_tweets"
   ]
  },
  {
   "cell_type": "code",
   "execution_count": null,
   "metadata": {},
   "outputs": [],
   "source": [
    "# Load the json file containing the tweets\n",
    "with open(r'C:\\Users\\jawo19ad\\Dropbox (CBS)\\Master thesis data\\all_tweets_032020_042021.json', 'r') as f:\n",
    "    data = json.load(f)"
   ]
  },
  {
   "cell_type": "code",
   "execution_count": null,
   "metadata": {
    "scrolled": true
   },
   "outputs": [],
   "source": [
    "# Convert json file into pandas dataframe\n",
    "df_tweets = pd.json_normalize(data[\"data\"])\n",
    "df_tweets.head()"
   ]
  },
  {
   "cell_type": "code",
   "execution_count": null,
   "metadata": {},
   "outputs": [],
   "source": [
    "#df_entities = pd.DataFrame(columns=[\"id\",\"hashtags\",\"mentions\",\"annotations\"])\n",
    "entities = list()\n",
    "for tweet in tqdm(data[\"data\"]):\n",
    "    \n",
    "    tweet_id = tweet[\"id\"]\n",
    "    \n",
    "    try:\n",
    "        hashtags = [hashtag[\"tag\"].lower() for hashtag in tweet[\"entities\"][\"hashtags\"]]\n",
    "    except KeyError:\n",
    "        hashtags = None\n",
    "    \n",
    "    try:\n",
    "        mentions = [mention[\"username\"].lower() for mention in tweet[\"entities\"][\"mentions\"]]\n",
    "    except KeyError:\n",
    "        mentions = None\n",
    "        \n",
    "    try:\n",
    "        annotations = [annotation[\"normalized_text\"].lower() for annotation in tweet[\"entities\"][\"annotations\"]]\n",
    "    except KeyError:\n",
    "        annotations = None\n",
    "        \n",
    "    entities.append([tweet_id,hashtags,mentions,annotations])\n",
    "    \n",
    "    #entities = pd.DataFrame([[tweet_id,hashtags,mentions, annotations]], columns=[\"id\",\"hashtags\",\"mentions\", \"annotations\"])\n",
    "    #df_entities = df_entities.append(entities, ignore_index=True)"
   ]
  },
  {
   "cell_type": "code",
   "execution_count": null,
   "metadata": {},
   "outputs": [],
   "source": [
    "df_entities = pd.DataFrame(entities,columns=[\"id\",\"hashtags\",\"mentions\",\"annotations\"])\n",
    "df_entities.head()"
   ]
  },
  {
   "cell_type": "code",
   "execution_count": null,
   "metadata": {},
   "outputs": [],
   "source": [
    "# Merge entities into df_tweets\n",
    "df_tweets_with_entities = pd.merge(left=df_tweets,\n",
    "                                   right=df_entities,\n",
    "                                   left_on=\"id\",\n",
    "                                   right_on=\"id\",\n",
    "                                   how=\"left\")"
   ]
  },
  {
   "cell_type": "code",
   "execution_count": null,
   "metadata": {},
   "outputs": [],
   "source": [
    "# Drop columns that are not needed\n",
    "df_tweets_with_entities.drop(['entities.mentions', 'entities.hashtags', 'entities.urls','entities.annotations',\n",
    "                              'in_reply_to_user_id', 'referenced_tweets', 'geo.place_id', 'geo.coordinates.type',\n",
    "                              'geo.coordinates.coordinates', 'withheld.copyright', 'withheld.country_codes', 'entities.cashtags'],\n",
    "                              axis=1, inplace=True)"
   ]
  },
  {
   "cell_type": "code",
   "execution_count": null,
   "metadata": {},
   "outputs": [],
   "source": [
    "# Rename columns\n",
    "df_tweets_with_entities = df_tweets_with_entities.rename(columns={'public_metrics.retweet_count': 'retweet_count',\n",
    "                                                                  'public_metrics.reply_count': 'reply_count',\n",
    "                                                                  'public_metrics.like_count': 'like_count',\n",
    "                                                                  'public_metrics.quote_count': 'quote_count'})"
   ]
  },
  {
   "cell_type": "code",
   "execution_count": null,
   "metadata": {},
   "outputs": [],
   "source": [
    "# Export file as csv\n",
    "df_tweets_with_entities.to_csv(r\"C:\\Users\\jawo19ad\\Dropbox (CBS)\\Master thesis data\\df_tweets.csv\")"
   ]
  }
 ],
 "metadata": {
  "kernelspec": {
   "display_name": "Python 3",
   "language": "python",
   "name": "python3"
  },
  "language_info": {
   "codemirror_mode": {
    "name": "ipython",
    "version": 3
   },
   "file_extension": ".py",
   "mimetype": "text/x-python",
   "name": "python",
   "nbconvert_exporter": "python",
   "pygments_lexer": "ipython3",
   "version": "3.7.9"
  }
 },
 "nbformat": 4,
 "nbformat_minor": 4
}
