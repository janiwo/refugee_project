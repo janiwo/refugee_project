{
 "cells": [
  {
   "cell_type": "markdown",
   "metadata": {},
   "source": [
    "# File Consolidation"
   ]
  },
  {
   "cell_type": "code",
   "execution_count": 9,
   "metadata": {},
   "outputs": [],
   "source": [
    "# Import libraries\n",
    "\n",
    "import pandas as pd\n",
    "import numpy as np\n",
    "import os\n",
    "import glob\n",
    "import json\n",
    "\n",
    "from tqdm import tqdm\n",
    "\n",
    "from collections import defaultdict"
   ]
  },
  {
   "cell_type": "code",
   "execution_count": 10,
   "metadata": {},
   "outputs": [],
   "source": [
    "# Navigate to file folder and retrieve relevant files\n",
    "all_files = glob.glob(r\"C:\\Users\\jawo19ad\\Dropbox (CBS)\\Master thesis data\\Twitter Fetch\\*.txt\")"
   ]
  },
  {
   "cell_type": "code",
   "execution_count": 11,
   "metadata": {},
   "outputs": [],
   "source": [
    "def load_full_json(file):\n",
    "    \n",
    "    # Create empty dictionary where values are stored\n",
    "    json_complete = {\"data\":list(),\"users\":list()}\n",
    "    \n",
    "    # Open the json file\n",
    "    with open(file, \"r\") as json_file:\n",
    "        \n",
    "        # Iterate through json file and store information at appropriate dict key\n",
    "        for line in json_file:\n",
    "            data = json.loads(line)\n",
    "            json_complete[\"data\"].extend(data[\"data\"])\n",
    "            json_complete[\"users\"].extend(data[\"includes\"][\"users\"])\n",
    "    \n",
    "    return json_complete"
   ]
  },
  {
   "cell_type": "code",
   "execution_count": null,
   "metadata": {},
   "outputs": [
    {
     "name": "stderr",
     "output_type": "stream",
     "text": [
      " 54%|█████▍    | 14/26 [08:13<06:14, 31.24s/it]"
     ]
    }
   ],
   "source": [
    "json_complete = {\"data\":list(),\"users\":list()}\n",
    "tweets_complete = {\"data\":list()}\n",
    "users_complete = {\"users\":list()}\n",
    "\n",
    "\n",
    "for file in tqdm(all_files):\n",
    "    json_file = load_full_json(file)\n",
    "    #print(len(json_file[\"data\"]), len(json_file[\"users\"]))\n",
    "    tweets_complete[\"data\"].extend(json_file[\"data\"])\n",
    "    users_complete[\"users\"].extend(json_file[\"users\"])"
   ]
  },
  {
   "cell_type": "code",
   "execution_count": null,
   "metadata": {},
   "outputs": [],
   "source": [
    "len(tweets_complete[\"data\"])"
   ]
  },
  {
   "cell_type": "code",
   "execution_count": null,
   "metadata": {},
   "outputs": [],
   "source": [
    "len(users_complete[\"users\"])"
   ]
  },
  {
   "cell_type": "code",
   "execution_count": null,
   "metadata": {},
   "outputs": [],
   "source": [
    "# Store tweets file\n",
    "with open(r'C:\\Users\\jawo19ad\\Dropbox (CBS)\\Master thesis data\\all_tweets_012020_042021.json', 'w') as f:\n",
    "    json.dump(tweets_complete, f)"
   ]
  },
  {
   "cell_type": "code",
   "execution_count": null,
   "metadata": {},
   "outputs": [],
   "source": [
    "# Store users file\n",
    "with open(r'C:\\Users\\jawo19ad\\Dropbox (CBS)\\Master thesis data\\all_users_012020_042021.json', 'w') as f:\n",
    "    json.dump(users_complete, f)"
   ]
  },
  {
   "cell_type": "markdown",
   "metadata": {},
   "source": [
    "# Creation of df_user"
   ]
  },
  {
   "cell_type": "code",
   "execution_count": null,
   "metadata": {},
   "outputs": [],
   "source": [
    "# Load the json file containing the users\n",
    "with open(r'C:\\Users\\jawo19ad\\Dropbox (CBS)\\Master thesis data\\all_users_032020_042021.json', 'r') as f:\n",
    "    data = json.load(f)"
   ]
  },
  {
   "cell_type": "code",
   "execution_count": null,
   "metadata": {
    "scrolled": true
   },
   "outputs": [],
   "source": [
    "# Convert json file into pandas dataframe\n",
    "df_users = pd.json_normalize(data[\"users\"])\n",
    "df_users.head()"
   ]
  },
  {
   "cell_type": "code",
   "execution_count": null,
   "metadata": {},
   "outputs": [],
   "source": [
    "df_users.shape"
   ]
  },
  {
   "cell_type": "code",
   "execution_count": null,
   "metadata": {},
   "outputs": [],
   "source": [
    "# Remove duplicate users\n",
    "df_users_no_dups = df_users.drop_duplicates(subset=\"id\")"
   ]
  },
  {
   "cell_type": "code",
   "execution_count": null,
   "metadata": {},
   "outputs": [],
   "source": [
    "df_users_no_dups.shape"
   ]
  },
  {
   "cell_type": "code",
   "execution_count": null,
   "metadata": {
    "scrolled": true
   },
   "outputs": [],
   "source": [
    "# Drop irrelevant columns\n",
    "df_users_no_dups.drop(['entities.description.hashtags','entities.url.urls', 'entities.description.urls',\n",
    "                       'entities.description.mentions', 'entities.description.cashtags', 'withheld.country_codes'],\n",
    "                       axis=1, inplace=True)"
   ]
  },
  {
   "cell_type": "code",
   "execution_count": null,
   "metadata": {},
   "outputs": [],
   "source": [
    "# Store file in csv format\n",
    "df_users_no_dups.to_csv(r\"C:\\Users\\jawo19ad\\Dropbox (CBS)\\Master thesis data\\df_users.csv\")"
   ]
  },
  {
   "cell_type": "markdown",
   "metadata": {},
   "source": [
    "# Creation of df_tweets"
   ]
  },
  {
   "cell_type": "code",
   "execution_count": null,
   "metadata": {},
   "outputs": [],
   "source": [
    "# Load the json file containing the tweets\n",
    "with open(r'C:\\Users\\jawo19ad\\Dropbox (CBS)\\Master thesis data\\all_tweets_032020_042021.json', 'r') as f:\n",
    "    data = json.load(f)"
   ]
  },
  {
   "cell_type": "code",
   "execution_count": null,
   "metadata": {
    "scrolled": true
   },
   "outputs": [],
   "source": [
    "# Convert json file into pandas dataframe\n",
    "df_tweets = pd.json_normalize(data[\"data\"])\n",
    "df_tweets.head()"
   ]
  },
  {
   "cell_type": "code",
   "execution_count": null,
   "metadata": {},
   "outputs": [],
   "source": [
    "#this stuff takes forever\n",
    "#df_entities = pd.DataFrame(columns=[\"id\",\"hashtags\",\"mentions\",\"annotations\"])\n",
    "entities = list()\n",
    "for tweet in tqdm(data[\"data\"]):\n",
    "    \n",
    "    tweet_id = tweet[\"id\"]\n",
    "    \n",
    "    try:\n",
    "        hashtags = [hashtag[\"tag\"].lower() for hashtag in tweet[\"entities\"][\"hashtags\"]]\n",
    "    except KeyError:\n",
    "        hashtags = None\n",
    "    \n",
    "    try:\n",
    "        mentions = [mention[\"username\"].lower() for mention in tweet[\"entities\"][\"mentions\"]]\n",
    "    except KeyError:\n",
    "        mentions = None\n",
    "        \n",
    "    try:\n",
    "        annotations = [annotation[\"normalized_text\"].lower() for annotation in tweet[\"entities\"][\"annotations\"]]\n",
    "    except KeyError:\n",
    "        annotations = None\n",
    "        \n",
    "    entities.append([tweet_id,hashtags,mentions,annotations])\n",
    "    \n",
    "    #entities = pd.DataFrame([[tweet_id,hashtags,mentions, annotations]], columns=[\"id\",\"hashtags\",\"mentions\", \"annotations\"])\n",
    "    #df_entities = df_entities.append(entities, ignore_index=True)"
   ]
  },
  {
   "cell_type": "code",
   "execution_count": null,
   "metadata": {},
   "outputs": [],
   "source": [
    "df_entities = pd.DataFrame(entities,columns=[\"id\",\"hashtags\",\"mentions\",\"annotations\"])\n",
    "df_entities.head()"
   ]
  },
  {
   "cell_type": "code",
   "execution_count": null,
   "metadata": {},
   "outputs": [],
   "source": [
    "# Merge entities into df_tweets\n",
    "df_tweets_with_entities = pd.merge(left=df_tweets,\n",
    "                                   right=df_entities,\n",
    "                                   left_on=\"id\",\n",
    "                                   right_on=\"id\",\n",
    "                                   how=\"left\")"
   ]
  },
  {
   "cell_type": "code",
   "execution_count": null,
   "metadata": {},
   "outputs": [],
   "source": [
    "# Drop columns that are not needed\n",
    "df_tweets_with_entities.drop(['entities.mentions', 'entities.hashtags', 'entities.urls','entities.annotations',\n",
    "                              'in_reply_to_user_id', 'referenced_tweets', 'geo.place_id', 'geo.coordinates.type',\n",
    "                              'geo.coordinates.coordinates', 'withheld.copyright', 'withheld.country_codes', 'entities.cashtags'],\n",
    "                              axis=1, inplace=True)"
   ]
  },
  {
   "cell_type": "code",
   "execution_count": null,
   "metadata": {},
   "outputs": [],
   "source": [
    "# Rename columns\n",
    "df_tweets_with_entities = df_tweets_with_entities.rename(columns={'public_metrics.retweet_count': 'retweet_count',\n",
    "                                                                  'public_metrics.reply_count': 'reply_count',\n",
    "                                                                  'public_metrics.like_count': 'like_count',\n",
    "                                                                  'public_metrics.quote_count': 'quote_count'})"
   ]
  },
  {
   "cell_type": "code",
   "execution_count": null,
   "metadata": {},
   "outputs": [],
   "source": [
    "df_tweets_with_entities.head()"
   ]
  },
  {
   "cell_type": "code",
   "execution_count": null,
   "metadata": {},
   "outputs": [],
   "source": [
    "df_tweets_with_entities.shape"
   ]
  },
  {
   "cell_type": "code",
   "execution_count": null,
   "metadata": {},
   "outputs": [],
   "source": [
    "# Export file as csv\n",
    "df_tweets_with_entities.to_csv(r\"C:\\Users\\jawo19ad\\Dropbox (CBS)\\Master thesis data\\df_tweets.csv\")"
   ]
  }
 ],
 "metadata": {
  "kernelspec": {
   "display_name": "Python 3",
   "language": "python",
   "name": "python3"
  },
  "language_info": {
   "codemirror_mode": {
    "name": "ipython",
    "version": 3
   },
   "file_extension": ".py",
   "mimetype": "text/x-python",
   "name": "python",
   "nbconvert_exporter": "python",
   "pygments_lexer": "ipython3",
   "version": "3.7.9"
  }
 },
 "nbformat": 4,
 "nbformat_minor": 4
}
