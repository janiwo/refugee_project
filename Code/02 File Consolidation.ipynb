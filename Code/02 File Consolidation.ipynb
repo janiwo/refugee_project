{
 "cells": [
  {
   "cell_type": "markdown",
   "metadata": {},
   "source": [
    "# File Consolidation"
   ]
  },
  {
   "cell_type": "code",
   "execution_count": 1,
   "metadata": {},
   "outputs": [],
   "source": [
    "# Import libraries\n",
    "\n",
    "import pandas as pd\n",
    "import numpy as np\n",
    "import os\n",
    "import glob\n",
    "import json\n",
    "\n",
    "from tqdm import tqdm\n",
    "\n",
    "from collections import defaultdict"
   ]
  },
  {
   "cell_type": "code",
   "execution_count": 2,
   "metadata": {},
   "outputs": [],
   "source": [
    "# Navigate to file folder and retrieve relevant files\n",
    "all_files = glob.glob(r\"C:\\Users\\jawo19ad\\Dropbox (CBS)\\Master thesis data\\Twitter Fetch\\*.txt\")"
   ]
  },
  {
   "cell_type": "code",
   "execution_count": 5,
   "metadata": {},
   "outputs": [],
   "source": [
    "def load_full_json(file):\n",
    "    \n",
    "    # Create empty dictionary where values are stored\n",
    "    json_complete = {\"data\":list(),\"users\":list()}\n",
    "    \n",
    "    # Open the json file\n",
    "    with open(file, \"r\") as json_file:\n",
    "        \n",
    "        # Iterate through json file and store information at appropriate dict key\n",
    "        for line in json_file:\n",
    "            data = json.loads(line)\n",
    "            json_complete[\"data\"].extend(data[\"data\"])\n",
    "            json_complete[\"users\"].extend(data[\"includes\"][\"users\"])\n",
    "    \n",
    "    return json_complete"
   ]
  },
  {
   "cell_type": "code",
   "execution_count": 6,
   "metadata": {},
   "outputs": [
    {
     "name": "stderr",
     "output_type": "stream",
     "text": [
      "100%|██████████| 25/25 [12:04<00:00, 28.97s/it]\n"
     ]
    }
   ],
   "source": [
    "json_complete = {\"data\":list(),\"users\":list()}\n",
    "tweets_complete = {\"data\":list()}\n",
    "users_complete = {\"users\":list()}\n",
    "\n",
    "\n",
    "for file in tqdm(all_files):\n",
    "    json_file = load_full_json(file)\n",
    "    #print(len(json_file[\"data\"]), len(json_file[\"users\"]))\n",
    "    tweets_complete[\"data\"].extend(json_file[\"data\"])\n",
    "    users_complete[\"users\"].extend(json_file[\"users\"])"
   ]
  },
  {
   "cell_type": "code",
   "execution_count": 7,
   "metadata": {},
   "outputs": [
    {
     "data": {
      "text/plain": [
       "11850723"
      ]
     },
     "execution_count": 7,
     "metadata": {},
     "output_type": "execute_result"
    }
   ],
   "source": [
    "len(tweets_complete[\"data\"])"
   ]
  },
  {
   "cell_type": "code",
   "execution_count": 8,
   "metadata": {},
   "outputs": [
    {
     "data": {
      "text/plain": [
       "10620255"
      ]
     },
     "execution_count": 8,
     "metadata": {},
     "output_type": "execute_result"
    }
   ],
   "source": [
    "len(users_complete[\"users\"])"
   ]
  },
  {
   "cell_type": "code",
   "execution_count": 9,
   "metadata": {},
   "outputs": [],
   "source": [
    "# Store tweets file\n",
    "with open(r'C:\\Users\\jawo19ad\\Dropbox (CBS)\\Master thesis data\\all_tweets_012020_042021.json', 'w') as f:\n",
    "    json.dump(tweets_complete, f)"
   ]
  },
  {
   "cell_type": "code",
   "execution_count": 10,
   "metadata": {},
   "outputs": [],
   "source": [
    "# Store users file\n",
    "with open(r'C:\\Users\\jawo19ad\\Dropbox (CBS)\\Master thesis data\\all_users_012020_042021.json', 'w') as f:\n",
    "    json.dump(users_complete, f)"
   ]
  },
  {
   "cell_type": "markdown",
   "metadata": {},
   "source": [
    "# Creation of df_user"
   ]
  },
  {
   "cell_type": "code",
   "execution_count": null,
   "metadata": {},
   "outputs": [],
   "source": [
    "# Load the json file containing the users\n",
    "with open(r'C:\\Users\\jawo19ad\\Dropbox (CBS)\\Master thesis data\\all_users_032020_042021.json', 'r') as f:\n",
    "    data = json.load(f)"
   ]
  },
  {
   "cell_type": "code",
   "execution_count": null,
   "metadata": {
    "scrolled": true
   },
   "outputs": [],
   "source": [
    "# Convert json file into pandas dataframe\n",
    "df_users = pd.json_normalize(data[\"users\"])\n",
    "df_users.head()"
   ]
  },
  {
   "cell_type": "code",
   "execution_count": null,
   "metadata": {},
   "outputs": [],
   "source": [
    "df_users.shape"
   ]
  },
  {
   "cell_type": "code",
   "execution_count": null,
   "metadata": {},
   "outputs": [],
   "source": [
    "# Remove duplicate users\n",
    "df_users_no_dups = df_users.drop_duplicates(subset=\"id\")"
   ]
  },
  {
   "cell_type": "code",
   "execution_count": null,
   "metadata": {},
   "outputs": [],
   "source": [
    "df_users_no_dups.shape"
   ]
  },
  {
   "cell_type": "code",
   "execution_count": null,
   "metadata": {
    "scrolled": true
   },
   "outputs": [],
   "source": [
    "# Drop irrelevant columns\n",
    "df_users_no_dups.drop(['entities.description.hashtags','entities.url.urls', 'entities.description.urls',\n",
    "                       'entities.description.mentions', 'entities.description.cashtags', 'withheld.country_codes'],\n",
    "                       axis=1, inplace=True)"
   ]
  },
  {
   "cell_type": "code",
   "execution_count": null,
   "metadata": {},
   "outputs": [],
   "source": [
    "# Store file in csv format\n",
    "df_users_no_dups.to_csv(r\"C:\\Users\\jawo19ad\\Dropbox (CBS)\\Master thesis data\\df_users.csv\")"
   ]
  },
  {
   "cell_type": "markdown",
   "metadata": {},
   "source": [
    "# Creation of df_tweets"
   ]
  },
  {
   "cell_type": "code",
   "execution_count": 4,
   "metadata": {},
   "outputs": [],
   "source": [
    "# Load the json file containing the tweets\n",
    "with open(r'C:\\Users\\jawo19ad\\Dropbox (CBS)\\Master thesis data\\all_tweets_032020_042021.json', 'r') as f:\n",
    "    data = json.load(f)"
   ]
  },
  {
   "cell_type": "code",
   "execution_count": 5,
   "metadata": {
    "scrolled": true
   },
   "outputs": [
    {
     "data": {
      "text/html": [
       "<div>\n",
       "<style scoped>\n",
       "    .dataframe tbody tr th:only-of-type {\n",
       "        vertical-align: middle;\n",
       "    }\n",
       "\n",
       "    .dataframe tbody tr th {\n",
       "        vertical-align: top;\n",
       "    }\n",
       "\n",
       "    .dataframe thead th {\n",
       "        text-align: right;\n",
       "    }\n",
       "</style>\n",
       "<table border=\"1\" class=\"dataframe\">\n",
       "  <thead>\n",
       "    <tr style=\"text-align: right;\">\n",
       "      <th></th>\n",
       "      <th>source</th>\n",
       "      <th>text</th>\n",
       "      <th>lang</th>\n",
       "      <th>id</th>\n",
       "      <th>created_at</th>\n",
       "      <th>author_id</th>\n",
       "      <th>entities.mentions</th>\n",
       "      <th>entities.hashtags</th>\n",
       "      <th>entities.urls</th>\n",
       "      <th>public_metrics.retweet_count</th>\n",
       "      <th>...</th>\n",
       "      <th>entities.annotations</th>\n",
       "      <th>in_reply_to_user_id</th>\n",
       "      <th>referenced_tweets</th>\n",
       "      <th>geo.place_id</th>\n",
       "      <th>geo.coordinates.type</th>\n",
       "      <th>geo.coordinates.coordinates</th>\n",
       "      <th>withheld.copyright</th>\n",
       "      <th>withheld.country_codes</th>\n",
       "      <th>entities.cashtags</th>\n",
       "      <th>withheld.scope</th>\n",
       "    </tr>\n",
       "  </thead>\n",
       "  <tbody>\n",
       "    <tr>\n",
       "      <th>0</th>\n",
       "      <td>Twitter for Android</td>\n",
       "      <td>There are too many reliable reports and first-...</td>\n",
       "      <td>en</td>\n",
       "      <td>1350390669043499013</td>\n",
       "      <td>2021-01-16T10:33:19.000Z</td>\n",
       "      <td>1327278886380515328</td>\n",
       "      <td>[{'start': 178, 'end': 187, 'username': 'JoeBi...</td>\n",
       "      <td>[{'start': 164, 'end': 172, 'tag': 'Eritrea'},...</td>\n",
       "      <td>[{'start': 250, 'end': 273, 'url': 'https://t....</td>\n",
       "      <td>1</td>\n",
       "      <td>...</td>\n",
       "      <td>NaN</td>\n",
       "      <td>NaN</td>\n",
       "      <td>NaN</td>\n",
       "      <td>NaN</td>\n",
       "      <td>NaN</td>\n",
       "      <td>NaN</td>\n",
       "      <td>NaN</td>\n",
       "      <td>NaN</td>\n",
       "      <td>NaN</td>\n",
       "      <td>NaN</td>\n",
       "    </tr>\n",
       "    <tr>\n",
       "      <th>1</th>\n",
       "      <td>Twitter Web App</td>\n",
       "      <td>Despite repeated requests, @Refugees and other...</td>\n",
       "      <td>en</td>\n",
       "      <td>1350390657576300544</td>\n",
       "      <td>2021-01-16T10:33:16.000Z</td>\n",
       "      <td>1323903491044188161</td>\n",
       "      <td>[{'start': 27, 'end': 36, 'username': 'Refugee...</td>\n",
       "      <td>[{'start': 166, 'end': 173, 'tag': 'Tigray'}, ...</td>\n",
       "      <td>[{'start': 252, 'end': 275, 'url': 'https://t....</td>\n",
       "      <td>0</td>\n",
       "      <td>...</td>\n",
       "      <td>[{'start': 101, 'end': 108, 'probability': 0.3...</td>\n",
       "      <td>NaN</td>\n",
       "      <td>NaN</td>\n",
       "      <td>NaN</td>\n",
       "      <td>NaN</td>\n",
       "      <td>NaN</td>\n",
       "      <td>NaN</td>\n",
       "      <td>NaN</td>\n",
       "      <td>NaN</td>\n",
       "      <td>NaN</td>\n",
       "    </tr>\n",
       "    <tr>\n",
       "      <th>2</th>\n",
       "      <td>Twitter for Android</td>\n",
       "      <td>“When the air bombing and the attacks began, I...</td>\n",
       "      <td>en</td>\n",
       "      <td>1350390643986599937</td>\n",
       "      <td>2021-01-16T10:33:13.000Z</td>\n",
       "      <td>1324130252008816640</td>\n",
       "      <td>[{'start': 190, 'end': 199, 'username': 'JoeBi...</td>\n",
       "      <td>[{'start': 231, 'end': 247, 'tag': 'BidenTakeA...</td>\n",
       "      <td>[{'start': 248, 'end': 271, 'url': 'https://t....</td>\n",
       "      <td>0</td>\n",
       "      <td>...</td>\n",
       "      <td>NaN</td>\n",
       "      <td>NaN</td>\n",
       "      <td>NaN</td>\n",
       "      <td>NaN</td>\n",
       "      <td>NaN</td>\n",
       "      <td>NaN</td>\n",
       "      <td>NaN</td>\n",
       "      <td>NaN</td>\n",
       "      <td>NaN</td>\n",
       "      <td>NaN</td>\n",
       "    </tr>\n",
       "    <tr>\n",
       "      <th>3</th>\n",
       "      <td>Twitter Web App</td>\n",
       "      <td>\"ongoing insecurity &amp;amp; allegations of grave...</td>\n",
       "      <td>en</td>\n",
       "      <td>1350390618695020546</td>\n",
       "      <td>2021-01-16T10:33:07.000Z</td>\n",
       "      <td>1112761003</td>\n",
       "      <td>[{'start': 144, 'end': 147, 'username': 'UN'},...</td>\n",
       "      <td>[{'start': 200, 'end': 215, 'tag': 'TigrayGeno...</td>\n",
       "      <td>[{'start': 246, 'end': 269, 'url': 'https://t....</td>\n",
       "      <td>0</td>\n",
       "      <td>...</td>\n",
       "      <td>[{'start': 127, 'end': 133, 'probability': 0.8...</td>\n",
       "      <td>NaN</td>\n",
       "      <td>NaN</td>\n",
       "      <td>NaN</td>\n",
       "      <td>NaN</td>\n",
       "      <td>NaN</td>\n",
       "      <td>NaN</td>\n",
       "      <td>NaN</td>\n",
       "      <td>NaN</td>\n",
       "      <td>NaN</td>\n",
       "    </tr>\n",
       "    <tr>\n",
       "      <th>4</th>\n",
       "      <td>Twitter for iPhone</td>\n",
       "      <td>MOTHER \\n\\nMother, I do not cry who cries, \\nm...</td>\n",
       "      <td>en</td>\n",
       "      <td>1350390607928295424</td>\n",
       "      <td>2021-01-16T10:33:04.000Z</td>\n",
       "      <td>1212824799107375105</td>\n",
       "      <td>NaN</td>\n",
       "      <td>NaN</td>\n",
       "      <td>NaN</td>\n",
       "      <td>0</td>\n",
       "      <td>...</td>\n",
       "      <td>NaN</td>\n",
       "      <td>1212824799107375105</td>\n",
       "      <td>[{'type': 'replied_to', 'id': '135038931103271...</td>\n",
       "      <td>NaN</td>\n",
       "      <td>NaN</td>\n",
       "      <td>NaN</td>\n",
       "      <td>NaN</td>\n",
       "      <td>NaN</td>\n",
       "      <td>NaN</td>\n",
       "      <td>NaN</td>\n",
       "    </tr>\n",
       "  </tbody>\n",
       "</table>\n",
       "<p>5 rows × 23 columns</p>\n",
       "</div>"
      ],
      "text/plain": [
       "                source                                               text  \\\n",
       "0  Twitter for Android  There are too many reliable reports and first-...   \n",
       "1      Twitter Web App  Despite repeated requests, @Refugees and other...   \n",
       "2  Twitter for Android  “When the air bombing and the attacks began, I...   \n",
       "3      Twitter Web App  \"ongoing insecurity &amp; allegations of grave...   \n",
       "4   Twitter for iPhone  MOTHER \\n\\nMother, I do not cry who cries, \\nm...   \n",
       "\n",
       "  lang                   id                created_at            author_id  \\\n",
       "0   en  1350390669043499013  2021-01-16T10:33:19.000Z  1327278886380515328   \n",
       "1   en  1350390657576300544  2021-01-16T10:33:16.000Z  1323903491044188161   \n",
       "2   en  1350390643986599937  2021-01-16T10:33:13.000Z  1324130252008816640   \n",
       "3   en  1350390618695020546  2021-01-16T10:33:07.000Z           1112761003   \n",
       "4   en  1350390607928295424  2021-01-16T10:33:04.000Z  1212824799107375105   \n",
       "\n",
       "                                   entities.mentions  \\\n",
       "0  [{'start': 178, 'end': 187, 'username': 'JoeBi...   \n",
       "1  [{'start': 27, 'end': 36, 'username': 'Refugee...   \n",
       "2  [{'start': 190, 'end': 199, 'username': 'JoeBi...   \n",
       "3  [{'start': 144, 'end': 147, 'username': 'UN'},...   \n",
       "4                                                NaN   \n",
       "\n",
       "                                   entities.hashtags  \\\n",
       "0  [{'start': 164, 'end': 172, 'tag': 'Eritrea'},...   \n",
       "1  [{'start': 166, 'end': 173, 'tag': 'Tigray'}, ...   \n",
       "2  [{'start': 231, 'end': 247, 'tag': 'BidenTakeA...   \n",
       "3  [{'start': 200, 'end': 215, 'tag': 'TigrayGeno...   \n",
       "4                                                NaN   \n",
       "\n",
       "                                       entities.urls  \\\n",
       "0  [{'start': 250, 'end': 273, 'url': 'https://t....   \n",
       "1  [{'start': 252, 'end': 275, 'url': 'https://t....   \n",
       "2  [{'start': 248, 'end': 271, 'url': 'https://t....   \n",
       "3  [{'start': 246, 'end': 269, 'url': 'https://t....   \n",
       "4                                                NaN   \n",
       "\n",
       "   public_metrics.retweet_count  ...  \\\n",
       "0                             1  ...   \n",
       "1                             0  ...   \n",
       "2                             0  ...   \n",
       "3                             0  ...   \n",
       "4                             0  ...   \n",
       "\n",
       "                                entities.annotations  in_reply_to_user_id  \\\n",
       "0                                                NaN                  NaN   \n",
       "1  [{'start': 101, 'end': 108, 'probability': 0.3...                  NaN   \n",
       "2                                                NaN                  NaN   \n",
       "3  [{'start': 127, 'end': 133, 'probability': 0.8...                  NaN   \n",
       "4                                                NaN  1212824799107375105   \n",
       "\n",
       "                                   referenced_tweets geo.place_id  \\\n",
       "0                                                NaN          NaN   \n",
       "1                                                NaN          NaN   \n",
       "2                                                NaN          NaN   \n",
       "3                                                NaN          NaN   \n",
       "4  [{'type': 'replied_to', 'id': '135038931103271...          NaN   \n",
       "\n",
       "  geo.coordinates.type geo.coordinates.coordinates withheld.copyright  \\\n",
       "0                  NaN                         NaN                NaN   \n",
       "1                  NaN                         NaN                NaN   \n",
       "2                  NaN                         NaN                NaN   \n",
       "3                  NaN                         NaN                NaN   \n",
       "4                  NaN                         NaN                NaN   \n",
       "\n",
       "  withheld.country_codes entities.cashtags withheld.scope  \n",
       "0                    NaN               NaN            NaN  \n",
       "1                    NaN               NaN            NaN  \n",
       "2                    NaN               NaN            NaN  \n",
       "3                    NaN               NaN            NaN  \n",
       "4                    NaN               NaN            NaN  \n",
       "\n",
       "[5 rows x 23 columns]"
      ]
     },
     "execution_count": 5,
     "metadata": {},
     "output_type": "execute_result"
    }
   ],
   "source": [
    "# Convert json file into pandas dataframe\n",
    "df_tweets = pd.json_normalize(data[\"data\"])\n",
    "df_tweets.head()"
   ]
  },
  {
   "cell_type": "code",
   "execution_count": 6,
   "metadata": {},
   "outputs": [
    {
     "name": "stderr",
     "output_type": "stream",
     "text": [
      "100%|██████████| 10626442/10626442 [02:37<00:00, 67260.23it/s] \n"
     ]
    }
   ],
   "source": [
    "#this stuff takes forever\n",
    "#df_entities = pd.DataFrame(columns=[\"id\",\"hashtags\",\"mentions\",\"annotations\"])\n",
    "entities = list()\n",
    "for tweet in tqdm(data[\"data\"]):\n",
    "    \n",
    "    tweet_id = tweet[\"id\"]\n",
    "    \n",
    "    try:\n",
    "        hashtags = [hashtag[\"tag\"].lower() for hashtag in tweet[\"entities\"][\"hashtags\"]]\n",
    "    except KeyError:\n",
    "        hashtags = None\n",
    "    \n",
    "    try:\n",
    "        mentions = [mention[\"username\"].lower() for mention in tweet[\"entities\"][\"mentions\"]]\n",
    "    except KeyError:\n",
    "        mentions = None\n",
    "        \n",
    "    try:\n",
    "        annotations = [annotation[\"normalized_text\"].lower() for annotation in tweet[\"entities\"][\"annotations\"]]\n",
    "    except KeyError:\n",
    "        annotations = None\n",
    "        \n",
    "    entities.append([tweet_id,hashtags,mentions,annotations])\n",
    "    \n",
    "    #entities = pd.DataFrame([[tweet_id,hashtags,mentions, annotations]], columns=[\"id\",\"hashtags\",\"mentions\", \"annotations\"])\n",
    "    #df_entities = df_entities.append(entities, ignore_index=True)"
   ]
  },
  {
   "cell_type": "code",
   "execution_count": 7,
   "metadata": {},
   "outputs": [
    {
     "data": {
      "text/html": [
       "<div>\n",
       "<style scoped>\n",
       "    .dataframe tbody tr th:only-of-type {\n",
       "        vertical-align: middle;\n",
       "    }\n",
       "\n",
       "    .dataframe tbody tr th {\n",
       "        vertical-align: top;\n",
       "    }\n",
       "\n",
       "    .dataframe thead th {\n",
       "        text-align: right;\n",
       "    }\n",
       "</style>\n",
       "<table border=\"1\" class=\"dataframe\">\n",
       "  <thead>\n",
       "    <tr style=\"text-align: right;\">\n",
       "      <th></th>\n",
       "      <th>id</th>\n",
       "      <th>hashtags</th>\n",
       "      <th>mentions</th>\n",
       "      <th>annotations</th>\n",
       "    </tr>\n",
       "  </thead>\n",
       "  <tbody>\n",
       "    <tr>\n",
       "      <th>0</th>\n",
       "      <td>1350390669043499013</td>\n",
       "      <td>[eritrea, bidentakeaction, stopwarontigray, ti...</td>\n",
       "      <td>[joebiden]</td>\n",
       "      <td>None</td>\n",
       "    </tr>\n",
       "    <tr>\n",
       "      <th>1</th>\n",
       "      <td>1350390657576300544</td>\n",
       "      <td>[tigray, stopwarontigray, tigraygenocide, bide...</td>\n",
       "      <td>[refugees, un, joebiden]</td>\n",
       "      <td>[shimelba, hitsats]</td>\n",
       "    </tr>\n",
       "    <tr>\n",
       "      <th>2</th>\n",
       "      <td>1350390643986599937</td>\n",
       "      <td>[bidentakeaction]</td>\n",
       "      <td>[joebiden, kamalaharris, yohannesabraham]</td>\n",
       "      <td>None</td>\n",
       "    </tr>\n",
       "    <tr>\n",
       "      <th>3</th>\n",
       "      <td>1350390618695020546</td>\n",
       "      <td>[tigraygenocide, bidenactnow, protectrefugees]</td>\n",
       "      <td>[un, joebiden, eu_commission, refugees, josepb...</td>\n",
       "      <td>[eritrea]</td>\n",
       "    </tr>\n",
       "    <tr>\n",
       "      <th>4</th>\n",
       "      <td>1350390607928295424</td>\n",
       "      <td>None</td>\n",
       "      <td>None</td>\n",
       "      <td>None</td>\n",
       "    </tr>\n",
       "  </tbody>\n",
       "</table>\n",
       "</div>"
      ],
      "text/plain": [
       "                    id                                           hashtags  \\\n",
       "0  1350390669043499013  [eritrea, bidentakeaction, stopwarontigray, ti...   \n",
       "1  1350390657576300544  [tigray, stopwarontigray, tigraygenocide, bide...   \n",
       "2  1350390643986599937                                  [bidentakeaction]   \n",
       "3  1350390618695020546     [tigraygenocide, bidenactnow, protectrefugees]   \n",
       "4  1350390607928295424                                               None   \n",
       "\n",
       "                                            mentions          annotations  \n",
       "0                                         [joebiden]                 None  \n",
       "1                           [refugees, un, joebiden]  [shimelba, hitsats]  \n",
       "2          [joebiden, kamalaharris, yohannesabraham]                 None  \n",
       "3  [un, joebiden, eu_commission, refugees, josepb...            [eritrea]  \n",
       "4                                               None                 None  "
      ]
     },
     "execution_count": 7,
     "metadata": {},
     "output_type": "execute_result"
    }
   ],
   "source": [
    "df_entities = pd.DataFrame(entities,columns=[\"id\",\"hashtags\",\"mentions\",\"annotations\"])\n",
    "df_entities.head()"
   ]
  },
  {
   "cell_type": "code",
   "execution_count": 8,
   "metadata": {},
   "outputs": [],
   "source": [
    "# Merge entities into df_tweets\n",
    "df_tweets_with_entities = pd.merge(left=df_tweets,\n",
    "                                   right=df_entities,\n",
    "                                   left_on=\"id\",\n",
    "                                   right_on=\"id\",\n",
    "                                   how=\"left\")"
   ]
  },
  {
   "cell_type": "code",
   "execution_count": 9,
   "metadata": {},
   "outputs": [],
   "source": [
    "# Drop columns that are not needed\n",
    "df_tweets_with_entities.drop(['entities.mentions', 'entities.hashtags', 'entities.urls','entities.annotations',\n",
    "                              'in_reply_to_user_id', 'referenced_tweets', 'geo.place_id', 'geo.coordinates.type',\n",
    "                              'geo.coordinates.coordinates', 'withheld.copyright', 'withheld.country_codes', 'entities.cashtags'],\n",
    "                              axis=1, inplace=True)"
   ]
  },
  {
   "cell_type": "code",
   "execution_count": 10,
   "metadata": {},
   "outputs": [],
   "source": [
    "# Rename columns\n",
    "df_tweets_with_entities = df_tweets_with_entities.rename(columns={'public_metrics.retweet_count': 'retweet_count',\n",
    "                                                                  'public_metrics.reply_count': 'reply_count',\n",
    "                                                                  'public_metrics.like_count': 'like_count',\n",
    "                                                                  'public_metrics.quote_count': 'quote_count'})"
   ]
  },
  {
   "cell_type": "code",
   "execution_count": 11,
   "metadata": {},
   "outputs": [
    {
     "data": {
      "text/html": [
       "<div>\n",
       "<style scoped>\n",
       "    .dataframe tbody tr th:only-of-type {\n",
       "        vertical-align: middle;\n",
       "    }\n",
       "\n",
       "    .dataframe tbody tr th {\n",
       "        vertical-align: top;\n",
       "    }\n",
       "\n",
       "    .dataframe thead th {\n",
       "        text-align: right;\n",
       "    }\n",
       "</style>\n",
       "<table border=\"1\" class=\"dataframe\">\n",
       "  <thead>\n",
       "    <tr style=\"text-align: right;\">\n",
       "      <th></th>\n",
       "      <th>source</th>\n",
       "      <th>text</th>\n",
       "      <th>lang</th>\n",
       "      <th>id</th>\n",
       "      <th>created_at</th>\n",
       "      <th>author_id</th>\n",
       "      <th>retweet_count</th>\n",
       "      <th>reply_count</th>\n",
       "      <th>like_count</th>\n",
       "      <th>quote_count</th>\n",
       "      <th>withheld.scope</th>\n",
       "      <th>hashtags</th>\n",
       "      <th>mentions</th>\n",
       "      <th>annotations</th>\n",
       "    </tr>\n",
       "  </thead>\n",
       "  <tbody>\n",
       "    <tr>\n",
       "      <th>0</th>\n",
       "      <td>Twitter for Android</td>\n",
       "      <td>There are too many reliable reports and first-...</td>\n",
       "      <td>en</td>\n",
       "      <td>1350390669043499013</td>\n",
       "      <td>2021-01-16T10:33:19.000Z</td>\n",
       "      <td>1327278886380515328</td>\n",
       "      <td>1</td>\n",
       "      <td>0</td>\n",
       "      <td>0</td>\n",
       "      <td>0</td>\n",
       "      <td>NaN</td>\n",
       "      <td>[eritrea, bidentakeaction, stopwarontigray, ti...</td>\n",
       "      <td>[joebiden]</td>\n",
       "      <td>None</td>\n",
       "    </tr>\n",
       "    <tr>\n",
       "      <th>1</th>\n",
       "      <td>Twitter Web App</td>\n",
       "      <td>Despite repeated requests, @Refugees and other...</td>\n",
       "      <td>en</td>\n",
       "      <td>1350390657576300544</td>\n",
       "      <td>2021-01-16T10:33:16.000Z</td>\n",
       "      <td>1323903491044188161</td>\n",
       "      <td>0</td>\n",
       "      <td>0</td>\n",
       "      <td>0</td>\n",
       "      <td>0</td>\n",
       "      <td>NaN</td>\n",
       "      <td>[tigray, stopwarontigray, tigraygenocide, bide...</td>\n",
       "      <td>[refugees, un, joebiden]</td>\n",
       "      <td>[shimelba, hitsats]</td>\n",
       "    </tr>\n",
       "    <tr>\n",
       "      <th>2</th>\n",
       "      <td>Twitter for Android</td>\n",
       "      <td>“When the air bombing and the attacks began, I...</td>\n",
       "      <td>en</td>\n",
       "      <td>1350390643986599937</td>\n",
       "      <td>2021-01-16T10:33:13.000Z</td>\n",
       "      <td>1324130252008816640</td>\n",
       "      <td>0</td>\n",
       "      <td>0</td>\n",
       "      <td>1</td>\n",
       "      <td>0</td>\n",
       "      <td>NaN</td>\n",
       "      <td>[bidentakeaction]</td>\n",
       "      <td>[joebiden, kamalaharris, yohannesabraham]</td>\n",
       "      <td>None</td>\n",
       "    </tr>\n",
       "    <tr>\n",
       "      <th>3</th>\n",
       "      <td>Twitter Web App</td>\n",
       "      <td>\"ongoing insecurity &amp;amp; allegations of grave...</td>\n",
       "      <td>en</td>\n",
       "      <td>1350390618695020546</td>\n",
       "      <td>2021-01-16T10:33:07.000Z</td>\n",
       "      <td>1112761003</td>\n",
       "      <td>0</td>\n",
       "      <td>0</td>\n",
       "      <td>0</td>\n",
       "      <td>0</td>\n",
       "      <td>NaN</td>\n",
       "      <td>[tigraygenocide, bidenactnow, protectrefugees]</td>\n",
       "      <td>[un, joebiden, eu_commission, refugees, josepb...</td>\n",
       "      <td>[eritrea]</td>\n",
       "    </tr>\n",
       "    <tr>\n",
       "      <th>4</th>\n",
       "      <td>Twitter for iPhone</td>\n",
       "      <td>MOTHER \\n\\nMother, I do not cry who cries, \\nm...</td>\n",
       "      <td>en</td>\n",
       "      <td>1350390607928295424</td>\n",
       "      <td>2021-01-16T10:33:04.000Z</td>\n",
       "      <td>1212824799107375105</td>\n",
       "      <td>0</td>\n",
       "      <td>1</td>\n",
       "      <td>0</td>\n",
       "      <td>0</td>\n",
       "      <td>NaN</td>\n",
       "      <td>None</td>\n",
       "      <td>None</td>\n",
       "      <td>None</td>\n",
       "    </tr>\n",
       "  </tbody>\n",
       "</table>\n",
       "</div>"
      ],
      "text/plain": [
       "                source                                               text  \\\n",
       "0  Twitter for Android  There are too many reliable reports and first-...   \n",
       "1      Twitter Web App  Despite repeated requests, @Refugees and other...   \n",
       "2  Twitter for Android  “When the air bombing and the attacks began, I...   \n",
       "3      Twitter Web App  \"ongoing insecurity &amp; allegations of grave...   \n",
       "4   Twitter for iPhone  MOTHER \\n\\nMother, I do not cry who cries, \\nm...   \n",
       "\n",
       "  lang                   id                created_at            author_id  \\\n",
       "0   en  1350390669043499013  2021-01-16T10:33:19.000Z  1327278886380515328   \n",
       "1   en  1350390657576300544  2021-01-16T10:33:16.000Z  1323903491044188161   \n",
       "2   en  1350390643986599937  2021-01-16T10:33:13.000Z  1324130252008816640   \n",
       "3   en  1350390618695020546  2021-01-16T10:33:07.000Z           1112761003   \n",
       "4   en  1350390607928295424  2021-01-16T10:33:04.000Z  1212824799107375105   \n",
       "\n",
       "   retweet_count  reply_count  like_count  quote_count withheld.scope  \\\n",
       "0              1            0           0            0            NaN   \n",
       "1              0            0           0            0            NaN   \n",
       "2              0            0           1            0            NaN   \n",
       "3              0            0           0            0            NaN   \n",
       "4              0            1           0            0            NaN   \n",
       "\n",
       "                                            hashtags  \\\n",
       "0  [eritrea, bidentakeaction, stopwarontigray, ti...   \n",
       "1  [tigray, stopwarontigray, tigraygenocide, bide...   \n",
       "2                                  [bidentakeaction]   \n",
       "3     [tigraygenocide, bidenactnow, protectrefugees]   \n",
       "4                                               None   \n",
       "\n",
       "                                            mentions          annotations  \n",
       "0                                         [joebiden]                 None  \n",
       "1                           [refugees, un, joebiden]  [shimelba, hitsats]  \n",
       "2          [joebiden, kamalaharris, yohannesabraham]                 None  \n",
       "3  [un, joebiden, eu_commission, refugees, josepb...            [eritrea]  \n",
       "4                                               None                 None  "
      ]
     },
     "execution_count": 11,
     "metadata": {},
     "output_type": "execute_result"
    }
   ],
   "source": [
    "df_tweets_with_entities.head()"
   ]
  },
  {
   "cell_type": "code",
   "execution_count": 12,
   "metadata": {},
   "outputs": [
    {
     "data": {
      "text/plain": [
       "(10626442, 14)"
      ]
     },
     "execution_count": 12,
     "metadata": {},
     "output_type": "execute_result"
    }
   ],
   "source": [
    "df_tweets_with_entities.shape"
   ]
  },
  {
   "cell_type": "code",
   "execution_count": 13,
   "metadata": {},
   "outputs": [],
   "source": [
    "# Export file as csv\n",
    "df_tweets_with_entities.to_csv(r\"C:\\Users\\jawo19ad\\Dropbox (CBS)\\Master thesis data\\df_tweets.csv\")"
   ]
  }
 ],
 "metadata": {
  "kernelspec": {
   "display_name": "Python 3",
   "language": "python",
   "name": "python3"
  },
  "language_info": {
   "codemirror_mode": {
    "name": "ipython",
    "version": 3
   },
   "file_extension": ".py",
   "mimetype": "text/x-python",
   "name": "python",
   "nbconvert_exporter": "python",
   "pygments_lexer": "ipython3",
   "version": "3.7.9"
  }
 },
 "nbformat": 4,
 "nbformat_minor": 4
}
