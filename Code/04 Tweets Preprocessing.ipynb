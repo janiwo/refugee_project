{
 "cells": [
  {
   "cell_type": "markdown",
   "metadata": {},
   "source": [
    "# Tweets Preprocessing"
   ]
  },
  {
   "cell_type": "code",
   "execution_count": 1,
   "metadata": {
    "scrolled": true
   },
   "outputs": [
    {
     "name": "stdout",
     "output_type": "stream",
     "text": [
      "Reading english - 1grams ...\n",
      "Reading english - 2grams ...\n"
     ]
    },
    {
     "name": "stderr",
     "output_type": "stream",
     "text": [
      "C:\\ProgramData\\Anaconda3\\lib\\site-packages\\ekphrasis\\classes\\exmanager.py:14: FutureWarning: Possible nested set at position 42\n",
      "  regexes = {k.lower(): re.compile(self.expressions[k]) for k, v in\n"
     ]
    }
   ],
   "source": [
    "# Import relevant libraries\n",
    "import pandas as pd\n",
    "import os\n",
    "import re\n",
    "from tqdm import tqdm\n",
    "\n",
    "import spacy\n",
    "nlp = spacy.load('en_core_web_sm', disable=['parser', 'tagger', 'textcat'])\n",
    "\n",
    "import candidate_extraction as cand_ex\n",
    "\n",
    "import preprocessor\n",
    "from ekphrasis.classes.tokenizer import Tokenizer\n",
    "from nltk.tokenize.treebank import TreebankWordDetokenizer \n",
    "from ekphrasis.classes.segmenter import Segmenter\n",
    "#from ekphrasis.classes.spellcorrect import SpellCorrector\n",
    "\n",
    "#more advanced tokenizer gives freedom to adjust the way tokens are split\n",
    "social_pipeline = [\"TAG\", \"EMAIL\", \"USER\", \"HASHTAG\", \"CASHTAG\", \"PHONE\", \"PERCENT\", \"NUMBER\",\"WORD\"]\n",
    "tokenizer = Tokenizer(pipeline = social_pipeline, lowercase=False).tokenize\n",
    "detokenizer = TreebankWordDetokenizer()\n",
    "\n",
    "#spell_cor = SpellCorrector(corpus=\"english\") # spell correction not used \n",
    "seg_eng = Segmenter(corpus=\"english\") \n",
    "\n",
    "# preprocessor should remove emojis and urls in the tweets\n",
    "preprocessor.set_options(preprocessor.OPT.URL, preprocessor.OPT.EMOJI)"
   ]
  },
  {
   "cell_type": "code",
   "execution_count": 7,
   "metadata": {},
   "outputs": [],
   "source": [
    "file_url = os.getcwd() + \"/../../../../\" + r\"/Dropbox (CBS)/Master thesis data/\"\n",
    "event_url = file_url + r\"Event Dataframes/\"\n",
    "event_url_raw = event_url + r\"Raw/\"\n",
    "event_url_clean = event_url + r\"Clean/\""
   ]
  },
  {
   "cell_type": "code",
   "execution_count": 30,
   "metadata": {},
   "outputs": [],
   "source": [
    "tigray_url_raw = event_url_raw + r\"df_tigray.csv\" # location of Tigray dataset\n",
    "greece_url_raw = event_url_raw + r\"df_greece.csv\" # location of Greece dataset\n",
    "rohingya_url_raw = event_url_raw + r\"df_rohingya.csv\" # location of Rohingya dataset\n",
    "channel_url_raw = event_url_raw + r\"df_channel.csv\" # Location of channel dataset\n",
    "moria_url_raw = event_url_raw + r\"df_moria.csv\" # location of Moria dataset (for testing)\n",
    "\n",
    "tigray_url_clean = event_url_clean + r\"df_tigray_clean.csv\" # location of clean Tigray dataset\n",
    "greece_url_clean = event_url_clean + r\"df_greece_clean.csv\" # location of clean Greece dataset\n",
    "rohingya_url_clean = event_url_clean + r\"df_rohingya_clean.csv\" # location clean of Rohingya dataset\n",
    "channel_url_clean = event_url_clean +r\"df_channel_clean.csv\" #Location of clean Channel dataset\n",
    "moria_url_clean = event_url_clean + r\"df_moria_clean.csv\" # location of clean Moria dataset (for testing)"
   ]
  },
  {
   "cell_type": "code",
   "execution_count": null,
   "metadata": {},
   "outputs": [],
   "source": [
    "users_url = file_url + \"/df_users.csv\"\n",
    "\n",
    "# Read the users csv\n",
    "print(\"loading users dataframe...\")\n",
    "df_users = pd.read_csv(users_url)\n",
    "\n",
    "# Drop unnecessary index column\n",
    "df_users.drop(\"Unnamed: 0\", axis=1, inplace=True)\n",
    "df_users.head()\n",
    "\n",
    "# Create dict that maps usernames to actual names\n",
    "mapping = dict(df_users[[\"username\",\"name\"]].values)\n",
    "mapping = {f'@{key}': value for key, value in mapping.items()}"
   ]
  },
  {
   "cell_type": "code",
   "execution_count": 77,
   "metadata": {},
   "outputs": [
    {
     "name": "stdout",
     "output_type": "stream",
     "text": [
      "loaded 125791 tweets!\n"
     ]
    }
   ],
   "source": [
    "def read_event_df(data_url):\n",
    "    # easy dataframe load\n",
    "    event_df = pd.read_csv(data_url, index_col=0)\n",
    "    event_df.reset_index(drop=True, inplace=True)\n",
    "    print(f'loaded {event_df.shape[0]} tweets!')\n",
    "    return event_df\n",
    "\n",
    "# pick the df \n",
    "event_df = read_event_df(rohingya_url_raw)"
   ]
  },
  {
   "cell_type": "markdown",
   "metadata": {},
   "source": [
    "## 1. Coherent sentences: Removing non-syntactic information"
   ]
  },
  {
   "cell_type": "code",
   "execution_count": 78,
   "metadata": {},
   "outputs": [],
   "source": [
    "def clean_tweet(tweet):\n",
    "    '''\n",
    "    The goal of the function is to yield coherent sentences from raw tweets (without hashtags, URLs, emojis) \n",
    "    '''\n",
    "\n",
    "    #remove emojis, links \n",
    "    tweet = preprocessor.clean(tweet)\n",
    "    \n",
    "    \n",
    "    # we are using social tokenizer from ekphrasis due to potentially improper text structure\n",
    "    tweet = tokenizer(tweet)\n",
    "    \n",
    "    #removing the irrelevant hashtags and mention using the heuristic that mentions in the beginning of the tweet \n",
    "    # and at least 2 consecutive hashtags at the end of the tweet carry no valuable information\n",
    "    try:\n",
    "        while tweet[0].startswith('@'):\n",
    "            tweet.remove(tweet[0])\n",
    "\n",
    "        if tweet[-1].startswith('@') and tweet[-2].startswith('@'):\n",
    "            while tweet[-1].startswith('@'):\n",
    "                tweet.remove(tweet[-1])\n",
    "\n",
    "        if tweet[-1].startswith('#') and tweet[-2].startswith('#'):\n",
    "            while tweet[-1].startswith('#'):\n",
    "                tweet.remove(tweet[-1])\n",
    "                \n",
    "    except IndexError:\n",
    "        pass\n",
    "\n",
    "\n",
    "    #for hashtags that may carry information, we remove the # and split the word into more if applicable\n",
    "    for word in range(len(tweet)):\n",
    "        if tweet[word].startswith('#'):\n",
    "            tweet[word] = tweet[word].replace('#','')\n",
    "            tweet[word] = seg_eng.segment(tweet[word])\n",
    "\n",
    "        # potentially correct spelling - but it is not working very well - corrects numbers to weird words\n",
    "        #tweet[word] = spell_cor.correct(tweet[word])\n",
    "\n",
    "    # instead of .join we use detokenizer in order to reconstruct the cleaned sentence in a better way\n",
    "    #sample_df[twt] =  \" \".join(tweet) \n",
    "    tweet = detokenizer.detokenize(tweet)\n",
    "    \n",
    "    \n",
    "    #  tweets that end up being empty after preprocessing will cause problems when batching, replace empty tweet with 'no_tweet_text' which we can ignore later\n",
    "    tweet = 'no_tweet_text' if len(tweet)==0 else tweet\n",
    "    return tweet"
   ]
  },
  {
   "cell_type": "code",
   "execution_count": 79,
   "metadata": {},
   "outputs": [
    {
     "name": "stderr",
     "output_type": "stream",
     "text": [
      "100%|██████████| 125791/125791 [01:11<00:00, 1763.53it/s]\n"
     ]
    }
   ],
   "source": [
    "tqdm.pandas() # allowing progress bar on .apply method (== .progress_apply)\n",
    "event_df['text_coherent'] = event_df['text'].progress_apply(clean_tweet)"
   ]
  },
  {
   "cell_type": "markdown",
   "metadata": {},
   "source": [
    "### Replace @username by screen name"
   ]
  },
  {
   "cell_type": "code",
   "execution_count": 80,
   "metadata": {},
   "outputs": [
    {
     "name": "stderr",
     "output_type": "stream",
     "text": [
      "100%|██████████| 125791/125791 [00:00<00:00, 128664.14it/s]\n"
     ]
    }
   ],
   "source": [
    "def resolve_username_to_name(text):\n",
    "    new_text = text\n",
    "    for word in text.split(\" \"):\n",
    "        if word in mapping:\n",
    "            new_text = new_text.replace(word,mapping[word])\n",
    "    return new_text\n",
    "\n",
    "#tqdm.pandas()\n",
    "event_df['text_coherent'] = event_df['text_coherent'].progress_apply(resolve_username_to_name)"
   ]
  },
  {
   "cell_type": "code",
   "execution_count": 81,
   "metadata": {},
   "outputs": [],
   "source": [
    "# this code runs for around 14h per 100k tweets\n",
    "# event_df['event_corefs_resolved'] = cand_ex.replace_corefs(event_df['text_coherent'])"
   ]
  },
  {
   "cell_type": "markdown",
   "metadata": {},
   "source": [
    "### Remove Duplicate Tweets"
   ]
  },
  {
   "cell_type": "markdown",
   "metadata": {},
   "source": [
    "#### Exact Duplicates"
   ]
  },
  {
   "cell_type": "code",
   "execution_count": 82,
   "metadata": {},
   "outputs": [],
   "source": [
    "#event_df[event_df[\"text_coherent\"] == \"I just signed a @theactionnet petition: Urgently resettle child refugees from Greek islands . . Sign here :\"].sort_values(\"retweet_count\")"
   ]
  },
  {
   "cell_type": "code",
   "execution_count": 83,
   "metadata": {},
   "outputs": [
    {
     "data": {
      "text/plain": [
       "Myanmar citizens in America sets up a day - long market for war refugees and CDM from myanmar, in Fort Worth, Texas.                                                                                                                                                                               3841\n",
       "In Mutraw District, karen State, myanmar military airstrikes are in progress now . Pray for the safety of the thousands of displaced children and families in the area . whats happening in myanmar                                                                                                3512\n",
       "Dear friends @MilkTeaTH_MTAT, please save our Karen Refugees . We are really appreciate for that you all support Myanmar People . GOD bless each you abundantly.                                                                                                                                   3452\n",
       "Hopeless Rohingya students from refugee camp in Bangladesh have held a sticker campaign today to show rohingya stands with @NUGMyanmar                                                                                                                                                             3202\n",
       "Internally displaced people including over 90 years old people and very young children are seen fleeing away from Junta' s massacre of MuTayaw region . JUNTA MASSACRE                                                                                                                             2918\n",
       "                                                                                                                                                                                                                                                                                                   ... \n",
       "Not that they only seen it . . our forefathers had fought this war against pakistani . . Indian after months of this bloody war came and aided Bangladesh then E Paskitan . For your record, millions of hindus sought refugee in India and never returned . If you really wanna hear the truth       1\n",
       "Global community lead by UN need to implement No Flying Zone over ethnic Karen villages as military is systematic bombing on the villages and refugees camps.                                                                                                                                         1\n",
       "Rohingya refugee camps in Bangladesh . Nearly 1 million of the persecuted Muslim minority from Myanmar - - many of whom fled a military crackdown in their homeland in 2017 - - live in cramped and squalid conditions at the camps in the southeastern Cox' s Bazar district af pgraphics            1\n",
       "Advocate Prashant Bhushan, who is representing petitioner Mohammad Salimullah, relied on the principle of \" non - refoulement \" which bars the expulsion of a refugee to the country of his origin if there is a clear case of danger to his life there . rohingya                                    1\n",
       "The world, please help for Karen State, there are 10,000 ppl became refugees . UNSC ACT NOW                                                                                                                                                                                                           1\n",
       "Name: text_coherent, Length: 22966, dtype: int64"
      ]
     },
     "execution_count": 83,
     "metadata": {},
     "output_type": "execute_result"
    }
   ],
   "source": [
    "event_df[\"text_coherent\"].value_counts()"
   ]
  },
  {
   "cell_type": "code",
   "execution_count": 84,
   "metadata": {},
   "outputs": [
    {
     "data": {
      "text/html": [
       "<div>\n",
       "<style scoped>\n",
       "    .dataframe tbody tr th:only-of-type {\n",
       "        vertical-align: middle;\n",
       "    }\n",
       "\n",
       "    .dataframe tbody tr th {\n",
       "        vertical-align: top;\n",
       "    }\n",
       "\n",
       "    .dataframe thead th {\n",
       "        text-align: right;\n",
       "    }\n",
       "</style>\n",
       "<table border=\"1\" class=\"dataframe\">\n",
       "  <thead>\n",
       "    <tr style=\"text-align: right;\">\n",
       "      <th></th>\n",
       "      <th>text_coherent</th>\n",
       "      <th>retweet_count_sum</th>\n",
       "      <th>count</th>\n",
       "    </tr>\n",
       "  </thead>\n",
       "  <tbody>\n",
       "    <tr>\n",
       "      <th>0</th>\n",
       "      <td>! Is Thailand Army in cahoot with myanmar mili...</td>\n",
       "      <td>0</td>\n",
       "      <td>1</td>\n",
       "    </tr>\n",
       "    <tr>\n",
       "      <th>1</th>\n",
       "      <td>! This WWD article offers a great overview of ...</td>\n",
       "      <td>1</td>\n",
       "      <td>1</td>\n",
       "    </tr>\n",
       "    <tr>\n",
       "      <th>2</th>\n",
       "      <td>!!!! This is alarming situation! whats happeni...</td>\n",
       "      <td>0</td>\n",
       "      <td>1</td>\n",
       "    </tr>\n",
       "    <tr>\n",
       "      <th>3</th>\n",
       "      <td>\" . . . another devastating blow to the rohing...</td>\n",
       "      <td>1</td>\n",
       "      <td>1</td>\n",
       "    </tr>\n",
       "    <tr>\n",
       "      <th>4</th>\n",
       "      <td>\" . . . requesting for her repatriation to Ban...</td>\n",
       "      <td>0</td>\n",
       "      <td>1</td>\n",
       "    </tr>\n",
       "  </tbody>\n",
       "</table>\n",
       "</div>"
      ],
      "text/plain": [
       "                                       text_coherent  retweet_count_sum  count\n",
       "0  ! Is Thailand Army in cahoot with myanmar mili...                  0      1\n",
       "1  ! This WWD article offers a great overview of ...                  1      1\n",
       "2  !!!! This is alarming situation! whats happeni...                  0      1\n",
       "3  \" . . . another devastating blow to the rohing...                  1      1\n",
       "4  \" . . . requesting for her repatriation to Ban...                  0      1"
      ]
     },
     "execution_count": 84,
     "metadata": {},
     "output_type": "execute_result"
    }
   ],
   "source": [
    "## Group by tweet text\n",
    "event_df_grouped = event_df[[\"text_coherent\",\"retweet_count\"]].groupby(\"text_coherent\").agg({\"retweet_count\":[\"sum\",\"count\"]}).reset_index()\n",
    "event_df_grouped.columns = list(map(''.join, event_df_grouped.columns.values))\n",
    "event_df_grouped = event_df_grouped.rename(columns={\"retweet_countsum\":\"retweet_count_sum\",\"retweet_countcount\":\"count\"})\n",
    "event_df_grouped[\"retweet_count_sum\"] = event_df_grouped[\"retweet_count_sum\"] + event_df_grouped[\"count\"] - 1 #take into account that only the retweets of a similar tweet but also the tweet iself is supposed to be treated as a retweet\n",
    "event_df_grouped.head()"
   ]
  },
  {
   "cell_type": "code",
   "execution_count": 85,
   "metadata": {},
   "outputs": [],
   "source": [
    "## Remove duplicate tweets\n",
    "event_df_sorted = event_df.sort_values(\"created_at\") #df should be sorted by default but this step ensures that sorting is there\n",
    "event_df_no_dups = event_df_sorted.drop_duplicates(\"text_coherent\", keep=\"first\")"
   ]
  },
  {
   "cell_type": "code",
   "execution_count": 86,
   "metadata": {},
   "outputs": [],
   "source": [
    "## Merge grouped data together\n",
    "event_df_no_dups1 = pd.merge(left = event_df_no_dups,\n",
    "                             right = event_df_grouped,\n",
    "                             left_on = \"text_coherent\",\n",
    "                             right_on = \"text_coherent\",\n",
    "                             how = \"inner\")"
   ]
  },
  {
   "cell_type": "code",
   "execution_count": 87,
   "metadata": {},
   "outputs": [
    {
     "data": {
      "text/plain": [
       "True"
      ]
     },
     "execution_count": 87,
     "metadata": {},
     "output_type": "execute_result"
    }
   ],
   "source": [
    "# Check if numbers add up\n",
    "event_df_no_dups1[\"count\"].sum() == event_df.shape[0]"
   ]
  },
  {
   "cell_type": "markdown",
   "metadata": {},
   "source": [
    "#### Fuzzy Duplicates"
   ]
  },
  {
   "cell_type": "code",
   "execution_count": null,
   "metadata": {},
   "outputs": [],
   "source": []
  },
  {
   "cell_type": "code",
   "execution_count": 88,
   "metadata": {},
   "outputs": [],
   "source": [
    "event_df = event_df_no_dups1.copy()"
   ]
  },
  {
   "cell_type": "markdown",
   "metadata": {},
   "source": [
    "## 2. Alphanumeric text: Remove remaining special characters (apart from punctuation) and lowercase the text"
   ]
  },
  {
   "cell_type": "code",
   "execution_count": 89,
   "metadata": {},
   "outputs": [
    {
     "name": "stderr",
     "output_type": "stream",
     "text": [
      "100%|██████████| 22966/22966 [00:00<00:00, 108233.72it/s]\n"
     ]
    }
   ],
   "source": [
    "tqdm.pandas()\n",
    "event_df['text_alphanum'] = event_df['text_coherent'].progress_apply(lambda tweet:re.sub(r'[^A-Za-z0-9.!? ]+', '', tweet.lower()))"
   ]
  },
  {
   "cell_type": "markdown",
   "metadata": {},
   "source": [
    "## 3. STM"
   ]
  },
  {
   "cell_type": "markdown",
   "metadata": {},
   "source": [
    "### Remove named entities"
   ]
  },
  {
   "cell_type": "code",
   "execution_count": 90,
   "metadata": {},
   "outputs": [],
   "source": [
    "def remove_named_entities(tweet):\n",
    "    \n",
    "    doc = nlp(tweet)\n",
    "    \n",
    "    text_no_namedentities = []\n",
    "    ents = [e.text for e in doc.ents]\n",
    "    \n",
    "    for item in doc:\n",
    "        if item.text in ents:\n",
    "            pass\n",
    "        else:\n",
    "            text_no_namedentities.append(item.text)\n",
    "    \n",
    "    return \" \".join(text_no_namedentities)"
   ]
  },
  {
   "cell_type": "code",
   "execution_count": 91,
   "metadata": {},
   "outputs": [],
   "source": [
    "#event_df[\"text_no_ne\"] = event_df[\"text_coherent\"].progress_apply(lambda x: remove_named_entities(x))"
   ]
  },
  {
   "cell_type": "code",
   "execution_count": 92,
   "metadata": {},
   "outputs": [
    {
     "name": "stderr",
     "output_type": "stream",
     "text": [
      "[nltk_data] Downloading package punkt to\n",
      "[nltk_data]     C:\\Users\\jawo19ad\\AppData\\Roaming\\nltk_data...\n",
      "[nltk_data]   Package punkt is already up-to-date!\n",
      "[nltk_data] Downloading package stopwords to\n",
      "[nltk_data]     C:\\Users\\jawo19ad\\AppData\\Roaming\\nltk_data...\n",
      "[nltk_data]   Package stopwords is already up-to-date!\n",
      "[nltk_data] Downloading package wordnet to\n",
      "[nltk_data]     C:\\Users\\jawo19ad\\AppData\\Roaming\\nltk_data...\n",
      "[nltk_data]   Package wordnet is already up-to-date!\n"
     ]
    }
   ],
   "source": [
    "import nltk\n",
    "nltk.download('punkt')\n",
    "nltk.download('stopwords')\n",
    "nltk.download('wordnet')\n",
    "from nltk.tokenize import word_tokenize\n",
    "from nltk.corpus import stopwords\n",
    "from nltk.stem import WordNetLemmatizer\n",
    "\n",
    "def tokenization(df_col):\n",
    "    \"\"\"\n",
    "    Takes a list with strings and returns a list with tokens\n",
    "    \"\"\"\n",
    "    print(\"Tokenizing tweets...\\n\")\n",
    "    return df_col.apply(lambda x: word_tokenize(x))\n",
    "\n",
    "\n",
    "def lowercase(df_col):\n",
    "    \"\"\"\n",
    "    Returns all tokens in lowercase.\n",
    "    \"\"\"\n",
    "    print(\"Making all words lowercase...\\n\")\n",
    "    return df_col.apply(lambda x: [token.lower() for token in x])\n",
    "\n",
    "\n",
    "def only_alphabetic(df_col):\n",
    "    \"\"\"\n",
    "    Keeps only tokens which are alphabetic or an underscore and returns them.\n",
    "    \"\"\"\n",
    "    print(\"Removing all non-alphabetic words...\\n\")\n",
    "    return df_col.apply(lambda x: [token for token in x if re.match(\"^[a-zA-Z0_]*$\", token)])\n",
    "\n",
    "\n",
    "stop_words = set(stopwords.words('english'))\n",
    "stop_words.update([\"refugee\",\"refugees\",\"migrant\",\"migrants\",\"immigrant\",\"immigrants\",\n",
    "                   \"like\", \"would\",\"want\",\"take\",\"must\",\"well\",\"could\",\"even\",\"since\",\n",
    "                   \"also\",\"know\"])\n",
    "\n",
    "def stopword_removal(df_col):\n",
    "    \"\"\"\n",
    "    Removes all words considered as stopwords and all words that have a length of three or less.\n",
    "    \"\"\"\n",
    "    \n",
    "    print(\"Removing Stopwords...\\n\")\n",
    "\n",
    "    return df_col.apply(lambda x: [token for token in x if token not in stop_words and len(token) > 3])\n",
    "\n",
    "\n",
    "def lemmatization(df_col):\n",
    "    \"\"\"\n",
    "    Applies lemmatization to all tokens and returns them afterwards.\n",
    "    \"\"\"\n",
    "    \n",
    "    print(\"Lemmatizing words...\\n\")\n",
    "    lemmatizer = WordNetLemmatizer()\n",
    "    return df_col.apply(lambda x: [lemmatizer.lemmatize(token) for token in x])\n",
    "\n",
    "def preprocessing(df_col, *steps):\n",
    "    \"\"\"\n",
    "    Takes in a dataframe column with text and applies preprocessing steps given \n",
    "    in and returns a string.\n",
    "    \n",
    "    Input:\n",
    "    - df (dataframe): The dataframe containing the text column.\n",
    "    - steps (functions): Multiple functions for preprocessing can be given in.\n",
    "    \n",
    "    Output:\n",
    "    - List with strings.\n",
    "    \"\"\"\n",
    "    # copying over the column for preprocessing\n",
    "    temp = df_col.copy()\n",
    "    for func in steps:\n",
    "        temp = func(temp)\n",
    "    return temp.apply(lambda x: \" \".join([token for token in x]))"
   ]
  },
  {
   "cell_type": "code",
   "execution_count": 93,
   "metadata": {},
   "outputs": [
    {
     "name": "stdout",
     "output_type": "stream",
     "text": [
      "Tokenizing tweets...\n",
      "\n",
      "Making all words lowercase...\n",
      "\n",
      "Removing all non-alphabetic words...\n",
      "\n",
      "Removing Stopwords...\n",
      "\n",
      "Lemmatizing words...\n",
      "\n"
     ]
    }
   ],
   "source": [
    "event_df[\"text_stm\"] = preprocessing(event_df[\"text_coherent\"],\n",
    "                                            tokenization,\n",
    "                                            lowercase,\n",
    "                                            only_alphabetic,\n",
    "                                            stopword_removal,\n",
    "                                            lemmatization)"
   ]
  },
  {
   "cell_type": "code",
   "execution_count": 94,
   "metadata": {},
   "outputs": [],
   "source": [
    "#for raw, stm in zip(event_df[\"text\"], event_df[\"text_stm\"]):\n",
    "#    print(raw)\n",
    "#    print(stm)\n",
    "#    print(\"---------\")"
   ]
  },
  {
   "cell_type": "code",
   "execution_count": 95,
   "metadata": {},
   "outputs": [
    {
     "data": {
      "text/html": [
       "<div>\n",
       "<style scoped>\n",
       "    .dataframe tbody tr th:only-of-type {\n",
       "        vertical-align: middle;\n",
       "    }\n",
       "\n",
       "    .dataframe tbody tr th {\n",
       "        vertical-align: top;\n",
       "    }\n",
       "\n",
       "    .dataframe thead th {\n",
       "        text-align: right;\n",
       "    }\n",
       "</style>\n",
       "<table border=\"1\" class=\"dataframe\">\n",
       "  <thead>\n",
       "    <tr style=\"text-align: right;\">\n",
       "      <th></th>\n",
       "      <th>source</th>\n",
       "      <th>text</th>\n",
       "      <th>lang</th>\n",
       "      <th>id</th>\n",
       "      <th>created_at</th>\n",
       "      <th>author_id</th>\n",
       "      <th>retweet_count</th>\n",
       "      <th>reply_count</th>\n",
       "      <th>like_count</th>\n",
       "      <th>quote_count</th>\n",
       "      <th>...</th>\n",
       "      <th>refugee</th>\n",
       "      <th>migrant</th>\n",
       "      <th>immigrant</th>\n",
       "      <th>asylum_seeker</th>\n",
       "      <th>other</th>\n",
       "      <th>text_coherent</th>\n",
       "      <th>retweet_count_sum</th>\n",
       "      <th>count</th>\n",
       "      <th>text_alphanum</th>\n",
       "      <th>text_stm</th>\n",
       "    </tr>\n",
       "  </thead>\n",
       "  <tbody>\n",
       "    <tr>\n",
       "      <th>0</th>\n",
       "      <td>Twitter Web App</td>\n",
       "      <td>For #Rohingya Survivors in Bangladesh, Artwork...</td>\n",
       "      <td>en</td>\n",
       "      <td>1373792416126402560</td>\n",
       "      <td>2021-03-22 00:23:30+00:00</td>\n",
       "      <td>77844813</td>\n",
       "      <td>2</td>\n",
       "      <td>1</td>\n",
       "      <td>2</td>\n",
       "      <td>0</td>\n",
       "      <td>...</td>\n",
       "      <td>True</td>\n",
       "      <td>False</td>\n",
       "      <td>False</td>\n",
       "      <td>False</td>\n",
       "      <td>False</td>\n",
       "      <td>For rohingya Survivors in Bangladesh, Artwork ...</td>\n",
       "      <td>2</td>\n",
       "      <td>1</td>\n",
       "      <td>for rohingya survivors in bangladesh artwork b...</td>\n",
       "      <td>rohingya survivor bangladesh artwork bear witn...</td>\n",
       "    </tr>\n",
       "    <tr>\n",
       "      <th>1</th>\n",
       "      <td>dlvr.it</td>\n",
       "      <td>AstraZeneca dispels Indonesian Muslim concerns...</td>\n",
       "      <td>en</td>\n",
       "      <td>1373800977778700288</td>\n",
       "      <td>2021-03-22 00:57:31+00:00</td>\n",
       "      <td>1898083759</td>\n",
       "      <td>1</td>\n",
       "      <td>0</td>\n",
       "      <td>0</td>\n",
       "      <td>0</td>\n",
       "      <td>...</td>\n",
       "      <td>True</td>\n",
       "      <td>False</td>\n",
       "      <td>False</td>\n",
       "      <td>False</td>\n",
       "      <td>False</td>\n",
       "      <td>AstraZeneca dispels Indonesian Muslim concerns...</td>\n",
       "      <td>1</td>\n",
       "      <td>1</td>\n",
       "      <td>astrazeneca dispels indonesian muslim concerns...</td>\n",
       "      <td>astrazeneca dispels indonesian muslim concern ...</td>\n",
       "    </tr>\n",
       "    <tr>\n",
       "      <th>2</th>\n",
       "      <td>Twitter for Android</td>\n",
       "      <td>@prabha_j @MehHarshil @derekobrienmp I think u...</td>\n",
       "      <td>en</td>\n",
       "      <td>1373802051524730880</td>\n",
       "      <td>2021-03-22 01:01:47+00:00</td>\n",
       "      <td>1209116380257112064</td>\n",
       "      <td>0</td>\n",
       "      <td>0</td>\n",
       "      <td>1</td>\n",
       "      <td>0</td>\n",
       "      <td>...</td>\n",
       "      <td>False</td>\n",
       "      <td>True</td>\n",
       "      <td>False</td>\n",
       "      <td>False</td>\n",
       "      <td>False</td>\n",
       "      <td>I think u are one of the illegally migrant Roh...</td>\n",
       "      <td>0</td>\n",
       "      <td>1</td>\n",
       "      <td>i think u are one of the illegally migrant roh...</td>\n",
       "      <td>think illegally rohingya bangladesh better kee...</td>\n",
       "    </tr>\n",
       "    <tr>\n",
       "      <th>3</th>\n",
       "      <td>Twitter for Android</td>\n",
       "      <td>India seals Myanmar border amid strains over r...</td>\n",
       "      <td>en</td>\n",
       "      <td>1373802536579174401</td>\n",
       "      <td>2021-03-22 01:03:43+00:00</td>\n",
       "      <td>1032998054297780224</td>\n",
       "      <td>0</td>\n",
       "      <td>0</td>\n",
       "      <td>0</td>\n",
       "      <td>0</td>\n",
       "      <td>...</td>\n",
       "      <td>True</td>\n",
       "      <td>False</td>\n",
       "      <td>False</td>\n",
       "      <td>False</td>\n",
       "      <td>False</td>\n",
       "      <td>India seals Myanmar border amid strains over r...</td>\n",
       "      <td>0</td>\n",
       "      <td>1</td>\n",
       "      <td>india seals myanmar border amid strains over r...</td>\n",
       "      <td>india seal myanmar border amid strain crisis</td>\n",
       "    </tr>\n",
       "    <tr>\n",
       "      <th>4</th>\n",
       "      <td>Twitter for iPhone</td>\n",
       "      <td>Fleeing coup, Myanmar police refugees in India...</td>\n",
       "      <td>en</td>\n",
       "      <td>1373804367757807619</td>\n",
       "      <td>2021-03-22 01:10:59+00:00</td>\n",
       "      <td>15552861</td>\n",
       "      <td>1</td>\n",
       "      <td>0</td>\n",
       "      <td>1</td>\n",
       "      <td>0</td>\n",
       "      <td>...</td>\n",
       "      <td>True</td>\n",
       "      <td>False</td>\n",
       "      <td>False</td>\n",
       "      <td>False</td>\n",
       "      <td>False</td>\n",
       "      <td>Fleeing coup, Myanmar police refugees in India...</td>\n",
       "      <td>1</td>\n",
       "      <td>1</td>\n",
       "      <td>fleeing coup myanmar police refugees in india ...</td>\n",
       "      <td>fleeing coup myanmar police india seek asylum ...</td>\n",
       "    </tr>\n",
       "  </tbody>\n",
       "</table>\n",
       "<p>5 rows × 30 columns</p>\n",
       "</div>"
      ],
      "text/plain": [
       "                source                                               text  \\\n",
       "0      Twitter Web App  For #Rohingya Survivors in Bangladesh, Artwork...   \n",
       "1              dlvr.it  AstraZeneca dispels Indonesian Muslim concerns...   \n",
       "2  Twitter for Android  @prabha_j @MehHarshil @derekobrienmp I think u...   \n",
       "3  Twitter for Android  India seals Myanmar border amid strains over r...   \n",
       "4   Twitter for iPhone  Fleeing coup, Myanmar police refugees in India...   \n",
       "\n",
       "  lang                   id                 created_at            author_id  \\\n",
       "0   en  1373792416126402560  2021-03-22 00:23:30+00:00             77844813   \n",
       "1   en  1373800977778700288  2021-03-22 00:57:31+00:00           1898083759   \n",
       "2   en  1373802051524730880  2021-03-22 01:01:47+00:00  1209116380257112064   \n",
       "3   en  1373802536579174401  2021-03-22 01:03:43+00:00  1032998054297780224   \n",
       "4   en  1373804367757807619  2021-03-22 01:10:59+00:00             15552861   \n",
       "\n",
       "   retweet_count  reply_count  like_count  quote_count  ...  refugee migrant  \\\n",
       "0              2            1           2            0  ...     True   False   \n",
       "1              1            0           0            0  ...     True   False   \n",
       "2              0            0           1            0  ...    False    True   \n",
       "3              0            0           0            0  ...     True   False   \n",
       "4              1            0           1            0  ...     True   False   \n",
       "\n",
       "  immigrant asylum_seeker  other  \\\n",
       "0     False         False  False   \n",
       "1     False         False  False   \n",
       "2     False         False  False   \n",
       "3     False         False  False   \n",
       "4     False         False  False   \n",
       "\n",
       "                                       text_coherent  retweet_count_sum count  \\\n",
       "0  For rohingya Survivors in Bangladesh, Artwork ...                  2     1   \n",
       "1  AstraZeneca dispels Indonesian Muslim concerns...                  1     1   \n",
       "2  I think u are one of the illegally migrant Roh...                  0     1   \n",
       "3  India seals Myanmar border amid strains over r...                  0     1   \n",
       "4  Fleeing coup, Myanmar police refugees in India...                  1     1   \n",
       "\n",
       "                                       text_alphanum  \\\n",
       "0  for rohingya survivors in bangladesh artwork b...   \n",
       "1  astrazeneca dispels indonesian muslim concerns...   \n",
       "2  i think u are one of the illegally migrant roh...   \n",
       "3  india seals myanmar border amid strains over r...   \n",
       "4  fleeing coup myanmar police refugees in india ...   \n",
       "\n",
       "                                            text_stm  \n",
       "0  rohingya survivor bangladesh artwork bear witn...  \n",
       "1  astrazeneca dispels indonesian muslim concern ...  \n",
       "2  think illegally rohingya bangladesh better kee...  \n",
       "3       india seal myanmar border amid strain crisis  \n",
       "4  fleeing coup myanmar police india seek asylum ...  \n",
       "\n",
       "[5 rows x 30 columns]"
      ]
     },
     "execution_count": 95,
     "metadata": {},
     "output_type": "execute_result"
    }
   ],
   "source": [
    "event_df.head()"
   ]
  },
  {
   "cell_type": "code",
   "execution_count": 96,
   "metadata": {},
   "outputs": [
    {
     "data": {
      "text/plain": [
       "(22966, 30)"
      ]
     },
     "execution_count": 96,
     "metadata": {},
     "output_type": "execute_result"
    }
   ],
   "source": [
    "event_df.shape"
   ]
  },
  {
   "cell_type": "code",
   "execution_count": 97,
   "metadata": {},
   "outputs": [
    {
     "name": "stdout",
     "output_type": "stream",
     "text": [
      "Today, responding to the impact of the devastating fires in Cox’s Bazar refugee camps in Bangladesh, we provided € 500,000 in emergency funding. Our commitment to alleviate the suffering faced by the almost million Rohingya refugees living there is reaffirmed. https://t.co/9mE9Z55tLK\n",
      "---\n",
      "Today, responding to the impact of the devastating fires in Coxs Bazar refugee camps in Bangladesh, we provided 500,000 in emergency funding . Our commitment to alleviate the suffering faced by the almost million Rohingya refugees living there is reaffirmed.\n",
      "---\n",
      "today responding impact devastating fire cox bazar camp bangladesh provided emergency funding commitment alleviate suffering faced almost million rohingya living reaffirmed\n",
      "-----------------------------------\n",
      "Heartbreaking Photo: A Karen  kid  refugee could not eat peacefully and look up at the sky as he feared the JUNTA’s troops would attack with airstrikes.\n",
      "\n",
      "#WhatsHappeningInMyanmar\n",
      "#Apr4Coup https://t.co/842WyXtxiR\n",
      "---\n",
      "Heartbreaking Photo: A Karen kid refugee could not eat peacefully and look up at the sky as he feared the JUNTAs troops would attack with airstrikes.\n",
      "---\n",
      "heartbreaking photo karen peacefully look feared junta troop attack airstrikes\n",
      "-----------------------------------\n",
      "Save Our Brothers 🙏\n",
      "@Refugees @UNHumanRights @SavetheChildren @UNICEF \n",
      "#WhatsHappeningInMyanmar \n",
      "#WhatsHappeningInKaren https://t.co/UydEqhgtnM\n",
      "---\n",
      "Save Our Brothers UNHCR, the UN Refugee Agency UN Human Rights Save the Children US UNICEF\n",
      "---\n",
      "save brother unhcr agency human right save child unicef\n",
      "-----------------------------------\n",
      "A Past Full Of Violence, Future Tense For Rohingya Refugees https://t.co/Xx5hetuKEx\n",
      "---\n",
      "A Past Full Of Violence, Future Tense For Rohingya Refugees\n",
      "---\n",
      "past full violence future tense rohingya\n",
      "-----------------------------------\n",
      "'If the situation continues to escalate, #Myanmar risks becoming a failed state in the heart of Asia. The consequences of this are grave: unconscionable human suffering; economic &amp; social devastation; a likely refugee &amp; humanitarian crisis; &amp; regional geopolitical instability'\n",
      "---\n",
      "' If the situation continues to escalate, myanmar risks becoming a failed state in the heart of Asia . The consequences of this are grave: unconscionable human suffering; economic & social devastation; a likely refugee & humanitarian crisis; & regional geopolitical instability '\n",
      "---\n",
      "situation continues escalate myanmar risk becoming failed state heart asia consequence grave unconscionable human suffering economic social devastation likely humanitarian crisis regional geopolitical instability\n",
      "-----------------------------------\n",
      "The terrorist military is using airstrikes against EAOs and their regions. Many civilians have been internally displaced, injured, and even died due to these attacks. Myanmar people requests the UN to implement NO FLY ZONE.\n",
      "#NoFlyZoneInMyanmar\n",
      "#WhatsHappeningInMyanmar\n",
      "#Apr13Coup https://t.co/ty94ODPWDp\n",
      "---\n",
      "The terrorist military is using airstrikes against EAOs and their regions . Many civilians have been internally displaced, injured, and even died due to these attacks . Myanmar people requests the UN to implement NO FLY ZONE.\n",
      "---\n",
      "terrorist military using airstrikes eaos region many civilian internally displaced injured died attack myanmar people request implement zone\n",
      "-----------------------------------\n",
      "Protect Rohingya Refugees from Forced Return to Myanmar. https://t.co/z7cPMXZ3Oj\n",
      "---\n",
      "Protect Rohingya Refugees from Forced Return to Myanmar.\n",
      "---\n",
      "protect rohingya forced return myanmar\n",
      "-----------------------------------\n",
      "Please provide humanitarian help to refugees 🙏#WhatsHappeningInMyanmar #Mar30Coup #MilkTeaAlliance https://t.co/q2X1m0LOmI\n",
      "---\n",
      "Please provide humanitarian help to refugees\n",
      "---\n",
      "please provide humanitarian help\n",
      "-----------------------------------\n",
      "As old leaves gone and new leaves born, Myanmar will also fully revive to true Federal Democracy. This “GreenDayStrike” campaign also represented for our refugees who has to shelter in forests \n",
      "\n",
      "#WhatsHappeningInMyanmar \n",
      "#GreenDayStrike \n",
      "#Apr11Coup\n",
      "Photo credit https://t.co/B674OyvJhs\n",
      "---\n",
      "As old leaves gone and new leaves born, Myanmar will also fully revive to true Federal Democracy . This GreenDayStrike campaign also represented for our refugees who has to shelter in forests whats happening in myanmar green day strike apr 11 coup Photo credit\n",
      "---\n",
      "leaf gone leaf born myanmar fully revive true federal democracy greendaystrike campaign represented shelter forest whats happening myanmar green strike coup photo credit\n",
      "-----------------------------------\n",
      "Bhomo District, Kachin State :\n",
      "There are about 500 refugees in Kachin Baptist Church in Momauk Tsp who had fled from the ongoing fight between KIA and the junta's forces. They are in urgent need of food and supplies .\n",
      "\n",
      "#Apr16SilentStrike\n",
      "#WhatsHappeningInMyanmar https://t.co/4sxt8mCyZF\n",
      "---\n",
      "Bhomo District, Kachin State: There are about 500 refugees in Kachin Baptist Church in Momauk Tsp who had fled from the ongoing fight between KIA and the junta' s forces . They are in urgent need of food and supplies.\n",
      "---\n",
      "bhomo district kachin state kachin baptist church momauk fled ongoing fight junta force urgent need food supply\n",
      "-----------------------------------\n",
      "Both Myanmar junta and Thai doesn’t want any support or help going to our Karen refugees. \n",
      "\n",
      "#Apr3Coup\n",
      "#WhatsHappeningInMyanmar\n",
      "@RapporteurUn @SchranerBurgen1 @TostevinM @poppymcp @KenRoth @LeongWaiKitCNA @USAmbUN @SecBlinken @YourAnonCentral @SpecialCouncil @YangheeLeeSKKU https://t.co/nvUOPfSRQO\n",
      "---\n",
      "Both Myanmar junta and Thai doesnt want any support or help going to our Karen refugees.\n",
      "---\n",
      "myanmar junta thai doesnt support help going karen\n",
      "-----------------------------------\n",
      "Supreme Court reserves its order on #Rohingya refugees case. SC was fresh plea seeking immediate release of detained Rohingya refugees in #Jammu and restraining the Centre from implementing any order regarding deporting them to Myanmar https://t.co/Gj5t7gdTA1\n",
      "---\n",
      "Supreme Court reserves its order on rohingya refugees case . SC was fresh plea seeking immediate release of detained Rohingya refugees in jammu and restraining the Centre from implementing any order regarding deporting them to Myanmar\n",
      "---\n",
      "supreme court reserve order rohingya case fresh plea seeking immediate release detained rohingya jammu restraining centre implementing order regarding deporting myanmar\n",
      "-----------------------------------\n",
      "@clarissaward Welcome from our country!!\n",
      "Please save our people🙏please speak out for our karen refugee\n",
      "Thanks!! https://t.co/nGJnSPECyX\n",
      "---\n",
      "Welcome from our country!! Please save our peopleplease speak out for our karen refugee Thanks!!\n",
      "---\n",
      "welcome country please save peopleplease speak karen thanks\n",
      "-----------------------------------\n",
      "Lives of Karen Refugees at IDP camps. Pics taken at IDP camps near Myanmar-Thai Border, Salween River on \n",
      "Apr 2 , 2021.\n",
      "\n",
      "NEWS SUPPRESSION \n",
      "#Apr2Coup\n",
      "#WhatsHappeningInMyanmar\n",
      "#InternetShutdown https://t.co/sGTbi24B1w\n",
      "---\n",
      "Lives of Karen Refugees at IDP camps . Pics taken at IDP camps near Myanmar - Thai Border, Salween River on Apr 2 , 2021 . NEWS SUPPRESSION\n",
      "---\n",
      "life karen camp pic taken camp near myanmar thai border salween river news suppression\n",
      "-----------------------------------\n",
      "The MZP with the support of CBC-USA  distributed relief materials: 65 bags of rice,12 bags of potato,10 bags of pulse&amp;4 bundles of silpaulin to #Myanmar refugees of 4 villages at Farkawn, Thekte, Thekpui&amp;Khawbung.They also distributed an amount of Rs.6,00,000 for their daily use. https://t.co/IZQUW1lv8o\n",
      "---\n",
      "The MZP with the support of CBC - USA distributed relief materials : 65 bags of rice , 12 bags of potato , 10 bags of pulse & 4 bundles of silpaulin to myanmar refugees of 4 villages at Farkawn, Thekte, Thekpui & Khawbung . They also distributed an amount of Rs . 6,00 , 000 for their daily use.\n",
      "---\n",
      "support distributed relief material bag rice bag potato bag pulse bundle silpaulin myanmar village farkawn thekte thekpui khawbung distributed amount daily\n",
      "-----------------------------------\n",
      "@RituRathaur How is an illegal Rohingya refugee in India allowed to file PIL in SC? Who is funding him?\n",
      "---\n",
      "How is an illegal Rohingya refugee in India allowed to file PIL in SC? Who is funding him?\n",
      "---\n",
      "illegal rohingya india allowed file funding\n",
      "-----------------------------------\n",
      "@taslimanasreen A man with two faces. By attacking you, he tried to garner the support of the powerful mullahs for his political base. By asking for permanent citizenship for Rohingya refugees, he is trying to create another electoral base.\n",
      "---\n",
      "A man with two faces . By attacking you, he tried to garner the support of the powerful mullahs for his political base . By asking for permanent citizenship for Rohingya refugees, he is trying to create another electoral base.\n",
      "---\n",
      "face attacking tried garner support powerful mullah political base asking permanent citizenship rohingya trying create another electoral base\n",
      "-----------------------------------\n",
      "'Myitkyina Young' youth fund raises funds for refugees and vulnerable families.\n",
      "#WhatsHappeningInMyanmar \n",
      "#Apr14Coup https://t.co/e508SWsKKL\n",
      "---\n",
      "' Myitkyina Young' youth fund raises funds for refugees and vulnerable families.\n",
      "---\n",
      "myitkyina young youth fund raise fund vulnerable family\n",
      "-----------------------------------\n",
      "@KirtMausert Truth is All these Bangla flee in Myanmar borders during Bangladesh liberation war, myanmar government accepted bengali as refugees at Maungtaw area, after that they no going back and start terrorist Mujahideen attacked back Myanmar and Army defeated them\n",
      "---\n",
      "Truth is All these Bangla flee in Myanmar borders during Bangladesh liberation war, myanmar government accepted bengali as refugees at Maungtaw area, after that they no going back and start terrorist Mujahideen attacked back Myanmar and Army defeated them\n",
      "---\n",
      "truth bangla flee myanmar border bangladesh liberation myanmar government accepted bengali maungtaw area going back start terrorist mujahideen attacked back myanmar army defeated\n",
      "-----------------------------------\n",
      "Follows this @guardian report that more than 6,500 migrant workers from India, Pakistan, Nepal, Bangladesh and Sri Lanka have died in Qatar since it won the right to host the World Cup 10 years ago. https://t.co/KQW2hAUuL2 https://t.co/NBbUHhpVUf\n",
      "---\n",
      "Follows this The Guardian report that more than 6,500 migrant workers from India, Pakistan, Nepal, Bangladesh and Sri Lanka have died in Qatar since it won the right to host the World Cup 10 years ago.\n",
      "---\n",
      "follows guardian report worker india pakistan nepal bangladesh lanka died qatar right host world year\n",
      "-----------------------------------\n",
      "#Rohingyas \n",
      "Fire in #Rohingya refugee camp \n",
      "Many refugees fled away from the camp because of fire https://t.co/Bj6shs6XnA\n",
      "---\n",
      "rohingyas Fire in rohingya refugee camp Many refugees fled away from the camp because of fire\n",
      "---\n",
      "rohingyas fire rohingya camp many fled away camp fire\n",
      "-----------------------------------\n",
      "#Rohingya #refugees' thoughts on #humanitarian assistance:\n",
      "\n",
      "\"The distribution centre is too far from us. We spend a lot on transportation &amp; labour. We are old people, we can't carry the rations. We need to sell part of the rations to pay for the costs\" \n",
      "\n",
      "📋https://t.co/xaEveGxPJj https://t.co/bqhK9AAVT9\n",
      "---\n",
      "rohingya refugees' thoughts on humanitarian assistance: \" The distribution centre is too far from us . We spend a lot on transportation & labour . We are old people, we can' t carry the rations . We need to sell part of the rations to pay for the costs \"\n",
      "---\n",
      "rohingya thought humanitarian assistance distribution centre spend transportation labour people carry ration need sell part ration cost\n",
      "-----------------------------------\n",
      "While the #Manipur govt has withdrawn this order, the India-Myanmar border continues to be heavily guarded by the #AssamRifles on the MHA's orders. So that standing policy of turning away asylum seekers remains.\n",
      "\n",
      "#India #Myanmar https://t.co/BEgQb9k7C8\n",
      "---\n",
      "While the manipur govt has withdrawn this order, the India - Myanmar border continues to be heavily guarded by the assam rifles on the MHA' s orders . So that standing policy of turning away asylum seekers remains.\n",
      "---\n",
      "manipur govt withdrawn order india myanmar border continues heavily guarded assam rifle order standing policy turning away asylum seeker remains\n",
      "-----------------------------------\n",
      "@RanaAyyub They are threat for india diversity,they done  rohingya genocide only because rohingyas have different ethenicity &amp; Language\n",
      "I Support GOI on this decision,maynmar illegal refugees are inhumane people they are laughing on gen.,now what happen \n",
      "when same thing happening with them\n",
      "---\n",
      "They are threat for india diversity, they done rohingya genocide only because rohingyas have different ethenicity & Language I Support GOI on this decision, maynmar illegal refugees are inhumane people they are laughing on gen ., now what happen when same thing happening with them\n",
      "---\n",
      "threat india diversity done rohingya genocide rohingyas different ethenicity language support decision maynmar illegal inhumane people laughing happen thing happening\n",
      "-----------------------------------\n",
      "What is happening to the Rohingya refugees at the moment - is a protracted human crisis that reflects the failure of international leadership. The world needs to hold its leaders to account - the Rohingya refugees need our voice.  @POTUS @BorisJohnson please help the Rohingya. https://t.co/NV0Yf3XvDS\n",
      "---\n",
      "What is happening to the Rohingya refugees at the moment - is a protracted human crisis that reflects the failure of international leadership . The world needs to hold its leaders to account - the Rohingya refugees need our voice . President Biden @BorisJohnson please help the Rohingya.\n",
      "---\n",
      "happening rohingya moment protracted human crisis reflects failure international leadership world need hold leader account rohingya need voice president biden borisjohnson please help rohingya\n",
      "-----------------------------------\n"
     ]
    }
   ],
   "source": [
    "for i,line in event_df[[\"text\",\"text_coherent\",\"text_stm\"]].sample(25).iterrows():\n",
    "    print(line[\"text\"])\n",
    "    print(\"---\")\n",
    "    print(line[\"text_coherent\"])\n",
    "    print(\"---\")\n",
    "    print(line[\"text_stm\"])\n",
    "    print(\"-----------------------------------\")"
   ]
  },
  {
   "cell_type": "markdown",
   "metadata": {},
   "source": [
    "## Save the dataframe with clean text"
   ]
  },
  {
   "cell_type": "code",
   "execution_count": 98,
   "metadata": {},
   "outputs": [],
   "source": [
    "#event_df.to_csv(rohingya_url_clean)"
   ]
  },
  {
   "cell_type": "code",
   "execution_count": null,
   "metadata": {},
   "outputs": [],
   "source": []
  }
 ],
 "metadata": {
  "kernelspec": {
   "display_name": "Python 3",
   "language": "python",
   "name": "python3"
  },
  "language_info": {
   "codemirror_mode": {
    "name": "ipython",
    "version": 3
   },
   "file_extension": ".py",
   "mimetype": "text/x-python",
   "name": "python",
   "nbconvert_exporter": "python",
   "pygments_lexer": "ipython3",
   "version": "3.7.9"
  }
 },
 "nbformat": 4,
 "nbformat_minor": 5
}
