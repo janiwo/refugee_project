{
 "cells": [
  {
   "cell_type": "markdown",
   "metadata": {},
   "source": [
    "# Tweets Preprocessing"
   ]
  },
  {
   "cell_type": "code",
   "execution_count": 1,
   "metadata": {
    "scrolled": true
   },
   "outputs": [
    {
     "name": "stdout",
     "output_type": "stream",
     "text": [
      "Reading english - 1grams ...\n",
      "Reading english - 2grams ...\n"
     ]
    },
    {
     "name": "stderr",
     "output_type": "stream",
     "text": [
      "C:\\ProgramData\\Anaconda3\\lib\\site-packages\\ekphrasis\\classes\\exmanager.py:14: FutureWarning: Possible nested set at position 42\n",
      "  regexes = {k.lower(): re.compile(self.expressions[k]) for k, v in\n"
     ]
    }
   ],
   "source": [
    "# Import relevant libraries\n",
    "import pandas as pd\n",
    "import os\n",
    "import re\n",
    "from tqdm import tqdm\n",
    "\n",
    "import spacy\n",
    "nlp = spacy.load('en_core_web_sm', disable=['parser', 'tagger', 'textcat'])\n",
    "\n",
    "import candidate_extraction as cand_ex\n",
    "\n",
    "import preprocessor\n",
    "from ekphrasis.classes.tokenizer import Tokenizer\n",
    "from nltk.tokenize.treebank import TreebankWordDetokenizer \n",
    "from ekphrasis.classes.segmenter import Segmenter\n",
    "#from ekphrasis.classes.spellcorrect import SpellCorrector\n",
    "\n",
    "#more advanced tokenizer gives freedom to adjust the way tokens are split\n",
    "social_pipeline = [\"TAG\", \"EMAIL\", \"USER\", \"HASHTAG\", \"CASHTAG\", \"PHONE\", \"PERCENT\", \"NUMBER\",\"WORD\"]\n",
    "tokenizer = Tokenizer(pipeline = social_pipeline, lowercase=False).tokenize\n",
    "detokenizer = TreebankWordDetokenizer()\n",
    "\n",
    "#spell_cor = SpellCorrector(corpus=\"english\") # spell correction not used \n",
    "seg_eng = Segmenter(corpus=\"english\") \n",
    "\n",
    "# preprocessor should remove emojis and urls in the tweets\n",
    "preprocessor.set_options(preprocessor.OPT.URL, preprocessor.OPT.EMOJI)"
   ]
  },
  {
   "cell_type": "code",
   "execution_count": 2,
   "metadata": {},
   "outputs": [],
   "source": [
    "file_url = os.getcwd() + \"/../../../../\" + r\"/Dropbox (CBS)/Master thesis data/\"\n",
    "event_url = file_url + r\"Event Dataframes/\"\n",
    "event_url_raw = event_url + r\"Raw/\"\n",
    "event_url_clean = event_url + r\"Clean/\""
   ]
  },
  {
   "cell_type": "code",
   "execution_count": 3,
   "metadata": {},
   "outputs": [],
   "source": [
    "tigray_url_raw = event_url_raw + r\"df_tigray.csv\" # location of Tigray dataset\n",
    "greece_url_raw = event_url_raw + r\"df_greece.csv\" # location of Greece dataset\n",
    "rohingya_url_raw = event_url_raw + r\"df_rohingya.csv\" # location of Rohingya dataset\n",
    "channel_url_raw = event_url_raw + r\"df_channel.csv\" # Location of channel dataset\n",
    "\n",
    "tigray_url_clean = event_url_clean + r\"df_tigray_clean.csv\" # location of clean Tigray dataset\n",
    "greece_url_clean = event_url_clean + r\"df_greece_clean.csv\" # location of clean Greece dataset\n",
    "rohingya_url_clean = event_url_clean + r\"df_rohingya_clean.csv\" # location clean of Rohingya dataset\n",
    "channel_url_clean = event_url_clean +r\"df_channel_clean.csv\" #Location of clean Channel dataset"
   ]
  },
  {
   "cell_type": "code",
   "execution_count": 4,
   "metadata": {
    "scrolled": true
   },
   "outputs": [
    {
     "name": "stdout",
     "output_type": "stream",
     "text": [
      "loading users dataframe...\n"
     ]
    },
    {
     "name": "stderr",
     "output_type": "stream",
     "text": [
      "C:\\ProgramData\\Anaconda3\\lib\\site-packages\\IPython\\core\\interactiveshell.py:3147: DtypeWarning: Columns (13) have mixed types.Specify dtype option on import or set low_memory=False.\n",
      "  interactivity=interactivity, compiler=compiler, result=result)\n"
     ]
    }
   ],
   "source": [
    "users_url = file_url + \"/df_users.csv\"\n",
    "\n",
    "# Read the users csv\n",
    "print(\"loading users dataframe...\")\n",
    "df_users = pd.read_csv(users_url)\n",
    "\n",
    "# Drop unnecessary index column\n",
    "df_users.drop(\"Unnamed: 0\", axis=1, inplace=True)\n",
    "df_users.head()\n",
    "\n",
    "# Create dict that maps usernames to actual names\n",
    "mapping = dict(df_users[[\"username\",\"name\"]].values)\n",
    "mapping = {f'@{key}': value for key, value in mapping.items()}"
   ]
  },
  {
   "cell_type": "code",
   "execution_count": 49,
   "metadata": {},
   "outputs": [
    {
     "name": "stdout",
     "output_type": "stream",
     "text": [
      "loaded 181715 tweets!\n"
     ]
    }
   ],
   "source": [
    "def read_event_df(data_url):\n",
    "    # easy dataframe load\n",
    "    event_df = pd.read_csv(data_url, index_col=0)\n",
    "    event_df.reset_index(drop=True, inplace=True)\n",
    "    print(f'loaded {event_df.shape[0]} tweets!')\n",
    "    return event_df\n",
    "\n",
    "# pick the df \n",
    "event_df = read_event_df(tigray_url_raw)"
   ]
  },
  {
   "cell_type": "markdown",
   "metadata": {},
   "source": [
    "## 1. Coherent sentences: Removing non-syntactic information"
   ]
  },
  {
   "cell_type": "code",
   "execution_count": 50,
   "metadata": {},
   "outputs": [],
   "source": [
    "def clean_tweet(tweet):\n",
    "    '''\n",
    "    The goal of the function is to yield coherent sentences from raw tweets (without hashtags, URLs, emojis) \n",
    "    '''\n",
    "\n",
    "    #remove emojis, links \n",
    "    tweet = preprocessor.clean(tweet)\n",
    "    \n",
    "    \n",
    "    # we are using social tokenizer from ekphrasis due to potentially improper text structure\n",
    "    tweet = tokenizer(tweet)\n",
    "    \n",
    "    #removing the irrelevant hashtags and mention using the heuristic that mentions in the beginning of the tweet \n",
    "    # and at least 2 consecutive hashtags at the end of the tweet carry no valuable information\n",
    "    try:\n",
    "        while tweet[0].startswith('@'):\n",
    "            tweet.remove(tweet[0])\n",
    "\n",
    "        if tweet[-1].startswith('@') and tweet[-2].startswith('@'):\n",
    "            while tweet[-1].startswith('@'):\n",
    "                tweet.remove(tweet[-1])\n",
    "\n",
    "        if tweet[-1].startswith('#') and tweet[-2].startswith('#'):\n",
    "            while tweet[-1].startswith('#'):\n",
    "                tweet.remove(tweet[-1])\n",
    "                \n",
    "    except IndexError:\n",
    "        pass\n",
    "\n",
    "\n",
    "    #for hashtags that may carry information, we remove the # and split the word into more if applicable\n",
    "    for word in range(len(tweet)):\n",
    "        if tweet[word].startswith('#'):\n",
    "            tweet[word] = tweet[word].replace('#','')\n",
    "            tweet[word] = seg_eng.segment(tweet[word])\n",
    "\n",
    "        # potentially correct spelling - but it is not working very well - corrects numbers to weird words\n",
    "        #tweet[word] = spell_cor.correct(tweet[word])\n",
    "\n",
    "    # instead of .join we use detokenizer in order to reconstruct the cleaned sentence in a better way\n",
    "    #sample_df[twt] =  \" \".join(tweet) \n",
    "    tweet = detokenizer.detokenize(tweet)\n",
    "    \n",
    "    \n",
    "    #  tweets that end up being empty after preprocessing will cause problems when batching, replace empty tweet with 'no_tweet_text' which we can ignore later\n",
    "    tweet = 'no_tweet_text' if len(tweet)==0 else tweet\n",
    "    return tweet"
   ]
  },
  {
   "cell_type": "code",
   "execution_count": 51,
   "metadata": {},
   "outputs": [
    {
     "name": "stderr",
     "output_type": "stream",
     "text": [
      "100%|██████████| 181715/181715 [01:49<00:00, 1659.12it/s]\n"
     ]
    }
   ],
   "source": [
    "tqdm.pandas() # allowing progress bar on .apply method (== .progress_apply)\n",
    "event_df['text_coherent'] = event_df['text'].progress_apply(clean_tweet)"
   ]
  },
  {
   "cell_type": "markdown",
   "metadata": {},
   "source": [
    "### Replace @username by screen name"
   ]
  },
  {
   "cell_type": "code",
   "execution_count": 52,
   "metadata": {},
   "outputs": [
    {
     "name": "stderr",
     "output_type": "stream",
     "text": [
      "100%|██████████| 181715/181715 [00:01<00:00, 95650.93it/s] \n"
     ]
    }
   ],
   "source": [
    "def resolve_username_to_name(text):\n",
    "    new_text = text\n",
    "    for word in text.split(\" \"):\n",
    "        if word in mapping:\n",
    "            new_text = new_text.replace(word,mapping[word])\n",
    "    return new_text\n",
    "\n",
    "#tqdm.pandas()\n",
    "event_df['text_coherent'] = event_df['text_coherent'].progress_apply(resolve_username_to_name)"
   ]
  },
  {
   "cell_type": "code",
   "execution_count": 53,
   "metadata": {},
   "outputs": [],
   "source": [
    "# this code runs for around 14h per 100k tweets\n",
    "# event_df['event_corefs_resolved'] = cand_ex.replace_corefs(event_df['text_coherent'])"
   ]
  },
  {
   "cell_type": "markdown",
   "metadata": {},
   "source": [
    "### Remove Duplicate Tweets"
   ]
  },
  {
   "cell_type": "markdown",
   "metadata": {},
   "source": [
    "#### Exact Duplicates"
   ]
  },
  {
   "cell_type": "code",
   "execution_count": 54,
   "metadata": {},
   "outputs": [],
   "source": [
    "#event_df[event_df[\"text_coherent\"] == \"I just signed a @theactionnet petition: Urgently resettle child refugees from Greek islands . . Sign here :\"].sort_values(\"retweet_count\")"
   ]
  },
  {
   "cell_type": "code",
   "execution_count": 55,
   "metadata": {},
   "outputs": [
    {
     "data": {
      "text/plain": [
       "Consistent reports of ethnic - targeted violence, killings, massive looting, rape, forceful returns of refugees (to Eritrea). Innocent refugees should not be reprimanded.                                                                                                                   2313\n",
       ". @ethiotelecom has been weaponized against the people of Tigray . Unelected Abiy Ahmed Ali 🇪🇹 uses communication as a tool of war . Cease & desist all deals regarding infrastructure in Ethiopia until the tigray genocide investigations are complete . Vodacom                           1540\n",
       "\" Major Violations of International Law at Tigray Refugee Camps: U . N . \" Over 90,000 Eritreans who found save - heavens in tigray are the target of isaias.                                                                                                                                1469\n",
       "\" More than 500,000 tigraya | ns have lost their homes . Almost 60,000 have sought refugee status in neighboring Sudan . \"                                                                                                                                                                   1451\n",
       "\" Reports of ongoing massacres, mass rapes, looting of hospitals, large - scale destruction of property, and starvation as a tool of war continue to emerge . \" verified withdrawal of eritrea                                                                                               1419\n",
       "                                                                                                                                                                                                                                                                                             ... \n",
       "More than 50k tigri ans which are a member of national army and federal police are arrested by the dictator & unelected ethiopia gov . & There onley crimes is Bing tigrain, at d / f parts of the country.                                                                                     1\n",
       "You can' t judge someone for the way he / she thought 9 years ago . And what did you want her to say? Go to hell Eritrea? I also join her and say GOD BLESS ERITREA! We are against the regime that is forcing our youngsters to perish in his sick wars, not them not our country.             1\n",
       "and his govt . are assuming the lion' s share of responsibility to rebuild the infrastructure and security issues of Tigray.                                                                                                                                                                    1\n",
       "The delegation of Afghanistan asked The delegation of Ethiopia about cutting water from other countries, that concerns the refugees . nimun                                                                                                                                                     1\n",
       "All abuses need to be investigated, I' m just going to add that the \" Eritrean \" trolls marking this thread are also present within the Eritrean asylum seeking community in Libya . This activist also maintains \" Tunisia \" is not safe and refugees should be relocated to \" Europe \".       1\n",
       "Name: text_coherent, Length: 42853, dtype: int64"
      ]
     },
     "execution_count": 55,
     "metadata": {},
     "output_type": "execute_result"
    }
   ],
   "source": [
    "event_df[\"text_coherent\"].value_counts()"
   ]
  },
  {
   "cell_type": "code",
   "execution_count": 56,
   "metadata": {},
   "outputs": [
    {
     "data": {
      "text/html": [
       "<div>\n",
       "<style scoped>\n",
       "    .dataframe tbody tr th:only-of-type {\n",
       "        vertical-align: middle;\n",
       "    }\n",
       "\n",
       "    .dataframe tbody tr th {\n",
       "        vertical-align: top;\n",
       "    }\n",
       "\n",
       "    .dataframe thead th {\n",
       "        text-align: right;\n",
       "    }\n",
       "</style>\n",
       "<table border=\"1\" class=\"dataframe\">\n",
       "  <thead>\n",
       "    <tr style=\"text-align: right;\">\n",
       "      <th></th>\n",
       "      <th>text_coherent</th>\n",
       "      <th>retweet_count_sum</th>\n",
       "      <th>count</th>\n",
       "    </tr>\n",
       "  </thead>\n",
       "  <tbody>\n",
       "    <tr>\n",
       "      <th>0</th>\n",
       "      <td>! 1M + are displaced &amp; become aid dependent in...</td>\n",
       "      <td>7</td>\n",
       "      <td>1</td>\n",
       "    </tr>\n",
       "    <tr>\n",
       "      <th>1</th>\n",
       "      <td>! Hasn' t America heard that for the last half...</td>\n",
       "      <td>0</td>\n",
       "      <td>1</td>\n",
       "    </tr>\n",
       "    <tr>\n",
       "      <th>2</th>\n",
       "      <td>! unityfor ethiopia will not happen with a blo...</td>\n",
       "      <td>1</td>\n",
       "      <td>1</td>\n",
       "    </tr>\n",
       "    <tr>\n",
       "      <th>3</th>\n",
       "      <td>!! Alert mekele city tigray is now under Eritr...</td>\n",
       "      <td>0</td>\n",
       "      <td>1</td>\n",
       "    </tr>\n",
       "    <tr>\n",
       "      <th>4</th>\n",
       "      <td>!! As a well - respected peace - making nation...</td>\n",
       "      <td>0</td>\n",
       "      <td>1</td>\n",
       "    </tr>\n",
       "  </tbody>\n",
       "</table>\n",
       "</div>"
      ],
      "text/plain": [
       "                                       text_coherent  retweet_count_sum  count\n",
       "0  ! 1M + are displaced & become aid dependent in...                  7      1\n",
       "1  ! Hasn' t America heard that for the last half...                  0      1\n",
       "2  ! unityfor ethiopia will not happen with a blo...                  1      1\n",
       "3  !! Alert mekele city tigray is now under Eritr...                  0      1\n",
       "4  !! As a well - respected peace - making nation...                  0      1"
      ]
     },
     "execution_count": 56,
     "metadata": {},
     "output_type": "execute_result"
    }
   ],
   "source": [
    "## Group by tweet text\n",
    "event_df_grouped = event_df[[\"text_coherent\",\"retweet_count\"]].groupby(\"text_coherent\").agg({\"retweet_count\":[\"sum\",\"count\"]}).reset_index()\n",
    "event_df_grouped.columns = list(map(''.join, event_df_grouped.columns.values))\n",
    "event_df_grouped = event_df_grouped.rename(columns={\"retweet_countsum\":\"retweet_count_sum\",\"retweet_countcount\":\"count\"})\n",
    "event_df_grouped[\"retweet_count_sum\"] = event_df_grouped[\"retweet_count_sum\"] + event_df_grouped[\"count\"] - 1 #take into account that only the retweets of a similar tweet but also the tweet iself is supposed to be treated as a retweet\n",
    "event_df_grouped.head()"
   ]
  },
  {
   "cell_type": "code",
   "execution_count": 57,
   "metadata": {},
   "outputs": [],
   "source": [
    "## Remove duplicate tweets\n",
    "event_df_sorted = event_df.sort_values(\"created_at\") #df should be sorted by default but this step ensures that sorting is there\n",
    "event_df_no_dups = event_df_sorted.drop_duplicates(\"text_coherent\", keep=\"first\")"
   ]
  },
  {
   "cell_type": "code",
   "execution_count": 58,
   "metadata": {},
   "outputs": [],
   "source": [
    "## Merge grouped data together\n",
    "event_df_no_dups1 = pd.merge(left = event_df_no_dups,\n",
    "                             right = event_df_grouped,\n",
    "                             left_on = \"text_coherent\",\n",
    "                             right_on = \"text_coherent\",\n",
    "                             how = \"inner\")"
   ]
  },
  {
   "cell_type": "code",
   "execution_count": 59,
   "metadata": {},
   "outputs": [
    {
     "data": {
      "text/plain": [
       "True"
      ]
     },
     "execution_count": 59,
     "metadata": {},
     "output_type": "execute_result"
    }
   ],
   "source": [
    "# Check if numbers add up\n",
    "event_df_no_dups1[\"count\"].sum() == event_df.shape[0]"
   ]
  },
  {
   "cell_type": "markdown",
   "metadata": {},
   "source": [
    "#### Fuzzy Duplicates"
   ]
  },
  {
   "cell_type": "code",
   "execution_count": null,
   "metadata": {},
   "outputs": [],
   "source": []
  },
  {
   "cell_type": "code",
   "execution_count": 60,
   "metadata": {},
   "outputs": [],
   "source": [
    "event_df = event_df_no_dups1.copy()"
   ]
  },
  {
   "cell_type": "markdown",
   "metadata": {},
   "source": [
    "## 2. Alphanumeric text: Remove remaining special characters (apart from punctuation) and lowercase the text"
   ]
  },
  {
   "cell_type": "code",
   "execution_count": 61,
   "metadata": {},
   "outputs": [
    {
     "name": "stderr",
     "output_type": "stream",
     "text": [
      "100%|██████████| 42853/42853 [00:00<00:00, 89994.08it/s]\n"
     ]
    }
   ],
   "source": [
    "tqdm.pandas()\n",
    "event_df['text_alphanum'] = event_df['text_coherent'].progress_apply(lambda tweet:re.sub(r'[^A-Za-z0-9.!? ]+', '', tweet.lower()))"
   ]
  },
  {
   "cell_type": "markdown",
   "metadata": {},
   "source": [
    "## 3. STM"
   ]
  },
  {
   "cell_type": "markdown",
   "metadata": {},
   "source": [
    "### Remove named entities"
   ]
  },
  {
   "cell_type": "code",
   "execution_count": 62,
   "metadata": {},
   "outputs": [],
   "source": [
    "def remove_named_entities(tweet):\n",
    "    \n",
    "    doc = nlp(tweet)\n",
    "    \n",
    "    text_no_namedentities = []\n",
    "    ents = [e.text for e in doc.ents]\n",
    "    \n",
    "    for item in doc:\n",
    "        if item.text in ents:\n",
    "            pass\n",
    "        else:\n",
    "            text_no_namedentities.append(item.text)\n",
    "    \n",
    "    return \" \".join(text_no_namedentities)"
   ]
  },
  {
   "cell_type": "code",
   "execution_count": 63,
   "metadata": {},
   "outputs": [],
   "source": [
    "#event_df[\"text_no_ne\"] = event_df[\"text_coherent\"].progress_apply(lambda x: remove_named_entities(x))"
   ]
  },
  {
   "cell_type": "code",
   "execution_count": 64,
   "metadata": {},
   "outputs": [
    {
     "name": "stderr",
     "output_type": "stream",
     "text": [
      "[nltk_data] Downloading package punkt to\n",
      "[nltk_data]     C:\\Users\\jawo19ad\\AppData\\Roaming\\nltk_data...\n",
      "[nltk_data]   Package punkt is already up-to-date!\n",
      "[nltk_data] Downloading package stopwords to\n",
      "[nltk_data]     C:\\Users\\jawo19ad\\AppData\\Roaming\\nltk_data...\n",
      "[nltk_data]   Package stopwords is already up-to-date!\n",
      "[nltk_data] Downloading package wordnet to\n",
      "[nltk_data]     C:\\Users\\jawo19ad\\AppData\\Roaming\\nltk_data...\n",
      "[nltk_data]   Package wordnet is already up-to-date!\n"
     ]
    }
   ],
   "source": [
    "import nltk\n",
    "nltk.download('punkt')\n",
    "nltk.download('stopwords')\n",
    "nltk.download('wordnet')\n",
    "from nltk.tokenize import word_tokenize\n",
    "from nltk.corpus import stopwords\n",
    "from nltk.stem import WordNetLemmatizer\n",
    "\n",
    "def tokenization(df_col):\n",
    "    \"\"\"\n",
    "    Takes a list with strings and returns a list with tokens\n",
    "    \"\"\"\n",
    "    print(\"Tokenizing tweets...\\n\")\n",
    "    return df_col.apply(lambda x: word_tokenize(x))\n",
    "\n",
    "\n",
    "def lowercase(df_col):\n",
    "    \"\"\"\n",
    "    Returns all tokens in lowercase.\n",
    "    \"\"\"\n",
    "    print(\"Making all words lowercase...\\n\")\n",
    "    return df_col.apply(lambda x: [token.lower() for token in x])\n",
    "\n",
    "\n",
    "def only_alphabetic(df_col):\n",
    "    \"\"\"\n",
    "    Keeps only tokens which are alphabetic or an underscore and returns them.\n",
    "    \"\"\"\n",
    "    print(\"Removing all non-alphabetic words...\\n\")\n",
    "    return df_col.apply(lambda x: [token for token in x if re.match(\"^[a-zA-Z0_]*$\", token)])\n",
    "\n",
    "\n",
    "stop_words = set(stopwords.words('english'))\n",
    "stop_words.update([\"refugee\",\"refugees\",\"migrant\",\"migrants\",\"immigrant\",\"immigrants\",\n",
    "                   \"like\", \"would\",\"want\",\"take\",\"must\",\"well\",\"could\",\"even\",\"since\",\n",
    "                   \"also\",\"know\"])\n",
    "\n",
    "def stopword_removal(df_col):\n",
    "    \"\"\"\n",
    "    Removes all words considered as stopwords and all words that have a length of three or less.\n",
    "    \"\"\"\n",
    "    \n",
    "    print(\"Removing Stopwords...\\n\")\n",
    "\n",
    "    return df_col.apply(lambda x: [token for token in x if token not in stop_words and len(token) > 3])\n",
    "\n",
    "\n",
    "def lemmatization(df_col):\n",
    "    \"\"\"\n",
    "    Applies lemmatization to all tokens and returns them afterwards.\n",
    "    \"\"\"\n",
    "    \n",
    "    print(\"Lemmatizing words...\\n\")\n",
    "    lemmatizer = WordNetLemmatizer()\n",
    "    return df_col.apply(lambda x: [lemmatizer.lemmatize(token) for token in x])\n",
    "\n",
    "def preprocessing(df_col, *steps):\n",
    "    \"\"\"\n",
    "    Takes in a dataframe column with text and applies preprocessing steps given \n",
    "    in and returns a string.\n",
    "    \n",
    "    Input:\n",
    "    - df (dataframe): The dataframe containing the text column.\n",
    "    - steps (functions): Multiple functions for preprocessing can be given in.\n",
    "    \n",
    "    Output:\n",
    "    - List with strings.\n",
    "    \"\"\"\n",
    "    # copying over the column for preprocessing\n",
    "    temp = df_col.copy()\n",
    "    for func in steps:\n",
    "        temp = func(temp)\n",
    "    return temp.apply(lambda x: \" \".join([token for token in x]))"
   ]
  },
  {
   "cell_type": "code",
   "execution_count": 65,
   "metadata": {},
   "outputs": [
    {
     "name": "stdout",
     "output_type": "stream",
     "text": [
      "Tokenizing tweets...\n",
      "\n",
      "Making all words lowercase...\n",
      "\n",
      "Removing all non-alphabetic words...\n",
      "\n",
      "Removing Stopwords...\n",
      "\n",
      "Lemmatizing words...\n",
      "\n"
     ]
    }
   ],
   "source": [
    "event_df[\"text_stm\"] = preprocessing(event_df[\"text_coherent\"],\n",
    "                                            tokenization,\n",
    "                                            lowercase,\n",
    "                                            only_alphabetic,\n",
    "                                            stopword_removal,\n",
    "                                            lemmatization)"
   ]
  },
  {
   "cell_type": "code",
   "execution_count": 66,
   "metadata": {},
   "outputs": [],
   "source": [
    "#for raw, stm in zip(event_df[\"text\"], event_df[\"text_stm\"]):\n",
    "#    print(raw)\n",
    "#    print(stm)\n",
    "#    print(\"---------\")"
   ]
  },
  {
   "cell_type": "code",
   "execution_count": 67,
   "metadata": {},
   "outputs": [
    {
     "data": {
      "text/html": [
       "<div>\n",
       "<style scoped>\n",
       "    .dataframe tbody tr th:only-of-type {\n",
       "        vertical-align: middle;\n",
       "    }\n",
       "\n",
       "    .dataframe tbody tr th {\n",
       "        vertical-align: top;\n",
       "    }\n",
       "\n",
       "    .dataframe thead th {\n",
       "        text-align: right;\n",
       "    }\n",
       "</style>\n",
       "<table border=\"1\" class=\"dataframe\">\n",
       "  <thead>\n",
       "    <tr style=\"text-align: right;\">\n",
       "      <th></th>\n",
       "      <th>source</th>\n",
       "      <th>text</th>\n",
       "      <th>lang</th>\n",
       "      <th>id</th>\n",
       "      <th>created_at</th>\n",
       "      <th>author_id</th>\n",
       "      <th>retweet_count</th>\n",
       "      <th>reply_count</th>\n",
       "      <th>like_count</th>\n",
       "      <th>quote_count</th>\n",
       "      <th>...</th>\n",
       "      <th>refugee</th>\n",
       "      <th>migrant</th>\n",
       "      <th>immigrant</th>\n",
       "      <th>asylum_seeker</th>\n",
       "      <th>other</th>\n",
       "      <th>text_coherent</th>\n",
       "      <th>retweet_count_sum</th>\n",
       "      <th>count</th>\n",
       "      <th>text_alphanum</th>\n",
       "      <th>text_stm</th>\n",
       "    </tr>\n",
       "  </thead>\n",
       "  <tbody>\n",
       "    <tr>\n",
       "      <th>0</th>\n",
       "      <td>Twitter Web App</td>\n",
       "      <td>@FilippoGrandi Thank you for your statement......</td>\n",
       "      <td>en</td>\n",
       "      <td>1349868943800897537</td>\n",
       "      <td>2021-01-15 00:00:10+00:00</td>\n",
       "      <td>1325094884680765445</td>\n",
       "      <td>1</td>\n",
       "      <td>0</td>\n",
       "      <td>1</td>\n",
       "      <td>0</td>\n",
       "      <td>...</td>\n",
       "      <td>True</td>\n",
       "      <td>False</td>\n",
       "      <td>False</td>\n",
       "      <td>False</td>\n",
       "      <td>False</td>\n",
       "      <td>Thank you for your statement . . . Now what AC...</td>\n",
       "      <td>1</td>\n",
       "      <td>1</td>\n",
       "      <td>thank you for your statement . . . now what ac...</td>\n",
       "      <td>thank statement action taken civilian tigray u...</td>\n",
       "    </tr>\n",
       "    <tr>\n",
       "      <th>1</th>\n",
       "      <td>Twitter for iPhone</td>\n",
       "      <td>Action Now\\n#HumanitarianCorridor Now\\n#HumanR...</td>\n",
       "      <td>en</td>\n",
       "      <td>1349868980102696963</td>\n",
       "      <td>2021-01-15 00:00:18+00:00</td>\n",
       "      <td>1296598454</td>\n",
       "      <td>1</td>\n",
       "      <td>0</td>\n",
       "      <td>1</td>\n",
       "      <td>1</td>\n",
       "      <td>...</td>\n",
       "      <td>True</td>\n",
       "      <td>False</td>\n",
       "      <td>False</td>\n",
       "      <td>False</td>\n",
       "      <td>False</td>\n",
       "      <td>Action Now humanitarian corridor Now</td>\n",
       "      <td>1</td>\n",
       "      <td>1</td>\n",
       "      <td>action now humanitarian corridor now</td>\n",
       "      <td>action humanitarian corridor</td>\n",
       "    </tr>\n",
       "    <tr>\n",
       "      <th>2</th>\n",
       "      <td>Twitter Web App</td>\n",
       "      <td>\"@AUC_MoussaFaki has disregarded and violated ...</td>\n",
       "      <td>en</td>\n",
       "      <td>1349869527773933569</td>\n",
       "      <td>2021-01-15 00:02:29+00:00</td>\n",
       "      <td>1331304034230292482</td>\n",
       "      <td>0</td>\n",
       "      <td>0</td>\n",
       "      <td>0</td>\n",
       "      <td>0</td>\n",
       "      <td>...</td>\n",
       "      <td>True</td>\n",
       "      <td>False</td>\n",
       "      <td>False</td>\n",
       "      <td>False</td>\n",
       "      <td>False</td>\n",
       "      <td>\" Moussa Faki Mahamat has disregarded and viol...</td>\n",
       "      <td>73</td>\n",
       "      <td>55</td>\n",
       "      <td>moussa faki mahamat has disregarded and viola...</td>\n",
       "      <td>moussa faki mahamat disregarded violated inter...</td>\n",
       "    </tr>\n",
       "    <tr>\n",
       "      <th>3</th>\n",
       "      <td>Twitter for iPhone</td>\n",
       "      <td>@Refugees @zeaxumawit @FilippoGrandi But @anto...</td>\n",
       "      <td>en</td>\n",
       "      <td>1349870752070311936</td>\n",
       "      <td>2021-01-15 00:07:21+00:00</td>\n",
       "      <td>1325975568882479104</td>\n",
       "      <td>0</td>\n",
       "      <td>0</td>\n",
       "      <td>0</td>\n",
       "      <td>0</td>\n",
       "      <td>...</td>\n",
       "      <td>True</td>\n",
       "      <td>False</td>\n",
       "      <td>False</td>\n",
       "      <td>False</td>\n",
       "      <td>False</td>\n",
       "      <td>But António Guterres said there are no Eritrea...</td>\n",
       "      <td>0</td>\n",
       "      <td>1</td>\n",
       "      <td>but antnio guterres said there are no eritrean...</td>\n",
       "      <td>guterres said eritrean troop ethiopia need ret...</td>\n",
       "    </tr>\n",
       "    <tr>\n",
       "      <th>4</th>\n",
       "      <td>Twitter Web App</td>\n",
       "      <td>We call for global solidarity to STOP killings...</td>\n",
       "      <td>en</td>\n",
       "      <td>1349871059835744256</td>\n",
       "      <td>2021-01-15 00:08:34+00:00</td>\n",
       "      <td>1327215334097608704</td>\n",
       "      <td>4</td>\n",
       "      <td>0</td>\n",
       "      <td>8</td>\n",
       "      <td>1</td>\n",
       "      <td>...</td>\n",
       "      <td>True</td>\n",
       "      <td>False</td>\n",
       "      <td>False</td>\n",
       "      <td>False</td>\n",
       "      <td>False</td>\n",
       "      <td>We call for global solidarity to STOP killings...</td>\n",
       "      <td>4</td>\n",
       "      <td>1</td>\n",
       "      <td>we call for global solidarity to stop killings...</td>\n",
       "      <td>call global solidarity stop killing abduction ...</td>\n",
       "    </tr>\n",
       "  </tbody>\n",
       "</table>\n",
       "<p>5 rows × 30 columns</p>\n",
       "</div>"
      ],
      "text/plain": [
       "               source                                               text lang  \\\n",
       "0     Twitter Web App  @FilippoGrandi Thank you for your statement......   en   \n",
       "1  Twitter for iPhone  Action Now\\n#HumanitarianCorridor Now\\n#HumanR...   en   \n",
       "2     Twitter Web App  \"@AUC_MoussaFaki has disregarded and violated ...   en   \n",
       "3  Twitter for iPhone  @Refugees @zeaxumawit @FilippoGrandi But @anto...   en   \n",
       "4     Twitter Web App  We call for global solidarity to STOP killings...   en   \n",
       "\n",
       "                    id                 created_at            author_id  \\\n",
       "0  1349868943800897537  2021-01-15 00:00:10+00:00  1325094884680765445   \n",
       "1  1349868980102696963  2021-01-15 00:00:18+00:00           1296598454   \n",
       "2  1349869527773933569  2021-01-15 00:02:29+00:00  1331304034230292482   \n",
       "3  1349870752070311936  2021-01-15 00:07:21+00:00  1325975568882479104   \n",
       "4  1349871059835744256  2021-01-15 00:08:34+00:00  1327215334097608704   \n",
       "\n",
       "   retweet_count  reply_count  like_count  quote_count  ...  refugee migrant  \\\n",
       "0              1            0           1            0  ...     True   False   \n",
       "1              1            0           1            1  ...     True   False   \n",
       "2              0            0           0            0  ...     True   False   \n",
       "3              0            0           0            0  ...     True   False   \n",
       "4              4            0           8            1  ...     True   False   \n",
       "\n",
       "  immigrant asylum_seeker  other  \\\n",
       "0     False         False  False   \n",
       "1     False         False  False   \n",
       "2     False         False  False   \n",
       "3     False         False  False   \n",
       "4     False         False  False   \n",
       "\n",
       "                                       text_coherent  retweet_count_sum count  \\\n",
       "0  Thank you for your statement . . . Now what AC...                  1     1   \n",
       "1               Action Now humanitarian corridor Now                  1     1   \n",
       "2  \" Moussa Faki Mahamat has disregarded and viol...                 73    55   \n",
       "3  But António Guterres said there are no Eritrea...                  0     1   \n",
       "4  We call for global solidarity to STOP killings...                  4     1   \n",
       "\n",
       "                                       text_alphanum  \\\n",
       "0  thank you for your statement . . . now what ac...   \n",
       "1               action now humanitarian corridor now   \n",
       "2   moussa faki mahamat has disregarded and viola...   \n",
       "3  but antnio guterres said there are no eritrean...   \n",
       "4  we call for global solidarity to stop killings...   \n",
       "\n",
       "                                            text_stm  \n",
       "0  thank statement action taken civilian tigray u...  \n",
       "1                       action humanitarian corridor  \n",
       "2  moussa faki mahamat disregarded violated inter...  \n",
       "3  guterres said eritrean troop ethiopia need ret...  \n",
       "4  call global solidarity stop killing abduction ...  \n",
       "\n",
       "[5 rows x 30 columns]"
      ]
     },
     "execution_count": 67,
     "metadata": {},
     "output_type": "execute_result"
    }
   ],
   "source": [
    "event_df.head()"
   ]
  },
  {
   "cell_type": "code",
   "execution_count": 68,
   "metadata": {},
   "outputs": [
    {
     "data": {
      "text/plain": [
       "(42853, 30)"
      ]
     },
     "execution_count": 68,
     "metadata": {},
     "output_type": "execute_result"
    }
   ],
   "source": [
    "event_df.shape"
   ]
  },
  {
   "cell_type": "code",
   "execution_count": 69,
   "metadata": {},
   "outputs": [
    {
     "name": "stdout",
     "output_type": "stream",
     "text": [
      "-10 Billion FCFA disbursed to boost CAMWATER productivity\n",
      "-'Mali authorities use tear gas' at banned anti-France protest\n",
      "-Tigray crisis: 'Thousands of Eritrean refugees need water'\n",
      "-France rules out apology for Algeria colonial abuses\n",
      "https://t.co/289RgBRamO\n",
      "---\n",
      "- 10 Billion FCFA disbursed to boost CAMWATER productivity -' Mali authorities use tear gas' at banned anti - France protest - Tigray crisis :' Thousands of Eritrean refugees need water' - France rules out apology for Algeria colonial abuses\n",
      "---\n",
      "billion fcfa disbursed boost camwater productivity mali authority tear banned anti france protest tigray crisis thousand eritrean need water france rule apology algeria colonial abuse\n",
      "-----------------------------------\n",
      "Eritrean refugees forcibly returned to Eritrea by Eritrea troops #EritreanTroopsOutOfTigray https://t.co/RgQJEqW6cs\n",
      "---\n",
      "Eritrean refugees forcibly returned to Eritrea by Eritrea troops eritrean troops out of tigray\n",
      "---\n",
      "eritrean forcibly returned eritrea eritrea troop eritrean troop tigray\n",
      "-----------------------------------\n",
      "@meleshayelom @NataliaPasz Eritrean refugees not safe - \"Some Tigrayan people beat up my husband,\" the refugee said. \"People there were saying – 'your country is coming here and attacking us. So you - we will kill you too.' We were getting so scared.\"\n",
      "https://t.co/LMxiPkNQEd\n",
      "---\n",
      "Eritrean refugees not safe - \" Some Tigrayan people beat up my husband, \" the refugee said . \" People there were saying' your country is coming here and attacking us . So you - we will kill you too .' We were getting so scared . \"\n",
      "---\n",
      "eritrean safe tigrayan people beat husband said people saying country coming attacking kill getting scared\n",
      "-----------------------------------\n",
      "#TigrayGenocide \n",
      "We ask #Italy govt. to immediately end weapon sales agreement with Ethiopia - a country producing countless refugees by war on civilians. #ItalyGunsInTigray could contribute to the brutal Genocidal war in #Tigray.\n",
      "@antondepierro @ecdelre \n",
      "\n",
      "https://t.co/Ibc4NEaAO1\n",
      "---\n",
      "tigray genocide We ask italy govt . to immediately end weapon sales agreement with Ethiopia - a country producing countless refugees by war on civilians . italy guns in tigray could contribute to the brutal Genocidal war in tigray.\n",
      "---\n",
      "tigray genocide italy govt immediately weapon sale agreement ethiopia country producing countless civilian italy gun tigray contribute brutal genocidal tigray\n",
      "-----------------------------------\n",
      "10s of thousands of refugees due to #TigrayGenocide #TrudeauActNow @JustinTrudeau @MarcGarneau @ChevrierAntoine @karinagould #StopWarOnTigray #IStandWithTigray #StopAbiy https://t.co/eeMZ2swUPj\n",
      "---\n",
      "10s of thousands of refugees due to tigray genocide trudeau act now Justin Trudeau Marc Garneau @ChevrierAntoine Karina Gould\n",
      "---\n",
      "thousand tigray genocide trudeau justin trudeau marc garneau chevrierantoine karina gould\n",
      "-----------------------------------\n",
      "\"Eritreans are being sacrificed in the Ethiopian civil war\n",
      "\n",
      "What is glaringly missing from the discourse is that Eritreans are also dying in Tigray, in a war that is not theirs.\" \n",
      "\n",
      "@EU_Commission @GermanyDiplo @antonioguterres @JoeBiden @Freweini_Ghebre  \n",
      "https://t.co/pimWt0mcKi\n",
      "---\n",
      "\" Eritreans are being sacrificed in the Ethiopian civil war What is glaringly missing from the discourse is that Eritreans are also dying in Tigray, in a war that is not theirs . \"\n",
      "---\n",
      "eritrean sacrificed ethiopian civil glaringly missing discourse eritrean dying tigray\n",
      "-----------------------------------\n",
      "Bridges Update April  6: Ethiopia Genocide: G-7 Unites to Stop Genocide; Refugee Aid Distribution; and Beanie Babies Needed - https://t.co/eyIshHyzpR\n",
      "---\n",
      "Bridges Update April 6: Ethiopia Genocide: G - 7 Unites to Stop Genocide; Refugee Aid Distribution; and Beanie Babies Needed -\n",
      "---\n",
      "bridge update april ethiopia genocide unites stop genocide distribution beanie baby needed\n",
      "-----------------------------------\n",
      "@timnitGebru There is no wrong with me Timnit. Everyone who needs help must get help. My reaction was for those who are engaged in misinforming the world. By the way, I haven't heard refugees saying - they are displaced by TPLF. In Sudan they are talking as if they are displaced by the govt\n",
      "---\n",
      "There is no wrong with me Timnit . Everyone who needs help must get help . My reaction was for those who are engaged in misinforming the world . By the way, I haven' t heard refugees saying - they are displaced by TPLF . In Sudan they are talking as if they are displaced by the govt\n",
      "---\n",
      "wrong timnit everyone need help help reaction engaged misinforming world heard saying displaced tplf sudan talking displaced govt\n",
      "-----------------------------------\n",
      "Right in time for #WorldWaterDay: @IDMC_Geneva's report on #IDP's needs and pathways to #durable #solutions three years after #drought in #Ethiopia's Somali region triggered 300.000 #displacements. \n",
      "https://t.co/DxxH7J3EHx\n",
      "---\n",
      "Right in time for world water day: @IDMC_Geneva' s report on idp' s needs and pathways to durable solutions three years after drought in ethiopia' s Somali region triggered 300.000 displacements.\n",
      "---\n",
      "right time world water idmc_geneva report need pathway durable solution three year drought ethiopia somali region triggered displacement\n",
      "-----------------------------------\n",
      "Due to the conflict,the main road from Addis Ababa to Dessie has been closed: many people have been displaced! Everything is getting out of control\n",
      "\n",
      "More than 300 Amharas have been killed in this city this week\n",
      "\n",
      "#AmharaGenocide #Ethiopia @derspiegel @DailyMailUK @LaetitiaBader https://t.co/JnoU2cBa7Q\n",
      "---\n",
      "Due to the conflict, the main road from Addis Ababa to Dessie has been closed: many people have been displaced! Everything is getting out of control More than 300 Amharas have been killed in this city this week\n",
      "---\n",
      "conflict main road addis ababa dessie closed many people displaced everything getting control amhara killed city week\n",
      "-----------------------------------\n",
      "FilippoGrandi of @Refugees remains \"extremely troubled by the humanitarian situation in the Tigray region of Ethiopia and its impact on civilians, in particular Eritrean refugees hosted in the region.\" 70+ days and limited access remains. #TigrayGenocide @JoeBiden #BidenActNow\n",
      "---\n",
      "FilippoGrandi of UNHCR, the UN Refugee Agency remains \" extremely troubled by the humanitarian situation in the Tigray region of Ethiopia and its impact on civilians, in particular Eritrean refugees hosted in the region . \" 70 + days and limited access remains . tigray genocide Joe Biden biden act now\n",
      "---\n",
      "filippograndi unhcr agency remains extremely troubled humanitarian situation tigray region ethiopia impact civilian particular eritrean hosted region day limited access remains tigray genocide biden biden\n",
      "-----------------------------------\n",
      "Very disturbing and painful accounts of what happened to Eritrean refugees in Shimelba camp. Please watch the full video ⬇️ #EritreaOutOfTigray https://t.co/Xnb1t66le0 https://t.co/TIcj3lM0oz\n",
      "---\n",
      "Very disturbing and painful accounts of what happened to Eritrean refugees in Shimelba camp . Please watch the full video eritrea out of tigray\n",
      "---\n",
      "disturbing painful account happened eritrean shimelba camp please watch full video eritrea tigray\n",
      "-----------------------------------\n",
      "@pantherdevo Well shaebiya still stands after defeating there Ethiopian regimes. Still no unrest in Eritrea. And how many times do I have to tell you, tegaru immigrants claiming to be Eritreans መዓት ኢኹም. መባዝሕቲ ቁጽሪ\n",
      "---\n",
      "Well shaebiya still stands after defeating there Ethiopian regimes . Still no unrest in Eritrea . And how many times do I have to tell you, tegaru immigrants claiming to be Eritreans.\n",
      "---\n",
      "shaebiya still stand defeating ethiopian regime still unrest eritrea many time tell tegaru claiming eritrean\n",
      "-----------------------------------\n",
      "#TigrayGenocide\n",
      "#EritreaOutOfTigray\n",
      "#WarCrimesOnTigray #SanctionEthiopia #SanctionEritrea @POTUS @EU_Commission @JustinTrudeau @ABlinken @WorldBank @BBCWorld @nytimesworld @Reuters @CNN #Ethiopia war creating new 'refugee crisis', EU envoy warns https://t.co/xMf5Dy7bjw\n",
      "---\n",
      "tigray genocide eritrea out of tigray war crimes on tigray sanction ethiopia sanction eritrea President Biden European Commission 🇪🇺 Justin Trudeau Antony Blinken World Bank BBC News (World) New York Times World Reuters CNN ethiopia war creating new' refugee crisis', EU envoy warns\n",
      "---\n",
      "tigray genocide eritrea tigray crime tigray sanction ethiopia sanction eritrea president biden european commission justin trudeau antony blinken world bank news world york time world reuters ethiopia creating crisis envoy warns\n",
      "-----------------------------------\n",
      "@martinplaut Ethiopian Prime Minister @AbiyAhmedAli’s government has blocked aid workers from helping the refugees of his war on #Tigray\n",
      "---\n",
      "Ethiopian Prime Minister @AbiyAhmedAlis government has blocked aid workers from helping the refugees of his war on tigray\n",
      "---\n",
      "ethiopian prime minister abiyahmedalis government blocked worker helping tigray\n",
      "-----------------------------------\n",
      "#TPLF were ripping off refugees.\n",
      "\n",
      "Corrupt #UNHCR employees allowed this to happen. https://t.co/kh6Kicm0gX\n",
      "---\n",
      "tplf were ripping off refugees . Corrupt unhcr employees allowed this to happen.\n",
      "---\n",
      "tplf ripping corrupt unhcr employee allowed happen\n",
      "-----------------------------------\n",
      "Please #StopScapegoatingEritrea &amp; hold #TPLF accountable for #TPLFcrimes such as destroying refugee camps, killing #Eritreanrefugees, falsely accusing #Eritreantroops of war crimes, especially when #TPLFstartedTheWar \n",
      "\n",
      "@EU_Commission @Haavisto @JosepBorrellF @JuttaUrpilainen https://t.co/dllDSySRFJ\n",
      "---\n",
      "Please stop scapegoating eritrea & hold tplf accountable for tpl fcrimes such as destroying refugee camps, killing eritreanrefugees, falsely accusing eritreantroops of war crimes, especially when tpl fstarted the war\n",
      "---\n",
      "please stop scapegoating eritrea hold tplf accountable fcrimes destroying camp killing eritreanrefugees falsely accusing eritreantroops crime especially fstarted\n",
      "-----------------------------------\n",
      "Reality contradicted @AbiyAhmedAli's claim that deny Eritrea’s involvement in z war in Tigray, including foreign gov officials, a military general, aid workers, &amp; refugees in Sudan. Eritrea must withdraw its troops. #TigrayGenocide #UNSCActNow @FilippoGrandi @USUN @LindaT_G\n",
      "---\n",
      "Reality contradicted @AbiyAhmedAli' s claim that deny Eritreas involvement in z war in Tigray, including foreign gov officials, a military general, aid workers, & refugees in Sudan . Eritrea must withdraw its troops.\n",
      "---\n",
      "reality contradicted abiyahmedali claim deny eritrea involvement tigray including foreign official military general worker sudan eritrea withdraw troop\n",
      "-----------------------------------\n",
      "YesTrueAgreeRT “We are grateful to ECW for supporting conflict-affected children displaced to eastern Sudan to fulfill their right to a quality education.” @AbdullahAFadil @UNICEFSudan Rep.\n",
      "\n",
      "#ECW approves $2M to reach refugee children/youth in eastern #Sudan. Read More: https://t.co/gUvyPVuPXE\n",
      "---\n",
      "YesTrueAgreeRT We are grateful to ECW for supporting conflict - affected children displaced to eastern Sudan to fulfill their right to a quality education . Abdullah A. Fadil UNICEF Sudan Rep . ecw approves $2M to reach refugee children / youth in eastern sudan . Read More :\n",
      "---\n",
      "yestrueagreert grateful supporting conflict affected child displaced eastern sudan fulfill right quality education abdullah fadil unicef sudan approves reach child youth eastern sudan read\n",
      "-----------------------------------\n",
      "#TigrayGenocide \n",
      "4 countries and other regional states participated in Tigray genocide. Why international organisations ignored this situation? @UN @UNGeneva\n",
      "@EU_Commission @EUCouncil\n",
      "@amnesty @UNOCHA @hrw @Refugees @JoeBiden @AmbassadorRice @wallacemick @IntlCrimCourt @UNICEF\n",
      "---\n",
      "tigray genocide 4 countries and other regional states participated in Tigray genocide . Why international organisations ignored this situation?\n",
      "---\n",
      "tigray genocide country regional state participated tigray genocide international organisation ignored situation\n",
      "-----------------------------------\n",
      "When I say \"🇪🇷ns in Tigray\", I'm referring to the refugees (which I hated to say until recently b/c I firmly believed Tigray equally belonged to them). A lot of them are still hosted + protected by our families. Seeing ungrateful fellas hurts a lot.\n",
      "#RelocateEritreanRefugees\n",
      "---\n",
      "When I say \" ns in Tigray \", I' m referring to the refugees (which I hated to say until recently b / c I firmly believed Tigray equally belonged to them). A lot of them are still hosted + protected by our families . Seeing ungrateful fellas hurts a lot . relocate eritrean refugees\n",
      "---\n",
      "tigray referring hated recently firmly believed tigray equally belonged still hosted protected family seeing ungrateful fella hurt relocate eritrean\n",
      "-----------------------------------\n",
      "UN urgently relocate Eritrean refugees in Tigray!They are threatened daily,robbed, raped and killed by TPLF militias. They are in grave danger! @antonioguterres @JosepBorrellF @Haavisto @SecBlinken @UNHumanRights @UNRefugeeAgency \n",
      "@FilippoGrandi @UNGeneva\n",
      "#ProtectEritreanRefugees https://t.co/rRseVUglig https://t.co/CVzOMcYBtT\n",
      "---\n",
      "UN urgently relocate Eritrean refugees in Tigray! They are threatened daily, robbed, raped and killed by TPLF militias . They are in grave danger! António Guterres Josep Borrell Fontelles Pekka Haavisto Secretary Antony Blinken UN Human Rights USA for UNHCR Filippo Grandi UN Geneva protect eritrean refugees\n",
      "---\n",
      "urgently relocate eritrean tigray threatened daily robbed raped killed tplf militia grave danger guterres josep borrell fontelles pekka haavisto secretary antony blinken human right unhcr filippo grandi geneva protect eritrean\n",
      "-----------------------------------\n",
      "Multiple sources  contradict @AbiyAhmedAli 's denial of Eritrean involvement in Tigray, including foreign officials, aid workers, refugees in Sudan &amp; even an Ethiopian general in a video. Eritrean troops must withdraw #TigrayGenocide #UNSCActNow @FilippoGrandi @USUN @LindaT_G\n",
      "---\n",
      "Multiple sources contradict @AbiyAhmedAli' s denial of Eritrean involvement in Tigray, including foreign officials, aid workers, refugees in Sudan & even an Ethiopian general in a video . Eritrean troops must withdraw\n",
      "---\n",
      "multiple source contradict abiyahmedali denial eritrean involvement tigray including foreign official worker sudan ethiopian general video eritrean troop withdraw\n",
      "-----------------------------------\n",
      "\"From 'emaciated' refugees to crops burned on Z brink of harvest, starvation threatens the survivors of more than 2 months of fighting in Ethiopia’s Tigray region.\" Its now the 5th month and the situation is dire. #StopStarvingTigray @NorwayUN @Niger_ONU https://t.co/9ccxpu1y9K\n",
      "---\n",
      "\" From' emaciated' refugees to crops burned on Z brink of harvest, starvation threatens the survivors of more than 2 months of fighting in Ethiopias Tigray region . \" Its now the 5th month and the situation is dire . stop starving tigray\n",
      "---\n",
      "emaciated crop burned brink harvest starvation threatens survivor month fighting ethiopia tigray region month situation dire stop starving tigray\n",
      "-----------------------------------\n",
      "#UNSC #AmnestyInt. face z bitter reality.#TPLF SAMRI KILLER SQUAD MURDERED hundreds of Ethiopians in @MAIKADRA\n",
      "#TPLF attacked z North Division of Ethiopian Defense &amp; killed hundreds. #TPLF killed young Eritrean Refugees in Tigray\n",
      "#TPLFLies \n",
      "#EritreaPrevails \n",
      "#EthiopiaPrevails https://t.co/iY88lFfOOH\n",
      "---\n",
      "unsc amnesty int . face z bitter reality . tplf SAMRI KILLER SQUAD MURDERED hundreds of Ethiopians in @MAIKADRA tplf attacked z North Division of Ethiopian Defense & killed hundreds . tplf killed young Eritrean Refugees in Tigray\n",
      "---\n",
      "unsc amnesty face bitter reality tplf samri killer squad murdered hundred ethiopian maikadra tplf attacked north division ethiopian defense killed hundred tplf killed young eritrean tigray\n",
      "-----------------------------------\n"
     ]
    }
   ],
   "source": [
    "for i,line in event_df[[\"text\",\"text_coherent\",\"text_stm\"]].sample(25).iterrows():\n",
    "    print(line[\"text\"])\n",
    "    print(\"---\")\n",
    "    print(line[\"text_coherent\"])\n",
    "    print(\"---\")\n",
    "    print(line[\"text_stm\"])\n",
    "    print(\"-----------------------------------\")"
   ]
  },
  {
   "cell_type": "markdown",
   "metadata": {},
   "source": [
    "## Save the dataframe with clean text"
   ]
  },
  {
   "cell_type": "code",
   "execution_count": 70,
   "metadata": {},
   "outputs": [],
   "source": [
    "#event_df.to_csv(tigray_url_clean)"
   ]
  },
  {
   "cell_type": "code",
   "execution_count": null,
   "metadata": {},
   "outputs": [],
   "source": []
  }
 ],
 "metadata": {
  "kernelspec": {
   "display_name": "Python 3",
   "language": "python",
   "name": "python3"
  },
  "language_info": {
   "codemirror_mode": {
    "name": "ipython",
    "version": 3
   },
   "file_extension": ".py",
   "mimetype": "text/x-python",
   "name": "python",
   "nbconvert_exporter": "python",
   "pygments_lexer": "ipython3",
   "version": "3.7.9"
  }
 },
 "nbformat": 4,
 "nbformat_minor": 5
}
