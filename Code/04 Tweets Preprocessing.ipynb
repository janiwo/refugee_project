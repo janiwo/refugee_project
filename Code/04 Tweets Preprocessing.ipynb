{
 "cells": [
  {
   "cell_type": "markdown",
   "id": "100c1c31",
   "metadata": {},
   "source": [
    "# Tweets Preprocessing"
   ]
  },
  {
   "cell_type": "code",
   "execution_count": 1,
   "id": "9e4cc6cb",
   "metadata": {
    "scrolled": true
   },
   "outputs": [
    {
     "name": "stdout",
     "output_type": "stream",
     "text": [
      "Reading english - 1grams ...\n",
      "Reading english - 2grams ...\n"
     ]
    },
    {
     "name": "stderr",
     "output_type": "stream",
     "text": [
      "C:\\ProgramData\\Anaconda3\\lib\\site-packages\\ekphrasis\\classes\\exmanager.py:14: FutureWarning: Possible nested set at position 42\n",
      "  regexes = {k.lower(): re.compile(self.expressions[k]) for k, v in\n"
     ]
    }
   ],
   "source": [
    "# Import relevant libraries\n",
    "import pandas as pd\n",
    "import os\n",
    "import re\n",
    "from tqdm import tqdm\n",
    "\n",
    "import spacy\n",
    "nlp = spacy.load('en_core_web_sm', disable=['parser', 'tagger', 'textcat'])\n",
    "\n",
    "import candidate_extraction as cand_ex\n",
    "\n",
    "import preprocessor\n",
    "from ekphrasis.classes.tokenizer import Tokenizer\n",
    "from nltk.tokenize.treebank import TreebankWordDetokenizer \n",
    "from ekphrasis.classes.segmenter import Segmenter\n",
    "#from ekphrasis.classes.spellcorrect import SpellCorrector\n",
    "\n",
    "#more advanced tokenizer gives freedom to adjust the way tokens are split\n",
    "social_pipeline = [\"TAG\", \"EMAIL\", \"USER\", \"HASHTAG\", \"CASHTAG\", \"PHONE\", \"PERCENT\", \"NUMBER\",\"WORD\"]\n",
    "tokenizer = Tokenizer(pipeline = social_pipeline, lowercase=False).tokenize\n",
    "detokenizer = TreebankWordDetokenizer()\n",
    "\n",
    "#spell_cor = SpellCorrector(corpus=\"english\") # spell correction not used \n",
    "seg_eng = Segmenter(corpus=\"english\") \n",
    "\n",
    "# preprocessor should remove emojis and urls in the tweets\n",
    "preprocessor.set_options(preprocessor.OPT.URL, preprocessor.OPT.EMOJI)"
   ]
  },
  {
   "cell_type": "code",
   "execution_count": 2,
   "id": "45f4a502",
   "metadata": {},
   "outputs": [],
   "source": [
    "file_url = os.getcwd() + \"/../../../../\" + r\"/Dropbox (CBS)/Master thesis data/\"\n",
    "event_url = file_url + r\"Event Dataframes/\"\n",
    "event_url_raw = event_url + r\"Raw/\"\n",
    "event_url_clean = event_url + r\"Clean/\""
   ]
  },
  {
   "cell_type": "code",
   "execution_count": 3,
   "id": "358ff5fd",
   "metadata": {},
   "outputs": [],
   "source": [
    "tigray_url_raw = event_url_raw + r\"df_tigray.csv\" # location of Tigray dataset\n",
    "greece_url_raw = event_url_raw + r\"df_greece.csv\" # location of Greece dataset\n",
    "rohingya_url_raw = event_url_raw + r\"df_rohingya.csv\" # location of Rohingya dataset\n",
    "moria_url_raw = event_url_raw + r\"df_moria.csv\" # location of Moria dataset (for testing)\n",
    "\n",
    "tigray_url_clean = event_url_clean + r\"df_tigray_clean.csv\" # location of clean Tigray dataset\n",
    "greece_url_clean = event_url_clean + r\"df_greece_clean.csv\" # location of clean Greece dataset\n",
    "rohingya_url_clean = event_url_clean + r\"df_rohingya_clean.csv\" # location clean of Rohingya dataset\n",
    "moria_url_clean = event_url_clean + r\"df_moria_clean.csv\" # location of clean Moria dataset (for testing)"
   ]
  },
  {
   "cell_type": "code",
   "execution_count": 29,
   "id": "629368a2",
   "metadata": {},
   "outputs": [
    {
     "name": "stdout",
     "output_type": "stream",
     "text": [
      "loaded 137462 tweets!\n"
     ]
    }
   ],
   "source": [
    "def read_event_df(data_url):\n",
    "    # easy dataframe load\n",
    "    event_df = pd.read_csv(data_url, index_col=0)\n",
    "    event_df.reset_index(drop=True, inplace=True)\n",
    "    print(f'loaded {event_df.shape[0]} tweets!')\n",
    "    return event_df\n",
    "\n",
    "# pick the df \n",
    "event_df = read_event_df(greece_url_clean)"
   ]
  },
  {
   "cell_type": "markdown",
   "id": "6e4f840c",
   "metadata": {},
   "source": [
    "## 1. Coherent sentences: Removing non-syntactic information"
   ]
  },
  {
   "cell_type": "code",
   "execution_count": 9,
   "id": "eeb085b9",
   "metadata": {},
   "outputs": [],
   "source": [
    "def clean_tweet(tweet):\n",
    "    '''\n",
    "    The goal of the function is to yield coherent sentences from raw tweets (without hashtags, URLs, emojis) \n",
    "    '''\n",
    "\n",
    "    #remove emojis, links \n",
    "    tweet = preprocessor.clean(tweet)\n",
    "    \n",
    "    \n",
    "    # we are using social tokenizer from ekphrasis due to potentially improper text structure\n",
    "    tweet = tokenizer(tweet)\n",
    "    \n",
    "    #removing the irrelevant hashtags and mention using the heuristic that mentions in the beginning of the tweet \n",
    "    # and at least 2 consecutive hashtags at the end of the tweet carry no valuable information\n",
    "    try:\n",
    "        while tweet[0].startswith('@'):\n",
    "            tweet.remove(tweet[0])\n",
    "\n",
    "        if tweet[-1].startswith('@') and tweet[-2].startswith('@'):\n",
    "            while tweet[-1].startswith('@'):\n",
    "                tweet.remove(tweet[-1])\n",
    "\n",
    "        if tweet[-1].startswith('#') and tweet[-2].startswith('#'):\n",
    "            while tweet[-1].startswith('#'):\n",
    "                tweet.remove(tweet[-1])\n",
    "                \n",
    "    except IndexError:\n",
    "        pass\n",
    "\n",
    "\n",
    "    #for hashtags that may carry information, we remove the # and split the word into more if applicable\n",
    "    for word in range(len(tweet)):\n",
    "        if tweet[word].startswith('#'):\n",
    "            tweet[word] = tweet[word].replace('#','')\n",
    "            tweet[word] = seg_eng.segment(tweet[word])\n",
    "\n",
    "        # potentially correct spelling - but it is not working very well - corrects numbers to weird words\n",
    "        #tweet[word] = spell_cor.correct(tweet[word])\n",
    "\n",
    "    # instead of .join we use detokenizer in order to reconstruct the cleaned sentence in a better way\n",
    "    #sample_df[twt] =  \" \".join(tweet) \n",
    "    tweet = detokenizer.detokenize(tweet)\n",
    "    \n",
    "    \n",
    "    #  tweets that end up being empty after preprocessing will cause problems when batching, replace empty tweet with 'no_tweet_text' which we can ignore later\n",
    "    tweet = 'no_tweet_text' if len(tweet)==0 else tweet\n",
    "    return tweet"
   ]
  },
  {
   "cell_type": "code",
   "execution_count": 10,
   "id": "953df00c",
   "metadata": {},
   "outputs": [
    {
     "name": "stderr",
     "output_type": "stream",
     "text": [
      "C:\\ProgramData\\Anaconda3\\lib\\site-packages\\tqdm\\std.py:697: FutureWarning: The Panel class is removed from pandas. Accessing it from the top-level namespace will also be removed in the next version\n",
      "  from pandas import Panel\n",
      "100%|██████████| 175900/175900 [01:36<00:00, 1831.84it/s]\n"
     ]
    }
   ],
   "source": [
    "tqdm.pandas() # allowing progress bar on .apply method (== .progress_apply)\n",
    "event_df['text_coherent'] = event_df['text'].progress_apply(clean_tweet)"
   ]
  },
  {
   "cell_type": "markdown",
   "id": "b1d17c83",
   "metadata": {},
   "source": [
    "### Replace @username by screen name"
   ]
  },
  {
   "cell_type": "code",
   "execution_count": 11,
   "id": "43bb1fd4",
   "metadata": {},
   "outputs": [
    {
     "name": "stdout",
     "output_type": "stream",
     "text": [
      "loading users dataframe...\n"
     ]
    },
    {
     "name": "stderr",
     "output_type": "stream",
     "text": [
      "C:\\ProgramData\\Anaconda3\\lib\\site-packages\\IPython\\core\\interactiveshell.py:3147: DtypeWarning: Columns (13) have mixed types.Specify dtype option on import or set low_memory=False.\n",
      "  interactivity=interactivity, compiler=compiler, result=result)\n",
      "100%|██████████| 175900/175900 [00:01<00:00, 102149.27it/s]\n"
     ]
    }
   ],
   "source": [
    "users_url = file_url + \"/df_users.csv\"\n",
    "\n",
    "# Read the users csv\n",
    "print(\"loading users dataframe...\")\n",
    "df_users = pd.read_csv(users_url)\n",
    "\n",
    "# Drop unnecessary index column\n",
    "df_users.drop(\"Unnamed: 0\", axis=1, inplace=True)\n",
    "df_users.head()\n",
    "\n",
    "# Create dict that maps usernames to actual names\n",
    "mapping = dict(df_users[[\"username\",\"name\"]].values)\n",
    "mapping = {f'@{key}': value for key, value in mapping.items()}\n",
    "\n",
    "\n",
    "def resolve_username_to_name(text):\n",
    "    new_text = text\n",
    "    for word in text.split(\" \"):\n",
    "        if word in mapping:\n",
    "            new_text = new_text.replace(word,mapping[word])\n",
    "    return new_text\n",
    "\n",
    "#tqdm.pandas()\n",
    "event_df['text_coherent'] = event_df['text_coherent'].progress_apply(resolve_username_to_name)"
   ]
  },
  {
   "cell_type": "code",
   "execution_count": null,
   "id": "a1e310e3",
   "metadata": {},
   "outputs": [],
   "source": [
    "# this code runs for around 14h per 100k tweets\n",
    "# event_df['event_corefs_resolved'] = cand_ex.replace_corefs(event_df['text_coherent'])"
   ]
  },
  {
   "cell_type": "markdown",
   "id": "2fe747d8",
   "metadata": {},
   "source": [
    "### Remove Duplicate Tweets"
   ]
  },
  {
   "cell_type": "markdown",
   "id": "72b00b17",
   "metadata": {},
   "source": [
    "#### Exact Duplicates"
   ]
  },
  {
   "cell_type": "code",
   "execution_count": null,
   "id": "2cfd671a",
   "metadata": {},
   "outputs": [],
   "source": [
    "#event_df[event_df[\"text_coherent\"] == \"I just signed a @theactionnet petition: Urgently resettle child refugees from Greek islands . . Sign here :\"].sort_values(\"retweet_count\")"
   ]
  },
  {
   "cell_type": "code",
   "execution_count": 12,
   "id": "0df52daa",
   "metadata": {},
   "outputs": [
    {
     "data": {
      "text/plain": [
       "I just signed a @theactionnet petition: Urgently resettle child refugees from Greek islands . . Sign here :                                                                                                                                                                                   879\n",
       "1 - Turkey has started a rightful operation against Syrian Regime to protect its borders after the vicious attacks by Syrian Regime against civilians in Turkey controlled zones . 2 - Turkey has opened its doors to Europe for 72 hours . All immigrants are free to pass!                  721\n",
       "Hi EUHomeAffairs @Place_Beauvau Bundesministerium des Innern, für Bau und Heimat @foreignoffice @Justitiedep @ministerieJenV thousands of refugees are at risk of covid 19 on Greek islands due to crowded unsanitary conditions . Will you act now to leave no one behind and save lives?    479\n",
       "Please . . We are Iraqi refugees in Turkey from 2014 to 2015 and so far we have not got a homeland . . Put yourselves in our place . . Our situation is bad and our children their future is unknown . . We want a homeland . . Please help us . stand with iraqi refugees in Turkey.         257\n",
       ". Secretary Pompeo the State Department must speak clearly and unequivocally to Turkey asymmetric warfare, weaponization of migrants, and hostage politics must be condemned by the United States!                                                                                            230\n",
       "                                                                                                                                                                                                                                                                                             ... \n",
       "Read this again and again . The refugee issue is not only Turkey' s issue! The whole world is responsible and has the take action for that . Stop blaming and do something this people.                                                                                                         1\n",
       "The European Parliaments former Turkey rapporteur, Kati Piri, has said in a statement on Twitter that the European Union failed to uphold its end of the 2016 migrant deal with turkey.                                                                                                         1\n",
       "What are govts doing about health of Undocumented migrants during COVID19 outbreak . There are thousands of people in each European country . Many countries have made it illegal to be undocumented . I think an EU level policy brief should be sent.                                         1\n",
       "Anything to say about turkey and how it uses illegal migrants to invade greece? We don' t give a fuck about your propaganda.                                                                                                                                                                    1\n",
       "Erdoan Declares this IS an Islamic' Holy' War! Amid the Chinese Corona pandemic, Turkish forces attack Greece with tear gas & Erdoan' s migrant army . Watch Erdoan admit his motive behind the migrant invasion, MSM refuses to report his OWN words - - - >                                   1\n",
       "Name: text_coherent, Length: 137462, dtype: int64"
      ]
     },
     "execution_count": 12,
     "metadata": {},
     "output_type": "execute_result"
    }
   ],
   "source": [
    "event_df[\"text_coherent\"].value_counts()"
   ]
  },
  {
   "cell_type": "code",
   "execution_count": 13,
   "id": "56d1f18c",
   "metadata": {},
   "outputs": [
    {
     "data": {
      "text/html": [
       "<div>\n",
       "<style scoped>\n",
       "    .dataframe tbody tr th:only-of-type {\n",
       "        vertical-align: middle;\n",
       "    }\n",
       "\n",
       "    .dataframe tbody tr th {\n",
       "        vertical-align: top;\n",
       "    }\n",
       "\n",
       "    .dataframe thead th {\n",
       "        text-align: right;\n",
       "    }\n",
       "</style>\n",
       "<table border=\"1\" class=\"dataframe\">\n",
       "  <thead>\n",
       "    <tr style=\"text-align: right;\">\n",
       "      <th></th>\n",
       "      <th>text_coherent</th>\n",
       "      <th>retweet_count_sum</th>\n",
       "      <th>count</th>\n",
       "    </tr>\n",
       "  </thead>\n",
       "  <tbody>\n",
       "    <tr>\n",
       "      <th>0</th>\n",
       "      <td>! \" Trump plans to use COVID - 19 pandemic as ...</td>\n",
       "      <td>2</td>\n",
       "      <td>1</td>\n",
       "    </tr>\n",
       "    <tr>\n",
       "      <th>1</th>\n",
       "      <td>! Attention! To All Syrian Refugees: If you op...</td>\n",
       "      <td>0</td>\n",
       "      <td>1</td>\n",
       "    </tr>\n",
       "    <tr>\n",
       "      <th>2</th>\n",
       "      <td>! The public &amp; the rest of the world isnt supp...</td>\n",
       "      <td>0</td>\n",
       "      <td>1</td>\n",
       "    </tr>\n",
       "    <tr>\n",
       "      <th>3</th>\n",
       "      <td>! To the attention of the Assad regime support...</td>\n",
       "      <td>1</td>\n",
       "      <td>1</td>\n",
       "    </tr>\n",
       "    <tr>\n",
       "      <th>4</th>\n",
       "      <td>!! Turkey claims one migrant was killed by Gre...</td>\n",
       "      <td>59</td>\n",
       "      <td>1</td>\n",
       "    </tr>\n",
       "  </tbody>\n",
       "</table>\n",
       "</div>"
      ],
      "text/plain": [
       "                                       text_coherent  retweet_count_sum  count\n",
       "0  ! \" Trump plans to use COVID - 19 pandemic as ...                  2      1\n",
       "1  ! Attention! To All Syrian Refugees: If you op...                  0      1\n",
       "2  ! The public & the rest of the world isnt supp...                  0      1\n",
       "3  ! To the attention of the Assad regime support...                  1      1\n",
       "4  !! Turkey claims one migrant was killed by Gre...                 59      1"
      ]
     },
     "execution_count": 13,
     "metadata": {},
     "output_type": "execute_result"
    }
   ],
   "source": [
    "## Group by tweet text\n",
    "event_df_grouped = event_df[[\"text_coherent\",\"retweet_count\"]].groupby(\"text_coherent\").agg({\"retweet_count\":[\"sum\",\"count\"]}).reset_index()\n",
    "event_df_grouped.columns = list(map(''.join, event_df_grouped.columns.values))\n",
    "event_df_grouped = event_df_grouped.rename(columns={\"retweet_countsum\":\"retweet_count_sum\",\"retweet_countcount\":\"count\"})\n",
    "event_df_grouped[\"retweet_count_sum\"] = event_df_grouped[\"retweet_count_sum\"] + event_df_grouped[\"count\"] - 1 #take into account that only the retweets of a similar tweet but also the tweet iself is supposed to be treated as a retweet\n",
    "event_df_grouped.head()"
   ]
  },
  {
   "cell_type": "code",
   "execution_count": 14,
   "id": "fb0a82bd",
   "metadata": {},
   "outputs": [],
   "source": [
    "## Remove duplicate tweets\n",
    "event_df_sorted = event_df.sort_values(\"created_at\") #df should be sortedby default but this step ensures that sorting is there\n",
    "event_df_no_dups = event_df_sorted.drop_duplicates(\"text_coherent\", keep=\"first\")"
   ]
  },
  {
   "cell_type": "code",
   "execution_count": 15,
   "id": "9c293384",
   "metadata": {},
   "outputs": [],
   "source": [
    "## Merge grouped data together\n",
    "event_df_no_dups1 = pd.merge(left = event_df_no_dups,\n",
    "                             right = event_df_grouped,\n",
    "                             left_on = \"text_coherent\",\n",
    "                             right_on = \"text_coherent\",\n",
    "                             how = \"inner\")"
   ]
  },
  {
   "cell_type": "code",
   "execution_count": 16,
   "id": "8c60a332",
   "metadata": {},
   "outputs": [
    {
     "data": {
      "text/plain": [
       "True"
      ]
     },
     "execution_count": 16,
     "metadata": {},
     "output_type": "execute_result"
    }
   ],
   "source": [
    "# Check if numbers add up\n",
    "event_df_no_dups1[\"count\"].sum() == event_df.shape[0]"
   ]
  },
  {
   "cell_type": "markdown",
   "id": "dd549d60",
   "metadata": {},
   "source": [
    "#### Fuzzy Duplicates"
   ]
  },
  {
   "cell_type": "code",
   "execution_count": null,
   "id": "802e6e02",
   "metadata": {},
   "outputs": [],
   "source": []
  },
  {
   "cell_type": "code",
   "execution_count": 17,
   "id": "9191d498",
   "metadata": {},
   "outputs": [],
   "source": [
    "event_df = event_df_no_dups1.copy()"
   ]
  },
  {
   "cell_type": "markdown",
   "id": "2658712a",
   "metadata": {},
   "source": [
    "## 2. Alphanumeric text: Remove remaining special characters (apart from punctuation) and lowercase the text"
   ]
  },
  {
   "cell_type": "code",
   "execution_count": 31,
   "id": "c41bfd78",
   "metadata": {},
   "outputs": [
    {
     "name": "stderr",
     "output_type": "stream",
     "text": [
      "100%|██████████████████████████████████████████████████████████████████████| 137462/137462 [00:01<00:00, 125079.82it/s]\n"
     ]
    }
   ],
   "source": [
    "tqdm.pandas()\n",
    "event_df['text_alphanum'] = event_df['text_coherent'].progress_apply(lambda tweet:re.sub(r'[^A-Za-z0-9.!? ]+', '', tweet.lower()))"
   ]
  },
  {
   "cell_type": "markdown",
   "id": "1145541c",
   "metadata": {},
   "source": [
    "## 3. STM"
   ]
  },
  {
   "cell_type": "markdown",
   "id": "b7fbf9ae",
   "metadata": {},
   "source": [
    "### Remove named entities"
   ]
  },
  {
   "cell_type": "code",
   "execution_count": 25,
   "id": "14ecdcea",
   "metadata": {},
   "outputs": [],
   "source": [
    "def remove_named_entities(tweet):\n",
    "    \n",
    "    doc = nlp(tweet)\n",
    "    \n",
    "    text_no_namedentities = []\n",
    "    ents = [e.text for e in doc.ents]\n",
    "    \n",
    "    for item in doc:\n",
    "        if item.text in ents:\n",
    "            pass\n",
    "        else:\n",
    "            text_no_namedentities.append(item.text)\n",
    "    \n",
    "    return \" \".join(text_no_namedentities)"
   ]
  },
  {
   "cell_type": "code",
   "execution_count": 26,
   "id": "af94e36b",
   "metadata": {},
   "outputs": [
    {
     "name": "stderr",
     "output_type": "stream",
     "text": [
      "100%|██████████| 137462/137462 [30:48<00:00, 74.37it/s]\n"
     ]
    }
   ],
   "source": [
    "event_df[\"text_no_ne\"] = event_df[\"text_coherent\"].progress_apply(lambda x: remove_named_entities(x))"
   ]
  },
  {
   "cell_type": "code",
   "execution_count": 34,
   "id": "884bff1c",
   "metadata": {},
   "outputs": [
    {
     "name": "stderr",
     "output_type": "stream",
     "text": [
      "[nltk_data] Downloading package punkt to\n",
      "[nltk_data]     C:\\Users\\jawo19ad\\AppData\\Roaming\\nltk_data...\n",
      "[nltk_data]   Package punkt is already up-to-date!\n",
      "[nltk_data] Downloading package stopwords to\n",
      "[nltk_data]     C:\\Users\\jawo19ad\\AppData\\Roaming\\nltk_data...\n",
      "[nltk_data]   Package stopwords is already up-to-date!\n",
      "[nltk_data] Downloading package wordnet to\n",
      "[nltk_data]     C:\\Users\\jawo19ad\\AppData\\Roaming\\nltk_data...\n",
      "[nltk_data]   Package wordnet is already up-to-date!\n"
     ]
    }
   ],
   "source": [
    "import nltk\n",
    "nltk.download('punkt')\n",
    "nltk.download('stopwords')\n",
    "nltk.download('wordnet')\n",
    "from nltk.tokenize import word_tokenize\n",
    "from nltk.corpus import stopwords\n",
    "from nltk.stem import WordNetLemmatizer\n",
    "\n",
    "def tokenization(df_col):\n",
    "    \"\"\"\n",
    "    Takes a list with strings and returns a list with tokens\n",
    "    \"\"\"\n",
    "    print(\"Tokenizing tweets...\\n\")\n",
    "    return df_col.apply(lambda x: word_tokenize(x))\n",
    "\n",
    "\n",
    "def lowercase(df_col):\n",
    "    \"\"\"\n",
    "    Returns all tokens in lowercase.\n",
    "    \"\"\"\n",
    "    print(\"Making all words lowercase...\\n\")\n",
    "    return df_col.apply(lambda x: [token.lower() for token in x])\n",
    "\n",
    "\n",
    "def only_alphabetic(df_col):\n",
    "    \"\"\"\n",
    "    Keeps only tokens which are alphabetic or an underscore and returns them.\n",
    "    \"\"\"\n",
    "    print(\"Removing all non-alphabetic words...\\n\")\n",
    "    return df_col.apply(lambda x: [token for token in x if re.match(\"^[a-zA-Z0_]*$\", token)])\n",
    "\n",
    "\n",
    "stop_words = set(stopwords.words('english'))\n",
    "stop_words.update([\"refugee\",\"refugees\",\"migrant\",\"migrants\",\"immigrant\",\"immigrants\",\n",
    "                   \"like\", \"would\",\"want\",\"take\",\"must\",\"well\",\"could\",\"even\",\"since\",\n",
    "                   \"also\",\"know\"])\n",
    "\n",
    "def stopword_removal(df_col):\n",
    "    \"\"\"\n",
    "    Removes all words considered as stopwords and all words that have a length of three or less.\n",
    "    \"\"\"\n",
    "    \n",
    "    print(\"Removing Stopwords...\\n\")\n",
    "\n",
    "    return df_col.apply(lambda x: [token for token in x if token not in stop_words and len(token) > 3])\n",
    "\n",
    "\n",
    "def lemmatization(df_col):\n",
    "    \"\"\"\n",
    "    Applies lemmatization to all tokens and returns them afterwards.\n",
    "    \"\"\"\n",
    "    \n",
    "    print(\"Lemmatizing words...\\n\")\n",
    "    lemmatizer = WordNetLemmatizer()\n",
    "    return df_col.apply(lambda x: [lemmatizer.lemmatize(token) for token in x])\n",
    "\n",
    "def preprocessing(df_col, *steps):\n",
    "    \"\"\"\n",
    "    Takes in a dataframe column with text and applies preprocessing steps given \n",
    "    in and returns a string.\n",
    "    \n",
    "    Input:\n",
    "    - df (dataframe): The dataframe containing the text column.\n",
    "    - steps (functions): Multiple functions for preprocessing can be given in.\n",
    "    \n",
    "    Output:\n",
    "    - List with strings.\n",
    "    \"\"\"\n",
    "    # copying over the column for preprocessing\n",
    "    temp = df_col.copy()\n",
    "    for func in steps:\n",
    "        temp = func(temp)\n",
    "    return temp.apply(lambda x: \" \".join([token for token in x]))"
   ]
  },
  {
   "cell_type": "code",
   "execution_count": 35,
   "id": "e664e9b5",
   "metadata": {},
   "outputs": [
    {
     "name": "stdout",
     "output_type": "stream",
     "text": [
      "Tokenizing tweets...\n",
      "\n",
      "Making all words lowercase...\n",
      "\n",
      "Removing all non-alphabetic words...\n",
      "\n",
      "Removing Stopwords...\n",
      "\n",
      "Lemmatizing words...\n",
      "\n"
     ]
    }
   ],
   "source": [
    "event_df[\"text_stm\"] = preprocessing(event_df[\"text_no_ne\"],\n",
    "                                            tokenization,\n",
    "                                            lowercase,\n",
    "                                            only_alphabetic,\n",
    "                                            stopword_removal,\n",
    "                                            lemmatization)"
   ]
  },
  {
   "cell_type": "code",
   "execution_count": 36,
   "id": "5aea9546",
   "metadata": {},
   "outputs": [],
   "source": [
    "#for raw, stm in zip(event_df[\"text\"], event_df[\"text_stm\"]):\n",
    "#    print(raw)\n",
    "#    print(stm)\n",
    "#    print(\"---------\")"
   ]
  },
  {
   "cell_type": "code",
   "execution_count": 37,
   "id": "36cf98e8",
   "metadata": {},
   "outputs": [
    {
     "data": {
      "text/html": [
       "<div>\n",
       "<style scoped>\n",
       "    .dataframe tbody tr th:only-of-type {\n",
       "        vertical-align: middle;\n",
       "    }\n",
       "\n",
       "    .dataframe tbody tr th {\n",
       "        vertical-align: top;\n",
       "    }\n",
       "\n",
       "    .dataframe thead th {\n",
       "        text-align: right;\n",
       "    }\n",
       "</style>\n",
       "<table border=\"1\" class=\"dataframe\">\n",
       "  <thead>\n",
       "    <tr style=\"text-align: right;\">\n",
       "      <th></th>\n",
       "      <th>source</th>\n",
       "      <th>text</th>\n",
       "      <th>lang</th>\n",
       "      <th>id</th>\n",
       "      <th>created_at</th>\n",
       "      <th>author_id</th>\n",
       "      <th>retweet_count</th>\n",
       "      <th>reply_count</th>\n",
       "      <th>like_count</th>\n",
       "      <th>quote_count</th>\n",
       "      <th>...</th>\n",
       "      <th>immigrant</th>\n",
       "      <th>asylum_seeker</th>\n",
       "      <th>other</th>\n",
       "      <th>date</th>\n",
       "      <th>text_coherent</th>\n",
       "      <th>retweet_count_sum</th>\n",
       "      <th>count</th>\n",
       "      <th>text_no_ne</th>\n",
       "      <th>text_alphanum</th>\n",
       "      <th>text_stm</th>\n",
       "    </tr>\n",
       "  </thead>\n",
       "  <tbody>\n",
       "    <tr>\n",
       "      <th>0</th>\n",
       "      <td>Hootsuite Inc.</td>\n",
       "      <td>PA Ambassador in Bosnia &amp;amp; Herzegovina says...</td>\n",
       "      <td>en</td>\n",
       "      <td>1227019550912372737</td>\n",
       "      <td>2020-02-11 00:00:32+00:00</td>\n",
       "      <td>81136269</td>\n",
       "      <td>1</td>\n",
       "      <td>0</td>\n",
       "      <td>1</td>\n",
       "      <td>0</td>\n",
       "      <td>...</td>\n",
       "      <td>False</td>\n",
       "      <td>False</td>\n",
       "      <td>False</td>\n",
       "      <td>2020-02-11</td>\n",
       "      <td>PA Ambassador in Bosnia &amp; Herzegovina says lif...</td>\n",
       "      <td>1</td>\n",
       "      <td>1</td>\n",
       "      <td>PA Ambassador in Bosnia &amp; Herzegovina says lif...</td>\n",
       "      <td>pa ambassador in bosnia  herzegovina says life...</td>\n",
       "      <td>ambassador bosnia herzegovina say life fulfil ...</td>\n",
       "    </tr>\n",
       "    <tr>\n",
       "      <th>1</th>\n",
       "      <td>u.fooo.ooo</td>\n",
       "      <td>[🔴 NEWS] Greece plans floating sea border wall...</td>\n",
       "      <td>en</td>\n",
       "      <td>1227019556167864321</td>\n",
       "      <td>2020-02-11 00:00:33+00:00</td>\n",
       "      <td>1052191553802854407</td>\n",
       "      <td>0</td>\n",
       "      <td>0</td>\n",
       "      <td>0</td>\n",
       "      <td>0</td>\n",
       "      <td>...</td>\n",
       "      <td>False</td>\n",
       "      <td>False</td>\n",
       "      <td>False</td>\n",
       "      <td>2020-02-11</td>\n",
       "      <td>[ NEWS] Greece plans floating sea border wall ...</td>\n",
       "      <td>0</td>\n",
       "      <td>1</td>\n",
       "      <td>[ NEWS ] plans floating sea border wall to kee...</td>\n",
       "      <td>news greece plans floating sea border wall to...</td>\n",
       "      <td>news plan floating border wall keep</td>\n",
       "    </tr>\n",
       "    <tr>\n",
       "      <th>2</th>\n",
       "      <td>Twitter Web Client</td>\n",
       "      <td>Latest Battle for Idlib Could Send Another Wav...</td>\n",
       "      <td>en</td>\n",
       "      <td>1227021374780313601</td>\n",
       "      <td>2020-02-11 00:07:47+00:00</td>\n",
       "      <td>18570470</td>\n",
       "      <td>0</td>\n",
       "      <td>0</td>\n",
       "      <td>1</td>\n",
       "      <td>1</td>\n",
       "      <td>...</td>\n",
       "      <td>False</td>\n",
       "      <td>False</td>\n",
       "      <td>False</td>\n",
       "      <td>2020-02-11</td>\n",
       "      <td>Latest Battle for Idlib Could Send Another Wav...</td>\n",
       "      <td>8</td>\n",
       "      <td>5</td>\n",
       "      <td>Latest Battle for Idlib Could Send Another Wav...</td>\n",
       "      <td>latest battle for idlib could send another wav...</td>\n",
       "      <td>latest battle idlib send another wave europe w...</td>\n",
       "    </tr>\n",
       "    <tr>\n",
       "      <th>3</th>\n",
       "      <td>Tweepsmap</td>\n",
       "      <td>UNHCR calls for decisive action to end alarmin...</td>\n",
       "      <td>en</td>\n",
       "      <td>1227021789525614594</td>\n",
       "      <td>2020-02-11 00:09:26+00:00</td>\n",
       "      <td>62632306</td>\n",
       "      <td>0</td>\n",
       "      <td>0</td>\n",
       "      <td>0</td>\n",
       "      <td>0</td>\n",
       "      <td>...</td>\n",
       "      <td>False</td>\n",
       "      <td>False</td>\n",
       "      <td>False</td>\n",
       "      <td>2020-02-11</td>\n",
       "      <td>UNHCR calls for decisive action to end alarmin...</td>\n",
       "      <td>9</td>\n",
       "      <td>3</td>\n",
       "      <td>calls for decisive action to end alarming cond...</td>\n",
       "      <td>unhcr calls for decisive action to end alarmin...</td>\n",
       "      <td>call decisive action alarming condition island...</td>\n",
       "    </tr>\n",
       "    <tr>\n",
       "      <th>4</th>\n",
       "      <td>Twitter for iPhone</td>\n",
       "      <td>It is not your own feet sinking in the mud, bo...</td>\n",
       "      <td>en</td>\n",
       "      <td>1227022233484308481</td>\n",
       "      <td>2020-02-11 00:11:12+00:00</td>\n",
       "      <td>2729959018</td>\n",
       "      <td>9</td>\n",
       "      <td>1</td>\n",
       "      <td>29</td>\n",
       "      <td>1</td>\n",
       "      <td>...</td>\n",
       "      <td>False</td>\n",
       "      <td>False</td>\n",
       "      <td>False</td>\n",
       "      <td>2020-02-11</td>\n",
       "      <td>It is not your own feet sinking in the mud, boy.</td>\n",
       "      <td>9</td>\n",
       "      <td>1</td>\n",
       "      <td>It is not your own feet sinking in the mud , b...</td>\n",
       "      <td>it is not your own feet sinking in the mud boy.</td>\n",
       "      <td>foot sinking</td>\n",
       "    </tr>\n",
       "  </tbody>\n",
       "</table>\n",
       "<p>5 rows × 31 columns</p>\n",
       "</div>"
      ],
      "text/plain": [
       "               source                                               text lang  \\\n",
       "0      Hootsuite Inc.  PA Ambassador in Bosnia &amp; Herzegovina says...   en   \n",
       "1          u.fooo.ooo  [🔴 NEWS] Greece plans floating sea border wall...   en   \n",
       "2  Twitter Web Client  Latest Battle for Idlib Could Send Another Wav...   en   \n",
       "3           Tweepsmap  UNHCR calls for decisive action to end alarmin...   en   \n",
       "4  Twitter for iPhone  It is not your own feet sinking in the mud, bo...   en   \n",
       "\n",
       "                    id                 created_at            author_id  \\\n",
       "0  1227019550912372737  2020-02-11 00:00:32+00:00             81136269   \n",
       "1  1227019556167864321  2020-02-11 00:00:33+00:00  1052191553802854407   \n",
       "2  1227021374780313601  2020-02-11 00:07:47+00:00             18570470   \n",
       "3  1227021789525614594  2020-02-11 00:09:26+00:00             62632306   \n",
       "4  1227022233484308481  2020-02-11 00:11:12+00:00           2729959018   \n",
       "\n",
       "   retweet_count  reply_count  like_count  quote_count  ...  immigrant  \\\n",
       "0              1            0           1            0  ...      False   \n",
       "1              0            0           0            0  ...      False   \n",
       "2              0            0           1            1  ...      False   \n",
       "3              0            0           0            0  ...      False   \n",
       "4              9            1          29            1  ...      False   \n",
       "\n",
       "  asylum_seeker  other        date  \\\n",
       "0         False  False  2020-02-11   \n",
       "1         False  False  2020-02-11   \n",
       "2         False  False  2020-02-11   \n",
       "3         False  False  2020-02-11   \n",
       "4         False  False  2020-02-11   \n",
       "\n",
       "                                       text_coherent  retweet_count_sum  \\\n",
       "0  PA Ambassador in Bosnia & Herzegovina says lif...                  1   \n",
       "1  [ NEWS] Greece plans floating sea border wall ...                  0   \n",
       "2  Latest Battle for Idlib Could Send Another Wav...                  8   \n",
       "3  UNHCR calls for decisive action to end alarmin...                  9   \n",
       "4   It is not your own feet sinking in the mud, boy.                  9   \n",
       "\n",
       "   count                                         text_no_ne  \\\n",
       "0      1  PA Ambassador in Bosnia & Herzegovina says lif...   \n",
       "1      1  [ NEWS ] plans floating sea border wall to kee...   \n",
       "2      5  Latest Battle for Idlib Could Send Another Wav...   \n",
       "3      3  calls for decisive action to end alarming cond...   \n",
       "4      1  It is not your own feet sinking in the mud , b...   \n",
       "\n",
       "                                       text_alphanum  \\\n",
       "0  pa ambassador in bosnia  herzegovina says life...   \n",
       "1   news greece plans floating sea border wall to...   \n",
       "2  latest battle for idlib could send another wav...   \n",
       "3  unhcr calls for decisive action to end alarmin...   \n",
       "4    it is not your own feet sinking in the mud boy.   \n",
       "\n",
       "                                            text_stm  \n",
       "0  ambassador bosnia herzegovina say life fulfil ...  \n",
       "1                news plan floating border wall keep  \n",
       "2  latest battle idlib send another wave europe w...  \n",
       "3  call decisive action alarming condition island...  \n",
       "4                                       foot sinking  \n",
       "\n",
       "[5 rows x 31 columns]"
      ]
     },
     "execution_count": 37,
     "metadata": {},
     "output_type": "execute_result"
    }
   ],
   "source": [
    "event_df.head()"
   ]
  },
  {
   "cell_type": "code",
   "execution_count": null,
   "id": "6afe8aaa",
   "metadata": {},
   "outputs": [],
   "source": [
    "#greece_test = event_df[[\"id\",\"text\",\"text_stm\",\"date\",\"retweet_count\"]]"
   ]
  },
  {
   "cell_type": "code",
   "execution_count": null,
   "id": "1e5bc380",
   "metadata": {},
   "outputs": [],
   "source": [
    "#greece_test.to_csv('C:/Users/jawo19ad/Dropbox (CBS)/Master thesis data/Event Dataframes/Clean/df_greece_clean_stm.csv')"
   ]
  },
  {
   "cell_type": "markdown",
   "id": "e1f4dcb0",
   "metadata": {},
   "source": [
    "## Save the dataframe with clean text"
   ]
  },
  {
   "cell_type": "code",
   "execution_count": null,
   "id": "3065ecb8",
   "metadata": {},
   "outputs": [],
   "source": [
    "event_df.shape"
   ]
  },
  {
   "cell_type": "code",
   "execution_count": 38,
   "id": "b5c315d4",
   "metadata": {},
   "outputs": [],
   "source": [
    "event_df.to_csv(greece_url_clean)"
   ]
  },
  {
   "cell_type": "code",
   "execution_count": null,
   "id": "28a615f8",
   "metadata": {},
   "outputs": [],
   "source": []
  },
  {
   "cell_type": "code",
   "execution_count": null,
   "id": "b3678dd2",
   "metadata": {},
   "outputs": [],
   "source": []
  },
  {
   "cell_type": "code",
   "execution_count": null,
   "id": "924092df",
   "metadata": {},
   "outputs": [],
   "source": [
    "for i,line in event_df[[\"text\",\"text_coherent\",\"text_no_ne\",\"text_stm\"]].iterrows():\n",
    "    print(line[\"text\"])\n",
    "    print(\"---\")\n",
    "    print(line[\"text_coherent\"])\n",
    "    print(\"---\")\n",
    "    print(line[\"text_no_ne\"])\n",
    "    print(\"---\")\n",
    "    print(line[\"text_stm\"])\n",
    "    print(\"-----------------------------------\")"
   ]
  },
  {
   "cell_type": "code",
   "execution_count": null,
   "id": "c1ac941a",
   "metadata": {},
   "outputs": [],
   "source": []
  },
  {
   "cell_type": "markdown",
   "id": "496a6e4c",
   "metadata": {},
   "source": [
    "# Test for removing NEs"
   ]
  },
  {
   "cell_type": "code",
   "execution_count": 5,
   "id": "8c2f67f4",
   "metadata": {},
   "outputs": [],
   "source": [
    "import spacy\n",
    "\n",
    "nlp = spacy.load('en_core_web_sm')"
   ]
  },
  {
   "cell_type": "code",
   "execution_count": 6,
   "id": "0efcb67a",
   "metadata": {},
   "outputs": [
    {
     "name": "stdout",
     "output_type": "stream",
     "text": [
      "This is a text document that speaks about entities like and\n"
     ]
    }
   ],
   "source": [
    "text_data = 'This is a text document that speaks about entities like Sweden and Nokia'\n",
    "\n",
    "document = nlp(text_data)\n",
    "\n",
    "text_no_namedentities = []\n",
    "\n",
    "ents = [e.text for e in document.ents]\n",
    "for item in document:\n",
    "    if item.text in ents:\n",
    "        pass\n",
    "    else:\n",
    "        text_no_namedentities.append(item.text)\n",
    "print(\" \".join(text_no_namedentities))"
   ]
  },
  {
   "cell_type": "code",
   "execution_count": 7,
   "id": "495ddbb5",
   "metadata": {},
   "outputs": [
    {
     "data": {
      "text/plain": [
       "(Sweden, Nokia)"
      ]
     },
     "execution_count": 7,
     "metadata": {},
     "output_type": "execute_result"
    }
   ],
   "source": [
    "document.ents"
   ]
  },
  {
   "cell_type": "code",
   "execution_count": 8,
   "id": "b6fea529",
   "metadata": {},
   "outputs": [],
   "source": [
    "def remove_named_entities(tweet):\n",
    "    \n",
    "    doc = nlp(tweet)\n",
    "    \n",
    "    text_no_namedentities = []\n",
    "    ents = [e.text for e in doc.ents]\n",
    "    \n",
    "    print(tweet)\n",
    "    print(ents)\n",
    "    \n",
    "    for item in doc:\n",
    "        if item.text in ents:\n",
    "            pass\n",
    "        else:\n",
    "            text_no_namedentities.append(item.text)\n",
    "    \n",
    "    return \" \".join(text_no_namedentities)"
   ]
  },
  {
   "cell_type": "code",
   "execution_count": 9,
   "id": "f65e3718",
   "metadata": {},
   "outputs": [],
   "source": [
    "_ = event_df.copy().head(100)"
   ]
  },
  {
   "cell_type": "code",
   "execution_count": 10,
   "id": "7d4c8914",
   "metadata": {},
   "outputs": [
    {
     "name": "stdout",
     "output_type": "stream",
     "text": [
      "For rohingya Survivors in Bangladesh, Artwork Bears Witness Thanks to an initiative called \" artolution \" Muslim refugees from Myanmar are creating impressive murals that reflect their cultural traditions, their needs, their hopes, and their traumas.\n",
      "['Survivors', 'Bangladesh', 'Muslim', 'Myanmar']\n",
      "AstraZeneca dispels Indonesian Muslim concerns over COVID - 19 vaccine: . . . built by Bangladesh, where it has relocated nearly 14,000 Rohingya Muslim refugees since December last year despite criticism from rights groups.\n",
      "['AstraZeneca', 'Indonesian Muslim', 'COVID', 'Bangladesh', 'nearly 14,000', 'Muslim', 'December last year']\n",
      "I think u are one of the illegally migrant Rohingya from Bangladesh so better keep your mouth shut\n",
      "['Bangladesh']\n",
      "India seals Myanmar border amid strains over refugee crisis :\n",
      "['India', 'Myanmar']\n",
      "Fleeing coup, Myanmar police refugees in India seek asylum (from The Associated Press )\n",
      "['Myanmar', 'India', 'The Associated Press']\n",
      "The Hindu Explains | Why do the Centre and the Mizoram government differ on Myanmar refugees issue? - The Hindu news INDIA\n",
      "['Hindu', 'Mizoram', 'Myanmar', 'Hindu']\n",
      "Central and State Governments in India Wrangle Over Refugees from Myanmar TheDiplomat\n",
      "['India', 'Myanmar']\n",
      "Johura is one of the many rohingya women from myanmar in Cox' s Bazar who play a critical role in the fight against COVID - 19 in the refugee camps . No one is safe until we are all safe\n",
      "['Johura', 'one', 'myanmar', 'Cox', 'COVID - 19']\n",
      "India has sealed all entry points along the border with the southeast Asian neighbour Myanmar and is closely monitoring to prevent any myanmar nationals from entering the country.\n",
      "['India', 'Asian', 'Myanmar', 'myanmar']\n",
      "India seals Myanmar border amid strains over refugee crisis\n",
      "['India', 'Myanmar']\n",
      "would never dream of Hlaingtaryar to become this situation . 242 fatalities , 60 arrested and missing and 27 dead bodies missing . Junta been killing people every each day and make them abondon their home and migrants work place.\n",
      "['Hlaingtaryar', '242', '60', '27', 'Junta']\n",
      "un team completes its first visit to bhasan char, a remote island built by bangladesh for the relocation of nearly 14,000 rohingya muslim refugees\n",
      "['un', 'first', 'bhasan char', 'nearly 14,000', 'muslim']\n",
      "Is this how we are supporting Democracy in Myanmar by closing our borders to those fleeing persecution by the Military Junta? The government should be ashamed of itself.\n",
      "['Myanmar', 'the Military Junta']\n",
      "The 2015 Rohingya refugee crisis refers to the forcible displacement of Muslim Myanmar nationals from the Arrakkan & Rakhine state of Myanmar to neighboring Bangladesh, Malaysia, Indonesia, Cambodia, Laos and Thailand in 2015, collectively dubbed \" boat people \" by international.\n",
      "['2015', 'Muslim Myanmar', 'Myanmar', 'Bangladesh', 'Malaysia', 'Indonesia', 'Cambodia', 'Laos', 'Thailand', '2015']\n",
      "U and your pasta family can 0nly win it by br1nging in m0re illegal immigrants 4m Bangladesh and Burma . D0nt we kn0w u all!!!\n",
      "['m0re', '4', 'Bangladesh', 'Burma']\n",
      "Can I convey my thoughts to Justin Bieber with just google translate? Project start / 2021.3 . 11 unicef Rohingya refugee crisis on Many were killed, houses were burned, attacked, beaten, and finally I arrived in a refugee camp with my sister . (from unicef in Africa )\n",
      "['Justin Bieber', '2021.3', '11', 'Africa']\n",
      "Rohingya, term commonly used to refer to a community of Muslims generally concentrated in Rakhine (Arakan) state in Myanmar (Burma), although they can also be found in other parts of the country as well as in refugee camps in neighbouring Bangladesh and other countries\n",
      "['Muslims', 'Arakan', 'Myanmar', 'Burma', 'Bangladesh']\n",
      "My relatives left their house and moved to another place because terrorists are threatening our lives . We don' t want to be refugees . whats happening in myanmar\n",
      "['myanmar']\n",
      "The Rohingya people (/ rohnd, - n -, - j /) are a stateless Indo - Aryan ethnic group who predominantly follow Islam and reside in Rakhine State, Myanmar (previously known as Burma). Before the displacement crisis in 2017, when over 740,000 fled to Bangladesh, an estimated 1.4.\n",
      "['Indo - Aryan ethnic', 'Islam', 'Rakhine State', 'Myanmar', 'Burma', '2017', 'over 740,000', 'Bangladesh', '1.4']\n",
      "Close to a million Rohingya people, more than half of them children, have fled violence in Myanmar to seek refuge across the border in Bangladesh . 70% of the refugees are without adequate shelter and half have no safe drinking water . This is a massive humanitarian crisis . Oxfam.\n",
      "['Close to a million', 'more than half', 'Myanmar', 'Bangladesh', '70%', 'half']\n",
      "We hope @sheikhhasina, takes diplomatic decisions after a deep consideration of the plight of minorities in sri lanka . She is already infamous for the rohingya crisis, and it' s not in her best interest to make this her second miscalculation.\n",
      "['@sheikhhasina', 'second']\n",
      "When hundreds of thousands of terrified Rohingya refugees began flooding onto the beaches and paddy fields of southern Bangladesh in August 2017, it was the children who caught many people' s attention.\n",
      "['hundreds of thousands', 'Bangladesh', 'August 2017']\n",
      "Here' s what you need to know about the Rohingya crisis in 2021 . Since August 25 , 2017, the latest outbreak of violence in Rakhine State, Myanmar, has forced hundreds of thousands of Rohingya people to flee their homes . Over 1 million Rohingya have been forcibly displaced . 05 - Jan -\n",
      "['2021', 'August 25 , 2017', 'Rakhine State', 'Myanmar', 'hundreds of thousands', 'Over 1 million']\n",
      "Rohingya artists, all survivors of their traumatic forced departure from Myanmar, are using art to send important messages in their Bangladesh refugee camp . Today' s junta is producing a whole new round of trauma for the people of Myanmar.\n",
      "['Myanmar', 'Bangladesh', 'Today', 'Myanmar']\n",
      "Bangladesh begins relocating Rohingya refugees to remote island, despite human rights concerns . 04 - Dec - 2020\n",
      "[]\n",
      "India Seals Border With Myanmar To Prevent Refugee Influx\n",
      "['India']\n",
      "Refugees from myanmar don' t seem to be helping the situation.\n",
      "[]\n",
      "Fleeing coup, Myanmar police refugees in India seek asylum - Associated Press\n",
      "['Myanmar', 'India']\n",
      "Despite a bloody crackdown in the Yangon factory suburb and a max exodus of migrant workers, residents say they will continue their protests until the military is overthrown.\n",
      "['Yangon']\n",
      "Prompt transfer of Aceh' s 86 Rohingya refugees to Medan: official - ANTARA English\n",
      "['Aceh', '86', 'Medan']\n",
      "Your UNHCR also no mercy to help and discrimination oppress and violence rohingya refugee in thailand\n",
      "['UNHCR']\n",
      "myanmar protesters voice defiance, junta reminds of external threats, fleeing coup, its refugees in india seek asylum f eworld via The Financial Express\n",
      "['myanmar', 'junta', 'india', 'The Financial Express']\n",
      "She can go to Disneyland all she wants . I' d want the real thing, however dangerous it is . The refugee camp in Bangladesh was dangerous too, but I had a great time there!\n",
      "['Disneyland', 'Bangladesh']\n",
      "Even by trying to drive out Rohingya muslim refugees already in India.\n",
      "['muslim', 'India']\n",
      "mizoram Chief Minister zoramthanga has urged Prime Minister narendra modi to provide asylum, food and shelter to those refugees who have arrived in the state since the military seized power in myanmar last month . Zoramthanga\n",
      "['mizoram Chief', 'zoramthanga', 'narendra modi', 'myanmar', 'last month', 'Zoramthanga']\n",
      "Jamalida, a twelve years Rohingya girl in her poetry dedicated to hundreds of thousands of refugees says - They say magic falls out when you open a book, yet they create nightmares and horrors to look . They say Education is Future, yet they deny my future.\n",
      "['Jamalida', 'twelve years', 'hundreds of thousands']\n",
      "Fleeing coup, Myanmar police refugees in India seek asylum\n",
      "['Myanmar', 'India']\n",
      "Assam Rifles puts 247 patrol on all entry points to keep Myanmar refugees out of Mizoram ThePrint' s Amrita Nayak Dutta Amrita Nayak reports\n",
      "['Assam Rifles', '247', 'Myanmar', \"Mizoram ThePrint'\", 'Amrita Nayak', 'Dutta Amrita Nayak']\n",
      "My photography in the world looking for refugee right . She study to shop_sit also bangladesh Rohingya Refugee camps off education process that why . Bangladesh Rohingya Refugee Students Education Allegra Mendelson Poppy McPherson @pratima_narayan.\n",
      "['shop_sit', 'Rohingya Refugee', 'Bangladesh Rohingya Refugee Students', 'Allegra Mendelson Poppy McPherson']\n"
     ]
    },
    {
     "name": "stdout",
     "output_type": "stream",
     "text": [
      "The way we are treating refugees from Myanmar - Rohingya, Chin or any other group - is truly shameful . If you didnt already know, at least now you should know that CAA wasnt about saving human lives; it was about Hindu chauvinism.\n",
      "['Myanmar - Rohingya', 'Chin', 'Hindu']\n",
      "The Rice Bags are fighting tooth & nail to get their rice bag brethren from Myanmar into India, but protested when the persecuted Hindus were given asylum in India (CAA). Mizoram isn' t a sovereign state, President' s rule must be imposed upon Mizoram\n",
      "['Myanmar', 'India', 'Hindus', 'India', \"Mizoram isn'\", 'Mizoram']\n",
      "Rohingya displaced people' s boarding the boats between December and April, when the seas are calm, to get to Malaysia, Mostly found themselves stranded at sea, when the ship crews who had promised to take them to Malaysia abandoned them at Bay of Bengal and the Andaman Sea.\n",
      "['December', 'April', 'Malaysia', 'Malaysia', 'Bay of Bengal', 'the Andaman Sea']\n",
      "Why do the Centre and the Mizoram government differ on myanmar refugees issue? whats happening in myanmar\n",
      "['Centre', 'Mizoram', 'myanmar', 'myanmar']\n",
      "On world poetry day 2021 take a moment to listen to this poem by 12 yr old Rohingya refugee Jamalida, born in Bangladesh & raised in Ireland . \" They say education is future, yet they deny my future . . . They say a book is a the window to the world, yet they deny a window to my world \"\n",
      "['day 2021', '12', 'Rohingya', 'Jamalida', 'Bangladesh &', 'Ireland']\n",
      "My Oriya edit today on Myanmar refugees entering Mizoram\n",
      "['today', 'Myanmar', 'Mizoram']\n",
      "Yesterday my mom called to know a place for refugees if war broke out . At that time, I was working out to join Federal Army . Drain all my energy hearing that fear . STRENGTH OF UNITY\n",
      "['Yesterday', 'Federal Army']\n",
      "People also say why do we need to bring up a 30 - year - old issue' now' . Well . . . 30 years and STILL they are living like refugees in their own countries . 30 years and still they haven' t been able to go back to their home . How beautifully they ignore this . Rohingya are more important\n",
      "['30 - year - old', '30 years', '30 years']\n",
      "In Mrauk - U, Refugee Camp After the fire in March 17th, there is now shortage of Drinking Water . For about 3300 refugees, water trucks are bought to bring water . Western News whats happening in myanmar\n",
      "['Mrauk - U', 'Refugee Camp', 'March 17th', 'Drinking Water', 'about 3300', 'Western News', 'myanmar']\n",
      "They are not letting in Bru tribes in Mizoram while they are sympathising with Myanmar refugees . Brus have left Mizoram after systematic attack on them & forced to live in Tripura in rehabilitation camps.\n",
      "['Bru', 'Mizoram', 'Myanmar', 'Mizoram', 'Tripura']\n",
      "* birdnest Chines Company Requirements * Only myanmar * Rohinyga Refugees Male / female (UNHCR Card) Job deatils we already mentioned in Demand letter All job salary same basis 1200 + 2hr overtime . 1650rm 26days Number of people 15pax contact with us.\n",
      "['UNHCR Card', '1200', '2hr', '1650rm', '15pax']\n",
      "I' m glad I was able to help Artolution several years ago with a website in part trade for art work from Max which hangs in my office . It' s amazing to see the incredible work they are doing in Bangladesh refugee camps featured in the NYT.\n",
      "['several years ago', 'Max', 'NYT']\n",
      "Dharmshala ghoshit kar do is desh ko . . . Giving refuge to foreigners will not only amplify our suffering but also dent indo - mayamar tie . Earlier Bangladesh refugee crisis contributed alot in India' s population growth between 1961 - 71, mind it . .\n",
      "['Dharmshala', 'India', 'between 1961 - 71']\n",
      "Mizoram CM urges PM Modi to provide asylum to Myanmar refugees - via @the_newsmill myanmar\n",
      "['Mizoram CM', 'PM Modi', 'Myanmar']\n",
      "hi fam! lend yourto this v conversation I was able to have on @rtalaap re: the horrific situation in Myanmar which now has implications for India . a refugee crisis is imminent bc of the military junta' s crackdown on peaceful protests . pls listen to understand the situation.\n",
      "['fam', 'yourto', '@rtalaap', 'Myanmar', 'India', 'junta']\n",
      "There was only one tree in what is one of the largest refugee camps in the world in Cox' s Bazar, bangladesh . Now there are millions . forest day Rohingya Response UNHCR in Bangladesh IOM Bangladesh WFP Asia Pacific UN in Bangladesh Richard Ragan via @YouTube\n",
      "['only one', 'one', 'Cox', 'millions', 'Bangladesh IOM Bangladesh', 'WFP Asia Pacific UN', 'Bangladesh', 'Richard Ragan']\n",
      "World Water Day 22.03 . 2021 My videography in the world looking for refugee right . Rohingya waiting for Water in the camps.\n",
      "['World Water Day 22.03', '2021']\n",
      "Mizoram CM urges Narendra Modi to provide asylum to Myanmar refugees -\n",
      "['Mizoram CM', 'Narendra Modi', 'Myanmar']\n",
      "Congress MP Manish Tewari demands adjournment motion in Lok Sabha over Myanmar nationals seeking refuge in India . Tewari our taxes are not meant for refugees . It is for uplifting poor Indians.\n",
      "['Congress', 'Manish Tewari', 'Lok Sabha', 'Myanmar', 'India', 'Indians']\n",
      "This world water day, World Health Organization (WHO) reiterates its commitment to universal access to safe drinking water, sanitation, & hygiene . Read how World Health Organization (WHO) & partners are ensuring rohingya refugees in Coxs Bazar have access to good quality water: WHO / Tatiana Almeida\n",
      "['World Health Organization', 'WHO', 'World Health Organization (WHO) & partners', 'Coxs Bazar', 'Tatiana Almeida']\n",
      "Rohingya children are carrying water from the water tap with heavy yoke in the world largest refugee camp of Bangladesh country.\n",
      "['Bangladesh']\n",
      "bangaldesh: The U . N . just finished a three - day visit to Bhasan Char . Any U . N . review should be made public . rohingya, journalists, and others should have information about the isolated island where thousands of Rohingya refugees are now living.\n",
      "['three - day', 'Bhasan Char', 'thousands']\n",
      "Any discussion on Rohingya immigrants who the dynastic enterprise & vohorts attempt to facilitate . . . incl with aid of PIL specialist proxy . . .???\n",
      "['incl', 'PIL']\n",
      "myanmar refugee issue going to haunt India\n",
      "['myanmar refugee', 'India']\n",
      "Same thing happened in Europe . They can go to Bangladesh too . India needs to be firm . Don' t allow any Rohingyas to come in Arrest & handover to Myanmar . The same refugees will rape our daughters tomorrow & kill Indians.\n",
      "['Europe', 'Bangladesh', 'India', 'Don', 'Rohingyas', 'Arrest & handover', 'Myanmar', 'Indians']\n",
      "Maybe it' s just time you educate yourself about CAA and understand that Myanmar is not covered n only covered those refugees who are already here by 2014 . . . so much for education\n",
      "['Myanmar', '2014']\n",
      "The right answer is D Explanation: The issue of returning Chakma refugees from India to Bangladesh was raised in 1995 . The hill tribes conflict with Bangladesh caused the exodus of 50,000 Chakmas to India from the Chittagong Hill Tracts.\n",
      "['India', 'Bangladesh', '1995', 'Bangladesh', '50,000', 'India', 'the Chittagong Hill Tracts']\n",
      "mandalay Railway staffs of cdm & their family members are being evicted from staff housings by junta terroist . These houses have been their homes for many years . This photo literally break my heart UN Human Rights Council UNHCR, the UN Refugee Agency International Labour Organization Proud of cdm heroes\n",
      "['junta', 'many years', 'UN Human Rights Council', 'the UN Refugee Agency International Labour Organization Proud']\n",
      "5 . should send them back once Myanmar stabilises . 6 . should not be allowed to step out of state , 7 . No political party should visit them except Govt . 8 . Refugees should not cause any issues to neighbou - ring states, Otherwise it becomes another Assam . .\n",
      "['5', 'Myanmar', '6', '7', 'Govt', '8', 'Assam']\n",
      "Fleeing coup, Myanmar police refugees in India seekasylum\n",
      "['Myanmar', 'India']\n",
      "Bangladesh has taken the entire barden of Rohinga refugees though Bangladesh is a small poor country and it is the most highly populated country in the world based on it' s land.\n",
      "['Rohinga', 'Bangladesh']\n",
      "Instruments of Indian state are being used to wreck Indian nation from within Religious Cleansing & Genocide of Kashmiri Pandits by Islamic Jihadis of Kashmir has been denied till date . They are living as refugees from 1990 in their own Nation But Rohingya jihadis accommodated\n",
      "['Indian', 'Indian', 'Religious Cleansing & Genocide', 'Kashmiri', 'Islamic', '1990']\n",
      "12 - year - old Jamalida' poem \" A Window to My World \" was selected by TCD to celebrate World Poetry Day 2021 . She dedicates the poem to millions of UNHCR, the UN Refugee Agency children without education around the world including hundreds of thousands of rohingya children' s in bangladesh & IDPs.\n",
      "['12 - year - old', 'Jamalida', 'A Window to My World', 'TCD', 'World Poetry Day 2021', 'millions', 'UNHCR', 'the UN Refugee Agency', 'hundreds of thousands']\n",
      "Kolkata has lost its importance in the Northeast, due to emergence of Guwahati . Where is the question of it having importance across Myanmar, Thailand and Cambodia? Delhi has very successfully displaced Kolkata as their city of importance among people of UP and Bihar.\n",
      "['Northeast', 'Guwahati', 'Myanmar', 'Thailand', 'Cambodia', 'Delhi', 'Bihar']\n",
      "Fleeing coup, Myanmar refugees in India seek asylum\n",
      "['Myanmar', 'India']\n",
      "Also UNHCR thailand human rights against harm violence and abuse to rohingya Refugees in thailand long years . we need justice and human rights\n",
      "['UNHCR', 'thailand']\n"
     ]
    },
    {
     "name": "stdout",
     "output_type": "stream",
     "text": [
      "Get to know how Myanmar refugee crisis is impacting the north - eastern states . What is 1951 UN convention on refugees?\n",
      "['Myanmar', '1951', 'UN']\n",
      "As Indian government maintains studious silence and deploys security forces on Mizoram border to check \" illegal influx \" from Myanmar and wants refugees already here deported, Mizoram CM Zoramthanga recognizes CRPH appointed Zin Mar Aung as Myanmar Foreign Minister . myanmarcoup\n",
      "['Indian', 'Mizoram', 'Myanmar', 'Mizoram CM Zoramthanga', 'Zin Mar Aung', 'Myanmar', 'myanmarcoup']\n",
      "No doubt . Great Contribution of Bihari for Bangladesh Liberation: Newspaper clips LNS was Hero and had contributed a lot for human rights when Red Cross Society & UNO had not helped Bangladeshi refugees on boarder area . Fist President Nazarul Kazi Ishalam letter Ambassador Letter\n",
      "['LNS', 'Hero', 'Red Cross Society & UNO', 'Bangladeshi', 'Fist', 'Nazarul Kazi', 'Letter']\n",
      "Myanmar refugees in India seek asylum\n",
      "['Myanmar', 'India']\n",
      "As myanmars Turmoil Gets Worse, External Actors Should Prepare for Refugee Flows Josh Kurlantzick writes for Council on Foreign Relations\n",
      "['Turmoil Gets Worse, External Actors Should Prepare for Refugee Flows Josh Kurlantzick', 'Council on Foreign Relations']\n",
      "Even Rohingya Muslim refugees are quick to learn from their Indian Muslim brethren! Teenage girls sneak into a temple in the early hours to steal the money from donation boxes.\n",
      "['Muslim', 'Indian Muslim', 'the early hours']\n",
      "Ask this person to get help from islamic countries to help Rohingya refugees . . .\n",
      "['islamic']\n",
      "Central and State Governments in India Wrangle Over Refugees from Myanmar The Diplomat\n",
      "['India', 'Myanmar']\n",
      "Myanmar: India border over1 , 000Km . Thousands people - Myanmar police & public officials - have entered to four Indian states like refugees . China' s support to Mya . is to advance into Indian Ocean . India should join with US & UN . to remove Mya . coup and China trial to control Mya.\n",
      "['Myanmar', 'India', 'Thousands', 'four', 'Indian', 'China', 'Mya', 'Indian Ocean', 'India', 'US & UN', 'Mya', 'China', 'Mya']\n",
      "Dear Sir, If any COAST staff haras any Rohingya Refugee or indignify them, please call me in + 8801711529792.\n",
      "['Rohingya Refugee', '8801711529792']\n",
      "Assam Rifles puts 24x7 patrol on all entry points to keep Myanmar refugees out of Mizoram\n",
      "['Assam Rifles', 'Myanmar', 'Mizoram']\n",
      "Yes . . Sir . . currently, some NGOs treat rohingya refugees like no human . Highly educated rohingya volunteers are made as their casual workers . No NGO or agency hear the voice of Rohingya seriously.\n",
      "[]\n",
      "Basic things first : 1 . India doesn' t recognize rohingyas as Refugees: They are illegal Migrants . 2 . Rs . 10000 has been announced for Refugees from bangladesh staying here for 70 years . These are mostly Hindus who had to leave all their properties & flee\n",
      "['first', '1', 'India', 'Migrants', '2', '10000', '70 years', 'Hindus']\n",
      "mizoram, a tiny state in indias north - eastern region, has refused to obey the narendra modi governments order on refugees coming in from  Myanmar following the February 1 military coup . myanmar coup\n",
      "['mizoram', 'Myanmar', 'February 1', 'myanmar']\n",
      "India . Government says that new arrivals from Myanmar should not be regarded as refugees :\n",
      "['India', 'Myanmar']\n",
      "Assam Rifles puts 247 patrol on all entry points to keep Myanmar refugees out of Mizoram - ThePrint\n",
      "['Assam Rifles', '247', 'Myanmar', 'Mizoram - ThePrint']\n",
      "Bihari - Great contribution for Bangladesh human rights when the Red Cross Society / UNO had not helped refugees on border area than LNS contributed lot . Fist President Nazarul Kazi Ishalam letter and Bangladesh Ambassador Letter / others reveals all facts.\n",
      "['Bihari - Great', 'Bangladesh', 'the Red Cross Society / UNO', 'Fist', 'Nazarul Kazi', 'Bangladesh Ambassador Letter /']\n",
      "Karpuri Thakur / etc . - 2 page lists & Ramshubhag Singh, first railway minister of India letter . My father sold 100 acre of land in Nepal and spent it on Bangladesh Refugees Roti, Kapara & Dava . LNS was highest eco . - see editorial page Hindustan but he is never recognized by Govt.\n",
      "['Karpuri Thakur', '2', 'India', '100 acre', 'Nepal', 'Kapara & Dava', 'Hindustan', 'Govt']\n",
      "Request to recognize . It leads all Bangladeshi refugees to vote for BJP in West Bengal because my father helped them in their misery and distress during evacuation from Bangladesh . Request Bangladesh to make a statue of LNS in Bangladesh Parliament / Common place.\n",
      "['Bangladeshi', 'BJP', 'West Bengal', 'Bangladesh', 'Request Bangladesh', 'Bangladesh Parliament / Common']\n",
      "Why Mizoram refuses to obey Modi govt diktat on Myanmar refugee issue, I write.\n",
      "['Mizoram', 'Modi govt', 'Myanmar']\n",
      "He hired them and contracted with CoC . Then, suspended without any reason within one or two weeks . Because of his attitude and ego, he doesnt like expert and smart rohingya volunteer works in his team . He can' t treat like that with any host community . Are refugees no human?\n",
      "['CoC', 'one or two weeks']\n",
      "Delhi is becoming crime capital due to these Muslims goons & not safe for law abide hindu citizens . . Bangladeshi & rohingya r the biggest threat they have been officially appointed immigrants for riots & loot by sick - ular parties who stand by\n",
      "['Delhi', 'Muslims', 'hindu', 'Bangladeshi & rohingya']\n",
      "Among the respondents who sent earnings back home prior to covid 19 , 46% reported remitting less than before while 54% reported no longer sending any remittances at all . Discover the latest data on Myanmar migrants living in Mae Sot District\n",
      "['19', '46%', '54%', 'Myanmar', 'Mae Sot District']\n",
      "Unveiling The Un - heard: Remembering Brutal Bangladesh Hindu Genocide of 1971 . Incidents happened when Pakistani Army committed genocide of Hindu communities 200 - 400,000 women raped , 2 - 3 Million people were killed n almost 10 Million people got displaced\n",
      "['Un', '1971', 'Pakistani Army', 'Hindu', '200 - 400,000', '2', 'almost 10 Million']\n",
      "a _ big _ breaking Happening Now, Fire accident again on the Rohingya Refugees Camp of Bangladesh, Near Kutupalong Area . save _ refugees\n",
      "[]\n"
     ]
    }
   ],
   "source": [
    "_[\"test\"] = _[\"text_coherent\"].apply(lambda x: remove_named_entities(x))"
   ]
  },
  {
   "cell_type": "code",
   "execution_count": 11,
   "id": "f05dfe33",
   "metadata": {},
   "outputs": [
    {
     "data": {
      "text/html": [
       "<div>\n",
       "<style scoped>\n",
       "    .dataframe tbody tr th:only-of-type {\n",
       "        vertical-align: middle;\n",
       "    }\n",
       "\n",
       "    .dataframe tbody tr th {\n",
       "        vertical-align: top;\n",
       "    }\n",
       "\n",
       "    .dataframe thead th {\n",
       "        text-align: right;\n",
       "    }\n",
       "</style>\n",
       "<table border=\"1\" class=\"dataframe\">\n",
       "  <thead>\n",
       "    <tr style=\"text-align: right;\">\n",
       "      <th></th>\n",
       "      <th>text</th>\n",
       "      <th>test</th>\n",
       "    </tr>\n",
       "  </thead>\n",
       "  <tbody>\n",
       "    <tr>\n",
       "      <th>0</th>\n",
       "      <td>For #Rohingya Survivors in Bangladesh, Artwork...</td>\n",
       "      <td>For rohingya in , Artwork Bears Witness Thanks...</td>\n",
       "    </tr>\n",
       "    <tr>\n",
       "      <th>1</th>\n",
       "      <td>AstraZeneca dispels Indonesian Muslim concerns...</td>\n",
       "      <td>dispels Indonesian concerns over - 19 vaccine ...</td>\n",
       "    </tr>\n",
       "    <tr>\n",
       "      <th>2</th>\n",
       "      <td>@prabha_j @MehHarshil @derekobrienmp I think u...</td>\n",
       "      <td>I think u are one of the illegally migrant Roh...</td>\n",
       "    </tr>\n",
       "    <tr>\n",
       "      <th>3</th>\n",
       "      <td>India seals Myanmar border amid strains over r...</td>\n",
       "      <td>seals border amid strains over refugee crisis :</td>\n",
       "    </tr>\n",
       "    <tr>\n",
       "      <th>4</th>\n",
       "      <td>Fleeing coup, Myanmar police refugees in India...</td>\n",
       "      <td>Fleeing coup , police refugees in seek asylum ...</td>\n",
       "    </tr>\n",
       "    <tr>\n",
       "      <th>...</th>\n",
       "      <td>...</td>\n",
       "      <td>...</td>\n",
       "    </tr>\n",
       "    <tr>\n",
       "      <th>95</th>\n",
       "      <td>@3mpereira @Rohingya_ISCG @UNHCR_BGD @IOMBangl...</td>\n",
       "      <td>He hired them and contracted with . Then , sus...</td>\n",
       "    </tr>\n",
       "    <tr>\n",
       "      <th>96</th>\n",
       "      <td>Delhi is becoming crime capital  due to these ...</td>\n",
       "      <td>is becoming crime capital due to these goons &amp;...</td>\n",
       "    </tr>\n",
       "    <tr>\n",
       "      <th>97</th>\n",
       "      <td>Among the respondents who sent earnings back h...</td>\n",
       "      <td>Among the respondents who sent earnings back h...</td>\n",
       "    </tr>\n",
       "    <tr>\n",
       "      <th>98</th>\n",
       "      <td>Unveiling The “Un-heard”: Remembering Brutal B...</td>\n",
       "      <td>Unveiling The - heard : Remembering Brutal Ban...</td>\n",
       "    </tr>\n",
       "    <tr>\n",
       "      <th>99</th>\n",
       "      <td>#A_big_Breaking\\n\\nHappening Now, Fire acciden...</td>\n",
       "      <td>a _ big _ breaking Happening Now , Fire accide...</td>\n",
       "    </tr>\n",
       "  </tbody>\n",
       "</table>\n",
       "<p>100 rows × 2 columns</p>\n",
       "</div>"
      ],
      "text/plain": [
       "                                                 text  \\\n",
       "0   For #Rohingya Survivors in Bangladesh, Artwork...   \n",
       "1   AstraZeneca dispels Indonesian Muslim concerns...   \n",
       "2   @prabha_j @MehHarshil @derekobrienmp I think u...   \n",
       "3   India seals Myanmar border amid strains over r...   \n",
       "4   Fleeing coup, Myanmar police refugees in India...   \n",
       "..                                                ...   \n",
       "95  @3mpereira @Rohingya_ISCG @UNHCR_BGD @IOMBangl...   \n",
       "96  Delhi is becoming crime capital  due to these ...   \n",
       "97  Among the respondents who sent earnings back h...   \n",
       "98  Unveiling The “Un-heard”: Remembering Brutal B...   \n",
       "99  #A_big_Breaking\\n\\nHappening Now, Fire acciden...   \n",
       "\n",
       "                                                 test  \n",
       "0   For rohingya in , Artwork Bears Witness Thanks...  \n",
       "1   dispels Indonesian concerns over - 19 vaccine ...  \n",
       "2   I think u are one of the illegally migrant Roh...  \n",
       "3     seals border amid strains over refugee crisis :  \n",
       "4   Fleeing coup , police refugees in seek asylum ...  \n",
       "..                                                ...  \n",
       "95  He hired them and contracted with . Then , sus...  \n",
       "96  is becoming crime capital due to these goons &...  \n",
       "97  Among the respondents who sent earnings back h...  \n",
       "98  Unveiling The - heard : Remembering Brutal Ban...  \n",
       "99  a _ big _ breaking Happening Now , Fire accide...  \n",
       "\n",
       "[100 rows x 2 columns]"
      ]
     },
     "execution_count": 11,
     "metadata": {},
     "output_type": "execute_result"
    }
   ],
   "source": [
    "_[[\"text\",\"test\"]]"
   ]
  },
  {
   "cell_type": "code",
   "execution_count": null,
   "id": "dd03fdb0",
   "metadata": {},
   "outputs": [],
   "source": []
  }
 ],
 "metadata": {
  "kernelspec": {
   "display_name": "Python 3",
   "language": "python",
   "name": "python3"
  },
  "language_info": {
   "codemirror_mode": {
    "name": "ipython",
    "version": 3
   },
   "file_extension": ".py",
   "mimetype": "text/x-python",
   "name": "python",
   "nbconvert_exporter": "python",
   "pygments_lexer": "ipython3",
   "version": "3.7.9"
  }
 },
 "nbformat": 4,
 "nbformat_minor": 5
}
