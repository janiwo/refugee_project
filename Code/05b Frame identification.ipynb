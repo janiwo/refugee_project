{
 "cells": [
  {
   "cell_type": "markdown",
   "id": "a0f1404c",
   "metadata": {},
   "source": [
    "# Frame identification"
   ]
  },
  {
   "cell_type": "code",
   "execution_count": 3,
   "id": "5f435aac",
   "metadata": {},
   "outputs": [],
   "source": [
    "import os\n",
    "\n",
    "import pandas as pd\n",
    "\n",
    "import pickle\n",
    "\n",
    "from sklearn.cluster import AffinityPropagation\n",
    "\n",
    "from nltk.tokenize import word_tokenize,sent_tokenize\n",
    "\n",
    "from time import time\n",
    "from sentence_transformers import SentenceTransformer\n",
    "\n",
    "import matplotlib.pyplot as plt\n",
    "\n",
    "from collections import Counter\n",
    "\n",
    "from time import time\n",
    "import umap.umap_ as umap\n",
    "\n",
    "# functions pickle_file and load_pickle help with storing checkpoint files in the event folders on drive\n",
    "def pickle_file(file_name, file_to_dump):\n",
    "    directory_path = os.getcwd() + \"/../../../../\"\n",
    "    folder_name = file_name.split('_')[0]\n",
    "    file_path = directory_path +  fr\"Dropbox (CBS)/Master thesis data/Candidate Data/{folder_name}/{file_name}\"\n",
    "    with open(file_path, 'wb') as fp:\n",
    "        pickle.dump(file_to_dump, fp)\n",
    "\n",
    "def load_pickle(file_name):\n",
    "    directory_path = os.getcwd() + \"/../../../../\"\n",
    "    folder_name = file_name.split('_')[0]\n",
    "    file_path = directory_path + fr\"Dropbox (CBS)/Master thesis data/Candidate Data/{folder_name}/{file_name}\"\n",
    "    with open(file_path, \"rb\") as input_file:\n",
    "        return pickle.load(input_file)\n"
   ]
  },
  {
   "cell_type": "code",
   "execution_count": 4,
   "id": "7aab72c1",
   "metadata": {},
   "outputs": [],
   "source": [
    "def read_event_df(event_name):\n",
    "    data_url = fr\"Dropbox (CBS)/Master thesis data/Event Dataframes/Clean/df_{event_name}_clean.csv\"\n",
    "    directory_path = os.getcwd() + \"/../../../../\" + data_url \n",
    "    event_df = pd.read_csv(directory_path, index_col=0)\n",
    "    event_df.reset_index(drop=True, inplace=True)\n",
    "    print(f'loaded {event_df.shape[0]} tweets!')\n",
    "    return event_df"
   ]
  },
  {
   "cell_type": "code",
   "execution_count": 3,
   "id": "9ec09d22",
   "metadata": {},
   "outputs": [
    {
     "name": "stdout",
     "output_type": "stream",
     "text": [
      "loaded 137462 tweets!\n",
      "loaded 173758 tweets!\n",
      "loaded 42853 tweets!\n",
      "loaded 29432 tweets!\n"
     ]
    }
   ],
   "source": [
    "df_greece = read_event_df('greece')\n",
    "df_channel = read_event_df('channel')\n",
    "df_tigray = read_event_df('tigray')\n",
    "df_rohingya = read_event_df('rohingya')"
   ]
  },
  {
   "cell_type": "code",
   "execution_count": 11,
   "id": "aa9a7332",
   "metadata": {},
   "outputs": [
    {
     "name": "stdout",
     "output_type": "stream",
     "text": [
      "loaded 283643 tweets!\n"
     ]
    }
   ],
   "source": [
    "df_afghan = read_event_df('afghanistan')"
   ]
  },
  {
   "cell_type": "code",
   "execution_count": 4,
   "id": "324f19c6",
   "metadata": {},
   "outputs": [],
   "source": [
    "file_url = os.getcwd() + \"/../../../../\" + r\"/Dropbox (CBS)/Master thesis data/\"\n",
    "event_url = file_url + r\"Event Dataframes/\"\n",
    "event_url_clean = event_url + r\"Clean/\"\n",
    "\n",
    "candidate_url = file_url + r\"Candidate Data/\""
   ]
  },
  {
   "cell_type": "code",
   "execution_count": 5,
   "id": "ed2e51f6",
   "metadata": {},
   "outputs": [],
   "source": [
    "tigray_url_clean = event_url_clean + r\"df_tigray_clean.csv\" # location of clean Tigray dataset\n",
    "greece_url_clean = event_url_clean + r\"df_greece_clean.csv\" # location of clean Greece dataset\n",
    "rohingya_url_clean = event_url_clean + r\"df_rohingya_clean.csv\" # location clean of Rohingya dataset\n",
    "channel_url_clean = event_url_clean +r\"df_channel_clean.csv\" #Location of clean Channel dataset"
   ]
  },
  {
   "cell_type": "code",
   "execution_count": 6,
   "id": "345720e8",
   "metadata": {},
   "outputs": [],
   "source": [
    "tigray_url_fi = event_url_clean + r\"df_tigray_fi.csv\" # location of Tigray dataset for frame identification\n",
    "greece_url_fi = event_url_clean + r\"df_greece_fi.csv\" # location of Greece dataset for frame identification\n",
    "rohingya_url_fi = event_url_clean + r\"df_rohingya_fi.csv\" # location of Rohingya dataset for frame identification\n",
    "channel_url_fi = event_url_clean +r\"df_channel_fi.csv\" #Location of Channel dataset for frame identification"
   ]
  },
  {
   "cell_type": "code",
   "execution_count": 7,
   "id": "e2f98af1",
   "metadata": {},
   "outputs": [],
   "source": [
    "tigray_candidate_url = candidate_url + r\"tigray/tigray_ents\"\n",
    "greece_candidate_url = candidate_url + r\"greece/greece_ents\"\n",
    "rohingya_candidate_url = candidate_url + r\"rohingya/rohingya_ents\"\n",
    "channel_candidate_url = candidate_url + r\"channel/channel_ents\""
   ]
  },
  {
   "cell_type": "code",
   "execution_count": 8,
   "id": "6c8cfbb5",
   "metadata": {},
   "outputs": [],
   "source": [
    "with open(greece_candidate_url,\"rb\") as input_file:\n",
    "    ents = pickle.load(input_file)"
   ]
  },
  {
   "cell_type": "code",
   "execution_count": 6,
   "id": "df22d445",
   "metadata": {},
   "outputs": [],
   "source": [
    "def get_entity_list(url):\n",
    "    with open(url,\"rb\") as input_file:\n",
    "        ents = pickle.load(input_file)\n",
    "        ents = ents[ents[\"freq\"]>15]\n",
    "        \n",
    "    return list(ents[\"entity\"])"
   ]
  },
  {
   "cell_type": "code",
   "execution_count": 11,
   "id": "cc3f7647",
   "metadata": {},
   "outputs": [],
   "source": [
    "tigray_ents = get_entity_list(tigray_candidate_url)\n",
    "greece_ents = get_entity_list(greece_candidate_url)\n",
    "rohingya_ents = get_entity_list(rohingya_candidate_url)\n",
    "channel_ents = get_entity_list(channel_candidate_url)"
   ]
  },
  {
   "cell_type": "code",
   "execution_count": 7,
   "id": "606f9d22",
   "metadata": {},
   "outputs": [],
   "source": [
    "afghan_ents = load_pickle('afghanistan_ents')"
   ]
  },
  {
   "cell_type": "code",
   "execution_count": 8,
   "id": "6981325a",
   "metadata": {},
   "outputs": [],
   "source": [
    "def get_most_frequent_words(df_col):\n",
    "    \n",
    "    all_words = list()\n",
    "    \n",
    "    for words in df_col:\n",
    "        for word in words:\n",
    "            all_words.append(word)\n",
    "            \n",
    "    counter = Counter(all_words)\n",
    "    \n",
    "    return [pair[0] for pair in counter.most_common(int(len(counter)*0.025))] #0.025"
   ]
  },
  {
   "cell_type": "code",
   "execution_count": 9,
   "id": "6dd6c0a0",
   "metadata": {},
   "outputs": [],
   "source": [
    "def tokenization(df_col):\n",
    "    \"\"\"\n",
    "    Takes a list with strings and returns a list with tokens\n",
    "    \"\"\"\n",
    "    print(\"Tokenizing tweets...\\n\")\n",
    "    return df_col.apply(lambda x: word_tokenize(x))\n",
    "\n",
    "def remove_unfrequent_words(df_col):\n",
    "    print(\"Removing unfrequent words...\\n\")\n",
    "    most_frequent_words = get_most_frequent_words(df_col)\n",
    "    print(f\"(Removing words that are not among {len(most_frequent_words)} most frequent ones.)\\n\")\n",
    "    return df_col.apply(lambda x: [token for token in x if token in most_frequent_words])\n",
    "\n",
    "def remove_named_entities(df_col):\n",
    "    print(\"Removing named entities...\\n\")\n",
    "    return df_col.apply(lambda x: [token for token in x if token not in ne_list])\n",
    "\n",
    "def preprocessing(df_col, *steps):\n",
    "    \"\"\"\n",
    "    Takes in a dataframe column with text and applies preprocessing steps given \n",
    "    in and returns a string.\n",
    "    \n",
    "    Input:\n",
    "    - df (dataframe): The dataframe containing the text column.\n",
    "    - steps (functions): Multiple functions for preprocessing can be given in.\n",
    "    \n",
    "    Output:\n",
    "    - List with strings.\n",
    "    \"\"\"\n",
    "    # copying over the column for preprocessing\n",
    "    temp = df_col.copy()\n",
    "    for func in steps:\n",
    "        temp = func(temp)\n",
    "    return temp.apply(lambda x: \" \".join([token for token in x]))"
   ]
  },
  {
   "cell_type": "code",
   "execution_count": 509,
   "id": "73d28c75",
   "metadata": {},
   "outputs": [
    {
     "name": "stdout",
     "output_type": "stream",
     "text": [
      "Tokenizing tweets...\n",
      "\n",
      "Removing unfrequent words...\n",
      "\n",
      "(Removing words that are not among 1251 most frequent ones.)\n",
      "\n",
      "Removing named entities...\n",
      "\n"
     ]
    }
   ],
   "source": [
    "df_greece[\"text_frame_identification\"] = preprocessing(df_greece[\"frame_identification_corpus\"],\n",
    "                                                  tokenization,\n",
    "                                                  remove_unfrequent_words,\n",
    "                                                  remove_named_entities)\n",
    "\n",
    "most_frequent_words = get_most_frequent_words(df_greece[\"frame_identification_corpus\"].apply(lambda x: word_tokenize(x)))\n",
    "words_to_cluster_greece = [word for word in most_frequent_words if word not in ne_list]"
   ]
  },
  {
   "cell_type": "code",
   "execution_count": 116,
   "id": "1594e824",
   "metadata": {},
   "outputs": [
    {
     "name": "stdout",
     "output_type": "stream",
     "text": [
      "Tokenizing tweets...\n",
      "\n",
      "Removing unfrequent words...\n",
      "\n",
      "(Removing words that are not among 649 most frequent ones.)\n",
      "\n",
      "Removing named entities...\n",
      "\n"
     ]
    }
   ],
   "source": [
    "df_tigray[\"text_frame_identification\"] = preprocessing(df_tigray[\"frame_identification_corpus\"],\n",
    "                                                  tokenization,\n",
    "                                                  remove_unfrequent_words,\n",
    "                                                  remove_named_entities)\n",
    "\n",
    "most_frequent_words = get_most_frequent_words(df_tigray[\"frame_identification_corpus\"].apply(lambda x: word_tokenize(x)))\n",
    "words_to_cluster_tigray = [word for word in most_frequent_words if word not in ne_list]"
   ]
  },
  {
   "cell_type": "code",
   "execution_count": 117,
   "id": "f21af54c",
   "metadata": {},
   "outputs": [
    {
     "name": "stdout",
     "output_type": "stream",
     "text": [
      "Tokenizing tweets...\n",
      "\n",
      "Removing unfrequent words...\n",
      "\n",
      "(Removing words that are not among 1245 most frequent ones.)\n",
      "\n",
      "Removing named entities...\n",
      "\n"
     ]
    }
   ],
   "source": [
    "df_channel[\"text_frame_identification\"] = preprocessing(df_channel[\"frame_identification_corpus\"],\n",
    "                                                  tokenization,\n",
    "                                                  remove_unfrequent_words,\n",
    "                                                  remove_named_entities)\n",
    "\n",
    "most_frequent_words = get_most_frequent_words(df_channel[\"frame_identification_corpus\"].apply(lambda x: word_tokenize(x)))\n",
    "words_to_cluster_channel = [word for word in most_frequent_words if word not in ne_list]"
   ]
  },
  {
   "cell_type": "code",
   "execution_count": 118,
   "id": "2a111582",
   "metadata": {
    "scrolled": true
   },
   "outputs": [
    {
     "name": "stdout",
     "output_type": "stream",
     "text": [
      "Tokenizing tweets...\n",
      "\n",
      "Removing unfrequent words...\n",
      "\n",
      "(Removing words that are not among 486 most frequent ones.)\n",
      "\n",
      "Removing named entities...\n",
      "\n"
     ]
    }
   ],
   "source": [
    "df_rohingya[\"text_frame_identification\"] = preprocessing(df_rohingya[\"frame_identification_corpus\"],\n",
    "                                                  tokenization,\n",
    "                                                  remove_unfrequent_words,\n",
    "                                                  remove_named_entities)\n",
    "\n",
    "most_frequent_words = get_most_frequent_words(df_rohingya[\"frame_identification_corpus\"].apply(lambda x: word_tokenize(x)))\n",
    "words_to_cluster_rohingya = [word for word in most_frequent_words if word not in ne_list]"
   ]
  },
  {
   "cell_type": "code",
   "execution_count": 39,
   "id": "9de32ff0",
   "metadata": {},
   "outputs": [
    {
     "name": "stdout",
     "output_type": "stream",
     "text": [
      "Tokenizing tweets...\n",
      "\n",
      "Removing unfrequent words...\n",
      "\n",
      "(Removing words that are not among 1665 most frequent ones.)\n",
      "\n",
      "Removing named entities...\n",
      "\n"
     ]
    }
   ],
   "source": [
    "df_afghan = df_afghan[~df_afghan[\"frame_identification_corpus\"].isnull()]\n",
    "df_afghan[\"text_frame_identification\"] = preprocessing(df_afghan[\"frame_identification_corpus\"],\n",
    "                                                  tokenization,\n",
    "                                                  remove_unfrequent_words,\n",
    "                                                  remove_named_entities)\n",
    "\n",
    "most_frequent_words = get_most_frequent_words(df_afghan[\"frame_identification_corpus\"].apply(lambda x: word_tokenize(x)))\n",
    "words_to_cluster_afghan = [word for word in most_frequent_words if word not in ne_list]"
   ]
  },
  {
   "cell_type": "code",
   "execution_count": 50,
   "id": "bc51542d",
   "metadata": {},
   "outputs": [
    {
     "data": {
      "text/plain": [
       "1615"
      ]
     },
     "execution_count": 50,
     "metadata": {},
     "output_type": "execute_result"
    }
   ],
   "source": [
    "len(words_to_cluster_afghan)"
   ]
  },
  {
   "cell_type": "code",
   "execution_count": 227,
   "id": "7b3553fb",
   "metadata": {},
   "outputs": [
    {
     "data": {
      "text/plain": [
       "Index(['source', 'text', 'lang', 'id', 'created_at', 'author_id',\n",
       "       'retweet_count', 'reply_count', 'like_count', 'quote_count',\n",
       "       'withheld.scope', 'hashtags', 'mentions', 'annotations', 'text_clean',\n",
       "       'year', 'calendar_week', 'year_month', 'year_calendar_week', 'refugee',\n",
       "       'migrant', 'immigrant', 'asylum_seeker', 'other', 'date',\n",
       "       'text_coherent', 'retweet_count_sum', 'count', 'text_alphanum',\n",
       "       'text_stm', 'text_frame_identification', 'tok',\n",
       "       'text_frame_identification_0025', 'text_frame_identification_001',\n",
       "       'text_frame_identification_005', 'text_frame_identification_01'],\n",
       "      dtype='object')"
      ]
     },
     "execution_count": 227,
     "metadata": {},
     "output_type": "execute_result"
    }
   ],
   "source": [
    "df_greece.columns"
   ]
  },
  {
   "cell_type": "code",
   "execution_count": 198,
   "id": "2347b6b9",
   "metadata": {},
   "outputs": [],
   "source": [
    "df_greece_test = df_greece[[\"text\",\"parsing_corpus\",\"text_frame_identification\",\"date\",'text_frame_identification_0025', 'text_frame_identification_001',\n",
    "       'text_frame_identification_005', 'text_frame_identification_01']]"
   ]
  },
  {
   "cell_type": "code",
   "execution_count": 200,
   "id": "25825e39",
   "metadata": {},
   "outputs": [],
   "source": [
    "#df_greece_test.to_csv('C:\\\\Users\\\\jawo19ad\\\\Documents\\\\GitHub\\\\refugee_project\\\\Code/../../../..//Dropbox (CBS)/Master thesis data/Event Dataframes/Clean/df_greece_fi_test.csv')"
   ]
  },
  {
   "cell_type": "code",
   "execution_count": 121,
   "id": "53f1b186",
   "metadata": {},
   "outputs": [],
   "source": [
    "df_greece_frame = df_greece[[\"text\",\"parsing_corpus\",\"text_frame_identification\",\"date\"]]\n",
    "df_tigray_frame = df_tigray[[\"text\",\"parsing_corpus\",\"text_frame_identification\",\"date\"]]\n",
    "df_rohingya_frame = df_rohingya[[\"text\",\"parsing_corpus\",\"text_frame_identification\",\"date\"]]\n",
    "df_channel_frame = df_channel[[\"text\",\"parsing_corpus\",\"text_frame_identification\",\"date\"]]\n",
    "\n",
    "#df_greece_frame.to_csv(greece_url_fi)\n",
    "#df_tigray_frame.to_csv(tigray_url_fi)\n",
    "#df_rohingya_frame.to_csv(rohingya_url_fi)\n",
    "#df_channel_frame.to_csv(channel_url_fi)"
   ]
  },
  {
   "cell_type": "markdown",
   "id": "71e2f8ab",
   "metadata": {},
   "source": [
    "## Train BERT"
   ]
  },
  {
   "cell_type": "code",
   "execution_count": 9,
   "id": "1023618f",
   "metadata": {},
   "outputs": [],
   "source": [
    "from collections import Counter\n",
    "def get_most_frequent_words(df_col):\n",
    "    \n",
    "    def clean_nes(tweet_words):\n",
    "        return \" \".join([word for word in tweet_words.split() if word not in ne_list])\n",
    "    #tokenized_cols = df_col.apply(lambda x: word_tokenize(x) if len(x)>0 else x)\n",
    "    df_col = df_col[~df_col.isnull()] \n",
    "    #df_col = df_col.apply(lambda x: print(x.split()) )\n",
    "    #df_col = df_col.apply(clean_nes)\n",
    "    #print(df_col)\n",
    "    counter = Counter(\" \".join(df_col).split())\n",
    "    #print(counter.most_common(200))\n",
    "    words = [pair[0] for pair in counter.most_common(200)]\n",
    "\n",
    "    #words = [word for word in words if word not in removed_words]\n",
    "\n",
    "    return words # list(set(words).difference(set(removed_words)))\n",
    "\n",
    "def embed_words(words):\n",
    "    from time import time\n",
    "    from sentence_transformers import SentenceTransformer\n",
    "    #sbert_model = SentenceTransformer('bert-base-nli-mean-tokens')\n",
    "    sbert_model = SentenceTransformer('paraphrase-mpnet-base-v2')\n",
    "\n",
    "    #bert_corpus = list(words['entity'])\n",
    "\n",
    "    print(f'there are {len(words)} entities to be encoded')\n",
    "    t0 = time()\n",
    "    word_embeddings = sbert_model.encode(words)\n",
    "    print(f'Training embeddings took {time()-t0} seconds')\n",
    "    return word_embeddings"
   ]
  },
  {
   "cell_type": "code",
   "execution_count": 5,
   "id": "12fc7c91",
   "metadata": {},
   "outputs": [
    {
     "data": {
      "text/plain": [
       "364"
      ]
     },
     "execution_count": 5,
     "metadata": {},
     "output_type": "execute_result"
    }
   ],
   "source": [
    "ne_list = 'abiy africa ahmed amhara amnesty andrew antony asean assad axum bangladesh bangladeshi biden blinken boris borisjohnson brexit britain british bulgaria burma burmese calais channel china commission coronavirus council coup covid cox dover dublin england english erdogan eritrea eritrean ethiopia ethiopian europe european evros farage filippo france french freya_cole germany grandi greece greek guterres harris hindu hitsats hlaing idlib idp india indian iran isaias jammu johnson junta kachin kadra kamala karen kent labour lesbos maikadra manipur mizoram muslim myanmar nato nigel pakistan patel president priti putin rohingya rohingyas russia russian secretary shimelba shire state sudan sudanese syria syrian thai thailand tigrai tigray tigrayan tigrayans tory tplf trudeau turk turkey turkish unhcr union unsc yangon yemen'.split(\" \")\n",
    "\n",
    "non_framing = 'accept access according across action actually affected agency allow already always another anyone apply april area around arriving asylum away axum back bazar believe better blackout blame boat border broke call called came camp campaign cant case centre change citizen city claim closed coast come coming committed community conflict continue country coup crisis cross daily day deal dear desperate dinghy displaced district done dont east enough enter ethnic every evidence face fact fake find fire first force free full genuine getting give given going good great group happening happeningln hate hlaing hope huge illegally including internally international internet investigation island issue keep land last le leader least leave leaving left life live living local long longer look lost made majority make making many march mass massive maybe mean medium member middle minority missing mission month morning move much nation navy need never news night northern nothing number office official ongoing open opened order part people photo place plan please point population pray praying problem provide public push rapporteur rather reach read real really reason region report reported return right said save say saying seek seeker send sending sent service shame shore show side situation small something source south special staff stand stay still stop story strike sure system taking talk targeted tear tell thank thats theyre thing think time today told towards township truth trying turn united unity urgent urgently used using vice video village villager voice wait want watch water wave week west western whats white without world wrong yangon year yesterday zone'.split(\" \")\n",
    "\n",
    "removed_words = list(set(ne_list + non_framing))\n",
    "\n",
    "len(removed_words)"
   ]
  },
  {
   "cell_type": "code",
   "execution_count": 19,
   "id": "f96e7918",
   "metadata": {},
   "outputs": [
    {
     "name": "stdout",
     "output_type": "stream",
     "text": [
      "loaded 137462 tweets!\n",
      "loaded 173758 tweets!\n",
      "loaded 42853 tweets!\n",
      "loaded 29432 tweets!\n"
     ]
    }
   ],
   "source": [
    "df_greece = read_event_df('greece')\n",
    "df_channel = read_event_df('channel')\n",
    "df_tigray = read_event_df('tigray')\n",
    "df_rohingya = read_event_df('rohingya')"
   ]
  },
  {
   "cell_type": "code",
   "execution_count": 58,
   "id": "a863529a",
   "metadata": {},
   "outputs": [],
   "source": [
    "most_frequent_words_greece = get_most_frequent_words(df_greece[\"frame_identification_corpus\"])\n",
    "most_frequent_words_channel = get_most_frequent_words(df_channel[\"frame_identification_corpus\"])\n",
    "most_frequent_words_tigray = get_most_frequent_words(df_tigray[\"frame_identification_corpus\"])\n",
    "most_frequent_words_rohingya = get_most_frequent_words(df_rohingya[\"frame_identification_corpus\"])\n",
    "most_frequent_words = list(set(most_frequent_words_greece+most_frequent_words_channel+most_frequent_words_tigray+most_frequent_words_rohingya))"
   ]
  },
  {
   "cell_type": "code",
   "execution_count": 12,
   "id": "3e7e74fc",
   "metadata": {},
   "outputs": [
    {
     "data": {
      "text/plain": [
       "['refugee',\n",
       " 'afghan',\n",
       " 'afghanistan',\n",
       " 'taliban',\n",
       " 'country',\n",
       " 'people',\n",
       " 'take',\n",
       " 'help',\n",
       " 'biden',\n",
       " 'immigrant',\n",
       " 'pakistan',\n",
       " 'american',\n",
       " 'many',\n",
       " 'want',\n",
       " 'government',\n",
       " 'border',\n",
       " 'need',\n",
       " 'would',\n",
       " 'kabul',\n",
       " 'year',\n",
       " 'million',\n",
       " 'like',\n",
       " 'migrant',\n",
       " 'crisis',\n",
       " 'family',\n",
       " 'state',\n",
       " 'thousand',\n",
       " 'right',\n",
       " 'welcome',\n",
       " 'trump',\n",
       " 'support',\n",
       " 'india',\n",
       " 'news',\n",
       " 'america',\n",
       " 'time',\n",
       " 'know',\n",
       " 'visa',\n",
       " 'woman',\n",
       " 'life',\n",
       " 'home',\n",
       " 'asylum',\n",
       " 'back',\n",
       " 'must',\n",
       " 'please',\n",
       " 'muslim',\n",
       " 'world',\n",
       " 'coming',\n",
       " 'come',\n",
       " 'resettle',\n",
       " 'call',\n",
       " 'also',\n",
       " 'military',\n",
       " 'going',\n",
       " 'think',\n",
       " 'terrorist',\n",
       " 'taking',\n",
       " 'dont',\n",
       " 'say',\n",
       " 'europe',\n",
       " 'house',\n",
       " 'accept',\n",
       " 'make',\n",
       " 'could',\n",
       " 'open',\n",
       " 'first',\n",
       " 'turkey',\n",
       " 'already',\n",
       " 'citizen',\n",
       " 'fleeing',\n",
       " 'even',\n",
       " 'president',\n",
       " 'airport',\n",
       " 'said',\n",
       " 'safe',\n",
       " 'child',\n",
       " 'give',\n",
       " 'left',\n",
       " 'ally',\n",
       " 'sign',\n",
       " 'nation',\n",
       " 'canada',\n",
       " 'petition',\n",
       " 'still',\n",
       " 'plan',\n",
       " 'stop',\n",
       " 'seeker',\n",
       " 'housing',\n",
       " 'well',\n",
       " 'every',\n",
       " 'bring',\n",
       " 'united',\n",
       " 'leave',\n",
       " 'patel',\n",
       " 'special',\n",
       " 'number',\n",
       " 'evacuation',\n",
       " 'care',\n",
       " 'illegal',\n",
       " 'good',\n",
       " 'thing',\n",
       " 'priti',\n",
       " 'live',\n",
       " 'free',\n",
       " 'much',\n",
       " 'resettlement',\n",
       " 'better',\n",
       " 'plane',\n",
       " 'humanitarian',\n",
       " 'troop',\n",
       " 'covid',\n",
       " 'last',\n",
       " 'today',\n",
       " 'evacuate',\n",
       " 'situation',\n",
       " 'work',\n",
       " 'force',\n",
       " 'trying',\n",
       " 'iran',\n",
       " 'group',\n",
       " 'republican',\n",
       " 'hope',\n",
       " 'helping',\n",
       " 'never',\n",
       " 'airbnb',\n",
       " 'since',\n",
       " 'place',\n",
       " 'look',\n",
       " 'fear',\n",
       " 'another',\n",
       " 'made',\n",
       " 'send',\n",
       " 'helped',\n",
       " 'week',\n",
       " 'effort',\n",
       " 'problem',\n",
       " 'really',\n",
       " 'without',\n",
       " 'getting',\n",
       " 'displaced',\n",
       " 'process',\n",
       " 'uganda',\n",
       " 'host',\n",
       " 'offer',\n",
       " 'miller',\n",
       " 'tell',\n",
       " 'money',\n",
       " 'administration',\n",
       " 'base',\n",
       " 'behind',\n",
       " 'takeover',\n",
       " 'decade',\n",
       " 'community',\n",
       " 'human',\n",
       " 'next',\n",
       " 'enough',\n",
       " 'britain',\n",
       " 'living',\n",
       " 'program',\n",
       " 'keep',\n",
       " 'leader',\n",
       " 'govt',\n",
       " 'council',\n",
       " 'attack',\n",
       " 'worked',\n",
       " 'islamic',\n",
       " 'allow',\n",
       " 'city',\n",
       " 'month',\n",
       " 'least',\n",
       " 'sure',\n",
       " 'cant',\n",
       " 'nothing',\n",
       " 'long',\n",
       " 'show',\n",
       " 'around',\n",
       " 'anyone',\n",
       " 'immigration',\n",
       " 'accepting',\n",
       " 'policy',\n",
       " 'camp',\n",
       " 'provide',\n",
       " 'save',\n",
       " 'racist',\n",
       " 'arriving',\n",
       " 'national',\n",
       " 'afghani',\n",
       " 'bringing',\n",
       " 'mean',\n",
       " 'security',\n",
       " 'member',\n",
       " 'western',\n",
       " 'killed',\n",
       " 'flight',\n",
       " 'ready',\n",
       " 'done',\n",
       " 'status',\n",
       " 'possible',\n",
       " 'start',\n",
       " 'safety',\n",
       " 'immediately']"
      ]
     },
     "execution_count": 12,
     "metadata": {},
     "output_type": "execute_result"
    }
   ],
   "source": [
    "most_frequent_words_afghan = get_most_frequent_words(df_afghan[\"frame_identification_corpus\"])\n",
    "most_frequent_words_afghan"
   ]
  },
  {
   "cell_type": "code",
   "execution_count": 65,
   "id": "6def634f",
   "metadata": {},
   "outputs": [],
   "source": [
    "def create_frames(embedding, preference, most_frequent_words):\n",
    "    cluster = AffinityPropagation(preference = preference,  random_state=42).fit(embedding)\n",
    "    cluster_labels = cluster.labels_\n",
    "    \n",
    "    labeled_tweet = pd.DataFrame({'word': most_frequent_words,'label':cluster_labels})\n",
    "    \n",
    "    # Create documents per label\n",
    "    docs_per_class = labeled_tweet.groupby(['label'], as_index=False).agg({'word': ' '.join})\n",
    "\n",
    "    words_per_class = dict()\n",
    "    for label,word in zip(docs_per_class['label'],docs_per_class['word']):\n",
    "        words_per_class[label] = word.split(' ')\n",
    "    return pd.DataFrame(dict([ (k,pd.Series(v)) for k,v in words_per_class.items() ])).fillna('.').head(50),words_per_class\n",
    "    "
   ]
  },
  {
   "cell_type": "markdown",
   "id": "731b6c71",
   "metadata": {},
   "source": [
    "### Greece"
   ]
  },
  {
   "cell_type": "code",
   "execution_count": 470,
   "id": "714f2892",
   "metadata": {},
   "outputs": [
    {
     "data": {
      "text/plain": [
       "65"
      ]
     },
     "execution_count": 470,
     "metadata": {},
     "output_type": "execute_result"
    }
   ],
   "source": [
    "len(most_frequent_words_greece)"
   ]
  },
  {
   "cell_type": "code",
   "execution_count": 471,
   "id": "266ee2b6",
   "metadata": {
    "scrolled": false
   },
   "outputs": [
    {
     "name": "stdout",
     "output_type": "stream",
     "text": [
      "there are 65 entities to be encoded\n",
      "Training embeddings took 0.5062229633331299 seconds\n"
     ]
    }
   ],
   "source": [
    "greece_embeddings = embed_words(most_frequent_words_greece)"
   ]
  },
  {
   "cell_type": "code",
   "execution_count": 479,
   "id": "da87b88b",
   "metadata": {},
   "outputs": [
    {
     "name": "stdout",
     "output_type": "stream",
     "text": [
      "Duration: 1.668034315109253 seconds\n"
     ]
    }
   ],
   "source": [
    "start = time()\n",
    "reduced_embedding_greece = umap.UMAP(random_state=42,\n",
    "                                     n_components=3,\n",
    "                                     min_dist=0.1,\n",
    "                                     n_neighbors = 5).fit_transform(greece_embeddings)\n",
    "print(f'Duration: {time() - start} seconds')"
   ]
  },
  {
   "cell_type": "code",
   "execution_count": 575,
   "id": "a9b9151e",
   "metadata": {},
   "outputs": [],
   "source": [
    "greece_frame_df, greece_frame_dict = create_frames(reduced_embedding_greece,-4,most_frequent_words_greece)"
   ]
  },
  {
   "cell_type": "code",
   "execution_count": null,
   "id": "53d01e8a",
   "metadata": {},
   "outputs": [],
   "source": [
    "\"\"\"\n",
    "humanitarian\n",
    "reception\n",
    "migration\n",
    "security\n",
    "violence\n",
    "political\n",
    "economic\n",
    "military\n",
    "criminal\n",
    "\"\"\""
   ]
  },
  {
   "cell_type": "code",
   "execution_count": 577,
   "id": "93a81767",
   "metadata": {},
   "outputs": [],
   "source": [
    "pickle_file(\"greece_frame_devices\",greece_frame_dict)"
   ]
  },
  {
   "cell_type": "markdown",
   "id": "7b688550",
   "metadata": {},
   "source": [
    "### Channel"
   ]
  },
  {
   "cell_type": "code",
   "execution_count": 483,
   "id": "35ee4546",
   "metadata": {},
   "outputs": [
    {
     "data": {
      "text/plain": [
       "51"
      ]
     },
     "execution_count": 483,
     "metadata": {},
     "output_type": "execute_result"
    }
   ],
   "source": [
    "len(most_frequent_words_channel)"
   ]
  },
  {
   "cell_type": "code",
   "execution_count": 484,
   "id": "e8e47003",
   "metadata": {
    "scrolled": false
   },
   "outputs": [
    {
     "name": "stdout",
     "output_type": "stream",
     "text": [
      "there are 51 entities to be encoded\n",
      "Training embeddings took 0.4698755741119385 seconds\n"
     ]
    }
   ],
   "source": [
    "channel_embeddings = embed_words(most_frequent_words_channel)"
   ]
  },
  {
   "cell_type": "code",
   "execution_count": 498,
   "id": "f501ff3e",
   "metadata": {},
   "outputs": [
    {
     "name": "stdout",
     "output_type": "stream",
     "text": [
      "Duration: 1.7096350193023682 seconds\n"
     ]
    }
   ],
   "source": [
    "start = time()\n",
    "reduced_embedding_channel = umap.UMAP(random_state=42,\n",
    "                                     n_components=3,\n",
    "                                     min_dist=0.1,\n",
    "                                     n_neighbors = 10).fit_transform(channel_embeddings)\n",
    "print(f'Duration: {time() - start} seconds')"
   ]
  },
  {
   "cell_type": "code",
   "execution_count": 501,
   "id": "22ef80b4",
   "metadata": {},
   "outputs": [
    {
     "data": {
      "text/html": [
       "<div>\n",
       "<style scoped>\n",
       "    .dataframe tbody tr th:only-of-type {\n",
       "        vertical-align: middle;\n",
       "    }\n",
       "\n",
       "    .dataframe tbody tr th {\n",
       "        vertical-align: top;\n",
       "    }\n",
       "\n",
       "    .dataframe thead th {\n",
       "        text-align: right;\n",
       "    }\n",
       "</style>\n",
       "<table border=\"1\" class=\"dataframe\">\n",
       "  <thead>\n",
       "    <tr style=\"text-align: right;\">\n",
       "      <th></th>\n",
       "      <th>0</th>\n",
       "      <th>1</th>\n",
       "      <th>2</th>\n",
       "      <th>3</th>\n",
       "      <th>4</th>\n",
       "      <th>5</th>\n",
       "      <th>6</th>\n",
       "    </tr>\n",
       "  </thead>\n",
       "  <tbody>\n",
       "    <tr>\n",
       "      <th>0</th>\n",
       "      <td>government</td>\n",
       "      <td>home</td>\n",
       "      <td>economic</td>\n",
       "      <td>illegal</td>\n",
       "      <td>safe</td>\n",
       "      <td>crossing</td>\n",
       "      <td>child</td>\n",
       "    </tr>\n",
       "    <tr>\n",
       "      <th>1</th>\n",
       "      <td>legal</td>\n",
       "      <td>hotel</td>\n",
       "      <td>money</td>\n",
       "      <td>racist</td>\n",
       "      <td>help</td>\n",
       "      <td>immigration</td>\n",
       "      <td>work</td>\n",
       "    </tr>\n",
       "    <tr>\n",
       "      <th>2</th>\n",
       "      <td>voted</td>\n",
       "      <td>house</td>\n",
       "      <td>million</td>\n",
       "      <td>criminal</td>\n",
       "      <td>benefit</td>\n",
       "      <td>fleeing</td>\n",
       "      <td>family</td>\n",
       "    </tr>\n",
       "    <tr>\n",
       "      <th>3</th>\n",
       "      <td>policy</td>\n",
       "      <td>welcome</td>\n",
       "      <td>thousand</td>\n",
       "      <td>police</td>\n",
       "      <td>support</td>\n",
       "      <td>invasion</td>\n",
       "      <td>human</td>\n",
       "    </tr>\n",
       "    <tr>\n",
       "      <th>4</th>\n",
       "      <td>rule</td>\n",
       "      <td>housing</td>\n",
       "      <td>poor</td>\n",
       "      <td>illegals</td>\n",
       "      <td>control</td>\n",
       "      <td>migration</td>\n",
       "      <td>woman</td>\n",
       "    </tr>\n",
       "    <tr>\n",
       "      <th>5</th>\n",
       "      <td>govt</td>\n",
       "      <td>homeless</td>\n",
       "      <td>paying</td>\n",
       "      <td>crime</td>\n",
       "      <td>care</td>\n",
       "      <td>entering</td>\n",
       "      <td>working</td>\n",
       "    </tr>\n",
       "    <tr>\n",
       "      <th>6</th>\n",
       "      <td>vote</td>\n",
       "      <td>.</td>\n",
       "      <td>cost</td>\n",
       "      <td>.</td>\n",
       "      <td>death</td>\n",
       "      <td>arrive</td>\n",
       "      <td>job</td>\n",
       "    </tr>\n",
       "    <tr>\n",
       "      <th>7</th>\n",
       "      <td>law</td>\n",
       "      <td>.</td>\n",
       "      <td>paid</td>\n",
       "      <td>.</td>\n",
       "      <td>risk</td>\n",
       "      <td>.</td>\n",
       "      <td>.</td>\n",
       "    </tr>\n",
       "    <tr>\n",
       "      <th>8</th>\n",
       "      <td>taxpayer</td>\n",
       "      <td>.</td>\n",
       "      <td>.</td>\n",
       "      <td>.</td>\n",
       "      <td>.</td>\n",
       "      <td>.</td>\n",
       "      <td>.</td>\n",
       "    </tr>\n",
       "  </tbody>\n",
       "</table>\n",
       "</div>"
      ],
      "text/plain": [
       "            0         1         2         3        4            5        6\n",
       "0  government      home  economic   illegal     safe     crossing    child\n",
       "1       legal     hotel     money    racist     help  immigration     work\n",
       "2       voted     house   million  criminal  benefit      fleeing   family\n",
       "3      policy   welcome  thousand    police  support     invasion    human\n",
       "4        rule   housing      poor  illegals  control    migration    woman\n",
       "5        govt  homeless    paying     crime     care     entering  working\n",
       "6        vote         .      cost         .    death       arrive      job\n",
       "7         law         .      paid         .     risk            .        .\n",
       "8    taxpayer         .         .         .        .            .        ."
      ]
     },
     "execution_count": 501,
     "metadata": {},
     "output_type": "execute_result"
    }
   ],
   "source": [
    "create_frames(reduced_embedding_channel,-2,most_frequent_words_channel)"
   ]
  },
  {
   "cell_type": "code",
   "execution_count": 560,
   "id": "60e899db",
   "metadata": {},
   "outputs": [],
   "source": [
    "channel_frame_df, channel_frame_dict = create_frames(reduced_embedding_channel,-2,most_frequent_words_channel)"
   ]
  },
  {
   "cell_type": "code",
   "execution_count": 562,
   "id": "b45763da",
   "metadata": {},
   "outputs": [],
   "source": [
    "pickle_file(\"channel_frame_devices\",channel_frame_dict)"
   ]
  },
  {
   "cell_type": "code",
   "execution_count": null,
   "id": "9c310809",
   "metadata": {},
   "outputs": [],
   "source": [
    "\"\"\"\n",
    "political\n",
    "accomodation\n",
    "economisation\n",
    "criminality\n",
    "support\n",
    "migration\n",
    "integration\n",
    "\"\"\""
   ]
  },
  {
   "cell_type": "markdown",
   "id": "2f5c7908",
   "metadata": {},
   "source": [
    "### Tigray"
   ]
  },
  {
   "cell_type": "code",
   "execution_count": 504,
   "id": "5a612040",
   "metadata": {},
   "outputs": [
    {
     "data": {
      "text/plain": [
       "76"
      ]
     },
     "execution_count": 504,
     "metadata": {},
     "output_type": "execute_result"
    }
   ],
   "source": [
    "len(most_frequent_words_tigray)"
   ]
  },
  {
   "cell_type": "code",
   "execution_count": 505,
   "id": "c35ff1af",
   "metadata": {
    "scrolled": true
   },
   "outputs": [
    {
     "name": "stdout",
     "output_type": "stream",
     "text": [
      "there are 76 entities to be encoded\n",
      "Training embeddings took 0.8544445037841797 seconds\n"
     ]
    }
   ],
   "source": [
    "tigray_embeddings = embed_words(most_frequent_words_tigray)"
   ]
  },
  {
   "cell_type": "code",
   "execution_count": 524,
   "id": "634b02ef",
   "metadata": {},
   "outputs": [
    {
     "name": "stdout",
     "output_type": "stream",
     "text": [
      "Duration: 1.4146029949188232 seconds\n"
     ]
    }
   ],
   "source": [
    "start = time()\n",
    "reduced_embedding_tigray = umap.UMAP(random_state=42,\n",
    "                                     n_components=3,\n",
    "                                     min_dist=0.1,\n",
    "                                     n_neighbors = 5).fit_transform(tigray_embeddings)\n",
    "print(f'Duration: {time() - start} seconds')"
   ]
  },
  {
   "cell_type": "code",
   "execution_count": 530,
   "id": "eaf6c47f",
   "metadata": {
    "scrolled": false
   },
   "outputs": [
    {
     "data": {
      "text/html": [
       "<div>\n",
       "<style scoped>\n",
       "    .dataframe tbody tr th:only-of-type {\n",
       "        vertical-align: middle;\n",
       "    }\n",
       "\n",
       "    .dataframe tbody tr th {\n",
       "        vertical-align: top;\n",
       "    }\n",
       "\n",
       "    .dataframe thead th {\n",
       "        text-align: right;\n",
       "    }\n",
       "</style>\n",
       "<table border=\"1\" class=\"dataframe\">\n",
       "  <thead>\n",
       "    <tr style=\"text-align: right;\">\n",
       "      <th></th>\n",
       "      <th>0</th>\n",
       "      <th>1</th>\n",
       "      <th>2</th>\n",
       "      <th>3</th>\n",
       "      <th>4</th>\n",
       "      <th>5</th>\n",
       "      <th>6</th>\n",
       "      <th>7</th>\n",
       "    </tr>\n",
       "  </thead>\n",
       "  <tbody>\n",
       "    <tr>\n",
       "      <th>0</th>\n",
       "      <td>million</td>\n",
       "      <td>fled</td>\n",
       "      <td>food</td>\n",
       "      <td>civilian</td>\n",
       "      <td>crime</td>\n",
       "      <td>genocide</td>\n",
       "      <td>innocent</td>\n",
       "      <td>human</td>\n",
       "    </tr>\n",
       "    <tr>\n",
       "      <th>1</th>\n",
       "      <td>thousand</td>\n",
       "      <td>fleeing</td>\n",
       "      <td>starvation</td>\n",
       "      <td>militia</td>\n",
       "      <td>rape</td>\n",
       "      <td>killed</td>\n",
       "      <td>protect</td>\n",
       "      <td>humanitarian</td>\n",
       "    </tr>\n",
       "    <tr>\n",
       "      <th>2</th>\n",
       "      <td>hundred</td>\n",
       "      <td>flee</td>\n",
       "      <td>starving</td>\n",
       "      <td>government</td>\n",
       "      <td>violence</td>\n",
       "      <td>killing</td>\n",
       "      <td>care</td>\n",
       "      <td>woman</td>\n",
       "    </tr>\n",
       "    <tr>\n",
       "      <th>3</th>\n",
       "      <td>.</td>\n",
       "      <td>.</td>\n",
       "      <td>famine</td>\n",
       "      <td>troop</td>\n",
       "      <td>raped</td>\n",
       "      <td>massacre</td>\n",
       "      <td>peace</td>\n",
       "      <td>help</td>\n",
       "    </tr>\n",
       "    <tr>\n",
       "      <th>4</th>\n",
       "      <td>.</td>\n",
       "      <td>.</td>\n",
       "      <td>hunger</td>\n",
       "      <td>soldier</td>\n",
       "      <td>terrorist</td>\n",
       "      <td>destroyed</td>\n",
       "      <td>safe</td>\n",
       "      <td>child</td>\n",
       "    </tr>\n",
       "    <tr>\n",
       "      <th>5</th>\n",
       "      <td>.</td>\n",
       "      <td>.</td>\n",
       "      <td>.</td>\n",
       "      <td>army</td>\n",
       "      <td>criminal</td>\n",
       "      <td>looting</td>\n",
       "      <td>safety</td>\n",
       "      <td>home</td>\n",
       "    </tr>\n",
       "    <tr>\n",
       "      <th>6</th>\n",
       "      <td>.</td>\n",
       "      <td>.</td>\n",
       "      <td>.</td>\n",
       "      <td>military</td>\n",
       "      <td>forced</td>\n",
       "      <td>death</td>\n",
       "      <td>health</td>\n",
       "      <td>support</td>\n",
       "    </tr>\n",
       "    <tr>\n",
       "      <th>7</th>\n",
       "      <td>.</td>\n",
       "      <td>.</td>\n",
       "      <td>.</td>\n",
       "      <td>govt</td>\n",
       "      <td>atrocity</td>\n",
       "      <td>massacred</td>\n",
       "      <td>protection</td>\n",
       "      <td>family</td>\n",
       "    </tr>\n",
       "    <tr>\n",
       "      <th>8</th>\n",
       "      <td>.</td>\n",
       "      <td>.</td>\n",
       "      <td>.</td>\n",
       "      <td>dictator</td>\n",
       "      <td>attack</td>\n",
       "      <td>looted</td>\n",
       "      <td>security</td>\n",
       "      <td>assistance</td>\n",
       "    </tr>\n",
       "    <tr>\n",
       "      <th>9</th>\n",
       "      <td>.</td>\n",
       "      <td>.</td>\n",
       "      <td>.</td>\n",
       "      <td>.</td>\n",
       "      <td>victim</td>\n",
       "      <td>destruction</td>\n",
       "      <td>.</td>\n",
       "      <td>work</td>\n",
       "    </tr>\n",
       "    <tr>\n",
       "      <th>10</th>\n",
       "      <td>.</td>\n",
       "      <td>.</td>\n",
       "      <td>.</td>\n",
       "      <td>.</td>\n",
       "      <td>fighting</td>\n",
       "      <td>kill</td>\n",
       "      <td>.</td>\n",
       "      <td>humanity</td>\n",
       "    </tr>\n",
       "    <tr>\n",
       "      <th>11</th>\n",
       "      <td>.</td>\n",
       "      <td>.</td>\n",
       "      <td>.</td>\n",
       "      <td>.</td>\n",
       "      <td>justice</td>\n",
       "      <td>burned</td>\n",
       "      <td>.</td>\n",
       "      <td>girl</td>\n",
       "    </tr>\n",
       "    <tr>\n",
       "      <th>12</th>\n",
       "      <td>.</td>\n",
       "      <td>.</td>\n",
       "      <td>.</td>\n",
       "      <td>.</td>\n",
       "      <td>suffering</td>\n",
       "      <td>cleansing</td>\n",
       "      <td>.</td>\n",
       "      <td>youth</td>\n",
       "    </tr>\n",
       "    <tr>\n",
       "      <th>13</th>\n",
       "      <td>.</td>\n",
       "      <td>.</td>\n",
       "      <td>.</td>\n",
       "      <td>.</td>\n",
       "      <td>violation</td>\n",
       "      <td>dying</td>\n",
       "      <td>.</td>\n",
       "      <td>house</td>\n",
       "    </tr>\n",
       "    <tr>\n",
       "      <th>14</th>\n",
       "      <td>.</td>\n",
       "      <td>.</td>\n",
       "      <td>.</td>\n",
       "      <td>.</td>\n",
       "      <td>raping</td>\n",
       "      <td>dead</td>\n",
       "      <td>.</td>\n",
       "      <td>.</td>\n",
       "    </tr>\n",
       "    <tr>\n",
       "      <th>15</th>\n",
       "      <td>.</td>\n",
       "      <td>.</td>\n",
       "      <td>.</td>\n",
       "      <td>.</td>\n",
       "      <td>sexual</td>\n",
       "      <td>.</td>\n",
       "      <td>.</td>\n",
       "      <td>.</td>\n",
       "    </tr>\n",
       "    <tr>\n",
       "      <th>16</th>\n",
       "      <td>.</td>\n",
       "      <td>.</td>\n",
       "      <td>.</td>\n",
       "      <td>.</td>\n",
       "      <td>abuse</td>\n",
       "      <td>.</td>\n",
       "      <td>.</td>\n",
       "      <td>.</td>\n",
       "    </tr>\n",
       "    <tr>\n",
       "      <th>17</th>\n",
       "      <td>.</td>\n",
       "      <td>.</td>\n",
       "      <td>.</td>\n",
       "      <td>.</td>\n",
       "      <td>attacked</td>\n",
       "      <td>.</td>\n",
       "      <td>.</td>\n",
       "      <td>.</td>\n",
       "    </tr>\n",
       "  </tbody>\n",
       "</table>\n",
       "</div>"
      ],
      "text/plain": [
       "           0        1           2           3          4            5  \\\n",
       "0    million     fled        food    civilian      crime     genocide   \n",
       "1   thousand  fleeing  starvation     militia       rape       killed   \n",
       "2    hundred     flee    starving  government   violence      killing   \n",
       "3          .        .      famine       troop      raped     massacre   \n",
       "4          .        .      hunger     soldier  terrorist    destroyed   \n",
       "5          .        .           .        army   criminal      looting   \n",
       "6          .        .           .    military     forced        death   \n",
       "7          .        .           .        govt   atrocity    massacred   \n",
       "8          .        .           .    dictator     attack       looted   \n",
       "9          .        .           .           .     victim  destruction   \n",
       "10         .        .           .           .   fighting         kill   \n",
       "11         .        .           .           .    justice       burned   \n",
       "12         .        .           .           .  suffering    cleansing   \n",
       "13         .        .           .           .  violation        dying   \n",
       "14         .        .           .           .     raping         dead   \n",
       "15         .        .           .           .     sexual            .   \n",
       "16         .        .           .           .      abuse            .   \n",
       "17         .        .           .           .   attacked            .   \n",
       "\n",
       "             6             7  \n",
       "0     innocent         human  \n",
       "1      protect  humanitarian  \n",
       "2         care         woman  \n",
       "3        peace          help  \n",
       "4         safe         child  \n",
       "5       safety          home  \n",
       "6       health       support  \n",
       "7   protection        family  \n",
       "8     security    assistance  \n",
       "9            .          work  \n",
       "10           .      humanity  \n",
       "11           .          girl  \n",
       "12           .         youth  \n",
       "13           .         house  \n",
       "14           .             .  \n",
       "15           .             .  \n",
       "16           .             .  \n",
       "17           .             .  "
      ]
     },
     "execution_count": 530,
     "metadata": {},
     "output_type": "execute_result"
    }
   ],
   "source": [
    "create_frames(reduced_embedding_tigray,-10,most_frequent_words_tigray)"
   ]
  },
  {
   "cell_type": "code",
   "execution_count": 563,
   "id": "b9e2ff38",
   "metadata": {},
   "outputs": [],
   "source": [
    "tigray_frame_df, tigray_frame_dict = create_frames(reduced_embedding_tigray,-10,most_frequent_words_tigray)"
   ]
  },
  {
   "cell_type": "code",
   "execution_count": 565,
   "id": "4f0505fe",
   "metadata": {},
   "outputs": [],
   "source": [
    "pickle_file(\"tigray_frame_devices\",tigray_frame_dict)"
   ]
  },
  {
   "cell_type": "code",
   "execution_count": null,
   "id": "c05e35e9",
   "metadata": {},
   "outputs": [],
   "source": [
    "\"\"\"\n",
    "misc\n",
    "misc\n",
    "vulnerabilty\n",
    "political/military\n",
    "criminality\n",
    "violence\n",
    "support/protection (maybe even outreach)\n",
    "humanitarian\n",
    "\"\"\""
   ]
  },
  {
   "cell_type": "markdown",
   "id": "90f4f71a",
   "metadata": {},
   "source": [
    "### Rohingya"
   ]
  },
  {
   "cell_type": "code",
   "execution_count": 531,
   "id": "5531d607",
   "metadata": {},
   "outputs": [
    {
     "data": {
      "text/plain": [
       "79"
      ]
     },
     "execution_count": 531,
     "metadata": {},
     "output_type": "execute_result"
    }
   ],
   "source": [
    "len(most_frequent_words_rohingya)"
   ]
  },
  {
   "cell_type": "code",
   "execution_count": 532,
   "id": "3d070162",
   "metadata": {
    "scrolled": true
   },
   "outputs": [
    {
     "name": "stdout",
     "output_type": "stream",
     "text": [
      "there are 79 entities to be encoded\n",
      "Training embeddings took 0.8724038600921631 seconds\n"
     ]
    }
   ],
   "source": [
    "rohingya_embeddings = embed_words(most_frequent_words_rohingya)"
   ]
  },
  {
   "cell_type": "code",
   "execution_count": 545,
   "id": "60d0c169",
   "metadata": {},
   "outputs": [
    {
     "name": "stdout",
     "output_type": "stream",
     "text": [
      "Duration: 1.4543967247009277 seconds\n"
     ]
    }
   ],
   "source": [
    "start = time()\n",
    "reduced_embedding_rohingya = umap.UMAP(random_state=42,\n",
    "                                     n_components=3,\n",
    "                                     min_dist=0.1,\n",
    "                                     n_neighbors = 10).fit_transform(rohingya_embeddings)\n",
    "print(f'Duration: {time() - start} seconds')"
   ]
  },
  {
   "cell_type": "code",
   "execution_count": 552,
   "id": "b435033a",
   "metadata": {},
   "outputs": [
    {
     "data": {
      "text/html": [
       "<div>\n",
       "<style scoped>\n",
       "    .dataframe tbody tr th:only-of-type {\n",
       "        vertical-align: middle;\n",
       "    }\n",
       "\n",
       "    .dataframe tbody tr th {\n",
       "        vertical-align: top;\n",
       "    }\n",
       "\n",
       "    .dataframe thead th {\n",
       "        text-align: right;\n",
       "    }\n",
       "</style>\n",
       "<table border=\"1\" class=\"dataframe\">\n",
       "  <thead>\n",
       "    <tr style=\"text-align: right;\">\n",
       "      <th></th>\n",
       "      <th>0</th>\n",
       "      <th>1</th>\n",
       "      <th>2</th>\n",
       "      <th>3</th>\n",
       "      <th>4</th>\n",
       "      <th>5</th>\n",
       "      <th>6</th>\n",
       "      <th>7</th>\n",
       "      <th>8</th>\n",
       "    </tr>\n",
       "  </thead>\n",
       "  <tbody>\n",
       "    <tr>\n",
       "      <th>0</th>\n",
       "      <td>military</td>\n",
       "      <td>child</td>\n",
       "      <td>killed</td>\n",
       "      <td>government</td>\n",
       "      <td>fleeing</td>\n",
       "      <td>terrorist</td>\n",
       "      <td>thousand</td>\n",
       "      <td>shelter</td>\n",
       "      <td>help</td>\n",
       "    </tr>\n",
       "    <tr>\n",
       "      <th>1</th>\n",
       "      <td>army</td>\n",
       "      <td>human</td>\n",
       "      <td>killing</td>\n",
       "      <td>illegal</td>\n",
       "      <td>fled</td>\n",
       "      <td>airstrikes</td>\n",
       "      <td>hundred</td>\n",
       "      <td>food</td>\n",
       "      <td>humanitarian</td>\n",
       "    </tr>\n",
       "    <tr>\n",
       "      <th>2</th>\n",
       "      <td>civilian</td>\n",
       "      <td>home</td>\n",
       "      <td>dead</td>\n",
       "      <td>authority</td>\n",
       "      <td>flee</td>\n",
       "      <td>attack</td>\n",
       "      <td>million</td>\n",
       "      <td>safe</td>\n",
       "      <td>support</td>\n",
       "    </tr>\n",
       "    <tr>\n",
       "      <th>3</th>\n",
       "      <td>soldier</td>\n",
       "      <td>family</td>\n",
       "      <td>massacre</td>\n",
       "      <td>democracy</td>\n",
       "      <td>deportation</td>\n",
       "      <td>police</td>\n",
       "      <td>.</td>\n",
       "      <td>safety</td>\n",
       "      <td>supply</td>\n",
       "    </tr>\n",
       "    <tr>\n",
       "      <th>4</th>\n",
       "      <td>brigade</td>\n",
       "      <td>house</td>\n",
       "      <td>genocide</td>\n",
       "      <td>forced</td>\n",
       "      <td>.</td>\n",
       "      <td>violence</td>\n",
       "      <td>.</td>\n",
       "      <td>injured</td>\n",
       "      <td>donation</td>\n",
       "    </tr>\n",
       "    <tr>\n",
       "      <th>5</th>\n",
       "      <td>fighter</td>\n",
       "      <td>worker</td>\n",
       "      <td>death</td>\n",
       "      <td>govt</td>\n",
       "      <td>.</td>\n",
       "      <td>crackdown</td>\n",
       "      <td>.</td>\n",
       "      <td>suppression</td>\n",
       "      <td>supporting</td>\n",
       "    </tr>\n",
       "    <tr>\n",
       "      <th>6</th>\n",
       "      <td>armed</td>\n",
       "      <td>woman</td>\n",
       "      <td>devastating</td>\n",
       "      <td>court</td>\n",
       "      <td>.</td>\n",
       "      <td>crime</td>\n",
       "      <td>.</td>\n",
       "      <td>security</td>\n",
       "      <td>emergency</td>\n",
       "    </tr>\n",
       "    <tr>\n",
       "      <th>7</th>\n",
       "      <td>jet</td>\n",
       "      <td>humanity</td>\n",
       "      <td>destroyed</td>\n",
       "      <td>detained</td>\n",
       "      <td>.</td>\n",
       "      <td>attacked</td>\n",
       "      <td>.</td>\n",
       "      <td>protect</td>\n",
       "      <td>assistance</td>\n",
       "    </tr>\n",
       "    <tr>\n",
       "      <th>8</th>\n",
       "      <td>.</td>\n",
       "      <td>homeless</td>\n",
       "      <td>burnt</td>\n",
       "      <td>forcing</td>\n",
       "      <td>.</td>\n",
       "      <td>besieging</td>\n",
       "      <td>.</td>\n",
       "      <td>health</td>\n",
       "      <td>donate</td>\n",
       "    </tr>\n",
       "    <tr>\n",
       "      <th>9</th>\n",
       "      <td>.</td>\n",
       "      <td>work</td>\n",
       "      <td>died</td>\n",
       "      <td>envoy</td>\n",
       "      <td>.</td>\n",
       "      <td>bombing</td>\n",
       "      <td>.</td>\n",
       "      <td>innocent</td>\n",
       "      <td>aid</td>\n",
       "    </tr>\n",
       "    <tr>\n",
       "      <th>10</th>\n",
       "      <td>.</td>\n",
       "      <td>.</td>\n",
       "      <td>kill</td>\n",
       "      <td>national</td>\n",
       "      <td>.</td>\n",
       "      <td>.</td>\n",
       "      <td>.</td>\n",
       "      <td>.</td>\n",
       "      <td>.</td>\n",
       "    </tr>\n",
       "    <tr>\n",
       "      <th>11</th>\n",
       "      <td>.</td>\n",
       "      <td>.</td>\n",
       "      <td>burned</td>\n",
       "      <td>civil</td>\n",
       "      <td>.</td>\n",
       "      <td>.</td>\n",
       "      <td>.</td>\n",
       "      <td>.</td>\n",
       "      <td>.</td>\n",
       "    </tr>\n",
       "  </tbody>\n",
       "</table>\n",
       "</div>"
      ],
      "text/plain": [
       "           0         1            2           3            4           5  \\\n",
       "0   military     child       killed  government      fleeing   terrorist   \n",
       "1       army     human      killing     illegal         fled  airstrikes   \n",
       "2   civilian      home         dead   authority         flee      attack   \n",
       "3    soldier    family     massacre   democracy  deportation      police   \n",
       "4    brigade     house     genocide      forced            .    violence   \n",
       "5    fighter    worker        death        govt            .   crackdown   \n",
       "6      armed     woman  devastating       court            .       crime   \n",
       "7        jet  humanity    destroyed    detained            .    attacked   \n",
       "8          .  homeless        burnt     forcing            .   besieging   \n",
       "9          .      work         died       envoy            .     bombing   \n",
       "10         .         .         kill    national            .           .   \n",
       "11         .         .       burned       civil            .           .   \n",
       "\n",
       "           6            7             8  \n",
       "0   thousand      shelter          help  \n",
       "1    hundred         food  humanitarian  \n",
       "2    million         safe       support  \n",
       "3          .       safety        supply  \n",
       "4          .      injured      donation  \n",
       "5          .  suppression    supporting  \n",
       "6          .     security     emergency  \n",
       "7          .      protect    assistance  \n",
       "8          .       health        donate  \n",
       "9          .     innocent           aid  \n",
       "10         .            .             .  \n",
       "11         .            .             .  "
      ]
     },
     "execution_count": 552,
     "metadata": {},
     "output_type": "execute_result"
    }
   ],
   "source": [
    "create_frames(reduced_embedding_rohingya,-4,most_frequent_words_rohingya)"
   ]
  },
  {
   "cell_type": "code",
   "execution_count": 566,
   "id": "cc4cff4f",
   "metadata": {},
   "outputs": [],
   "source": [
    "rohingya_frame_df, rohingya_frame_dict = create_frames(reduced_embedding_rohingya,-4,most_frequent_words_rohingya)"
   ]
  },
  {
   "cell_type": "code",
   "execution_count": 568,
   "id": "2dc7b8ae",
   "metadata": {},
   "outputs": [],
   "source": [
    "pickle_file(\"rohingya_frame_devices\",rohingya_frame_dict)"
   ]
  },
  {
   "cell_type": "code",
   "execution_count": null,
   "id": "35f096bd",
   "metadata": {},
   "outputs": [],
   "source": [
    "\"\"\"\n",
    "military\n",
    "protection\n",
    "violence\n",
    "political\n",
    "misc\n",
    "violence (merge with other)\n",
    "misc\n",
    "protection (merge with other)\n",
    "humanitarian\n",
    "\"\"\""
   ]
  },
  {
   "cell_type": "markdown",
   "id": "f27f1a28",
   "metadata": {},
   "source": [
    "### Afghanistan"
   ]
  },
  {
   "cell_type": "code",
   "execution_count": 13,
   "id": "203e43b3",
   "metadata": {},
   "outputs": [],
   "source": [
    "afghan_words = \"thousand million afghan afghani afghanistan airbnb also america american behind bring bringing canada could decade even immediately immigrant immigration islamic kabul know like migrant miller must next possible process program ready refugee sign since start take taliban trump uganda well would\".split(\" \")\n",
    "removed_words = list(set(removed_words+afghan_words))"
   ]
  },
  {
   "cell_type": "code",
   "execution_count": 14,
   "id": "6a52968e",
   "metadata": {},
   "outputs": [
    {
     "data": {
      "text/plain": [
       "52"
      ]
     },
     "execution_count": 14,
     "metadata": {},
     "output_type": "execute_result"
    }
   ],
   "source": [
    "most_frequent_words_afghan = [word for word in most_frequent_words_afghan if word not in removed_words]\n",
    "len(most_frequent_words_afghan)"
   ]
  },
  {
   "cell_type": "code",
   "execution_count": 15,
   "id": "c0593379",
   "metadata": {},
   "outputs": [
    {
     "name": "stdout",
     "output_type": "stream",
     "text": [
      "there are 52 entities to be encoded\n",
      "Training embeddings took 1.3283207416534424 seconds\n"
     ]
    }
   ],
   "source": [
    "afghan_embeddings = embed_words(most_frequent_words_afghan)"
   ]
  },
  {
   "cell_type": "code",
   "execution_count": 33,
   "id": "617a4f3c",
   "metadata": {},
   "outputs": [
    {
     "name": "stdout",
     "output_type": "stream",
     "text": [
      "Duration: 2.1852686405181885 seconds\n"
     ]
    }
   ],
   "source": [
    "start = time()\n",
    "reduced_embedding_afghan= umap.UMAP(random_state=42,\n",
    "                                     n_components=2,\n",
    "                                     min_dist=0.00001,\n",
    "                                     n_neighbors = 5).fit_transform(afghan_embeddings)\n",
    "print(f'Duration: {time() - start} seconds')"
   ]
  },
  {
   "cell_type": "code",
   "execution_count": 34,
   "id": "d92be399",
   "metadata": {
    "scrolled": true
   },
   "outputs": [
    {
     "data": {
      "text/plain": [
       "<AxesSubplot:>"
      ]
     },
     "execution_count": 34,
     "metadata": {},
     "output_type": "execute_result"
    },
    {
     "data": {
      "image/png": "[encoded data removed]",
      "text/plain": [
       "<Figure size 432x288 with 1 Axes>"
      ]
     },
     "metadata": {
      "needs_background": "light"
     },
     "output_type": "display_data"
    }
   ],
   "source": [
    "import seaborn\n",
    "\n",
    "seaborn.scatterplot(x = reduced_embedding_afghan[:, 0],\n",
    "                y = reduced_embedding_afghan[:, 1], palette =\"Paired\")"
   ]
  },
  {
   "cell_type": "code",
   "execution_count": 35,
   "id": "08700d51",
   "metadata": {},
   "outputs": [],
   "source": [
    "cluster = AffinityPropagation(preference = -7,  random_state=42).fit(reduced_embedding_afghan)\n",
    "cluster_labels = cluster.labels_"
   ]
  },
  {
   "cell_type": "code",
   "execution_count": 36,
   "id": "9aeef592",
   "metadata": {},
   "outputs": [
    {
     "data": {
      "text/plain": [
       "<AxesSubplot:>"
      ]
     },
     "execution_count": 36,
     "metadata": {},
     "output_type": "execute_result"
    },
    {
     "data": {
      "image/png": "[encoded data removed]",
      "text/plain": [
       "<Figure size 432x288 with 1 Axes>"
      ]
     },
     "metadata": {
      "needs_background": "light"
     },
     "output_type": "display_data"
    }
   ],
   "source": [
    "import seaborn\n",
    "\n",
    "seaborn.scatterplot(x = reduced_embedding_afghan[:, 0],\n",
    "                y = reduced_embedding_afghan[:, 1],\n",
    "                hue = cluster_labels, palette =\"Paired\")"
   ]
  },
  {
   "cell_type": "code",
   "execution_count": 138,
   "id": "3a05f964",
   "metadata": {},
   "outputs": [
    {
     "data": {
      "text/html": [
       "<div>\n",
       "<style scoped>\n",
       "    .dataframe tbody tr th:only-of-type {\n",
       "        vertical-align: middle;\n",
       "    }\n",
       "\n",
       "    .dataframe tbody tr th {\n",
       "        vertical-align: top;\n",
       "    }\n",
       "\n",
       "    .dataframe thead th {\n",
       "        text-align: right;\n",
       "    }\n",
       "</style>\n",
       "<table border=\"1\" class=\"dataframe\">\n",
       "  <thead>\n",
       "    <tr style=\"text-align: right;\">\n",
       "      <th></th>\n",
       "      <th>0</th>\n",
       "      <th>1</th>\n",
       "      <th>2</th>\n",
       "      <th>3</th>\n",
       "      <th>4</th>\n",
       "    </tr>\n",
       "  </thead>\n",
       "  <tbody>\n",
       "    <tr>\n",
       "      <th>0</th>\n",
       "      <td>family</td>\n",
       "      <td>military</td>\n",
       "      <td>resettle</td>\n",
       "      <td>help</td>\n",
       "      <td>government</td>\n",
       "    </tr>\n",
       "    <tr>\n",
       "      <th>1</th>\n",
       "      <td>welcome</td>\n",
       "      <td>terrorist</td>\n",
       "      <td>fleeing</td>\n",
       "      <td>support</td>\n",
       "      <td>visa</td>\n",
       "    </tr>\n",
       "    <tr>\n",
       "      <th>2</th>\n",
       "      <td>home</td>\n",
       "      <td>safe</td>\n",
       "      <td>airport</td>\n",
       "      <td>woman</td>\n",
       "      <td>petition</td>\n",
       "    </tr>\n",
       "    <tr>\n",
       "      <th>3</th>\n",
       "      <td>house</td>\n",
       "      <td>troop</td>\n",
       "      <td>evacuation</td>\n",
       "      <td>ally</td>\n",
       "      <td>illegal</td>\n",
       "    </tr>\n",
       "    <tr>\n",
       "      <th>4</th>\n",
       "      <td>child</td>\n",
       "      <td>fear</td>\n",
       "      <td>resettlement</td>\n",
       "      <td>care</td>\n",
       "      <td>humanitarian</td>\n",
       "    </tr>\n",
       "    <tr>\n",
       "      <th>5</th>\n",
       "      <td>housing</td>\n",
       "      <td>base</td>\n",
       "      <td>plane</td>\n",
       "      <td>work</td>\n",
       "      <td>republican</td>\n",
       "    </tr>\n",
       "    <tr>\n",
       "      <th>6</th>\n",
       "      <td>host</td>\n",
       "      <td>attack</td>\n",
       "      <td>evacuate</td>\n",
       "      <td>helping</td>\n",
       "      <td>administration</td>\n",
       "    </tr>\n",
       "    <tr>\n",
       "      <th>7</th>\n",
       "      <td>.</td>\n",
       "      <td>security</td>\n",
       "      <td>flight</td>\n",
       "      <td>helped</td>\n",
       "      <td>takeover</td>\n",
       "    </tr>\n",
       "    <tr>\n",
       "      <th>8</th>\n",
       "      <td>.</td>\n",
       "      <td>killed</td>\n",
       "      <td>.</td>\n",
       "      <td>effort</td>\n",
       "      <td>govt</td>\n",
       "    </tr>\n",
       "    <tr>\n",
       "      <th>9</th>\n",
       "      <td>.</td>\n",
       "      <td>safety</td>\n",
       "      <td>.</td>\n",
       "      <td>offer</td>\n",
       "      <td>policy</td>\n",
       "    </tr>\n",
       "    <tr>\n",
       "      <th>10</th>\n",
       "      <td>.</td>\n",
       "      <td>.</td>\n",
       "      <td>.</td>\n",
       "      <td>money</td>\n",
       "      <td>racist</td>\n",
       "    </tr>\n",
       "    <tr>\n",
       "      <th>11</th>\n",
       "      <td>.</td>\n",
       "      <td>.</td>\n",
       "      <td>.</td>\n",
       "      <td>human</td>\n",
       "      <td>national</td>\n",
       "    </tr>\n",
       "    <tr>\n",
       "      <th>12</th>\n",
       "      <td>.</td>\n",
       "      <td>.</td>\n",
       "      <td>.</td>\n",
       "      <td>worked</td>\n",
       "      <td>status</td>\n",
       "    </tr>\n",
       "    <tr>\n",
       "      <th>13</th>\n",
       "      <td>.</td>\n",
       "      <td>.</td>\n",
       "      <td>.</td>\n",
       "      <td>accepting</td>\n",
       "      <td>.</td>\n",
       "    </tr>\n",
       "  </tbody>\n",
       "</table>\n",
       "</div>"
      ],
      "text/plain": [
       "          0          1             2          3               4\n",
       "0    family   military      resettle       help      government\n",
       "1   welcome  terrorist       fleeing    support            visa\n",
       "2      home       safe       airport      woman        petition\n",
       "3     house      troop    evacuation       ally         illegal\n",
       "4     child       fear  resettlement       care    humanitarian\n",
       "5   housing       base         plane       work      republican\n",
       "6      host     attack      evacuate    helping  administration\n",
       "7         .   security        flight     helped        takeover\n",
       "8         .     killed             .     effort            govt\n",
       "9         .     safety             .      offer          policy\n",
       "10        .          .             .      money          racist\n",
       "11        .          .             .      human        national\n",
       "12        .          .             .     worked          status\n",
       "13        .          .             .  accepting               ."
      ]
     },
     "execution_count": 138,
     "metadata": {},
     "output_type": "execute_result"
    }
   ],
   "source": [
    "create_frames(reduced_embedding_afghan,-7,most_frequent_words_afghan)[0]"
   ]
  },
  {
   "cell_type": "code",
   "execution_count": 139,
   "id": "bfb1831f",
   "metadata": {},
   "outputs": [],
   "source": [
    "afghan_frame_df, afghan_frame_dict = create_frames(reduced_embedding_afghan,-7,most_frequent_words_afghan)"
   ]
  },
  {
   "cell_type": "code",
   "execution_count": 141,
   "id": "830d2afc",
   "metadata": {},
   "outputs": [],
   "source": [
    "pickle_file(\"afghanistan_frame_devices\",afghan_frame_dict)"
   ]
  },
  {
   "cell_type": "code",
   "execution_count": null,
   "id": "2a018212",
   "metadata": {},
   "outputs": [],
   "source": [
    "load"
   ]
  }
 ],
 "metadata": {
  "kernelspec": {
   "display_name": "Python 3",
   "language": "python",
   "name": "python3"
  },
  "language_info": {
   "codemirror_mode": {
    "name": "ipython",
    "version": 3
   },
   "file_extension": ".py",
   "mimetype": "text/x-python",
   "name": "python",
   "nbconvert_exporter": "python",
   "pygments_lexer": "ipython3",
   "version": "3.7.9"
  }
 },
 "nbformat": 4,
 "nbformat_minor": 5
}
