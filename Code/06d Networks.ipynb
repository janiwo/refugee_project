{
 "cells": [
  {
   "cell_type": "markdown",
   "metadata": {},
   "source": [
    "# Network Analysis"
   ]
  },
  {
   "cell_type": "code",
   "execution_count": null,
   "metadata": {},
   "outputs": [],
   "source": [
    "# https://programminghistorian.org/en/lessons/exploring-and-analyzing-network-data-with-python"
   ]
  },
  {
   "cell_type": "code",
   "execution_count": 53,
   "metadata": {},
   "outputs": [],
   "source": [
    "import numpy as np\n",
    "import pandas as pd\n",
    "from collections import defaultdict\n",
    "import itertools\n",
    "\n",
    "import networkx as nx\n",
    "#import nxviz\n",
    "#from nxviz.plots import MatrixPlot, ArcPlot, CircosPlot\n",
    "import matplotlib.pyplot as plt\n",
    "from matplotlib.pyplot import figure\n",
    "import seaborn\n",
    "seaborn.set()\n",
    "\n",
    "\n",
    "from community import community_louvain\n",
    "\n",
    "from prettytable import PrettyTable\n",
    "\n",
    "from pyvis.network import Network\n",
    "#import plotly.offline as py\n",
    "#import plotly.graph_objects as go"
   ]
  },
  {
   "cell_type": "code",
   "execution_count": null,
   "metadata": {},
   "outputs": [],
   "source": [
    "def create_edgelist(entity_list, retweets):\n",
    "    \"\"\"\n",
    "    Creates a weighted edgelist based on entity co-occurence.\n",
    "    \n",
    "        Parameters:\n",
    "            entity_list (list): List of lists of entities occuring together.\n",
    "        \n",
    "        Returns:\n",
    "            df_edgelist (dataframe): Pandas dataframe that shows number of co-occurances of different entities. \n",
    "    \"\"\"\n",
    "    \n",
    "    print(\"\\nCreating Edgelist...\\n\\n\")\n",
    "    \n",
    "    cooccurence_dict = defaultdict(lambda: defaultdict(int))\n",
    "    \n",
    "    # Iterate over all entity co-occurences\n",
    "    for cooccurence, retweet in zip(entity_list,retweets):\n",
    "    \n",
    "    # Check whether more than one entity is available\n",
    "        if len(cooccurence) > 1:\n",
    "    \n",
    "        # Get all possible combinations of entities\n",
    "            combinations = list(itertools.combinations(sorted(cooccurence), 2))\n",
    "            \n",
    "    \n",
    "            # Increment count of entity co-occurences by retweet count + 1\n",
    "            for combination in combinations:\n",
    "                cooccurence_dict[combination][\"Co_Occurence\"] += 1\n",
    "                cooccurence_dict[combination][\"Retweet\"] += (retweet+1)             \n",
    "        \n",
    "    # Convert dict to dataframe\n",
    "    #df_edgelist = pd.Series(cooccurance_dict).reset_index()\n",
    "    #df_edgelist.columns = ['Entity_1', 'Entity_2', 'Weight']\n",
    "    \n",
    "    df_edgelist = pd.DataFrame.from_dict(cooccurence_dict, orient=\"index\")\n",
    "    df_edgelist.reset_index(inplace=True)\n",
    "    df_edgelist.rename({\"level_0\":\"Entity_1\",\"level_1\":\"Entity_2\"},axis=1, inplace=True)\n",
    "    df_edgelist = df_edgelist[df_edgelist[\"Entity_1\"] != df_edgelist[\"Entity_2\"]]\n",
    "    \n",
    "    # Return edgelist dataframe\n",
    "    return df_edgelist"
   ]
  },
  {
   "cell_type": "code",
   "execution_count": null,
   "metadata": {},
   "outputs": [],
   "source": [
    "def get_entity_count(series):\n",
    "    dict_count = defaultdict(int)\n",
    "    \n",
    "    for entities in series:\n",
    "        for entity in entities:\n",
    "            if len(entity) > 0:\n",
    "                dict_count[entity] += 1\n",
    "            \n",
    "    return dict_count"
   ]
  },
  {
   "cell_type": "code",
   "execution_count": null,
   "metadata": {},
   "outputs": [],
   "source": [
    "def create_overall_graph(df,df_edgelist,entity = \"hashtags\"):\n",
    "    print(\"\\nCreating the Overall Graph...\\n\\n\")\n",
    "\n",
    "    G = nx.Graph()\n",
    "    \n",
    "    for entity_1,entity_2,weight in zip(df_edgelist[\"Entity_1\"],\n",
    "                                        df_edgelist[\"Entity_2\"],\n",
    "                                        df_edgelist[\"Weight\"]):\n",
    "        G.add_edge(entity_1,entity_2, weight = weight, width=weight)\n",
    "    \n",
    "    \n",
    "    print(nx.info(G))\n",
    "    print(\"\\n----------------------------------------------\\n\\n\")\n",
    "\n",
    "    entity_count = get_entity_count(df[entity])\n",
    "    degree_centrality = nx.degree_centrality(G)\n",
    "    eigenvector_centrality = nx.eigenvector_centrality(G, weight = \"weight\")\n",
    "    size = {k:v/max(degree_centrality.values())*30 for (k,v) in degree_centrality.items()}\n",
    "\n",
    "    nx.set_node_attributes(G, entity_count, \"entity_count\" )\n",
    "    nx.set_node_attributes(G, degree_centrality, \"Degree Centrality\")\n",
    "    nx.set_node_attributes(G, eigenvector_centrality, \"Eigenvector Centrality\")\n",
    "    nx.set_node_attributes(G, size, \"size\")\n",
    "    \n",
    "    df_node_attributes = pd.DataFrame.from_dict(dict(G.nodes(data=True)),\n",
    "                                            orient=\"index\").reset_index().rename({\"index\":\"entity\"}, axis = 1)\n",
    "    df_node_attributes = df_node_attributes.sort_values(by=\"Degree Centrality\", ascending=False).reset_index(drop=True)\n",
    "    \n",
    "    print(f\"Most important {entity} in the network:\")\n",
    "    print(df_node_attributes[[\"entity\",\"entity_count\",\"Degree Centrality\"]].head(15))\n",
    "    print(\"\\n----------------------------------------------\\n\\n\")\n",
    "    \n",
    "    return G, df_node_attributes"
   ]
  },
  {
   "cell_type": "code",
   "execution_count": null,
   "metadata": {},
   "outputs": [],
   "source": [
    "def create_subgraph(df_node_attributes, G, node_count = 50, filename = \"abc.html\"):\n",
    "    print(\"\\nCreating Subgraph...\\n\\n\")\n",
    "    \n",
    "    cut_off = df_node_attributes.loc[node_count,\"Degree Centrality\"]\n",
    "    selected_nodes = [n for n,v in G.nodes(data=True) if v[\"Degree Centrality\"]>cut_off]\n",
    "    \n",
    "    G_sub = G.subgraph(selected_nodes)\n",
    "    \n",
    "    partition = community_louvain.best_partition(G_sub, random_state=42)\n",
    "    print(f\"Identified {len(set(partition.values()))} clusters.\")\n",
    "    \n",
    "    colors_partition = {k:v for (k,v) in colors.items() if k < len(set(partition.values()))}\n",
    "    \n",
    "    node_colors = {k:colors_partition[v] for (k,v) in partition.items()}\n",
    "    \n",
    "    nx.set_node_attributes(G_sub, partition, \"Partiton\")\n",
    "    nx.set_node_attributes(G_sub, node_colors, \"color\")\n",
    "    \n",
    "    print(\"\\nPlotting Graph...\\n\\n\")\n",
    "    n = Network(height = \"1500px\", width =\"100%\", font_color =\"#616a6b \")\n",
    "    #n.show_buttons()\n",
    "    n.from_nx(G_sub)\n",
    "    n.barnes_hut()\n",
    "    n.show_buttons(filter_=[\"nodes\",\"edges\",\"physics\"])\n",
    "    n.show(filename)\n",
    "    print(\"\\nGraph succesfully plotted\\n\\n\")"
   ]
  },
  {
   "cell_type": "code",
   "execution_count": 6,
   "metadata": {},
   "outputs": [],
   "source": [
    "def all_in_one(df, entity, filename,node_count=50, weighting = \"Retweet\"):\n",
    "    \n",
    "    df_edgelist = create_edgelist(list(df[entity]), list(df[\"retweet_count_sum\"]))\n",
    "    df_edgelist[\"Weight\"] = df_edgelist[weighting]/(max(df_edgelist[weighting])/25)\n",
    "    df_edgelist = df_edgelist.sort_values(by=\"Weight\", ascending=False)\n",
    "    \n",
    "    print(f\"Most frequently co-occuring hashtags sorted by {weighting}:\")\n",
    "    print(df_edgelist[[\"Entity_1\",\"Entity_2\",\"Co_Occurence\",\"Retweet\"]].head(15))\n",
    "    print(\"\\n----------------------------------------------\\n\\n\")\n",
    "    \n",
    "    G, df_node_attributes = create_overall_graph(df,\n",
    "                                                 df_edgelist,\n",
    "                                                 entity = entity)\n",
    "    \n",
    "    create_subgraph(df_node_attributes, G, node_count = node_count, filename = filename)"
   ]
  },
  {
   "cell_type": "code",
   "execution_count": 7,
   "metadata": {},
   "outputs": [],
   "source": [
    "def element_in_list(entities,qualifiers):\n",
    "\n",
    "    return not(bool(set(entities).isdisjoint(set(qualifiers))))"
   ]
  },
  {
   "cell_type": "code",
   "execution_count": 8,
   "metadata": {},
   "outputs": [],
   "source": [
    "def group_df(df,interval):\n",
    "    \n",
    "    if interval == \"week\":\n",
    "        col_name = \"year_calendar_week\"\n",
    "    elif interval == \"month\":\n",
    "        col_name = \"year_month\"\n",
    "    elif interval == \"day\":\n",
    "        col_name = \"date\"\n",
    "    \n",
    "    \n",
    "    df_grouped = df.groupby([col_name])[['refugee', 'migrant', 'immigrant', 'asylum_seeker', 'other']].sum()\n",
    "    df_grouped[\"total\"] = df_grouped.sum(axis=1)\n",
    "    \n",
    "    return df_grouped"
   ]
  },
  {
   "cell_type": "code",
   "execution_count": 130,
   "metadata": {},
   "outputs": [],
   "source": [
    "def plot_event_timeline(df, interval):\n",
    "    \n",
    "    df_grouped = group_df(df,interval)\n",
    "    \n",
    "    plt.figure(figsize=(16, 8))\n",
    "    plt.plot(df_grouped[\"total\"], color=colors[0])\n",
    "    #plt.title(f\"Number of tweets about refugees and related groups by {interval}\")\n",
    "    plt.xticks(np.arange(0, len(df_grouped)+1,3),rotation=90)\n",
    "    plt.show()\n",
    "    \n",
    "    plt.figure(figsize=(16, 8))\n",
    "    plt.plot(df_grouped[\"refugee\"], label =\"refugee\",color=colors[0])\n",
    "    plt.plot(df_grouped[\"migrant\"], label =\"migrant\",color=colors[1])\n",
    "    plt.plot(df_grouped[\"immigrant\"], label =\"immigrant\",color=colors[2])\n",
    "    plt.plot(df_grouped[\"asylum_seeker\"], label =\"asylum seeker\",color=colors[3])\n",
    "    plt.plot(df_grouped[\"other\"], label =\"other\",color=colors[4])\n",
    "    #plt.title(f\"Grouped number of tweets about refugees and related groups by {interval}\")\n",
    "    plt.xticks(np.arange(0, len(df_grouped)+1,3),rotation=90)\n",
    "    plt.legend()\n",
    "    plt.show()"
   ]
  },
  {
   "cell_type": "code",
   "execution_count": 10,
   "metadata": {},
   "outputs": [],
   "source": [
    "def hashtag_analysis(df,hashtags):\n",
    "    df = df[df[\"hashtags\"].apply(lambda x: element_in_list(x,hashtags))].sort_values(\"retweet_count\", ascending=False).head(10)\n",
    "    df = df[[\"id\",\"text\",\"retweet_count\"]]\n",
    "    \n",
    "    for i,(ID,tweet, retweets) in df.iterrows():\n",
    "        print(tweet)\n",
    "        print(f\"Retweets: {retweets}\")\n",
    "        print(f\"ID: {ID}\")\n",
    "        print(\"---------------------------------\")\n",
    "        print"
   ]
  },
  {
   "cell_type": "code",
   "execution_count": 11,
   "metadata": {},
   "outputs": [],
   "source": [
    "colors = {0:\"#6495ED\",\n",
    "          1:\"#9FE2BF\",\n",
    "          2:\"#FFBF00\",\n",
    "          3:\"#717d7e\",\n",
    "          4:\"#cb4335\",\n",
    "          5:\"#7d3c98\",\n",
    "          6:\"#273746\",\n",
    "          7:\"#196f3d \"}"
   ]
  },
  {
   "cell_type": "markdown",
   "metadata": {},
   "source": [
    "## Import the data"
   ]
  },
  {
   "cell_type": "code",
   "execution_count": 12,
   "metadata": {},
   "outputs": [
    {
     "data": {
      "text/html": [
       "<div>\n",
       "<style scoped>\n",
       "    .dataframe tbody tr th:only-of-type {\n",
       "        vertical-align: middle;\n",
       "    }\n",
       "\n",
       "    .dataframe tbody tr th {\n",
       "        vertical-align: top;\n",
       "    }\n",
       "\n",
       "    .dataframe thead th {\n",
       "        text-align: right;\n",
       "    }\n",
       "</style>\n",
       "<table border=\"1\" class=\"dataframe\">\n",
       "  <thead>\n",
       "    <tr style=\"text-align: right;\">\n",
       "      <th></th>\n",
       "      <th>source</th>\n",
       "      <th>text</th>\n",
       "      <th>lang</th>\n",
       "      <th>id</th>\n",
       "      <th>created_at</th>\n",
       "      <th>author_id</th>\n",
       "      <th>retweet_count</th>\n",
       "      <th>reply_count</th>\n",
       "      <th>like_count</th>\n",
       "      <th>quote_count</th>\n",
       "      <th>...</th>\n",
       "      <th>migrant</th>\n",
       "      <th>immigrant</th>\n",
       "      <th>asylum_seeker</th>\n",
       "      <th>other</th>\n",
       "      <th>date</th>\n",
       "      <th>text_coherent</th>\n",
       "      <th>retweet_count_sum</th>\n",
       "      <th>count</th>\n",
       "      <th>text_alphanum</th>\n",
       "      <th>text_stm</th>\n",
       "    </tr>\n",
       "  </thead>\n",
       "  <tbody>\n",
       "    <tr>\n",
       "      <th>0</th>\n",
       "      <td>Hootsuite Inc.</td>\n",
       "      <td>PA Ambassador in Bosnia &amp;amp; Herzegovina says...</td>\n",
       "      <td>en</td>\n",
       "      <td>1227019550912372737</td>\n",
       "      <td>2020-02-11 00:00:32+00:00</td>\n",
       "      <td>81136269</td>\n",
       "      <td>1</td>\n",
       "      <td>0</td>\n",
       "      <td>1</td>\n",
       "      <td>0</td>\n",
       "      <td>...</td>\n",
       "      <td>False</td>\n",
       "      <td>False</td>\n",
       "      <td>False</td>\n",
       "      <td>False</td>\n",
       "      <td>2020-02-11</td>\n",
       "      <td>PA Ambassador in Bosnia &amp; Herzegovina says lif...</td>\n",
       "      <td>1</td>\n",
       "      <td>1</td>\n",
       "      <td>pa ambassador in bosnia  herzegovina says life...</td>\n",
       "      <td>ambassador bosnia herzegovina say life europe ...</td>\n",
       "    </tr>\n",
       "    <tr>\n",
       "      <th>1</th>\n",
       "      <td>u.fooo.ooo</td>\n",
       "      <td>[🔴 NEWS] Greece plans floating sea border wall...</td>\n",
       "      <td>en</td>\n",
       "      <td>1227019556167864321</td>\n",
       "      <td>2020-02-11 00:00:33+00:00</td>\n",
       "      <td>1052191553802854407</td>\n",
       "      <td>0</td>\n",
       "      <td>0</td>\n",
       "      <td>0</td>\n",
       "      <td>0</td>\n",
       "      <td>...</td>\n",
       "      <td>False</td>\n",
       "      <td>False</td>\n",
       "      <td>False</td>\n",
       "      <td>False</td>\n",
       "      <td>2020-02-11</td>\n",
       "      <td>[ NEWS] Greece plans floating sea border wall ...</td>\n",
       "      <td>0</td>\n",
       "      <td>1</td>\n",
       "      <td>news greece plans floating sea border wall to...</td>\n",
       "      <td>news greece plan floating border wall keep</td>\n",
       "    </tr>\n",
       "    <tr>\n",
       "      <th>2</th>\n",
       "      <td>Twitter Web Client</td>\n",
       "      <td>Latest Battle for Idlib Could Send Another Wav...</td>\n",
       "      <td>en</td>\n",
       "      <td>1227021374780313601</td>\n",
       "      <td>2020-02-11 00:07:47+00:00</td>\n",
       "      <td>18570470</td>\n",
       "      <td>0</td>\n",
       "      <td>0</td>\n",
       "      <td>1</td>\n",
       "      <td>1</td>\n",
       "      <td>...</td>\n",
       "      <td>False</td>\n",
       "      <td>False</td>\n",
       "      <td>False</td>\n",
       "      <td>False</td>\n",
       "      <td>2020-02-11</td>\n",
       "      <td>Latest Battle for Idlib Could Send Another Wav...</td>\n",
       "      <td>8</td>\n",
       "      <td>5</td>\n",
       "      <td>latest battle for idlib could send another wav...</td>\n",
       "      <td>latest battle idlib send another wave europe w...</td>\n",
       "    </tr>\n",
       "    <tr>\n",
       "      <th>3</th>\n",
       "      <td>Tweepsmap</td>\n",
       "      <td>UNHCR calls for decisive action to end alarmin...</td>\n",
       "      <td>en</td>\n",
       "      <td>1227021789525614594</td>\n",
       "      <td>2020-02-11 00:09:26+00:00</td>\n",
       "      <td>62632306</td>\n",
       "      <td>0</td>\n",
       "      <td>0</td>\n",
       "      <td>0</td>\n",
       "      <td>0</td>\n",
       "      <td>...</td>\n",
       "      <td>False</td>\n",
       "      <td>False</td>\n",
       "      <td>False</td>\n",
       "      <td>False</td>\n",
       "      <td>2020-02-11</td>\n",
       "      <td>UNHCR calls for decisive action to end alarmin...</td>\n",
       "      <td>9</td>\n",
       "      <td>3</td>\n",
       "      <td>unhcr calls for decisive action to end alarmin...</td>\n",
       "      <td>unhcr call decisive action alarming condition ...</td>\n",
       "    </tr>\n",
       "    <tr>\n",
       "      <th>4</th>\n",
       "      <td>Twitter for iPhone</td>\n",
       "      <td>It is not your own feet sinking in the mud, bo...</td>\n",
       "      <td>en</td>\n",
       "      <td>1227022233484308481</td>\n",
       "      <td>2020-02-11 00:11:12+00:00</td>\n",
       "      <td>2729959018</td>\n",
       "      <td>9</td>\n",
       "      <td>1</td>\n",
       "      <td>29</td>\n",
       "      <td>1</td>\n",
       "      <td>...</td>\n",
       "      <td>False</td>\n",
       "      <td>False</td>\n",
       "      <td>False</td>\n",
       "      <td>False</td>\n",
       "      <td>2020-02-11</td>\n",
       "      <td>It is not your own feet sinking in the mud, boy.</td>\n",
       "      <td>9</td>\n",
       "      <td>1</td>\n",
       "      <td>it is not your own feet sinking in the mud boy.</td>\n",
       "      <td>foot sinking</td>\n",
       "    </tr>\n",
       "  </tbody>\n",
       "</table>\n",
       "<p>5 rows × 30 columns</p>\n",
       "</div>"
      ],
      "text/plain": [
       "               source                                               text lang  \\\n",
       "0      Hootsuite Inc.  PA Ambassador in Bosnia &amp; Herzegovina says...   en   \n",
       "1          u.fooo.ooo  [🔴 NEWS] Greece plans floating sea border wall...   en   \n",
       "2  Twitter Web Client  Latest Battle for Idlib Could Send Another Wav...   en   \n",
       "3           Tweepsmap  UNHCR calls for decisive action to end alarmin...   en   \n",
       "4  Twitter for iPhone  It is not your own feet sinking in the mud, bo...   en   \n",
       "\n",
       "                    id                 created_at            author_id  \\\n",
       "0  1227019550912372737  2020-02-11 00:00:32+00:00             81136269   \n",
       "1  1227019556167864321  2020-02-11 00:00:33+00:00  1052191553802854407   \n",
       "2  1227021374780313601  2020-02-11 00:07:47+00:00             18570470   \n",
       "3  1227021789525614594  2020-02-11 00:09:26+00:00             62632306   \n",
       "4  1227022233484308481  2020-02-11 00:11:12+00:00           2729959018   \n",
       "\n",
       "   retweet_count  reply_count  like_count  quote_count  ...  migrant  \\\n",
       "0              1            0           1            0  ...    False   \n",
       "1              0            0           0            0  ...    False   \n",
       "2              0            0           1            1  ...    False   \n",
       "3              0            0           0            0  ...    False   \n",
       "4              9            1          29            1  ...    False   \n",
       "\n",
       "  immigrant asylum_seeker  other        date  \\\n",
       "0     False         False  False  2020-02-11   \n",
       "1     False         False  False  2020-02-11   \n",
       "2     False         False  False  2020-02-11   \n",
       "3     False         False  False  2020-02-11   \n",
       "4     False         False  False  2020-02-11   \n",
       "\n",
       "                                       text_coherent  retweet_count_sum count  \\\n",
       "0  PA Ambassador in Bosnia & Herzegovina says lif...                  1     1   \n",
       "1  [ NEWS] Greece plans floating sea border wall ...                  0     1   \n",
       "2  Latest Battle for Idlib Could Send Another Wav...                  8     5   \n",
       "3  UNHCR calls for decisive action to end alarmin...                  9     3   \n",
       "4   It is not your own feet sinking in the mud, boy.                  9     1   \n",
       "\n",
       "                                       text_alphanum  \\\n",
       "0  pa ambassador in bosnia  herzegovina says life...   \n",
       "1   news greece plans floating sea border wall to...   \n",
       "2  latest battle for idlib could send another wav...   \n",
       "3  unhcr calls for decisive action to end alarmin...   \n",
       "4    it is not your own feet sinking in the mud boy.   \n",
       "\n",
       "                                            text_stm  \n",
       "0  ambassador bosnia herzegovina say life europe ...  \n",
       "1         news greece plan floating border wall keep  \n",
       "2  latest battle idlib send another wave europe w...  \n",
       "3  unhcr call decisive action alarming condition ...  \n",
       "4                                       foot sinking  \n",
       "\n",
       "[5 rows x 30 columns]"
      ]
     },
     "execution_count": 12,
     "metadata": {},
     "output_type": "execute_result"
    }
   ],
   "source": [
    "df_greece = pd.read_csv(r\"C:\\Users\\jawo19ad\\Dropbox (CBS)\\Master thesis data\\Event Dataframes\\Clean\\df_greece_clean.csv\",\n",
    "                        converters = {\"hashtags\": lambda x: x.strip(\"[]\").replace(\"'\",\"\").split(\", \"),\n",
    "                                      \"mentions\": lambda x: x.strip(\"[]\").replace(\"'\",\"\").split(\", \"),\n",
    "                                      \"annotations\": lambda x: x.strip(\"[]\").replace(\"'\",\"\").split(\", \")})\n",
    "# Drop unnecessary index column\n",
    "df_greece.drop(\"Unnamed: 0\", axis=1, inplace=True)\n",
    "df_greece.head()"
   ]
  },
  {
   "cell_type": "code",
   "execution_count": 13,
   "metadata": {},
   "outputs": [],
   "source": [
    "df_channel = pd.read_csv(r\"C:\\Users\\jawo19ad\\Dropbox (CBS)\\Master thesis data\\Event Dataframes\\Clean\\df_channel_clean.csv\",\n",
    "                         converters = {\"hashtags\": lambda x: x.strip(\"[]\").replace(\"'\",\"\").split(\", \"),\n",
    "                                       \"mentions\": lambda x: x.strip(\"[]\").replace(\"'\",\"\").split(\", \"),\n",
    "                                       \"annotations\": lambda x: x.strip(\"[]\").replace(\"'\",\"\").split(\", \")})\n",
    "# Drop unnecessary index column\n",
    "df_channel.drop(\"Unnamed: 0\", axis=1, inplace=True)\n",
    "#df_channel.head()"
   ]
  },
  {
   "cell_type": "code",
   "execution_count": 14,
   "metadata": {},
   "outputs": [],
   "source": [
    "df_tigray = pd.read_csv(r\"C:\\Users\\jawo19ad\\Dropbox (CBS)\\Master thesis data\\Event Dataframes\\Clean\\df_tigray_clean.csv\",\n",
    "                        converters = {\"hashtags\": lambda x: x.strip(\"[]\").replace(\"'\",\"\").split(\", \"),\n",
    "                                      \"mentions\": lambda x: x.strip(\"[]\").replace(\"'\",\"\").split(\", \"),\n",
    "                                      \"annotations\": lambda x: x.strip(\"[]\").replace(\"'\",\"\").split(\", \")})\n",
    "# Drop unnecessary index column\n",
    "df_tigray.drop(\"Unnamed: 0\", axis=1, inplace=True)\n",
    "#df_tigray.head()"
   ]
  },
  {
   "cell_type": "code",
   "execution_count": 15,
   "metadata": {},
   "outputs": [],
   "source": [
    "df_rohingya = pd.read_csv(r\"C:\\Users\\jawo19ad\\Dropbox (CBS)\\Master thesis data\\Event Dataframes\\Clean\\df_rohingya_clean.csv\",\n",
    "                        converters = {\"hashtags\": lambda x: x.strip(\"[]\").replace(\"'\",\"\").split(\", \"),\n",
    "                                      \"mentions\": lambda x: x.strip(\"[]\").replace(\"'\",\"\").split(\", \"),\n",
    "                                      \"annotations\": lambda x: x.strip(\"[]\").replace(\"'\",\"\").split(\", \")})\n",
    "# Drop unnecessary index column\n",
    "df_rohingya.drop(\"Unnamed: 0\", axis=1, inplace=True)\n",
    "#df_rohingya.head()"
   ]
  },
  {
   "cell_type": "markdown",
   "metadata": {},
   "source": [
    "## Greece"
   ]
  },
  {
   "cell_type": "markdown",
   "metadata": {},
   "source": [
    "### Timeline"
   ]
  },
  {
   "cell_type": "code",
   "execution_count": 131,
   "metadata": {},
   "outputs": [
    {
     "data": {
      "image/png": "[encoded data removed]",
      "text/plain": [
       "<Figure size 1152x576 with 1 Axes>"
      ]
     },
     "metadata": {},
     "output_type": "display_data"
    },
    {
     "data": {
      "image/png": "[encoded data removed]",
      "text/plain": [
       "<Figure size 1152x576 with 1 Axes>"
      ]
     },
     "metadata": {},
     "output_type": "display_data"
    }
   ],
   "source": [
    "plot_event_timeline(df_greece,\"day\")"
   ]
  },
  {
   "cell_type": "markdown",
   "metadata": {},
   "source": [
    "### Hashtags"
   ]
  },
  {
   "cell_type": "code",
   "execution_count": 32,
   "metadata": {},
   "outputs": [],
   "source": [
    "#hashtag_count = defaultdict(int)\n",
    "#retweet_count = defaultdict(int)\n",
    "\n",
    "d = defaultdict(lambda: defaultdict(int))\n",
    "\n",
    "for i,(hashtags,retweets) in df_greece[[\"hashtags\",\"retweet_count\"]].iterrows():\n",
    "    \n",
    "    for hashtag in set(hashtags):\n",
    "        #hashtag_count[hashtag] += 1\n",
    "        #retweet_count[hashtag] += retweets\n",
    "        if len(hashtag) > 0:\n",
    "            d[hashtag][\"count\"] += 1\n",
    "            d[hashtag][\"retweets\"] += retweets"
   ]
  },
  {
   "cell_type": "code",
   "execution_count": 113,
   "metadata": {},
   "outputs": [],
   "source": [
    "d_top_10 = dict(sorted(d.items(), key=lambda x: x[1]['count'], reverse=True)[:15])"
   ]
  },
  {
   "cell_type": "code",
   "execution_count": 114,
   "metadata": {},
   "outputs": [],
   "source": [
    "df_top_10 = pd.DataFrame(d_top_10)"
   ]
  },
  {
   "cell_type": "code",
   "execution_count": 115,
   "metadata": {},
   "outputs": [
    {
     "data": {
      "text/html": [
       "<div>\n",
       "<style scoped>\n",
       "    .dataframe tbody tr th:only-of-type {\n",
       "        vertical-align: middle;\n",
       "    }\n",
       "\n",
       "    .dataframe tbody tr th {\n",
       "        vertical-align: top;\n",
       "    }\n",
       "\n",
       "    .dataframe thead th {\n",
       "        text-align: right;\n",
       "    }\n",
       "</style>\n",
       "<table border=\"1\" class=\"dataframe\">\n",
       "  <thead>\n",
       "    <tr style=\"text-align: right;\">\n",
       "      <th></th>\n",
       "      <th>count</th>\n",
       "      <th>retweets</th>\n",
       "    </tr>\n",
       "  </thead>\n",
       "  <tbody>\n",
       "    <tr>\n",
       "      <th>greece</th>\n",
       "      <td>10021</td>\n",
       "      <td>83152</td>\n",
       "    </tr>\n",
       "    <tr>\n",
       "      <th>turkey</th>\n",
       "      <td>9146</td>\n",
       "      <td>68205</td>\n",
       "    </tr>\n",
       "    <tr>\n",
       "      <th>refugees</th>\n",
       "      <td>7255</td>\n",
       "      <td>29789</td>\n",
       "    </tr>\n",
       "    <tr>\n",
       "      <th>syria</th>\n",
       "      <td>5930</td>\n",
       "      <td>34335</td>\n",
       "    </tr>\n",
       "    <tr>\n",
       "      <th>istandwithgreece</th>\n",
       "      <td>4686</td>\n",
       "      <td>79412</td>\n",
       "    </tr>\n",
       "    <tr>\n",
       "      <th>eu</th>\n",
       "      <td>4578</td>\n",
       "      <td>22629</td>\n",
       "    </tr>\n",
       "    <tr>\n",
       "      <th>europe</th>\n",
       "      <td>3321</td>\n",
       "      <td>13847</td>\n",
       "    </tr>\n",
       "    <tr>\n",
       "      <th>idlib</th>\n",
       "      <td>2897</td>\n",
       "      <td>21369</td>\n",
       "    </tr>\n",
       "    <tr>\n",
       "      <th>migrants</th>\n",
       "      <td>2776</td>\n",
       "      <td>11141</td>\n",
       "    </tr>\n",
       "    <tr>\n",
       "      <th>erdogan</th>\n",
       "      <td>2510</td>\n",
       "      <td>19686</td>\n",
       "    </tr>\n",
       "    <tr>\n",
       "      <th>greeceunderattack</th>\n",
       "      <td>2303</td>\n",
       "      <td>35862</td>\n",
       "    </tr>\n",
       "    <tr>\n",
       "      <th>greek</th>\n",
       "      <td>1785</td>\n",
       "      <td>14964</td>\n",
       "    </tr>\n",
       "    <tr>\n",
       "      <th>greece_under_attack</th>\n",
       "      <td>1733</td>\n",
       "      <td>24959</td>\n",
       "    </tr>\n",
       "    <tr>\n",
       "      <th>evros</th>\n",
       "      <td>1548</td>\n",
       "      <td>28626</td>\n",
       "    </tr>\n",
       "    <tr>\n",
       "      <th>greece_turkey_borders</th>\n",
       "      <td>1358</td>\n",
       "      <td>6039</td>\n",
       "    </tr>\n",
       "  </tbody>\n",
       "</table>\n",
       "</div>"
      ],
      "text/plain": [
       "                       count  retweets\n",
       "greece                 10021     83152\n",
       "turkey                  9146     68205\n",
       "refugees                7255     29789\n",
       "syria                   5930     34335\n",
       "istandwithgreece        4686     79412\n",
       "eu                      4578     22629\n",
       "europe                  3321     13847\n",
       "idlib                   2897     21369\n",
       "migrants                2776     11141\n",
       "erdogan                 2510     19686\n",
       "greeceunderattack       2303     35862\n",
       "greek                   1785     14964\n",
       "greece_under_attack     1733     24959\n",
       "evros                   1548     28626\n",
       "greece_turkey_borders   1358      6039"
      ]
     },
     "execution_count": 115,
     "metadata": {},
     "output_type": "execute_result"
    }
   ],
   "source": [
    "df_top_10.transpose()"
   ]
  },
  {
   "cell_type": "code",
   "execution_count": 119,
   "metadata": {},
   "outputs": [
    {
     "data": {
      "text/plain": [
       "{0: '#6495ED',\n",
       " 1: '#9FE2BF',\n",
       " 2: '#FFBF00',\n",
       " 3: '#717d7e',\n",
       " 4: '#cb4335',\n",
       " 5: '#7d3c98',\n",
       " 6: '#273746',\n",
       " 7: '#196f3d '}"
      ]
     },
     "execution_count": 119,
     "metadata": {},
     "output_type": "execute_result"
    }
   ],
   "source": [
    "colors"
   ]
  },
  {
   "cell_type": "code",
   "execution_count": 127,
   "metadata": {},
   "outputs": [
    {
     "data": {
      "image/png": "[encoded data removed]",
      "text/plain": [
       "<Figure size 1800x1080 with 1 Axes>"
      ]
     },
     "metadata": {},
     "output_type": "display_data"
    }
   ],
   "source": [
    "df_top_10.transpose().plot.barh(width=0.8,figsize=(25,15),color=[colors[2],colors[0]])\n",
    "plt.gca().invert_yaxis()\n",
    "plt.xticks(fontsize=20)\n",
    "plt.yticks(fontsize=20)\n",
    "plt.legend(prop={'size': 25})\n",
    "plt.show()"
   ]
  },
  {
   "cell_type": "code",
   "execution_count": null,
   "metadata": {
    "scrolled": true
   },
   "outputs": [],
   "source": [
    "hashtag_analysis(df_greece,[\"istandwithgreece\",\"greeceunderattack\",\"greecedefendseurope\",\"greece_turkey_borders\"])"
   ]
  },
  {
   "cell_type": "markdown",
   "metadata": {},
   "source": [
    "### Networks"
   ]
  },
  {
   "cell_type": "code",
   "execution_count": null,
   "metadata": {
    "scrolled": true
   },
   "outputs": [],
   "source": [
    "all_in_one(df_greece,\"hashtags\",\"nw_greece_hashtags.html\", weighting=\"Co_Occurence\")"
   ]
  },
  {
   "cell_type": "code",
   "execution_count": null,
   "metadata": {
    "scrolled": true
   },
   "outputs": [],
   "source": [
    "all_in_one(df_greece,\"mentions\",\"nw_greece_mentions_retweet.html\",weighting=\"Co_Occurence\")"
   ]
  },
  {
   "cell_type": "markdown",
   "metadata": {},
   "source": [
    "### Channel"
   ]
  },
  {
   "cell_type": "code",
   "execution_count": null,
   "metadata": {
    "scrolled": true
   },
   "outputs": [],
   "source": [
    "all_in_one(df_channel,\"hashtags\",\"nw_channel_hashtags.html\", weighting=\"Co_Occurence\")"
   ]
  },
  {
   "cell_type": "code",
   "execution_count": null,
   "metadata": {
    "scrolled": true
   },
   "outputs": [],
   "source": [
    "all_in_one(df_channel,\"mentions\",\"nw_channel_mentions_retweet.html\",weighting=\"Co_Occurence\")"
   ]
  },
  {
   "cell_type": "markdown",
   "metadata": {},
   "source": [
    "### Tigray"
   ]
  },
  {
   "cell_type": "code",
   "execution_count": null,
   "metadata": {
    "scrolled": true
   },
   "outputs": [],
   "source": [
    "all_in_one(df_tigray,\"hashtags\",\"nw_tigray_hashtags.html\", weighting=\"Co_Occurence\")"
   ]
  },
  {
   "cell_type": "code",
   "execution_count": null,
   "metadata": {
    "scrolled": true
   },
   "outputs": [],
   "source": [
    "all_in_one(df_tigray,\"mentions\",\"nw_tigray_mentions.html\", weighting=\"Co_Occurence\")"
   ]
  },
  {
   "cell_type": "markdown",
   "metadata": {},
   "source": [
    "### Myanmar"
   ]
  },
  {
   "cell_type": "code",
   "execution_count": null,
   "metadata": {
    "scrolled": true
   },
   "outputs": [],
   "source": [
    "all_in_one(df_rohingya,\"hashtags\",\"nw_rohingya_hashtags.html\", weighting=\"Co_Occurence\")"
   ]
  },
  {
   "cell_type": "code",
   "execution_count": null,
   "metadata": {
    "scrolled": false
   },
   "outputs": [],
   "source": [
    "all_in_one(df_rohingya,\"mentions\",\"nw_rohingya_mentions.html\", weighting=\"Co_Occurence\")"
   ]
  },
  {
   "cell_type": "code",
   "execution_count": null,
   "metadata": {},
   "outputs": [],
   "source": []
  },
  {
   "cell_type": "code",
   "execution_count": null,
   "metadata": {},
   "outputs": [],
   "source": []
  },
  {
   "cell_type": "code",
   "execution_count": null,
   "metadata": {},
   "outputs": [],
   "source": []
  },
  {
   "cell_type": "code",
   "execution_count": null,
   "metadata": {},
   "outputs": [],
   "source": []
  },
  {
   "cell_type": "code",
   "execution_count": null,
   "metadata": {},
   "outputs": [],
   "source": []
  },
  {
   "cell_type": "markdown",
   "metadata": {},
   "source": [
    "## Create edgelist"
   ]
  },
  {
   "cell_type": "code",
   "execution_count": null,
   "metadata": {},
   "outputs": [],
   "source": [
    "df_edgelist_hash = create_edgelist(list(df_tigray[\"hashtags\"]), list(df_tigray[\"retweet_count_sum\"]))\n",
    "df_edgelist_hash[\"Co_Occurence_Norm\"] = df_edgelist_hash[\"Co_Occurence\"]/(max(df_edgelist_hash[\"Co_Occurence\"])/10)\n",
    "df_edgelist_hash[\"Retweet_Norm\"] = df_edgelist_hash[\"Retweet\"]/(max(df_edgelist_hash[\"Retweet\"])/10)\n",
    "df_edgelist_hash"
   ]
  },
  {
   "cell_type": "code",
   "execution_count": null,
   "metadata": {},
   "outputs": [],
   "source": [
    "#df_edgelist_hash = create_edgelist(list(df_greece[\"hashtags\"])).sort_values(by=\"Weight\",ascending=False).reset_index()\n",
    "#df_edgelist_hash = df_edgelist_hash[df_edgelist_hash[\"Entity_1\"] != df_edgelist_hash[\"Entity_2\"]]"
   ]
  },
  {
   "cell_type": "markdown",
   "metadata": {},
   "source": [
    "## Create graph"
   ]
  },
  {
   "cell_type": "code",
   "execution_count": null,
   "metadata": {},
   "outputs": [],
   "source": [
    "G_hashtag = nx.Graph()\n",
    "for entity_1,entity_2,weight in zip(df_edgelist_hash[\"Entity_1\"],\n",
    "                                    df_edgelist_hash[\"Entity_2\"],\n",
    "                                    df_edgelist_hash[\"Co_Occurence_Norm\"]):\n",
    "    G_hashtag.add_edge(entity_1,entity_2, weight = weight, width=weight) #0.005"
   ]
  },
  {
   "cell_type": "code",
   "execution_count": null,
   "metadata": {},
   "outputs": [],
   "source": [
    "print(nx.info(G_hashtag))"
   ]
  },
  {
   "cell_type": "markdown",
   "metadata": {},
   "source": [
    "## Provide node metadata"
   ]
  },
  {
   "cell_type": "code",
   "execution_count": null,
   "metadata": {},
   "outputs": [],
   "source": [
    "hashtag_count = get_entity_count(df_tigray[\"hashtags\"])\n",
    "\n",
    "# Degree Centrality: \n",
    "degree_centrality = nx.degree_centrality(G_hashtag)\n",
    "\n",
    "eigenvector_centrality = nx.eigenvector_centrality(G_hashtag, weight = \"weight\")\n",
    "\n",
    "#size = {k:v*100 for (k,v) in degree_centrality.items()}\n",
    "size = {k:v/max(degree_centrality.values())*10 for (k,v) in degree_centrality.items()}"
   ]
  },
  {
   "cell_type": "code",
   "execution_count": null,
   "metadata": {},
   "outputs": [],
   "source": [
    "max(degree_centrality.values())"
   ]
  },
  {
   "cell_type": "code",
   "execution_count": null,
   "metadata": {},
   "outputs": [],
   "source": [
    "nx.set_node_attributes(G_hashtag, hashtag_count, \"hashtag_count\" )\n",
    "nx.set_node_attributes(G_hashtag, degree_centrality, \"Degree Centrality\")\n",
    "nx.set_node_attributes(G_hashtag, eigenvector_centrality, \"Eigenvector Centrality\")\n",
    "nx.set_node_attributes(G_hashtag, size, \"size\")"
   ]
  },
  {
   "cell_type": "markdown",
   "metadata": {},
   "source": [
    "## Calculate network measures"
   ]
  },
  {
   "cell_type": "code",
   "execution_count": null,
   "metadata": {},
   "outputs": [],
   "source": [
    "# Density: Ratio of actual edges in the network to all possible edges\n",
    "#density = nx.density(G_hashtag)\n",
    "# Transitivity: Ration of all triangles over all possible triangles (triadic closure)\n",
    "#trans = nx.transitivity(G_hashtag)\n",
    "# Reciprocity:\n",
    "#reci = nx.reciprocity(G_hashtag)\n",
    "\n",
    "#print(f\"Density: {density}\\nTransitivity: {trans}\\nReciprocity: {reci}\")"
   ]
  },
  {
   "cell_type": "code",
   "execution_count": null,
   "metadata": {
    "scrolled": true
   },
   "outputs": [],
   "source": [
    "# Diameter: Longest of all shortest paths in network\n",
    "#nx.is_connected(G_hashtag)\n",
    "# nx.diameter(G_hashtag)\n",
    "# nx.average_shortest_path_length(G)\n",
    "\n",
    "#components = nx.connected_components(G_hashtag)\n",
    "#largest_component = max(components, key=len)\n",
    "#subgraph = G_hashtag.subgraph(largest_component)\n",
    "#diameter = nx.diameter(subgraph)\n",
    "#print(\"Network diameter of largest component:\", diameter)"
   ]
  },
  {
   "cell_type": "markdown",
   "metadata": {},
   "source": [
    "## Create df with node attributes"
   ]
  },
  {
   "cell_type": "code",
   "execution_count": null,
   "metadata": {},
   "outputs": [],
   "source": [
    "df_node_attributes = pd.DataFrame.from_dict(dict(G_hashtag.nodes(data=True)),\n",
    "                                            orient=\"index\").reset_index().rename({\"index\":\"hashtag\"}, axis = 1)\n",
    "df_node_attributes = df_node_attributes.sort_values(by=\"Degree Centrality\", ascending=False).reset_index(drop=True)\n",
    "df_node_attributes.head(15)"
   ]
  },
  {
   "cell_type": "markdown",
   "metadata": {},
   "source": [
    "## Create subgraph that only consists of top 50 nodes with highest degree centrality"
   ]
  },
  {
   "cell_type": "code",
   "execution_count": null,
   "metadata": {},
   "outputs": [],
   "source": [
    "cut_off = df_node_attributes.loc[50,\"Degree Centrality\"]\n",
    "selected_nodes = [n for n,v in G_hashtag.nodes(data=True) if v[\"Degree Centrality\"]>cut_off]"
   ]
  },
  {
   "cell_type": "code",
   "execution_count": null,
   "metadata": {},
   "outputs": [],
   "source": [
    "G_hashtag_sub = G_hashtag.subgraph(selected_nodes)"
   ]
  },
  {
   "cell_type": "markdown",
   "metadata": {},
   "source": [
    "## Identify clusters"
   ]
  },
  {
   "cell_type": "code",
   "execution_count": null,
   "metadata": {},
   "outputs": [],
   "source": [
    "partition = community_louvain.best_partition(G_hashtag_sub, random_state=42)\n",
    "print(f\"Identified {len(set(partition.values()))} clusters.\")"
   ]
  },
  {
   "cell_type": "code",
   "execution_count": null,
   "metadata": {},
   "outputs": [],
   "source": [
    "for i in range (len(set(partition.values()))):\n",
    "    print([k for k,v in partition.items() if v == i])\n",
    "    print(\"------\")"
   ]
  },
  {
   "cell_type": "code",
   "execution_count": null,
   "metadata": {},
   "outputs": [],
   "source": [
    "partition"
   ]
  },
  {
   "cell_type": "code",
   "execution_count": null,
   "metadata": {},
   "outputs": [],
   "source": [
    "colors_partition = {k:v for (k,v) in colors.items() if k < len(set(partition.values()))}"
   ]
  },
  {
   "cell_type": "code",
   "execution_count": null,
   "metadata": {},
   "outputs": [],
   "source": [
    "node_colors = {k:colors_partition[v] for (k,v) in partition.items()}"
   ]
  },
  {
   "cell_type": "code",
   "execution_count": null,
   "metadata": {},
   "outputs": [],
   "source": [
    "nx.set_node_attributes(G_hashtag_sub, partition, \"Partition\")\n",
    "nx.set_node_attributes(G_hashtag_sub, node_colors, \"color\")"
   ]
  },
  {
   "cell_type": "code",
   "execution_count": null,
   "metadata": {},
   "outputs": [],
   "source": [
    "df_node_attributes1 = pd.DataFrame.from_dict(dict(G_hashtag_sub.nodes(data=True)),\n",
    "                                            orient=\"index\").reset_index().rename({\"index\":\"hashtag\"}, axis = 1)\n",
    "df_node_attributes1 = df_node_attributes1.sort_values(by=[\"Partition\",\"Degree Centrality\"], ascending=[True,False]).reset_index(drop=True)\n",
    "df_node_attributes1"
   ]
  },
  {
   "cell_type": "markdown",
   "metadata": {},
   "source": [
    "## Draw network graph"
   ]
  },
  {
   "cell_type": "code",
   "execution_count": null,
   "metadata": {},
   "outputs": [],
   "source": [
    "G_hashtag_sub.nodes(data=True)"
   ]
  },
  {
   "cell_type": "code",
   "execution_count": null,
   "metadata": {},
   "outputs": [],
   "source": [
    "n = Network(height = \"1500px\", width =\"100%\", font_color =\"#616a6b \")\n",
    "#n.show_buttons()\n",
    "n.from_nx(G_hashtag_sub)\n",
    "n.barnes_hut()\n",
    "n.show_buttons(filter_=[\"nodes\",\"edges\",\"physics\"])\n",
    "n.show(\"network_test.html\")"
   ]
  }
 ],
 "metadata": {
  "kernelspec": {
   "display_name": "Python 3",
   "language": "python",
   "name": "python3"
  },
  "language_info": {
   "codemirror_mode": {
    "name": "ipython",
    "version": 3
   },
   "file_extension": ".py",
   "mimetype": "text/x-python",
   "name": "python",
   "nbconvert_exporter": "python",
   "pygments_lexer": "ipython3",
   "version": "3.7.9"
  }
 },
 "nbformat": 4,
 "nbformat_minor": 4
}
