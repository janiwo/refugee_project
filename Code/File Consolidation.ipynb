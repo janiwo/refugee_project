{
 "cells": [
  {
   "cell_type": "markdown",
   "metadata": {},
   "source": [
    "# File Consolidation"
   ]
  },
  {
   "cell_type": "code",
   "execution_count": 6,
   "metadata": {},
   "outputs": [],
   "source": [
    "# Import libraries\n",
    "\n",
    "import pandas as pd\n",
    "import numpy as np\n",
    "import os\n",
    "import glob\n",
    "import json\n",
    "\n",
    "from tqdm import tqdm\n",
    "\n",
    "from collections import defaultdict"
   ]
  },
  {
   "cell_type": "code",
   "execution_count": 3,
   "metadata": {},
   "outputs": [],
   "source": [
    "# Navigate to file folder and retrieve relevant files\n",
    "all_files = glob.glob(f\"{os.getcwd()}/Files/*.txt\")"
   ]
  },
  {
   "cell_type": "code",
   "execution_count": 31,
   "metadata": {},
   "outputs": [],
   "source": [
    "def load_full_json(file):\n",
    "    \n",
    "    json_complete = {\"data\":list(),\"users\":list()}\n",
    "    \n",
    "    with open(file, \"r\") as json_file:\n",
    "        for line in json_file:\n",
    "            data = json.loads(line)\n",
    "            json_complete[\"data\"].extend(data[\"data\"])\n",
    "            json_complete[\"users\"].extend(data[\"includes\"][\"users\"])\n",
    "    \n",
    "    return json_complete\n",
    "\n",
    "def get_hashtag_counts(json):\n",
    "    \n",
    "    hashtag_count = defaultdict(int)\n",
    "\n",
    "    for tweet in json[\"data\"]:\n",
    "        try:\n",
    "            hashtags = tweet[\"entities\"][\"hashtags\"]\n",
    "            for hashtag in hashtags:\n",
    "                hashtag_count[hashtag[\"tag\"]] +=1\n",
    "        except KeyError:\n",
    "            continue\n",
    "            \n",
    "    return hashtag_count"
   ]
  },
  {
   "cell_type": "code",
   "execution_count": 32,
   "metadata": {},
   "outputs": [
    {
     "data": {
      "text/plain": [
       "['/Users/Janiwo/Desktop/CBS/4. Semester/Thesis/Files/all_refugee_08_09_2020-08-01T00:00:00Z_2020-10-01T00:00:00Z.txt',\n",
       " '/Users/Janiwo/Desktop/CBS/4. Semester/Thesis/Files/all_refugee_12_2020-12-01T00:00:00Z_2020-12-27T15:51:35Z.txt',\n",
       " '/Users/Janiwo/Desktop/CBS/4. Semester/Thesis/Files/all_refugee_11_2020-11-01T00:00:00Z_2020-12-01T00:00:00Z.txt',\n",
       " '/Users/Janiwo/Desktop/CBS/4. Semester/Thesis/Files/all_refugee_01_2021-01-01T00:00:00Z_2021-01-16T10:33:41Z.txt',\n",
       " '/Users/Janiwo/Desktop/CBS/4. Semester/Thesis/Files/all_refugee_08_09_2020-08-01T00:00:00Z_2020-09-13T21:31:43Z.txt',\n",
       " '/Users/Janiwo/Desktop/CBS/4. Semester/Thesis/Files/all_refugee_07_2020-07-01T00:00:00Z_2020-07-13T19:14:52Z.txt',\n",
       " '/Users/Janiwo/Desktop/CBS/4. Semester/Thesis/Files/all_refugee_08_09_2020-08-01T00:00:00Z_2020-09-24T15:10:43Z.txt',\n",
       " '/Users/Janiwo/Desktop/CBS/4. Semester/Thesis/Files/all_refugee_08_09_2020-08-01T00:00:00Z_2020-08-28T06:10:28Z.txt',\n",
       " '/Users/Janiwo/Desktop/CBS/4. Semester/Thesis/Files/all_refugee_08_09_2020-08-01T00:00:00Z_2020-09-18T15:03:04Z.txt',\n",
       " '/Users/Janiwo/Desktop/CBS/4. Semester/Thesis/Files/all_refugee_10_2020-10-01T00:00:00Z_2020-11-01T00:00:00Z.txt',\n",
       " '/Users/Janiwo/Desktop/CBS/4. Semester/Thesis/Files/all_refugee_01_2021-01-01T00:00:00Z_2021-02-01T00:00:00Z.txt',\n",
       " '/Users/Janiwo/Desktop/CBS/4. Semester/Thesis/Files/all_refugee_12_2020-12-01T00:00:00Z_2021-01-01T00:00:00Z.txt',\n",
       " '/Users/Janiwo/Desktop/CBS/4. Semester/Thesis/Files/all_refugee_08_09_2020-08-01T00:00:00Z_2020-08-17T22:42:23Z.txt',\n",
       " '/Users/Janiwo/Desktop/CBS/4. Semester/Thesis/Files/all_refugee_12_2020-12-01T00:00:00Z_2020-12-08T04:29:25Z.txt',\n",
       " '/Users/Janiwo/Desktop/CBS/4. Semester/Thesis/Files/all_refugee_07_2020-07-01T00:00:00Z_2020-08-01T00:00:00Z.txt',\n",
       " '/Users/Janiwo/Desktop/CBS/4. Semester/Thesis/Files/all_refugee_06_2020-06-01T00:00:00Z_2020-07-01T00:00:00Z.txt',\n",
       " '/Users/Janiwo/Desktop/CBS/4. Semester/Thesis/Files/all_refugee_02_2021-02-01T00:00:00Z_2021-03-01T00:00:00Z.txt',\n",
       " '/Users/Janiwo/Desktop/CBS/4. Semester/Thesis/Files/all_refugee_02_2021-02-01T00:00:00Z_2021-02-12T00:43:59Z.txt',\n",
       " '/Users/Janiwo/Desktop/CBS/4. Semester/Thesis/Files/all_refugee_08_09_2020-08-01T00:00:00Z_2020-08-26T09:54:02Z.txt']"
      ]
     },
     "execution_count": 32,
     "metadata": {},
     "output_type": "execute_result"
    }
   ],
   "source": [
    "all_files"
   ]
  },
  {
   "cell_type": "code",
   "execution_count": 33,
   "metadata": {},
   "outputs": [
    {
     "name": "stderr",
     "output_type": "stream",
     "text": [
      "  5%|▌         | 1/19 [00:10<03:17, 10.96s/it]"
     ]
    },
    {
     "name": "stdout",
     "output_type": "stream",
     "text": [
      "145228 131936\n",
      "392844 338555\n"
     ]
    },
    {
     "name": "stderr",
     "output_type": "stream",
     "text": [
      " 16%|█▌        | 3/19 [05:42<36:58, 138.64s/it]"
     ]
    },
    {
     "name": "stdout",
     "output_type": "stream",
     "text": [
      "672197 610338\n"
     ]
    },
    {
     "name": "stderr",
     "output_type": "stream",
     "text": [
      "\r",
      " 21%|██        | 4/19 [09:22<42:43, 170.87s/it]"
     ]
    },
    {
     "name": "stdout",
     "output_type": "stream",
     "text": [
      "283644 248676\n"
     ]
    },
    {
     "name": "stderr",
     "output_type": "stream",
     "text": [
      "\r",
      " 26%|██▋       | 5/19 [14:26<51:01, 218.67s/it]"
     ]
    },
    {
     "name": "stdout",
     "output_type": "stream",
     "text": [
      "431798 385047\n",
      "299336 272181\n"
     ]
    },
    {
     "name": "stderr",
     "output_type": "stream",
     "text": [
      " 37%|███▋      | 7/19 [20:53<44:30, 222.52s/it]"
     ]
    },
    {
     "name": "stdout",
     "output_type": "stream",
     "text": [
      "137534 124400\n"
     ]
    },
    {
     "name": "stderr",
     "output_type": "stream",
     "text": [
      "\r",
      " 42%|████▏     | 8/19 [20:57<28:01, 152.91s/it]"
     ]
    },
    {
     "name": "stdout",
     "output_type": "stream",
     "text": [
      "68244 62742\n"
     ]
    },
    {
     "name": "stderr",
     "output_type": "stream",
     "text": [
      "\r",
      " 47%|████▋     | 9/19 [21:01<17:45, 106.52s/it]"
     ]
    },
    {
     "name": "stdout",
     "output_type": "stream",
     "text": [
      "145570 132577\n"
     ]
    },
    {
     "name": "stderr",
     "output_type": "stream",
     "text": [
      "\r",
      " 53%|█████▎    | 10/19 [1:30:47<3:24:53, 1365.99s/it]"
     ]
    },
    {
     "name": "stdout",
     "output_type": "stream",
     "text": [
      "776801 697685\n",
      "407793 361729\n"
     ]
    },
    {
     "name": "stderr",
     "output_type": "stream",
     "text": [
      " 63%|██████▎   | 12/19 [2:00:47<2:19:12, 1193.21s/it]"
     ]
    },
    {
     "name": "stdout",
     "output_type": "stream",
     "text": [
      "74698 65200\n",
      "571707 516545\n"
     ]
    },
    {
     "name": "stderr",
     "output_type": "stream",
     "text": [
      "\r",
      " 68%|██████▊   | 13/19 [2:01:25<1:24:18, 843.14s/it] "
     ]
    },
    {
     "name": "stdout",
     "output_type": "stream",
     "text": [
      "147762 128671\n"
     ]
    },
    {
     "name": "stderr",
     "output_type": "stream",
     "text": [
      "\r",
      " 74%|███████▎  | 14/19 [2:01:39<49:22, 592.59s/it]  "
     ]
    },
    {
     "name": "stdout",
     "output_type": "stream",
     "text": [
      "399294 357402\n"
     ]
    },
    {
     "name": "stderr",
     "output_type": "stream",
     "text": [
      "\r",
      " 79%|███████▉  | 15/19 [2:29:33<1:01:14, 918.69s/it]"
     ]
    },
    {
     "name": "stdout",
     "output_type": "stream",
     "text": [
      "884154 800614\n"
     ]
    },
    {
     "name": "stderr",
     "output_type": "stream",
     "text": [
      " 89%|████████▉ | 17/19 [3:07:33<37:42, 1131.30s/it] "
     ]
    },
    {
     "name": "stdout",
     "output_type": "stream",
     "text": [
      "428936 370564\n",
      "283667 241806\n"
     ]
    },
    {
     "name": "stderr",
     "output_type": "stream",
     "text": [
      "100%|██████████| 19/19 [3:08:06<00:00, 594.02s/it] "
     ]
    },
    {
     "name": "stdout",
     "output_type": "stream",
     "text": [
      "262297 238621\n"
     ]
    },
    {
     "name": "stderr",
     "output_type": "stream",
     "text": [
      "\n"
     ]
    }
   ],
   "source": [
    "json_complete = {\"data\":list(),\"users\":list()}\n",
    "for file in tqdm(all_files):\n",
    "    json_file = load_full_json(file)\n",
    "    print(len(json_file[\"data\"]), len(json_file[\"users\"]))\n",
    "    json_complete[\"data\"].extend(json_file[\"data\"])\n",
    "    json_complete[\"users\"].extend(json_file[\"users\"])"
   ]
  },
  {
   "cell_type": "code",
   "execution_count": 34,
   "metadata": {},
   "outputs": [
    {
     "data": {
      "text/plain": [
       "6813504"
      ]
     },
     "execution_count": 34,
     "metadata": {},
     "output_type": "execute_result"
    }
   ],
   "source": [
    "len(json_complete[\"data\"])"
   ]
  },
  {
   "cell_type": "code",
   "execution_count": 51,
   "metadata": {},
   "outputs": [],
   "source": [
    "hashtag_count = get_hashtag_counts(json_complete)\n",
    "sort_hash_count = sorted(hashtag_count.items(), key=lambda x: x[1], reverse=True)"
   ]
  },
  {
   "cell_type": "code",
   "execution_count": 1,
   "metadata": {},
   "outputs": [
    {
     "ename": "NameError",
     "evalue": "name 'json' is not defined",
     "output_type": "error",
     "traceback": [
      "\u001b[0;31m---------------------------------------------------------------------------\u001b[0m",
      "\u001b[0;31mNameError\u001b[0m                                 Traceback (most recent call last)",
      "\u001b[0;32m<ipython-input-1-ddfa875b2407>\u001b[0m in \u001b[0;36m<module>\u001b[0;34m\u001b[0m\n\u001b[1;32m      1\u001b[0m \u001b[0;31m# Store consolidated file\u001b[0m\u001b[0;34m\u001b[0m\u001b[0;34m\u001b[0m\u001b[0;34m\u001b[0m\u001b[0m\n\u001b[1;32m      2\u001b[0m \u001b[0;32mwith\u001b[0m \u001b[0mopen\u001b[0m\u001b[0;34m(\u001b[0m\u001b[0;34m'all_refugee_072020_022021.json'\u001b[0m\u001b[0;34m,\u001b[0m \u001b[0;34m'w'\u001b[0m\u001b[0;34m)\u001b[0m \u001b[0;32mas\u001b[0m \u001b[0mf\u001b[0m\u001b[0;34m:\u001b[0m\u001b[0;34m\u001b[0m\u001b[0;34m\u001b[0m\u001b[0m\n\u001b[0;32m----> 3\u001b[0;31m     \u001b[0mjson\u001b[0m\u001b[0;34m.\u001b[0m\u001b[0mdump\u001b[0m\u001b[0;34m(\u001b[0m\u001b[0mjson_complete\u001b[0m\u001b[0;34m,\u001b[0m \u001b[0mf\u001b[0m\u001b[0;34m)\u001b[0m\u001b[0;34m\u001b[0m\u001b[0;34m\u001b[0m\u001b[0m\n\u001b[0m",
      "\u001b[0;31mNameError\u001b[0m: name 'json' is not defined"
     ]
    }
   ],
   "source": [
    "# Store consolidated file\n",
    "with open('all_refugee_072020_022021.json', 'w') as f:\n",
    "    json.dump(json_complete, f)"
   ]
  },
  {
   "cell_type": "code",
   "execution_count": null,
   "metadata": {},
   "outputs": [],
   "source": []
  }
 ],
 "metadata": {
  "kernelspec": {
   "display_name": "refugee_env",
   "language": "python",
   "name": "refugee_env"
  },
  "language_info": {
   "codemirror_mode": {
    "name": "ipython",
    "version": 3
   },
   "file_extension": ".py",
   "mimetype": "text/x-python",
   "name": "python",
   "nbconvert_exporter": "python",
   "pygments_lexer": "ipython3",
   "version": "3.7.9"
  }
 },
 "nbformat": 4,
 "nbformat_minor": 4
}
