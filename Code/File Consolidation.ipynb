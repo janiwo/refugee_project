{
 "cells": [
  {
   "cell_type": "markdown",
   "metadata": {},
   "source": [
    "# File Consolidation"
   ]
  },
  {
   "cell_type": "code",
   "execution_count": 1,
   "metadata": {},
   "outputs": [],
   "source": [
    "# Import libraries\n",
    "\n",
    "import pandas as pd\n",
    "import numpy as np\n",
    "import os\n",
    "import glob\n",
    "import json\n",
    "\n",
    "from tqdm import tqdm\n",
    "\n",
    "from collections import defaultdict"
   ]
  },
  {
   "cell_type": "code",
   "execution_count": 10,
   "metadata": {},
   "outputs": [],
   "source": [
    "# Navigate to file folder and retrieve relevant files\n",
    "all_files = glob.glob(r\"C:\\Users\\jawo19ad\\Dropbox (CBS)\\Master thesis data\\Twitter Fetch\\*.txt\")"
   ]
  },
  {
   "cell_type": "code",
   "execution_count": 11,
   "metadata": {},
   "outputs": [],
   "source": [
    "def load_full_json(file):\n",
    "    \n",
    "    json_complete = {\"data\":list(),\"users\":list()}\n",
    "    \n",
    "    with open(file, \"r\") as json_file:\n",
    "        for line in json_file:\n",
    "            data = json.loads(line)\n",
    "            json_complete[\"data\"].extend(data[\"data\"])\n",
    "            json_complete[\"users\"].extend(data[\"includes\"][\"users\"])\n",
    "    \n",
    "    return json_complete\n",
    "\n",
    "def get_hashtag_counts(json):\n",
    "    \n",
    "    hashtag_count = defaultdict(int)\n",
    "\n",
    "    for tweet in json[\"data\"]:\n",
    "        try:\n",
    "            hashtags = tweet[\"entities\"][\"hashtags\"]\n",
    "            for hashtag in hashtags:\n",
    "                hashtag_count[hashtag[\"tag\"]] +=1\n",
    "        except KeyError:\n",
    "            continue\n",
    "            \n",
    "    return hashtag_count"
   ]
  },
  {
   "cell_type": "code",
   "execution_count": 13,
   "metadata": {},
   "outputs": [
    {
     "name": "stderr",
     "output_type": "stream",
     "text": [
      "100%|██████████| 19/19 [07:05<00:00, 22.38s/it]\n"
     ]
    }
   ],
   "source": [
    "json_complete = {\"data\":list(),\"users\":list()}\n",
    "tweets_complete = {\"data\":list()}\n",
    "users_complete = {\"users\":list()}\n",
    "\n",
    "\n",
    "for file in tqdm(all_files):\n",
    "    json_file = load_full_json(file)\n",
    "    #print(len(json_file[\"data\"]), len(json_file[\"users\"]))\n",
    "    tweets_complete[\"data\"].extend(json_file[\"data\"])\n",
    "    users_complete[\"users\"].extend(json_file[\"users\"])"
   ]
  },
  {
   "cell_type": "code",
   "execution_count": 15,
   "metadata": {},
   "outputs": [
    {
     "data": {
      "text/plain": [
       "6813504"
      ]
     },
     "execution_count": 15,
     "metadata": {},
     "output_type": "execute_result"
    }
   ],
   "source": [
    "len(tweets_complete[\"data\"])"
   ]
  },
  {
   "cell_type": "code",
   "execution_count": 16,
   "metadata": {},
   "outputs": [
    {
     "data": {
      "text/plain": [
       "6085289"
      ]
     },
     "execution_count": 16,
     "metadata": {},
     "output_type": "execute_result"
    }
   ],
   "source": [
    "len(users_complete[\"users\"])"
   ]
  },
  {
   "cell_type": "code",
   "execution_count": 17,
   "metadata": {},
   "outputs": [],
   "source": [
    "hashtag_count = get_hashtag_counts(tweets_complete)\n",
    "sort_hash_count = sorted(hashtag_count.items(), key=lambda x: x[1], reverse=True)"
   ]
  },
  {
   "cell_type": "code",
   "execution_count": 18,
   "metadata": {},
   "outputs": [
    {
     "data": {
      "text/plain": [
       "[('TigrayGenocide', 71317),\n",
       " ('Tigray', 60549),\n",
       " ('refugees', 45173),\n",
       " ('COVID19', 45094),\n",
       " ('S386', 35644),\n",
       " ('StopWarOnTigray', 33039),\n",
       " ('Refugees', 29517),\n",
       " ('migrants', 26884),\n",
       " ('Ethiopia', 25452),\n",
       " ('Iraqi_Refugees_Look_For_Homeland', 20851),\n",
       " ('immigrants', 20432),\n",
       " ('DV2021', 20023),\n",
       " ('DV2020', 18555),\n",
       " ('refugee', 18541),\n",
       " ('WorldRefugeeDay', 17272),\n",
       " ('UnblockS386', 17186),\n",
       " ('RefugeesWelcome', 13484),\n",
       " ('PassS386', 13478),\n",
       " ('Eritrea', 13187),\n",
       " ('Immigration', 13007)]"
      ]
     },
     "execution_count": 18,
     "metadata": {},
     "output_type": "execute_result"
    }
   ],
   "source": [
    "sort_hash_count[:20]"
   ]
  },
  {
   "cell_type": "code",
   "execution_count": 21,
   "metadata": {},
   "outputs": [],
   "source": [
    "# Store tweets file\n",
    "with open(r'C:\\Users\\jawo19ad\\Dropbox (CBS)\\Master thesis data\\all_tweets_072020_022021.json', 'w') as f:\n",
    "    json.dump(tweets_complete, f)"
   ]
  },
  {
   "cell_type": "code",
   "execution_count": 22,
   "metadata": {},
   "outputs": [],
   "source": [
    "# Store users file\n",
    "with open(r'C:\\Users\\jawo19ad\\Dropbox (CBS)\\Master thesis data\\all_users_072020_022021.json', 'w') as f:\n",
    "    json.dump(users_complete, f)"
   ]
  },
  {
   "cell_type": "code",
   "execution_count": null,
   "metadata": {},
   "outputs": [],
   "source": []
  }
 ],
 "metadata": {
  "kernelspec": {
   "display_name": "Python 3",
   "language": "python",
   "name": "python3"
  },
  "language_info": {
   "codemirror_mode": {
    "name": "ipython",
    "version": 3
   },
   "file_extension": ".py",
   "mimetype": "text/x-python",
   "name": "python",
   "nbconvert_exporter": "python",
   "pygments_lexer": "ipython3",
   "version": "3.7.9"
  }
 },
 "nbformat": 4,
 "nbformat_minor": 4
}
