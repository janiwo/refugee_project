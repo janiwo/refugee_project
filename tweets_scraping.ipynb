{
 "cells": [
  {
   "cell_type": "code",
   "execution_count": 1,
   "metadata": {},
   "outputs": [
    {
     "name": "stdout",
     "output_type": "stream",
     "text": [
      "Collecting git+https://github.com/JustAnotherArchivist/snscrape.git\n",
      "  Cloning https://github.com/JustAnotherArchivist/snscrape.git to c:\\users\\nikodemicek\\appdata\\local\\temp\\pip-req-build-xekt1k5c\n",
      "Requirement already satisfied: requests[socks] in c:\\programdata\\anaconda3\\lib\\site-packages (from snscrape==0.3.5.dev95+g5cd3b7d) (2.25.1)\n",
      "Requirement already satisfied: lxml in c:\\programdata\\anaconda3\\lib\\site-packages (from snscrape==0.3.5.dev95+g5cd3b7d) (4.6.2)\n",
      "Requirement already satisfied: beautifulsoup4 in c:\\programdata\\anaconda3\\lib\\site-packages (from snscrape==0.3.5.dev95+g5cd3b7d) (4.9.3)\n",
      "Requirement already satisfied: pytz in c:\\programdata\\anaconda3\\lib\\site-packages (from snscrape==0.3.5.dev95+g5cd3b7d) (2021.1)\n",
      "Requirement already satisfied: soupsieve>1.2 in c:\\programdata\\anaconda3\\lib\\site-packages (from beautifulsoup4->snscrape==0.3.5.dev95+g5cd3b7d) (2.1)\n",
      "Requirement already satisfied: certifi>=2017.4.17 in c:\\programdata\\anaconda3\\lib\\site-packages (from requests[socks]->snscrape==0.3.5.dev95+g5cd3b7d) (2020.12.5)\n",
      "Requirement already satisfied: idna<3,>=2.5 in c:\\programdata\\anaconda3\\lib\\site-packages (from requests[socks]->snscrape==0.3.5.dev95+g5cd3b7d) (2.10)\n",
      "Requirement already satisfied: urllib3<1.27,>=1.21.1 in c:\\programdata\\anaconda3\\lib\\site-packages (from requests[socks]->snscrape==0.3.5.dev95+g5cd3b7d) (1.26.3)\n",
      "Requirement already satisfied: chardet<5,>=3.0.2 in c:\\programdata\\anaconda3\\lib\\site-packages (from requests[socks]->snscrape==0.3.5.dev95+g5cd3b7d) (4.0.0)\n",
      "Requirement already satisfied: PySocks!=1.5.7,>=1.5.6 in c:\\programdata\\anaconda3\\lib\\site-packages (from requests[socks]->snscrape==0.3.5.dev95+g5cd3b7d) (1.7.1)\n",
      "Building wheels for collected packages: snscrape\n",
      "  Building wheel for snscrape (setup.py): started\n",
      "  Building wheel for snscrape (setup.py): finished with status 'done'\n",
      "  Created wheel for snscrape: filename=snscrape-0.3.5.dev95+g5cd3b7d-py3-none-any.whl size=50489 sha256=4c27b09989b689ec23ebc544e6fbab9322c6f899c6d6e061578063621547a124\n",
      "  Stored in directory: C:\\Users\\nikodemicek\\AppData\\Local\\Temp\\pip-ephem-wheel-cache-f7rj662d\\wheels\\92\\42\\87\\33fa9b18f7a75d02643a9ca3743339aec9be28c6796267c7d8\n",
      "Successfully built snscrape\n",
      "Installing collected packages: snscrape\n",
      "Successfully installed snscrape-0.3.5.dev95+g5cd3b7d\n"
     ]
    }
   ],
   "source": [
    "!pip install git+https://github.com/JustAnotherArchivist/snscrape.git"
   ]
  },
  {
   "cell_type": "code",
   "execution_count": 7,
   "metadata": {},
   "outputs": [
    {
     "data": {
      "text/plain": [
       "0"
      ]
     },
     "execution_count": 7,
     "metadata": {},
     "output_type": "execute_result"
    }
   ],
   "source": [
    "import os\n",
    "\n",
    "# Using OS library to call CLI commands in Python\n",
    "os.system(\"snscrape --jsonl --max-results 100 --since 2020-06-01 twitter-search \\\"refugee migrant until:2020-07-31\\\"> user-tweets.json\")"
   ]
  },
  {
   "cell_type": "code",
   "execution_count": 9,
   "metadata": {},
   "outputs": [
    {
     "name": "stdout",
     "output_type": "stream",
     "text": [
      "Collecting tweepy\n",
      "  Downloading tweepy-3.10.0-py2.py3-none-any.whl (30 kB)\n",
      "Requirement already satisfied: requests-oauthlib>=0.7.0 in c:\\programdata\\anaconda3\\lib\\site-packages (from tweepy) (1.3.0)\n",
      "Requirement already satisfied: requests[socks]>=2.11.1 in c:\\programdata\\anaconda3\\lib\\site-packages (from tweepy) (2.25.1)\n",
      "Requirement already satisfied: six>=1.10.0 in c:\\users\\nikodemicek\\appdata\\roaming\\python\\python38\\site-packages (from tweepy) (1.15.0)\n",
      "Requirement already satisfied: oauthlib>=3.0.0 in c:\\programdata\\anaconda3\\lib\\site-packages (from requests-oauthlib>=0.7.0->tweepy) (3.1.0)\n",
      "Requirement already satisfied: chardet<5,>=3.0.2 in c:\\programdata\\anaconda3\\lib\\site-packages (from requests[socks]>=2.11.1->tweepy) (4.0.0)\n",
      "Requirement already satisfied: urllib3<1.27,>=1.21.1 in c:\\programdata\\anaconda3\\lib\\site-packages (from requests[socks]>=2.11.1->tweepy) (1.26.3)\n",
      "Requirement already satisfied: idna<3,>=2.5 in c:\\programdata\\anaconda3\\lib\\site-packages (from requests[socks]>=2.11.1->tweepy) (2.10)\n",
      "Requirement already satisfied: certifi>=2017.4.17 in c:\\programdata\\anaconda3\\lib\\site-packages (from requests[socks]>=2.11.1->tweepy) (2020.12.5)\n",
      "Requirement already satisfied: PySocks!=1.5.7,>=1.5.6 in c:\\programdata\\anaconda3\\lib\\site-packages (from requests[socks]>=2.11.1->tweepy) (1.7.1)\n",
      "Installing collected packages: tweepy\n",
      "Successfully installed tweepy-3.10.0\n"
     ]
    }
   ],
   "source": [
    "!pip install tweepy"
   ]
  },
  {
   "cell_type": "code",
   "execution_count": 15,
   "metadata": {},
   "outputs": [],
   "source": [
    "import tweepy\n",
    "import json\n",
    "import time\n",
    "import pandas as pd\n",
    "\n",
    "consumer_key = \"xp6pa2yAprAOYlonTRAACOWe7\"\n",
    "consumer_secret = \"SPnGveHGjsm4clZ70Qq2aiwVvAgSLxgvjSTbfjcKp6TahspKR6\"\n",
    "access_token = \"2549925134-TWjJ1oPjOMf0x7EM5t4tv72Kh57chHCY210xbsR\"\n",
    "access_token_secret = \"VR8XffU6LIgjEZs0Ym23A7zBk8tDtO3PfRQyVlyiq93VH\"\n",
    "\n",
    "\n",
    "auth = tweepy.OAuthHandler(consumer_key, consumer_secret)\n",
    "auth.set_access_token(access_token, access_token_secret)\n",
    "api = tweepy.API(auth,wait_on_rate_limit=True)"
   ]
  },
  {
   "cell_type": "code",
   "execution_count": null,
   "metadata": {},
   "outputs": [],
   "source": [
    ",\n",
    "                        tweet.quoted_status_id_str,\n",
    "                        tweet.is_quote_status,\n",
    "                        tweet.quoted_status,\n",
    "                        tweet.retweeted_status,\n",
    "                        tweet.quote_count,\n",
    "                        tweet.reply_count,\n",
    "                        tweet.retweet_count,\n",
    "                        tweet.favorite_count,\n",
    "                        tweet.extended_entities,\n",
    "                        tweet.entities,\n",
    "                        tweet.favorited,\n",
    "                        tweet.retweeted,\n",
    "                        tweet.possibly_sensitive,\n",
    "                        tweet.lang,\n",
    "                        tweet.matching_rules,\n",
    "                        tweet.scopes,\n",
    "                        tweet.withheld_in_countries\n",
    "                        tweet.created_at, \n",
    "                        tweet.id_str, \n",
    "                        tweet.user.id, \n",
    "                        tweet.text, \n",
    "                        tweet.in_reply_to_status_id_str,\n",
    "                        tweet.in_reply_to_user_id_str, \n",
    "                        tweet.in_reply_to_screen_name, \n",
    "                        tweet.coordinates,\n",
    "                        tweet.place,\n",
    "                        tweet.lang,\n",
    "                        tweet.favorite_count,\n",
    "                        tweet.retweet_count,"
   ]
  },
  {
   "cell_type": "code",
   "execution_count": 16,
   "metadata": {},
   "outputs": [],
   "source": [
    "text_query = 'refugee OR migrant since:2020-02-01 -filter:retweets'\n",
    "count = 10\n",
    "try:\n",
    "    # Creation of query method using parameters\n",
    "    tweets = tweepy.Cursor(api.search,q=text_query, lang=\"en\", tweet_mode = 'extended').items(count)\n",
    " \n",
    "    # Pulling information from tweets iterable object\n",
    "    try:\n",
    "        tweets_list = [[tweet._json] for tweet in tweets]\n",
    "    except AttributeError as e:\n",
    "        print(e)\n",
    "        \n",
    "\n",
    "    with open('user_tweets.json', 'w') as out:\n",
    "        json.dump(tweets_list,out)\n",
    "    # Creation of dataframe from tweets list\n",
    "    # Add or remove columns as you remove tweet information\n",
    "    tweets_df = pd.DataFrame(tweets_list)\n",
    "\n",
    "except BaseException as e:\n",
    "    print('failed on_status,',str(e))\n",
    "    time.sleep(3)"
   ]
  },
  {
   "cell_type": "code",
   "execution_count": 20,
   "metadata": {
    "scrolled": true
   },
   "outputs": [],
   "source": [
    "tweets_df = pd.json_normalize(tweets_df[0])"
   ]
  },
  {
   "cell_type": "code",
   "execution_count": 22,
   "metadata": {},
   "outputs": [
    {
     "data": {
      "text/plain": [
       "['@heterosexualsex @Cynical_refugee @fjncfy says two weeks like its a long time lmao',\n",
       " \"Xong Xiong was born in a refugee camp in Thailand, moved to La Crosse when she was 9 and attended @UWLaCrosse. She founded Cia Siab, a program for Hmong women and girls.\\n \\nYou can read more about Xong and Cia Siab's origin story here: https://t.co/0er4QNdx6F\\n\\n@LaCrosseTribune\",\n",
       " \"@MobilePunch Let me be very honest with u guys Bubu is not a Nigerian he's from Niger he's just to lucky to have been one of this migrant that joined the military to be where he is today. We know so many migrants like him that are enjoying Nigeria more than the real Nigerians in this country.\",\n",
       " '\"The hope is that from our collective knowledge and understanding we can better assess the lessons learned and ensure the best provision for these vulnerable populations during and beyond COVID-19.\" https://t.co/QqxGL27vP3',\n",
       " 'On a Zoom call with SU and SUNY-ESF students, author Viet Thanh Nyugen addressed racism and the recent attacks on Asian-Americans.\\nhttps://t.co/enxVp1ZQy5',\n",
       " 'How EU migrant exodus is reshaping communities across the UK https://t.co/41jJ2VxvMi via @financialtimes',\n",
       " \"Got my little brother and his wife arriving today. They're getting their refugee on from the winter storm. Check on your Texas family and friends and don't be too selfish to where you won't open up your home for them.\",\n",
       " '@CharisRefugees @JoeBiden We are asylum seekers and refugees in Turkey from 4to9years we appeal to the unchr and humanitarian organizations to find solution to our outstanding files without settlement for years l ask you to resolve the iraqi refugee files in Turkey',\n",
       " '@Cynical_refugee @fjncfy wow okay I see how it is',\n",
       " 'In rebuke to anti-migrant figures like Navalny, Putin slams ‘caveman nationalism’ &amp; use of slogans like ‘Russia for the\\xa0Russians’ https://t.co/8mYN3KOCYt']"
      ]
     },
     "execution_count": 22,
     "metadata": {},
     "output_type": "execute_result"
    }
   ],
   "source": [
    "list(tweets_df['full_text'])"
   ]
  },
  {
   "cell_type": "markdown",
   "metadata": {},
   "source": [
    "## Taking tweets in real time (same filtering not possible)"
   ]
  },
  {
   "cell_type": "code",
   "execution_count": 89,
   "metadata": {},
   "outputs": [],
   "source": [
    "# initialize blank list to contain tweets\n",
    "tweets = []\n",
    "# file name that you want to open is the second argument\n",
    "save_file = open(\"live_tweets.json\", 'a')\n",
    "\n",
    "class CustomStreamListener(tweepy.StreamListener):\n",
    "    def __init__(self, api):\n",
    "        self.api = api\n",
    "        super(tweepy.StreamListener, self).__init__()\n",
    "\n",
    "        self.save_file = tweets\n",
    "    def on_status(self, status):\n",
    "        print(status.text)\n",
    "        \n",
    "    def on_data(self, tweet):\n",
    "        self.save_file.append(json.loads(tweet))\n",
    "        print(tweet)\n",
    "        save_file.write(str(tweet))\n",
    "    def on_error(self, status_code):\n",
    "        if status_code == 420:\n",
    "            #returning False in on_error disconnects the stream\n",
    "            return False"
   ]
  },
  {
   "cell_type": "code",
   "execution_count": 101,
   "metadata": {},
   "outputs": [
    {
     "name": "stdout",
     "output_type": "stream",
     "text": [
      "{\"created_at\":\"Thu Feb 11 21:04:08 +0000 2021\",\"id\":1359971503002050561,\"id_str\":\"1359971503002050561\",\"text\":\"RT @NiaDaCosta: 1 is a Vietnamese-American community center that burned down 3 days ago.\\n\\n\\\"VACCEB serves and supports low-income underrepre\\u2026\",\"source\":\"\\u003ca href=\\\"http:\\/\\/twitter.com\\/download\\/iphone\\\" rel=\\\"nofollow\\\"\\u003eTwitter for iPhone\\u003c\\/a\\u003e\",\"truncated\":false,\"in_reply_to_status_id\":null,\"in_reply_to_status_id_str\":null,\"in_reply_to_user_id\":null,\"in_reply_to_user_id_str\":null,\"in_reply_to_screen_name\":null,\"user\":{\"id\":603107758,\"id_str\":\"603107758\",\"name\":\"tim the \\ud83d\\udc01 chalamet\",\"screen_name\":\"plaguerat500\",\"location\":null,\"url\":null,\"description\":\"street rat with a coy smile |she\\/they|\",\"translator_type\":\"none\",\"protected\":false,\"verified\":false,\"followers_count\":342,\"friends_count\":275,\"listed_count\":5,\"favourites_count\":88764,\"statuses_count\":10325,\"created_at\":\"Fri Jun 08 22:12:23 +0000 2012\",\"utc_offset\":null,\"time_zone\":null,\"geo_enabled\":true,\"lang\":null,\"contributors_enabled\":false,\"is_translator\":false,\"profile_background_color\":\"C0DEED\",\"profile_background_image_url\":\"http:\\/\\/abs.twimg.com\\/images\\/themes\\/theme1\\/bg.png\",\"profile_background_image_url_https\":\"https:\\/\\/abs.twimg.com\\/images\\/themes\\/theme1\\/bg.png\",\"profile_background_tile\":true,\"profile_link_color\":\"DD2E44\",\"profile_sidebar_border_color\":\"FFFFFF\",\"profile_sidebar_fill_color\":\"DDEEF6\",\"profile_text_color\":\"333333\",\"profile_use_background_image\":true,\"profile_image_url\":\"http:\\/\\/pbs.twimg.com\\/profile_images\\/1295930668720050177\\/aOCnVKdI_normal.jpg\",\"profile_image_url_https\":\"https:\\/\\/pbs.twimg.com\\/profile_images\\/1295930668720050177\\/aOCnVKdI_normal.jpg\",\"profile_banner_url\":\"https:\\/\\/pbs.twimg.com\\/profile_banners\\/603107758\\/1603233644\",\"default_profile\":false,\"default_profile_image\":false,\"following\":null,\"follow_request_sent\":null,\"notifications\":null},\"geo\":null,\"coordinates\":null,\"place\":null,\"contributors\":null,\"retweeted_status\":{\"created_at\":\"Tue Feb 09 19:42:55 +0000 2021\",\"id\":1359226291464110083,\"id_str\":\"1359226291464110083\",\"text\":\"1 is a Vietnamese-American community center that burned down 3 days ago.\\n\\n\\\"VACCEB serves and supports low-income un\\u2026 https:\\/\\/t.co\\/MBE4O6BZs6\",\"source\":\"\\u003ca href=\\\"https:\\/\\/mobile.twitter.com\\\" rel=\\\"nofollow\\\"\\u003eTwitter Web App\\u003c\\/a\\u003e\",\"truncated\":true,\"in_reply_to_status_id\":1359226290436464642,\"in_reply_to_status_id_str\":\"1359226290436464642\",\"in_reply_to_user_id\":2379867073,\"in_reply_to_user_id_str\":\"2379867073\",\"in_reply_to_screen_name\":\"NiaDaCosta\",\"user\":{\"id\":2379867073,\"id_str\":\"2379867073\",\"name\":\"Nia DaCosta\",\"screen_name\":\"NiaDaCosta\",\"location\":null,\"url\":null,\"description\":\"Will meet you by Mordor with the rest of the mandem.\",\"translator_type\":\"none\",\"protected\":false,\"verified\":true,\"followers_count\":78187,\"friends_count\":549,\"listed_count\":205,\"favourites_count\":5432,\"statuses_count\":201,\"created_at\":\"Sun Mar 09 05:00:12 +0000 2014\",\"utc_offset\":null,\"time_zone\":null,\"geo_enabled\":false,\"lang\":null,\"contributors_enabled\":false,\"is_translator\":false,\"profile_background_color\":\"C0DEED\",\"profile_background_image_url\":\"http:\\/\\/abs.twimg.com\\/images\\/themes\\/theme1\\/bg.png\",\"profile_background_image_url_https\":\"https:\\/\\/abs.twimg.com\\/images\\/themes\\/theme1\\/bg.png\",\"profile_background_tile\":false,\"profile_link_color\":\"1DA1F2\",\"profile_sidebar_border_color\":\"C0DEED\",\"profile_sidebar_fill_color\":\"DDEEF6\",\"profile_text_color\":\"333333\",\"profile_use_background_image\":true,\"profile_image_url\":\"http:\\/\\/pbs.twimg.com\\/profile_images\\/995083996013957121\\/WjsN_8Eg_normal.jpg\",\"profile_image_url_https\":\"https:\\/\\/pbs.twimg.com\\/profile_images\\/995083996013957121\\/WjsN_8Eg_normal.jpg\",\"profile_banner_url\":\"https:\\/\\/pbs.twimg.com\\/profile_banners\\/2379867073\\/1595791787\",\"default_profile\":true,\"default_profile_image\":false,\"following\":null,\"follow_request_sent\":null,\"notifications\":null},\"geo\":null,\"coordinates\":null,\"place\":null,\"contributors\":null,\"is_quote_status\":false,\"extended_tweet\":{\"full_text\":\"1 is a Vietnamese-American community center that burned down 3 days ago.\\n\\n\\\"VACCEB serves and supports low-income underrepresented refugee\\/immigrant families in the Bay Area in integrating, thriving, and attaining self-sufficiency within American society.\\\"\\n https:\\/\\/t.co\\/9LQZ9gBL7Y\",\"display_text_range\":[0,280],\"entities\":{\"hashtags\":[],\"urls\":[{\"url\":\"https:\\/\\/t.co\\/9LQZ9gBL7Y\",\"expanded_url\":\"https:\\/\\/gofund.me\\/a5dc1fa9\",\"display_url\":\"gofund.me\\/a5dc1fa9\",\"indices\":[257,280]}],\"user_mentions\":[],\"symbols\":[]}},\"quote_count\":5,\"reply_count\":1,\"retweet_count\":170,\"favorite_count\":220,\"entities\":{\"hashtags\":[],\"urls\":[{\"url\":\"https:\\/\\/t.co\\/MBE4O6BZs6\",\"expanded_url\":\"https:\\/\\/twitter.com\\/i\\/web\\/status\\/1359226291464110083\",\"display_url\":\"twitter.com\\/i\\/web\\/status\\/1\\u2026\",\"indices\":[117,140]}],\"user_mentions\":[],\"symbols\":[]},\"favorited\":false,\"retweeted\":false,\"possibly_sensitive\":false,\"filter_level\":\"low\",\"lang\":\"en\"},\"is_quote_status\":false,\"quote_count\":0,\"reply_count\":0,\"retweet_count\":0,\"favorite_count\":0,\"entities\":{\"hashtags\":[],\"urls\":[],\"user_mentions\":[{\"screen_name\":\"NiaDaCosta\",\"name\":\"Nia DaCosta\",\"id\":2379867073,\"id_str\":\"2379867073\",\"indices\":[3,14]}],\"symbols\":[]},\"favorited\":false,\"retweeted\":false,\"filter_level\":\"low\",\"lang\":\"en\",\"timestamp_ms\":\"1613077448021\"}\n",
      "\n",
      "{\"created_at\":\"Thu Feb 11 21:04:09 +0000 2021\",\"id\":1359971510610366464,\"id_str\":\"1359971510610366464\",\"text\":\"RT @GeoffRBennett: First on NBC: Michelle Bran\\u00e9 of the Women's Refugee Commission will be named director of the Biden task force reuniting\\u2026\",\"source\":\"\\u003ca href=\\\"http:\\/\\/twitter.com\\/download\\/android\\\" rel=\\\"nofollow\\\"\\u003eTwitter for Android\\u003c\\/a\\u003e\",\"truncated\":false,\"in_reply_to_status_id\":null,\"in_reply_to_status_id_str\":null,\"in_reply_to_user_id\":null,\"in_reply_to_user_id_str\":null,\"in_reply_to_screen_name\":null,\"user\":{\"id\":949334895771430920,\"id_str\":\"949334895771430920\",\"name\":\"Baby Brat \\ud83d\\udc63\",\"screen_name\":\"bratz2you\",\"location\":\"still waiting for GOP spines \",\"url\":null,\"description\":\"Followed by @ChrisLu44 \\ud83c\\udd92@rickwtyler  @ifindkarma \\u2b50@kim  \\nPresident Biden MVP Harris  \\ud83d\\uddfd\",\"translator_type\":\"none\",\"protected\":false,\"verified\":false,\"followers_count\":1178,\"friends_count\":1934,\"listed_count\":0,\"favourites_count\":102105,\"statuses_count\":43186,\"created_at\":\"Fri Jan 05 17:40:51 +0000 2018\",\"utc_offset\":null,\"time_zone\":null,\"geo_enabled\":false,\"lang\":null,\"contributors_enabled\":false,\"is_translator\":false,\"profile_background_color\":\"F5F8FA\",\"profile_background_image_url\":\"\",\"profile_background_image_url_https\":\"\",\"profile_background_tile\":false,\"profile_link_color\":\"1DA1F2\",\"profile_sidebar_border_color\":\"C0DEED\",\"profile_sidebar_fill_color\":\"DDEEF6\",\"profile_text_color\":\"333333\",\"profile_use_background_image\":true,\"profile_image_url\":\"http:\\/\\/pbs.twimg.com\\/profile_images\\/951690920390512640\\/e6-llK0M_normal.jpg\",\"profile_image_url_https\":\"https:\\/\\/pbs.twimg.com\\/profile_images\\/951690920390512640\\/e6-llK0M_normal.jpg\",\"profile_banner_url\":\"https:\\/\\/pbs.twimg.com\\/profile_banners\\/949334895771430920\\/1613075009\",\"default_profile\":true,\"default_profile_image\":false,\"following\":null,\"follow_request_sent\":null,\"notifications\":null},\"geo\":null,\"coordinates\":null,\"place\":null,\"contributors\":null,\"retweeted_status\":{\"created_at\":\"Wed Feb 10 18:27:04 +0000 2021\",\"id\":1359569591773593603,\"id_str\":\"1359569591773593603\",\"text\":\"First on NBC: Michelle Bran\\u00e9 of the Women's Refugee Commission will be named director of the Biden task force reuni\\u2026 https:\\/\\/t.co\\/LouxzmzvtY\",\"source\":\"\\u003ca href=\\\"http:\\/\\/twitter.com\\/download\\/iphone\\\" rel=\\\"nofollow\\\"\\u003eTwitter for iPhone\\u003c\\/a\\u003e\",\"truncated\":true,\"in_reply_to_status_id\":null,\"in_reply_to_status_id_str\":null,\"in_reply_to_user_id\":null,\"in_reply_to_user_id_str\":null,\"in_reply_to_screen_name\":null,\"user\":{\"id\":19502995,\"id_str\":\"19502995\",\"name\":\"Geoff Bennett\",\"screen_name\":\"GeoffRBennett\",\"location\":\"Washington, D.C.\",\"url\":\"http:\\/\\/nbcnews.com\",\"description\":\"@NBCNews White House Correspondent | Priors: @NPR, @NY1, @ABC & @Morehouse\",\"translator_type\":\"none\",\"protected\":false,\"verified\":true,\"followers_count\":167189,\"friends_count\":4875,\"listed_count\":1719,\"favourites_count\":31976,\"statuses_count\":14628,\"created_at\":\"Sun Jan 25 20:21:13 +0000 2009\",\"utc_offset\":null,\"time_zone\":null,\"geo_enabled\":true,\"lang\":null,\"contributors_enabled\":false,\"is_translator\":false,\"profile_background_color\":\"000000\",\"profile_background_image_url\":\"http:\\/\\/abs.twimg.com\\/images\\/themes\\/theme14\\/bg.gif\",\"profile_background_image_url_https\":\"https:\\/\\/abs.twimg.com\\/images\\/themes\\/theme14\\/bg.gif\",\"profile_background_tile\":false,\"profile_link_color\":\"1B95E0\",\"profile_sidebar_border_color\":\"000000\",\"profile_sidebar_fill_color\":\"000000\",\"profile_text_color\":\"000000\",\"profile_use_background_image\":false,\"profile_image_url\":\"http:\\/\\/pbs.twimg.com\\/profile_images\\/412705220209045504\\/mZkHmLs6_normal.jpeg\",\"profile_image_url_https\":\"https:\\/\\/pbs.twimg.com\\/profile_images\\/412705220209045504\\/mZkHmLs6_normal.jpeg\",\"profile_banner_url\":\"https:\\/\\/pbs.twimg.com\\/profile_banners\\/19502995\\/1610834039\",\"default_profile\":false,\"default_profile_image\":false,\"following\":null,\"follow_request_sent\":null,\"notifications\":null},\"geo\":null,\"coordinates\":null,\"place\":null,\"contributors\":null,\"is_quote_status\":false,\"extended_tweet\":{\"full_text\":\"First on NBC: Michelle Bran\\u00e9 of the Women's Refugee Commission will be named director of the Biden task force reuniting migrant families separated under Trump, sources tell @JuliaEAinsley , @jacobsoboroff and me https:\\/\\/t.co\\/qyYsqP8Zc1\",\"display_text_range\":[0,235],\"entities\":{\"hashtags\":[],\"urls\":[{\"url\":\"https:\\/\\/t.co\\/qyYsqP8Zc1\",\"expanded_url\":\"https:\\/\\/www.nbcnews.com\\/politics\\/immigration\\/biden-admin-name-refugee-advocate-director-task-force-reunite-separated-n1257255\",\"display_url\":\"nbcnews.com\\/politics\\/immig\\u2026\",\"indices\":[212,235]}],\"user_mentions\":[{\"screen_name\":\"JuliaEAinsley\",\"name\":\"Julia E. Ainsley\",\"id\":147467535,\"id_str\":\"147467535\",\"indices\":[173,187]},{\"screen_name\":\"jacobsoboroff\",\"name\":\"Jacob Soboroff\",\"id\":14246088,\"id_str\":\"14246088\",\"indices\":[190,204]}],\"symbols\":[]}},\"quote_count\":20,\"reply_count\":18,\"retweet_count\":262,\"favorite_count\":853,\"entities\":{\"hashtags\":[],\"urls\":[{\"url\":\"https:\\/\\/t.co\\/LouxzmzvtY\",\"expanded_url\":\"https:\\/\\/twitter.com\\/i\\/web\\/status\\/1359569591773593603\",\"display_url\":\"twitter.com\\/i\\/web\\/status\\/1\\u2026\",\"indices\":[117,140]}],\"user_mentions\":[],\"symbols\":[]},\"favorited\":false,\"retweeted\":false,\"possibly_sensitive\":false,\"filter_level\":\"low\",\"lang\":\"en\"},\"is_quote_status\":false,\"quote_count\":0,\"reply_count\":0,\"retweet_count\":0,\"favorite_count\":0,\"entities\":{\"hashtags\":[],\"urls\":[],\"user_mentions\":[{\"screen_name\":\"GeoffRBennett\",\"name\":\"Geoff Bennett\",\"id\":19502995,\"id_str\":\"19502995\",\"indices\":[3,17]}],\"symbols\":[]},\"favorited\":false,\"retweeted\":false,\"filter_level\":\"low\",\"lang\":\"en\",\"timestamp_ms\":\"1613077449835\"}\n",
      "\n"
     ]
    },
    {
     "name": "stdout",
     "output_type": "stream",
     "text": [
      "{\"created_at\":\"Thu Feb 11 21:04:10 +0000 2021\",\"id\":1359971512174796801,\"id_str\":\"1359971512174796801\",\"text\":\"RT @leila_mansouri: I had the honor of writing about @randajarrar's Love is an Ex Country, @DinaNayeri's Ungrateful Refugee, and @LailaLala\\u2026\",\"source\":\"\\u003ca href=\\\"https:\\/\\/mobile.twitter.com\\\" rel=\\\"nofollow\\\"\\u003eTwitter Web App\\u003c\\/a\\u003e\",\"truncated\":false,\"in_reply_to_status_id\":null,\"in_reply_to_status_id_str\":null,\"in_reply_to_user_id\":null,\"in_reply_to_user_id_str\":null,\"in_reply_to_screen_name\":null,\"user\":{\"id\":2332332524,\"id_str\":\"2332332524\",\"name\":\"Leila Mansouri\",\"screen_name\":\"leila_mansouri\",\"location\":\"Berkeley, CA\",\"url\":null,\"description\":\"Iranian American Early Americanist \\/\\/ Not that Leila Mansouri, the other Leila Mansouri\",\"translator_type\":\"none\",\"protected\":false,\"verified\":false,\"followers_count\":143,\"friends_count\":326,\"listed_count\":2,\"favourites_count\":860,\"statuses_count\":235,\"created_at\":\"Fri Feb 07 19:50:23 +0000 2014\",\"utc_offset\":null,\"time_zone\":null,\"geo_enabled\":false,\"lang\":null,\"contributors_enabled\":false,\"is_translator\":false,\"profile_background_color\":\"C0DEED\",\"profile_background_image_url\":\"http:\\/\\/abs.twimg.com\\/images\\/themes\\/theme1\\/bg.png\",\"profile_background_image_url_https\":\"https:\\/\\/abs.twimg.com\\/images\\/themes\\/theme1\\/bg.png\",\"profile_background_tile\":false,\"profile_link_color\":\"1DA1F2\",\"profile_sidebar_border_color\":\"C0DEED\",\"profile_sidebar_fill_color\":\"DDEEF6\",\"profile_text_color\":\"333333\",\"profile_use_background_image\":true,\"profile_image_url\":\"http:\\/\\/pbs.twimg.com\\/profile_images\\/1280558741645955072\\/ZYgkErHN_normal.jpg\",\"profile_image_url_https\":\"https:\\/\\/pbs.twimg.com\\/profile_images\\/1280558741645955072\\/ZYgkErHN_normal.jpg\",\"profile_banner_url\":\"https:\\/\\/pbs.twimg.com\\/profile_banners\\/2332332524\\/1570217863\",\"default_profile\":true,\"default_profile_image\":false,\"following\":null,\"follow_request_sent\":null,\"notifications\":null},\"geo\":null,\"coordinates\":null,\"place\":null,\"contributors\":null,\"retweeted_status\":{\"created_at\":\"Thu Feb 11 16:51:12 +0000 2021\",\"id\":1359907851724988421,\"id_str\":\"1359907851724988421\",\"text\":\"I had the honor of writing about @randajarrar's Love is an Ex Country, @DinaNayeri's Ungrateful Refugee, and\\u2026 https:\\/\\/t.co\\/EkoAUoU2gJ\",\"source\":\"\\u003ca href=\\\"https:\\/\\/mobile.twitter.com\\\" rel=\\\"nofollow\\\"\\u003eTwitter Web App\\u003c\\/a\\u003e\",\"truncated\":true,\"in_reply_to_status_id\":null,\"in_reply_to_status_id_str\":null,\"in_reply_to_user_id\":null,\"in_reply_to_user_id_str\":null,\"in_reply_to_screen_name\":null,\"user\":{\"id\":2332332524,\"id_str\":\"2332332524\",\"name\":\"Leila Mansouri\",\"screen_name\":\"leila_mansouri\",\"location\":\"Berkeley, CA\",\"url\":null,\"description\":\"Iranian American Early Americanist \\/\\/ Not that Leila Mansouri, the other Leila Mansouri\",\"translator_type\":\"none\",\"protected\":false,\"verified\":false,\"followers_count\":143,\"friends_count\":326,\"listed_count\":2,\"favourites_count\":860,\"statuses_count\":234,\"created_at\":\"Fri Feb 07 19:50:23 +0000 2014\",\"utc_offset\":null,\"time_zone\":null,\"geo_enabled\":false,\"lang\":null,\"contributors_enabled\":false,\"is_translator\":false,\"profile_background_color\":\"C0DEED\",\"profile_background_image_url\":\"http:\\/\\/abs.twimg.com\\/images\\/themes\\/theme1\\/bg.png\",\"profile_background_image_url_https\":\"https:\\/\\/abs.twimg.com\\/images\\/themes\\/theme1\\/bg.png\",\"profile_background_tile\":false,\"profile_link_color\":\"1DA1F2\",\"profile_sidebar_border_color\":\"C0DEED\",\"profile_sidebar_fill_color\":\"DDEEF6\",\"profile_text_color\":\"333333\",\"profile_use_background_image\":true,\"profile_image_url\":\"http:\\/\\/pbs.twimg.com\\/profile_images\\/1280558741645955072\\/ZYgkErHN_normal.jpg\",\"profile_image_url_https\":\"https:\\/\\/pbs.twimg.com\\/profile_images\\/1280558741645955072\\/ZYgkErHN_normal.jpg\",\"profile_banner_url\":\"https:\\/\\/pbs.twimg.com\\/profile_banners\\/2332332524\\/1570217863\",\"default_profile\":true,\"default_profile_image\":false,\"following\":null,\"follow_request_sent\":null,\"notifications\":null},\"geo\":null,\"coordinates\":null,\"place\":null,\"contributors\":null,\"is_quote_status\":false,\"extended_tweet\":{\"full_text\":\"I had the honor of writing about @randajarrar's Love is an Ex Country, @DinaNayeri's Ungrateful Refugee, and @LailaLalami's The Other Americans for @believermag. So grateful for these amazing books! https:\\/\\/t.co\\/3akFN01hh7\",\"display_text_range\":[0,222],\"entities\":{\"hashtags\":[],\"urls\":[{\"url\":\"https:\\/\\/t.co\\/3akFN01hh7\",\"expanded_url\":\"https:\\/\\/believermag.com\\/ungrateful-americans\\/\",\"display_url\":\"believermag.com\\/ungrateful-ame\\u2026\",\"indices\":[199,222]}],\"user_mentions\":[{\"screen_name\":\"randajarrar\",\"name\":\"Randa Jarrar\",\"id\":14972650,\"id_str\":\"14972650\",\"indices\":[33,45]},{\"screen_name\":\"DinaNayeri\",\"name\":\"Dina Nayeri\",\"id\":2295810033,\"id_str\":\"2295810033\",\"indices\":[71,82]},{\"screen_name\":\"LailaLalami\",\"name\":\"Laila Lalami\",\"id\":81381301,\"id_str\":\"81381301\",\"indices\":[109,121]},{\"screen_name\":\"believermag\",\"name\":\"The Believer\",\"id\":25179560,\"id_str\":\"25179560\",\"indices\":[148,160]}],\"symbols\":[]}},\"quote_count\":1,\"reply_count\":0,\"retweet_count\":8,\"favorite_count\":10,\"entities\":{\"hashtags\":[],\"urls\":[{\"url\":\"https:\\/\\/t.co\\/EkoAUoU2gJ\",\"expanded_url\":\"https:\\/\\/twitter.com\\/i\\/web\\/status\\/1359907851724988421\",\"display_url\":\"twitter.com\\/i\\/web\\/status\\/1\\u2026\",\"indices\":[110,133]}],\"user_mentions\":[{\"screen_name\":\"randajarrar\",\"name\":\"Randa Jarrar\",\"id\":14972650,\"id_str\":\"14972650\",\"indices\":[33,45]},{\"screen_name\":\"DinaNayeri\",\"name\":\"Dina Nayeri\",\"id\":2295810033,\"id_str\":\"2295810033\",\"indices\":[71,82]}],\"symbols\":[]},\"favorited\":false,\"retweeted\":false,\"possibly_sensitive\":false,\"filter_level\":\"low\",\"lang\":\"en\"},\"is_quote_status\":false,\"quote_count\":0,\"reply_count\":0,\"retweet_count\":0,\"favorite_count\":0,\"entities\":{\"hashtags\":[],\"urls\":[],\"user_mentions\":[{\"screen_name\":\"leila_mansouri\",\"name\":\"Leila Mansouri\",\"id\":2332332524,\"id_str\":\"2332332524\",\"indices\":[3,18]},{\"screen_name\":\"randajarrar\",\"name\":\"Randa Jarrar\",\"id\":14972650,\"id_str\":\"14972650\",\"indices\":[53,65]},{\"screen_name\":\"DinaNayeri\",\"name\":\"Dina Nayeri\",\"id\":2295810033,\"id_str\":\"2295810033\",\"indices\":[91,102]}],\"symbols\":[]},\"favorited\":false,\"retweeted\":false,\"filter_level\":\"low\",\"lang\":\"en\",\"timestamp_ms\":\"1613077450208\"}\r\n",
      "\n"
     ]
    },
    {
     "ename": "KeyboardInterrupt",
     "evalue": "",
     "output_type": "error",
     "traceback": [
      "\u001b[1;31m---------------------------------------------------------------------------\u001b[0m",
      "\u001b[1;31mKeyboardInterrupt\u001b[0m                         Traceback (most recent call last)",
      "\u001b[1;32m<ipython-input-101-6ca6724a358d>\u001b[0m in \u001b[0;36m<module>\u001b[1;34m\u001b[0m\n\u001b[0;32m      2\u001b[0m \u001b[1;33m\u001b[0m\u001b[0m\n\u001b[0;32m      3\u001b[0m \u001b[0mstream\u001b[0m \u001b[1;33m=\u001b[0m \u001b[0mtweepy\u001b[0m\u001b[1;33m.\u001b[0m\u001b[0mStream\u001b[0m\u001b[1;33m(\u001b[0m\u001b[0mapi\u001b[0m\u001b[1;33m.\u001b[0m\u001b[0mauth\u001b[0m\u001b[1;33m,\u001b[0m \u001b[0mlistener\u001b[0m \u001b[1;33m=\u001b[0m \u001b[0mCustomStreamListener\u001b[0m\u001b[1;33m(\u001b[0m\u001b[0mapi\u001b[0m\u001b[1;33m)\u001b[0m\u001b[1;33m)\u001b[0m\u001b[1;33m\u001b[0m\u001b[1;33m\u001b[0m\u001b[0m\n\u001b[1;32m----> 4\u001b[1;33m \u001b[0mstream\u001b[0m\u001b[1;33m.\u001b[0m\u001b[0mfilter\u001b[0m\u001b[1;33m(\u001b[0m\u001b[0mtrack\u001b[0m\u001b[1;33m=\u001b[0m\u001b[0msearch_query\u001b[0m\u001b[1;33m,\u001b[0m \u001b[0mlanguages\u001b[0m \u001b[1;33m=\u001b[0m \u001b[1;33m[\u001b[0m\u001b[1;34m'en'\u001b[0m\u001b[1;33m]\u001b[0m\u001b[1;33m)\u001b[0m\u001b[1;33m\u001b[0m\u001b[1;33m\u001b[0m\u001b[0m\n\u001b[0m",
      "\u001b[1;32mC:\\ProgramData\\Anaconda3\\lib\\site-packages\\tweepy\\streaming.py\u001b[0m in \u001b[0;36mfilter\u001b[1;34m(self, follow, track, is_async, locations, stall_warnings, languages, encoding, filter_level)\u001b[0m\n\u001b[0;32m    472\u001b[0m             \u001b[0mself\u001b[0m\u001b[1;33m.\u001b[0m\u001b[0mbody\u001b[0m\u001b[1;33m[\u001b[0m\u001b[1;34m'filter_level'\u001b[0m\u001b[1;33m]\u001b[0m \u001b[1;33m=\u001b[0m \u001b[0mfilter_level\u001b[0m\u001b[1;33m.\u001b[0m\u001b[0mencode\u001b[0m\u001b[1;33m(\u001b[0m\u001b[0mencoding\u001b[0m\u001b[1;33m)\u001b[0m\u001b[1;33m\u001b[0m\u001b[1;33m\u001b[0m\u001b[0m\n\u001b[0;32m    473\u001b[0m         \u001b[0mself\u001b[0m\u001b[1;33m.\u001b[0m\u001b[0msession\u001b[0m\u001b[1;33m.\u001b[0m\u001b[0mparams\u001b[0m \u001b[1;33m=\u001b[0m \u001b[1;33m{\u001b[0m\u001b[1;34m'delimited'\u001b[0m\u001b[1;33m:\u001b[0m \u001b[1;34m'length'\u001b[0m\u001b[1;33m}\u001b[0m\u001b[1;33m\u001b[0m\u001b[1;33m\u001b[0m\u001b[0m\n\u001b[1;32m--> 474\u001b[1;33m         \u001b[0mself\u001b[0m\u001b[1;33m.\u001b[0m\u001b[0m_start\u001b[0m\u001b[1;33m(\u001b[0m\u001b[0mis_async\u001b[0m\u001b[1;33m)\u001b[0m\u001b[1;33m\u001b[0m\u001b[1;33m\u001b[0m\u001b[0m\n\u001b[0m\u001b[0;32m    475\u001b[0m \u001b[1;33m\u001b[0m\u001b[0m\n\u001b[0;32m    476\u001b[0m     def sitestream(self, follow, stall_warnings=False,\n",
      "\u001b[1;32mC:\\ProgramData\\Anaconda3\\lib\\site-packages\\tweepy\\streaming.py\u001b[0m in \u001b[0;36m_start\u001b[1;34m(self, is_async)\u001b[0m\n\u001b[0;32m    387\u001b[0m             \u001b[0mself\u001b[0m\u001b[1;33m.\u001b[0m\u001b[0m_thread\u001b[0m\u001b[1;33m.\u001b[0m\u001b[0mstart\u001b[0m\u001b[1;33m(\u001b[0m\u001b[1;33m)\u001b[0m\u001b[1;33m\u001b[0m\u001b[1;33m\u001b[0m\u001b[0m\n\u001b[0;32m    388\u001b[0m         \u001b[1;32melse\u001b[0m\u001b[1;33m:\u001b[0m\u001b[1;33m\u001b[0m\u001b[1;33m\u001b[0m\u001b[0m\n\u001b[1;32m--> 389\u001b[1;33m             \u001b[0mself\u001b[0m\u001b[1;33m.\u001b[0m\u001b[0m_run\u001b[0m\u001b[1;33m(\u001b[0m\u001b[1;33m)\u001b[0m\u001b[1;33m\u001b[0m\u001b[1;33m\u001b[0m\u001b[0m\n\u001b[0m\u001b[0;32m    390\u001b[0m \u001b[1;33m\u001b[0m\u001b[0m\n\u001b[0;32m    391\u001b[0m     \u001b[1;32mdef\u001b[0m \u001b[0mon_closed\u001b[0m\u001b[1;33m(\u001b[0m\u001b[0mself\u001b[0m\u001b[1;33m,\u001b[0m \u001b[0mresp\u001b[0m\u001b[1;33m)\u001b[0m\u001b[1;33m:\u001b[0m\u001b[1;33m\u001b[0m\u001b[1;33m\u001b[0m\u001b[0m\n",
      "\u001b[1;32mC:\\ProgramData\\Anaconda3\\lib\\site-packages\\tweepy\\streaming.py\u001b[0m in \u001b[0;36m_run\u001b[1;34m(self)\u001b[0m\n\u001b[0;32m    287\u001b[0m                     \u001b[0mself\u001b[0m\u001b[1;33m.\u001b[0m\u001b[0msnooze_time\u001b[0m \u001b[1;33m=\u001b[0m \u001b[0mself\u001b[0m\u001b[1;33m.\u001b[0m\u001b[0msnooze_time_step\u001b[0m\u001b[1;33m\u001b[0m\u001b[1;33m\u001b[0m\u001b[0m\n\u001b[0;32m    288\u001b[0m                     \u001b[0mself\u001b[0m\u001b[1;33m.\u001b[0m\u001b[0mlistener\u001b[0m\u001b[1;33m.\u001b[0m\u001b[0mon_connect\u001b[0m\u001b[1;33m(\u001b[0m\u001b[1;33m)\u001b[0m\u001b[1;33m\u001b[0m\u001b[1;33m\u001b[0m\u001b[0m\n\u001b[1;32m--> 289\u001b[1;33m                     \u001b[0mself\u001b[0m\u001b[1;33m.\u001b[0m\u001b[0m_read_loop\u001b[0m\u001b[1;33m(\u001b[0m\u001b[0mresp\u001b[0m\u001b[1;33m)\u001b[0m\u001b[1;33m\u001b[0m\u001b[1;33m\u001b[0m\u001b[0m\n\u001b[0m\u001b[0;32m    290\u001b[0m             \u001b[1;32mexcept\u001b[0m \u001b[1;33m(\u001b[0m\u001b[0mTimeout\u001b[0m\u001b[1;33m,\u001b[0m \u001b[0mssl\u001b[0m\u001b[1;33m.\u001b[0m\u001b[0mSSLError\u001b[0m\u001b[1;33m)\u001b[0m \u001b[1;32mas\u001b[0m \u001b[0mexc\u001b[0m\u001b[1;33m:\u001b[0m\u001b[1;33m\u001b[0m\u001b[1;33m\u001b[0m\u001b[0m\n\u001b[0;32m    291\u001b[0m                 \u001b[1;31m# This is still necessary, as a SSLError can actually be\u001b[0m\u001b[1;33m\u001b[0m\u001b[1;33m\u001b[0m\u001b[1;33m\u001b[0m\u001b[0m\n",
      "\u001b[1;32mC:\\ProgramData\\Anaconda3\\lib\\site-packages\\tweepy\\streaming.py\u001b[0m in \u001b[0;36m_read_loop\u001b[1;34m(self, resp)\u001b[0m\n\u001b[0;32m    337\u001b[0m             \u001b[0mlength\u001b[0m \u001b[1;33m=\u001b[0m \u001b[1;36m0\u001b[0m\u001b[1;33m\u001b[0m\u001b[1;33m\u001b[0m\u001b[0m\n\u001b[0;32m    338\u001b[0m             \u001b[1;32mwhile\u001b[0m \u001b[1;32mnot\u001b[0m \u001b[0mresp\u001b[0m\u001b[1;33m.\u001b[0m\u001b[0mraw\u001b[0m\u001b[1;33m.\u001b[0m\u001b[0mclosed\u001b[0m\u001b[1;33m:\u001b[0m\u001b[1;33m\u001b[0m\u001b[1;33m\u001b[0m\u001b[0m\n\u001b[1;32m--> 339\u001b[1;33m                 \u001b[0mline\u001b[0m \u001b[1;33m=\u001b[0m \u001b[0mbuf\u001b[0m\u001b[1;33m.\u001b[0m\u001b[0mread_line\u001b[0m\u001b[1;33m(\u001b[0m\u001b[1;33m)\u001b[0m\u001b[1;33m\u001b[0m\u001b[1;33m\u001b[0m\u001b[0m\n\u001b[0m\u001b[0;32m    340\u001b[0m                 \u001b[0mstripped_line\u001b[0m \u001b[1;33m=\u001b[0m \u001b[0mline\u001b[0m\u001b[1;33m.\u001b[0m\u001b[0mstrip\u001b[0m\u001b[1;33m(\u001b[0m\u001b[1;33m)\u001b[0m \u001b[1;32mif\u001b[0m \u001b[0mline\u001b[0m \u001b[1;32melse\u001b[0m \u001b[0mline\u001b[0m \u001b[1;31m# line is sometimes None so we need to check here\u001b[0m\u001b[1;33m\u001b[0m\u001b[1;33m\u001b[0m\u001b[0m\n\u001b[0;32m    341\u001b[0m                 \u001b[1;32mif\u001b[0m \u001b[1;32mnot\u001b[0m \u001b[0mstripped_line\u001b[0m\u001b[1;33m:\u001b[0m\u001b[1;33m\u001b[0m\u001b[1;33m\u001b[0m\u001b[0m\n",
      "\u001b[1;32mC:\\ProgramData\\Anaconda3\\lib\\site-packages\\tweepy\\streaming.py\u001b[0m in \u001b[0;36mread_line\u001b[1;34m(self, sep)\u001b[0m\n\u001b[0;32m    198\u001b[0m             \u001b[1;32melse\u001b[0m\u001b[1;33m:\u001b[0m\u001b[1;33m\u001b[0m\u001b[1;33m\u001b[0m\u001b[0m\n\u001b[0;32m    199\u001b[0m                 \u001b[0mstart\u001b[0m \u001b[1;33m=\u001b[0m \u001b[0mlen\u001b[0m\u001b[1;33m(\u001b[0m\u001b[0mself\u001b[0m\u001b[1;33m.\u001b[0m\u001b[0m_buffer\u001b[0m\u001b[1;33m)\u001b[0m\u001b[1;33m\u001b[0m\u001b[1;33m\u001b[0m\u001b[0m\n\u001b[1;32m--> 200\u001b[1;33m             \u001b[0mself\u001b[0m\u001b[1;33m.\u001b[0m\u001b[0m_buffer\u001b[0m \u001b[1;33m+=\u001b[0m \u001b[0mself\u001b[0m\u001b[1;33m.\u001b[0m\u001b[0m_stream\u001b[0m\u001b[1;33m.\u001b[0m\u001b[0mread\u001b[0m\u001b[1;33m(\u001b[0m\u001b[0mself\u001b[0m\u001b[1;33m.\u001b[0m\u001b[0m_chunk_size\u001b[0m\u001b[1;33m)\u001b[0m\u001b[1;33m\u001b[0m\u001b[1;33m\u001b[0m\u001b[0m\n\u001b[0m\u001b[0;32m    201\u001b[0m         \u001b[1;32mreturn\u001b[0m \u001b[0msix\u001b[0m\u001b[1;33m.\u001b[0m\u001b[0mb\u001b[0m\u001b[1;33m(\u001b[0m\u001b[1;34m''\u001b[0m\u001b[1;33m)\u001b[0m\u001b[1;33m\u001b[0m\u001b[1;33m\u001b[0m\u001b[0m\n\u001b[0;32m    202\u001b[0m \u001b[1;33m\u001b[0m\u001b[0m\n",
      "\u001b[1;32mC:\\ProgramData\\Anaconda3\\lib\\site-packages\\urllib3\\response.py\u001b[0m in \u001b[0;36mread\u001b[1;34m(self, amt, decode_content, cache_content)\u001b[0m\n\u001b[0;32m    517\u001b[0m             \u001b[1;32melse\u001b[0m\u001b[1;33m:\u001b[0m\u001b[1;33m\u001b[0m\u001b[1;33m\u001b[0m\u001b[0m\n\u001b[0;32m    518\u001b[0m                 \u001b[0mcache_content\u001b[0m \u001b[1;33m=\u001b[0m \u001b[1;32mFalse\u001b[0m\u001b[1;33m\u001b[0m\u001b[1;33m\u001b[0m\u001b[0m\n\u001b[1;32m--> 519\u001b[1;33m                 \u001b[0mdata\u001b[0m \u001b[1;33m=\u001b[0m \u001b[0mself\u001b[0m\u001b[1;33m.\u001b[0m\u001b[0m_fp\u001b[0m\u001b[1;33m.\u001b[0m\u001b[0mread\u001b[0m\u001b[1;33m(\u001b[0m\u001b[0mamt\u001b[0m\u001b[1;33m)\u001b[0m \u001b[1;32mif\u001b[0m \u001b[1;32mnot\u001b[0m \u001b[0mfp_closed\u001b[0m \u001b[1;32melse\u001b[0m \u001b[1;34mb\"\"\u001b[0m\u001b[1;33m\u001b[0m\u001b[1;33m\u001b[0m\u001b[0m\n\u001b[0m\u001b[0;32m    520\u001b[0m                 if (\n\u001b[0;32m    521\u001b[0m                     \u001b[0mamt\u001b[0m \u001b[1;33m!=\u001b[0m \u001b[1;36m0\u001b[0m \u001b[1;32mand\u001b[0m \u001b[1;32mnot\u001b[0m \u001b[0mdata\u001b[0m\u001b[1;33m\u001b[0m\u001b[1;33m\u001b[0m\u001b[0m\n",
      "\u001b[1;32mC:\\ProgramData\\Anaconda3\\lib\\http\\client.py\u001b[0m in \u001b[0;36mread\u001b[1;34m(self, amt)\u001b[0m\n\u001b[0;32m    456\u001b[0m             \u001b[1;31m# Amount is given, implement using readinto\u001b[0m\u001b[1;33m\u001b[0m\u001b[1;33m\u001b[0m\u001b[1;33m\u001b[0m\u001b[0m\n\u001b[0;32m    457\u001b[0m             \u001b[0mb\u001b[0m \u001b[1;33m=\u001b[0m \u001b[0mbytearray\u001b[0m\u001b[1;33m(\u001b[0m\u001b[0mamt\u001b[0m\u001b[1;33m)\u001b[0m\u001b[1;33m\u001b[0m\u001b[1;33m\u001b[0m\u001b[0m\n\u001b[1;32m--> 458\u001b[1;33m             \u001b[0mn\u001b[0m \u001b[1;33m=\u001b[0m \u001b[0mself\u001b[0m\u001b[1;33m.\u001b[0m\u001b[0mreadinto\u001b[0m\u001b[1;33m(\u001b[0m\u001b[0mb\u001b[0m\u001b[1;33m)\u001b[0m\u001b[1;33m\u001b[0m\u001b[1;33m\u001b[0m\u001b[0m\n\u001b[0m\u001b[0;32m    459\u001b[0m             \u001b[1;32mreturn\u001b[0m \u001b[0mmemoryview\u001b[0m\u001b[1;33m(\u001b[0m\u001b[0mb\u001b[0m\u001b[1;33m)\u001b[0m\u001b[1;33m[\u001b[0m\u001b[1;33m:\u001b[0m\u001b[0mn\u001b[0m\u001b[1;33m]\u001b[0m\u001b[1;33m.\u001b[0m\u001b[0mtobytes\u001b[0m\u001b[1;33m(\u001b[0m\u001b[1;33m)\u001b[0m\u001b[1;33m\u001b[0m\u001b[1;33m\u001b[0m\u001b[0m\n\u001b[0;32m    460\u001b[0m         \u001b[1;32melse\u001b[0m\u001b[1;33m:\u001b[0m\u001b[1;33m\u001b[0m\u001b[1;33m\u001b[0m\u001b[0m\n",
      "\u001b[1;32mC:\\ProgramData\\Anaconda3\\lib\\http\\client.py\u001b[0m in \u001b[0;36mreadinto\u001b[1;34m(self, b)\u001b[0m\n\u001b[0;32m    490\u001b[0m \u001b[1;33m\u001b[0m\u001b[0m\n\u001b[0;32m    491\u001b[0m         \u001b[1;32mif\u001b[0m \u001b[0mself\u001b[0m\u001b[1;33m.\u001b[0m\u001b[0mchunked\u001b[0m\u001b[1;33m:\u001b[0m\u001b[1;33m\u001b[0m\u001b[1;33m\u001b[0m\u001b[0m\n\u001b[1;32m--> 492\u001b[1;33m             \u001b[1;32mreturn\u001b[0m \u001b[0mself\u001b[0m\u001b[1;33m.\u001b[0m\u001b[0m_readinto_chunked\u001b[0m\u001b[1;33m(\u001b[0m\u001b[0mb\u001b[0m\u001b[1;33m)\u001b[0m\u001b[1;33m\u001b[0m\u001b[1;33m\u001b[0m\u001b[0m\n\u001b[0m\u001b[0;32m    493\u001b[0m \u001b[1;33m\u001b[0m\u001b[0m\n\u001b[0;32m    494\u001b[0m         \u001b[1;32mif\u001b[0m \u001b[0mself\u001b[0m\u001b[1;33m.\u001b[0m\u001b[0mlength\u001b[0m \u001b[1;32mis\u001b[0m \u001b[1;32mnot\u001b[0m \u001b[1;32mNone\u001b[0m\u001b[1;33m:\u001b[0m\u001b[1;33m\u001b[0m\u001b[1;33m\u001b[0m\u001b[0m\n",
      "\u001b[1;32mC:\\ProgramData\\Anaconda3\\lib\\http\\client.py\u001b[0m in \u001b[0;36m_readinto_chunked\u001b[1;34m(self, b)\u001b[0m\n\u001b[0;32m    585\u001b[0m         \u001b[1;32mtry\u001b[0m\u001b[1;33m:\u001b[0m\u001b[1;33m\u001b[0m\u001b[1;33m\u001b[0m\u001b[0m\n\u001b[0;32m    586\u001b[0m             \u001b[1;32mwhile\u001b[0m \u001b[1;32mTrue\u001b[0m\u001b[1;33m:\u001b[0m\u001b[1;33m\u001b[0m\u001b[1;33m\u001b[0m\u001b[0m\n\u001b[1;32m--> 587\u001b[1;33m                 \u001b[0mchunk_left\u001b[0m \u001b[1;33m=\u001b[0m \u001b[0mself\u001b[0m\u001b[1;33m.\u001b[0m\u001b[0m_get_chunk_left\u001b[0m\u001b[1;33m(\u001b[0m\u001b[1;33m)\u001b[0m\u001b[1;33m\u001b[0m\u001b[1;33m\u001b[0m\u001b[0m\n\u001b[0m\u001b[0;32m    588\u001b[0m                 \u001b[1;32mif\u001b[0m \u001b[0mchunk_left\u001b[0m \u001b[1;32mis\u001b[0m \u001b[1;32mNone\u001b[0m\u001b[1;33m:\u001b[0m\u001b[1;33m\u001b[0m\u001b[1;33m\u001b[0m\u001b[0m\n\u001b[0;32m    589\u001b[0m                     \u001b[1;32mreturn\u001b[0m \u001b[0mtotal_bytes\u001b[0m\u001b[1;33m\u001b[0m\u001b[1;33m\u001b[0m\u001b[0m\n",
      "\u001b[1;32mC:\\ProgramData\\Anaconda3\\lib\\http\\client.py\u001b[0m in \u001b[0;36m_get_chunk_left\u001b[1;34m(self)\u001b[0m\n\u001b[0;32m    553\u001b[0m                 \u001b[0mself\u001b[0m\u001b[1;33m.\u001b[0m\u001b[0m_safe_read\u001b[0m\u001b[1;33m(\u001b[0m\u001b[1;36m2\u001b[0m\u001b[1;33m)\u001b[0m  \u001b[1;31m# toss the CRLF at the end of the chunk\u001b[0m\u001b[1;33m\u001b[0m\u001b[1;33m\u001b[0m\u001b[0m\n\u001b[0;32m    554\u001b[0m             \u001b[1;32mtry\u001b[0m\u001b[1;33m:\u001b[0m\u001b[1;33m\u001b[0m\u001b[1;33m\u001b[0m\u001b[0m\n\u001b[1;32m--> 555\u001b[1;33m                 \u001b[0mchunk_left\u001b[0m \u001b[1;33m=\u001b[0m \u001b[0mself\u001b[0m\u001b[1;33m.\u001b[0m\u001b[0m_read_next_chunk_size\u001b[0m\u001b[1;33m(\u001b[0m\u001b[1;33m)\u001b[0m\u001b[1;33m\u001b[0m\u001b[1;33m\u001b[0m\u001b[0m\n\u001b[0m\u001b[0;32m    556\u001b[0m             \u001b[1;32mexcept\u001b[0m \u001b[0mValueError\u001b[0m\u001b[1;33m:\u001b[0m\u001b[1;33m\u001b[0m\u001b[1;33m\u001b[0m\u001b[0m\n\u001b[0;32m    557\u001b[0m                 \u001b[1;32mraise\u001b[0m \u001b[0mIncompleteRead\u001b[0m\u001b[1;33m(\u001b[0m\u001b[1;34mb''\u001b[0m\u001b[1;33m)\u001b[0m\u001b[1;33m\u001b[0m\u001b[1;33m\u001b[0m\u001b[0m\n",
      "\u001b[1;32mC:\\ProgramData\\Anaconda3\\lib\\http\\client.py\u001b[0m in \u001b[0;36m_read_next_chunk_size\u001b[1;34m(self)\u001b[0m\n\u001b[0;32m    513\u001b[0m     \u001b[1;32mdef\u001b[0m \u001b[0m_read_next_chunk_size\u001b[0m\u001b[1;33m(\u001b[0m\u001b[0mself\u001b[0m\u001b[1;33m)\u001b[0m\u001b[1;33m:\u001b[0m\u001b[1;33m\u001b[0m\u001b[1;33m\u001b[0m\u001b[0m\n\u001b[0;32m    514\u001b[0m         \u001b[1;31m# Read the next chunk size from the file\u001b[0m\u001b[1;33m\u001b[0m\u001b[1;33m\u001b[0m\u001b[1;33m\u001b[0m\u001b[0m\n\u001b[1;32m--> 515\u001b[1;33m         \u001b[0mline\u001b[0m \u001b[1;33m=\u001b[0m \u001b[0mself\u001b[0m\u001b[1;33m.\u001b[0m\u001b[0mfp\u001b[0m\u001b[1;33m.\u001b[0m\u001b[0mreadline\u001b[0m\u001b[1;33m(\u001b[0m\u001b[0m_MAXLINE\u001b[0m \u001b[1;33m+\u001b[0m \u001b[1;36m1\u001b[0m\u001b[1;33m)\u001b[0m\u001b[1;33m\u001b[0m\u001b[1;33m\u001b[0m\u001b[0m\n\u001b[0m\u001b[0;32m    516\u001b[0m         \u001b[1;32mif\u001b[0m \u001b[0mlen\u001b[0m\u001b[1;33m(\u001b[0m\u001b[0mline\u001b[0m\u001b[1;33m)\u001b[0m \u001b[1;33m>\u001b[0m \u001b[0m_MAXLINE\u001b[0m\u001b[1;33m:\u001b[0m\u001b[1;33m\u001b[0m\u001b[1;33m\u001b[0m\u001b[0m\n\u001b[0;32m    517\u001b[0m             \u001b[1;32mraise\u001b[0m \u001b[0mLineTooLong\u001b[0m\u001b[1;33m(\u001b[0m\u001b[1;34m\"chunk size\"\u001b[0m\u001b[1;33m)\u001b[0m\u001b[1;33m\u001b[0m\u001b[1;33m\u001b[0m\u001b[0m\n",
      "\u001b[1;32mC:\\ProgramData\\Anaconda3\\lib\\socket.py\u001b[0m in \u001b[0;36mreadinto\u001b[1;34m(self, b)\u001b[0m\n\u001b[0;32m    667\u001b[0m         \u001b[1;32mwhile\u001b[0m \u001b[1;32mTrue\u001b[0m\u001b[1;33m:\u001b[0m\u001b[1;33m\u001b[0m\u001b[1;33m\u001b[0m\u001b[0m\n\u001b[0;32m    668\u001b[0m             \u001b[1;32mtry\u001b[0m\u001b[1;33m:\u001b[0m\u001b[1;33m\u001b[0m\u001b[1;33m\u001b[0m\u001b[0m\n\u001b[1;32m--> 669\u001b[1;33m                 \u001b[1;32mreturn\u001b[0m \u001b[0mself\u001b[0m\u001b[1;33m.\u001b[0m\u001b[0m_sock\u001b[0m\u001b[1;33m.\u001b[0m\u001b[0mrecv_into\u001b[0m\u001b[1;33m(\u001b[0m\u001b[0mb\u001b[0m\u001b[1;33m)\u001b[0m\u001b[1;33m\u001b[0m\u001b[1;33m\u001b[0m\u001b[0m\n\u001b[0m\u001b[0;32m    670\u001b[0m             \u001b[1;32mexcept\u001b[0m \u001b[0mtimeout\u001b[0m\u001b[1;33m:\u001b[0m\u001b[1;33m\u001b[0m\u001b[1;33m\u001b[0m\u001b[0m\n\u001b[0;32m    671\u001b[0m                 \u001b[0mself\u001b[0m\u001b[1;33m.\u001b[0m\u001b[0m_timeout_occurred\u001b[0m \u001b[1;33m=\u001b[0m \u001b[1;32mTrue\u001b[0m\u001b[1;33m\u001b[0m\u001b[1;33m\u001b[0m\u001b[0m\n",
      "\u001b[1;32mC:\\ProgramData\\Anaconda3\\lib\\ssl.py\u001b[0m in \u001b[0;36mrecv_into\u001b[1;34m(self, buffer, nbytes, flags)\u001b[0m\n\u001b[0;32m   1239\u001b[0m                   \u001b[1;34m\"non-zero flags not allowed in calls to recv_into() on %s\"\u001b[0m \u001b[1;33m%\u001b[0m\u001b[1;33m\u001b[0m\u001b[1;33m\u001b[0m\u001b[0m\n\u001b[0;32m   1240\u001b[0m                   self.__class__)\n\u001b[1;32m-> 1241\u001b[1;33m             \u001b[1;32mreturn\u001b[0m \u001b[0mself\u001b[0m\u001b[1;33m.\u001b[0m\u001b[0mread\u001b[0m\u001b[1;33m(\u001b[0m\u001b[0mnbytes\u001b[0m\u001b[1;33m,\u001b[0m \u001b[0mbuffer\u001b[0m\u001b[1;33m)\u001b[0m\u001b[1;33m\u001b[0m\u001b[1;33m\u001b[0m\u001b[0m\n\u001b[0m\u001b[0;32m   1242\u001b[0m         \u001b[1;32melse\u001b[0m\u001b[1;33m:\u001b[0m\u001b[1;33m\u001b[0m\u001b[1;33m\u001b[0m\u001b[0m\n\u001b[0;32m   1243\u001b[0m             \u001b[1;32mreturn\u001b[0m \u001b[0msuper\u001b[0m\u001b[1;33m(\u001b[0m\u001b[1;33m)\u001b[0m\u001b[1;33m.\u001b[0m\u001b[0mrecv_into\u001b[0m\u001b[1;33m(\u001b[0m\u001b[0mbuffer\u001b[0m\u001b[1;33m,\u001b[0m \u001b[0mnbytes\u001b[0m\u001b[1;33m,\u001b[0m \u001b[0mflags\u001b[0m\u001b[1;33m)\u001b[0m\u001b[1;33m\u001b[0m\u001b[1;33m\u001b[0m\u001b[0m\n",
      "\u001b[1;32mC:\\ProgramData\\Anaconda3\\lib\\ssl.py\u001b[0m in \u001b[0;36mread\u001b[1;34m(self, len, buffer)\u001b[0m\n\u001b[0;32m   1097\u001b[0m         \u001b[1;32mtry\u001b[0m\u001b[1;33m:\u001b[0m\u001b[1;33m\u001b[0m\u001b[1;33m\u001b[0m\u001b[0m\n\u001b[0;32m   1098\u001b[0m             \u001b[1;32mif\u001b[0m \u001b[0mbuffer\u001b[0m \u001b[1;32mis\u001b[0m \u001b[1;32mnot\u001b[0m \u001b[1;32mNone\u001b[0m\u001b[1;33m:\u001b[0m\u001b[1;33m\u001b[0m\u001b[1;33m\u001b[0m\u001b[0m\n\u001b[1;32m-> 1099\u001b[1;33m                 \u001b[1;32mreturn\u001b[0m \u001b[0mself\u001b[0m\u001b[1;33m.\u001b[0m\u001b[0m_sslobj\u001b[0m\u001b[1;33m.\u001b[0m\u001b[0mread\u001b[0m\u001b[1;33m(\u001b[0m\u001b[0mlen\u001b[0m\u001b[1;33m,\u001b[0m \u001b[0mbuffer\u001b[0m\u001b[1;33m)\u001b[0m\u001b[1;33m\u001b[0m\u001b[1;33m\u001b[0m\u001b[0m\n\u001b[0m\u001b[0;32m   1100\u001b[0m             \u001b[1;32melse\u001b[0m\u001b[1;33m:\u001b[0m\u001b[1;33m\u001b[0m\u001b[1;33m\u001b[0m\u001b[0m\n\u001b[0;32m   1101\u001b[0m                 \u001b[1;32mreturn\u001b[0m \u001b[0mself\u001b[0m\u001b[1;33m.\u001b[0m\u001b[0m_sslobj\u001b[0m\u001b[1;33m.\u001b[0m\u001b[0mread\u001b[0m\u001b[1;33m(\u001b[0m\u001b[0mlen\u001b[0m\u001b[1;33m)\u001b[0m\u001b[1;33m\u001b[0m\u001b[1;33m\u001b[0m\u001b[0m\n",
      "\u001b[1;31mKeyboardInterrupt\u001b[0m: "
     ]
    }
   ],
   "source": [
    "search_query = ['migrant', 'refugee']\n",
    "\n",
    "stream = tweepy.Stream(api.auth, listener = CustomStreamListener(api))\n",
    "stream.filter(track=search_query, languages = ['en'])"
   ]
  },
  {
   "cell_type": "markdown",
   "metadata": {},
   "source": [
    "## Loading tweets from scraped json file"
   ]
  },
  {
   "cell_type": "code",
   "execution_count": 4,
   "metadata": {},
   "outputs": [],
   "source": [
    "import pandas as pd\n",
    "from preprocessing import get_processed_data"
   ]
  },
  {
   "cell_type": "code",
   "execution_count": 181,
   "metadata": {},
   "outputs": [],
   "source": [
    "\n",
    "\n",
    "df = pd.read_json(r'user_tweets.json',orient='records')\n",
    "df = pd.json_normalize(df[0])"
   ]
  },
  {
   "cell_type": "code",
   "execution_count": 189,
   "metadata": {},
   "outputs": [
    {
     "data": {
      "text/plain": [
       "['created_at',\n",
       " 'id',\n",
       " 'id_str',\n",
       " 'text',\n",
       " 'truncated',\n",
       " 'source',\n",
       " 'in_reply_to_status_id',\n",
       " 'in_reply_to_status_id_str',\n",
       " 'in_reply_to_user_id',\n",
       " 'in_reply_to_user_id_str',\n",
       " 'in_reply_to_screen_name',\n",
       " 'geo',\n",
       " 'coordinates',\n",
       " 'place',\n",
       " 'contributors',\n",
       " 'is_quote_status',\n",
       " 'retweet_count',\n",
       " 'favorite_count',\n",
       " 'favorited',\n",
       " 'retweeted',\n",
       " 'possibly_sensitive',\n",
       " 'lang',\n",
       " 'entities.hashtags',\n",
       " 'entities.symbols',\n",
       " 'entities.user_mentions',\n",
       " 'entities.urls',\n",
       " 'metadata.iso_language_code',\n",
       " 'metadata.result_type',\n",
       " 'user.id',\n",
       " 'user.id_str',\n",
       " 'user.name',\n",
       " 'user.screen_name',\n",
       " 'user.location',\n",
       " 'user.description',\n",
       " 'user.url',\n",
       " 'user.entities.url.urls',\n",
       " 'user.entities.description.urls',\n",
       " 'user.protected',\n",
       " 'user.followers_count',\n",
       " 'user.friends_count',\n",
       " 'user.listed_count',\n",
       " 'user.created_at',\n",
       " 'user.favourites_count',\n",
       " 'user.utc_offset',\n",
       " 'user.time_zone',\n",
       " 'user.geo_enabled',\n",
       " 'user.verified',\n",
       " 'user.statuses_count',\n",
       " 'user.lang',\n",
       " 'user.contributors_enabled',\n",
       " 'user.is_translator',\n",
       " 'user.is_translation_enabled',\n",
       " 'user.profile_background_color',\n",
       " 'user.profile_background_image_url',\n",
       " 'user.profile_background_image_url_https',\n",
       " 'user.profile_background_tile',\n",
       " 'user.profile_image_url',\n",
       " 'user.profile_image_url_https',\n",
       " 'user.profile_banner_url',\n",
       " 'user.profile_link_color',\n",
       " 'user.profile_sidebar_border_color',\n",
       " 'user.profile_sidebar_fill_color',\n",
       " 'user.profile_text_color',\n",
       " 'user.profile_use_background_image',\n",
       " 'user.has_extended_profile',\n",
       " 'user.default_profile',\n",
       " 'user.default_profile_image',\n",
       " 'user.following',\n",
       " 'user.follow_request_sent',\n",
       " 'user.notifications',\n",
       " 'user.translator_type',\n",
       " 'quoted_status_id',\n",
       " 'quoted_status_id_str',\n",
       " 'quoted_status.created_at',\n",
       " 'quoted_status.id',\n",
       " 'quoted_status.id_str',\n",
       " 'quoted_status.text',\n",
       " 'quoted_status.truncated',\n",
       " 'quoted_status.entities.hashtags',\n",
       " 'quoted_status.entities.symbols',\n",
       " 'quoted_status.entities.user_mentions',\n",
       " 'quoted_status.entities.urls',\n",
       " 'quoted_status.metadata.iso_language_code',\n",
       " 'quoted_status.metadata.result_type',\n",
       " 'quoted_status.source',\n",
       " 'quoted_status.in_reply_to_status_id',\n",
       " 'quoted_status.in_reply_to_status_id_str',\n",
       " 'quoted_status.in_reply_to_user_id',\n",
       " 'quoted_status.in_reply_to_user_id_str',\n",
       " 'quoted_status.in_reply_to_screen_name',\n",
       " 'quoted_status.user.id',\n",
       " 'quoted_status.user.id_str',\n",
       " 'quoted_status.user.name',\n",
       " 'quoted_status.user.screen_name',\n",
       " 'quoted_status.user.location',\n",
       " 'quoted_status.user.description',\n",
       " 'quoted_status.user.url',\n",
       " 'quoted_status.user.entities.url.urls',\n",
       " 'quoted_status.user.entities.description.urls',\n",
       " 'quoted_status.user.protected',\n",
       " 'quoted_status.user.followers_count',\n",
       " 'quoted_status.user.friends_count',\n",
       " 'quoted_status.user.listed_count',\n",
       " 'quoted_status.user.created_at',\n",
       " 'quoted_status.user.favourites_count',\n",
       " 'quoted_status.user.utc_offset',\n",
       " 'quoted_status.user.time_zone',\n",
       " 'quoted_status.user.geo_enabled',\n",
       " 'quoted_status.user.verified',\n",
       " 'quoted_status.user.statuses_count',\n",
       " 'quoted_status.user.lang',\n",
       " 'quoted_status.user.contributors_enabled',\n",
       " 'quoted_status.user.is_translator',\n",
       " 'quoted_status.user.is_translation_enabled',\n",
       " 'quoted_status.user.profile_background_color',\n",
       " 'quoted_status.user.profile_background_image_url',\n",
       " 'quoted_status.user.profile_background_image_url_https',\n",
       " 'quoted_status.user.profile_background_tile',\n",
       " 'quoted_status.user.profile_image_url',\n",
       " 'quoted_status.user.profile_image_url_https',\n",
       " 'quoted_status.user.profile_banner_url',\n",
       " 'quoted_status.user.profile_link_color',\n",
       " 'quoted_status.user.profile_sidebar_border_color',\n",
       " 'quoted_status.user.profile_sidebar_fill_color',\n",
       " 'quoted_status.user.profile_text_color',\n",
       " 'quoted_status.user.profile_use_background_image',\n",
       " 'quoted_status.user.has_extended_profile',\n",
       " 'quoted_status.user.default_profile',\n",
       " 'quoted_status.user.default_profile_image',\n",
       " 'quoted_status.user.following',\n",
       " 'quoted_status.user.follow_request_sent',\n",
       " 'quoted_status.user.notifications',\n",
       " 'quoted_status.user.translator_type',\n",
       " 'quoted_status.geo',\n",
       " 'quoted_status.coordinates',\n",
       " 'quoted_status.place',\n",
       " 'quoted_status.contributors',\n",
       " 'quoted_status.is_quote_status',\n",
       " 'quoted_status.quoted_status_id',\n",
       " 'quoted_status.quoted_status_id_str',\n",
       " 'quoted_status.retweet_count',\n",
       " 'quoted_status.favorite_count',\n",
       " 'quoted_status.favorited',\n",
       " 'quoted_status.retweeted',\n",
       " 'quoted_status.possibly_sensitive',\n",
       " 'quoted_status.lang',\n",
       " 'entities.media',\n",
       " 'extended_entities.media',\n",
       " 'quoted_status.entities.media',\n",
       " 'quoted_status.extended_entities.media',\n",
       " 'place.id',\n",
       " 'place.url',\n",
       " 'place.place_type',\n",
       " 'place.name',\n",
       " 'place.full_name',\n",
       " 'place.country_code',\n",
       " 'place.country',\n",
       " 'place.contained_within',\n",
       " 'place.bounding_box.type',\n",
       " 'place.bounding_box.coordinates',\n",
       " 'quoted_status.place.id',\n",
       " 'quoted_status.place.url',\n",
       " 'quoted_status.place.place_type',\n",
       " 'quoted_status.place.name',\n",
       " 'quoted_status.place.full_name',\n",
       " 'quoted_status.place.country_code',\n",
       " 'quoted_status.place.country',\n",
       " 'quoted_status.place.contained_within',\n",
       " 'quoted_status.place.bounding_box.type',\n",
       " 'quoted_status.place.bounding_box.coordinates',\n",
       " 'withheld_in_countries',\n",
       " 'user.withheld_in_countries',\n",
       " 'geo.type',\n",
       " 'geo.coordinates',\n",
       " 'coordinates.type',\n",
       " 'coordinates.coordinates',\n",
       " 'quoted_status.user.withheld_in_countries',\n",
       " 'quoted_status.withheld_in_countries',\n",
       " 'quoted_status.scopes.followers']"
      ]
     },
     "execution_count": 189,
     "metadata": {},
     "output_type": "execute_result"
    }
   ],
   "source": [
    "list(df.columns)"
   ]
  },
  {
   "cell_type": "code",
   "execution_count": 5,
   "metadata": {},
   "outputs": [
    {
     "name": "stdout",
     "output_type": "stream",
     "text": [
      "preprocess tweets...\n",
      "removing unwanted words...\n",
      "DONE! Processed  32914  tweets ready for analysis!\n"
     ]
    }
   ],
   "source": [
    "df = pd.read_json(r'C:\\Users\\nikodemicek\\CBS - Copenhagen Business School\\Kick-Ass Master Thesis - General\\Data\\scraped_tweets_4-11feb.json',orient='records')\n",
    "df = pd.json_normalize(df[0])\n",
    "df.rename(columns = {'text': 'Tweet Raw'},inplace=True)\n",
    "df = get_processed_data(df)"
   ]
  },
  {
   "cell_type": "code",
   "execution_count": 13,
   "metadata": {},
   "outputs": [
    {
     "data": {
      "text/plain": [
       "'@Ajrhymess The Earth is dying, driven to collapse by society’s addiction to technology. \\n\\nWhen Elias, a refugee fro… https://t.co/5ZNBBFyndV'"
      ]
     },
     "execution_count": 13,
     "metadata": {},
     "output_type": "execute_result"
    }
   ],
   "source": [
    "list(df['Tweet Raw'])[0]"
   ]
  },
  {
   "cell_type": "code",
   "execution_count": null,
   "metadata": {},
   "outputs": [],
   "source": []
  }
 ],
 "metadata": {
  "kernelspec": {
   "display_name": "Python 3",
   "language": "python",
   "name": "python3"
  },
  "language_info": {
   "codemirror_mode": {
    "name": "ipython",
    "version": 3
   },
   "file_extension": ".py",
   "mimetype": "text/x-python",
   "name": "python",
   "nbconvert_exporter": "python",
   "pygments_lexer": "ipython3",
   "version": "3.8.5"
  }
 },
 "nbformat": 4,
 "nbformat_minor": 4
}
